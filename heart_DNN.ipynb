{
  "nbformat": 4,
  "nbformat_minor": 0,
  "metadata": {
    "colab": {
      "name": "heart-DNN.ipynb",
      "provenance": [],
      "collapsed_sections": [],
      "authorship_tag": "ABX9TyMhoVsSIeWlOjyf3SJHPYOg",
      "include_colab_link": true
    },
    "kernelspec": {
      "display_name": "Python 3",
      "name": "python3"
    }
  },
  "cells": [
    {
      "cell_type": "markdown",
      "metadata": {
        "id": "view-in-github",
        "colab_type": "text"
      },
      "source": [
        "<a href=\"https://colab.research.google.com/github/MarkLee7925/Heart-Classification-UCI/blob/main/heart_DNN.ipynb\" target=\"_parent\"><img src=\"https://colab.research.google.com/assets/colab-badge.svg\" alt=\"Open In Colab\"/></a>"
      ]
    },
    {
      "cell_type": "markdown",
      "metadata": {
        "id": "APZVoQmL47I1"
      },
      "source": [
        "# Predict Heart Disease In Patient"
      ]
    },
    {
      "cell_type": "markdown",
      "metadata": {
        "id": "nNx9hfINDIam"
      },
      "source": [
        "## Data pre-processing"
      ]
    },
    {
      "cell_type": "code",
      "metadata": {
        "id": "xuNOzl914e6q"
      },
      "source": [
        "import numpy as np\n",
        "import matplotlib.pyplot as plt\n",
        "import pandas as pd\n",
        "import tensorflow as tf\n",
        "import seaborn as sns"
      ],
      "execution_count": 1,
      "outputs": []
    },
    {
      "cell_type": "code",
      "metadata": {
        "colab": {
          "base_uri": "https://localhost:8080/"
        },
        "id": "Vs4q7FIt4s8o",
        "outputId": "1c146a43-9046-42cc-9879-feb2e836b6e7"
      },
      "source": [
        "# Load dataframe (df)\n",
        "df = pd.read_csv('heart.csv')\n",
        "X, y = df.iloc[:, :-1].values, df.iloc[:, -1].values\n",
        "\n",
        "print(X.shape, y.shape)"
      ],
      "execution_count": 2,
      "outputs": [
        {
          "output_type": "stream",
          "text": [
            "(303, 13) (303,)\n"
          ],
          "name": "stdout"
        }
      ]
    },
    {
      "cell_type": "code",
      "metadata": {
        "colab": {
          "base_uri": "https://localhost:8080/"
        },
        "id": "Y40bdlo6LmXA",
        "outputId": "0ba5e61c-e0e7-49a9-e561-9b40af5e0b0a"
      },
      "source": [
        "print(df.head())"
      ],
      "execution_count": 3,
      "outputs": [
        {
          "output_type": "stream",
          "text": [
            "   age  sex  cp  trestbps  chol  fbs  ...  exang  oldpeak  slope  ca  thal  target\n",
            "0   63    1   3       145   233    1  ...      0      2.3      0   0     1       1\n",
            "1   37    1   2       130   250    0  ...      0      3.5      0   0     2       1\n",
            "2   41    0   1       130   204    0  ...      0      1.4      2   0     2       1\n",
            "3   56    1   1       120   236    0  ...      0      0.8      2   0     2       1\n",
            "4   57    0   0       120   354    0  ...      1      0.6      2   0     2       1\n",
            "\n",
            "[5 rows x 14 columns]\n"
          ],
          "name": "stdout"
        }
      ]
    },
    {
      "cell_type": "code",
      "metadata": {
        "colab": {
          "base_uri": "https://localhost:8080/"
        },
        "id": "RUXT12RH4xJs",
        "outputId": "c0ff00ac-6c6a-4f27-b677-67b9057d0311"
      },
      "source": [
        "df.dtypes"
      ],
      "execution_count": 4,
      "outputs": [
        {
          "output_type": "execute_result",
          "data": {
            "text/plain": [
              "age           int64\n",
              "sex           int64\n",
              "cp            int64\n",
              "trestbps      int64\n",
              "chol          int64\n",
              "fbs           int64\n",
              "restecg       int64\n",
              "thalach       int64\n",
              "exang         int64\n",
              "oldpeak     float64\n",
              "slope         int64\n",
              "ca            int64\n",
              "thal          int64\n",
              "target        int64\n",
              "dtype: object"
            ]
          },
          "metadata": {
            "tags": []
          },
          "execution_count": 4
        }
      ]
    },
    {
      "cell_type": "code",
      "metadata": {
        "colab": {
          "base_uri": "https://localhost:8080/",
          "height": 310
        },
        "id": "ey97ULPW4yvY",
        "outputId": "8aa06183-f2d0-4248-ff85-2718bd11ecf2"
      },
      "source": [
        "df.describe()"
      ],
      "execution_count": 5,
      "outputs": [
        {
          "output_type": "execute_result",
          "data": {
            "text/html": [
              "<div>\n",
              "<style scoped>\n",
              "    .dataframe tbody tr th:only-of-type {\n",
              "        vertical-align: middle;\n",
              "    }\n",
              "\n",
              "    .dataframe tbody tr th {\n",
              "        vertical-align: top;\n",
              "    }\n",
              "\n",
              "    .dataframe thead th {\n",
              "        text-align: right;\n",
              "    }\n",
              "</style>\n",
              "<table border=\"1\" class=\"dataframe\">\n",
              "  <thead>\n",
              "    <tr style=\"text-align: right;\">\n",
              "      <th></th>\n",
              "      <th>age</th>\n",
              "      <th>sex</th>\n",
              "      <th>cp</th>\n",
              "      <th>trestbps</th>\n",
              "      <th>chol</th>\n",
              "      <th>fbs</th>\n",
              "      <th>restecg</th>\n",
              "      <th>thalach</th>\n",
              "      <th>exang</th>\n",
              "      <th>oldpeak</th>\n",
              "      <th>slope</th>\n",
              "      <th>ca</th>\n",
              "      <th>thal</th>\n",
              "      <th>target</th>\n",
              "    </tr>\n",
              "  </thead>\n",
              "  <tbody>\n",
              "    <tr>\n",
              "      <th>count</th>\n",
              "      <td>303.000000</td>\n",
              "      <td>303.000000</td>\n",
              "      <td>303.000000</td>\n",
              "      <td>303.000000</td>\n",
              "      <td>303.000000</td>\n",
              "      <td>303.000000</td>\n",
              "      <td>303.000000</td>\n",
              "      <td>303.000000</td>\n",
              "      <td>303.000000</td>\n",
              "      <td>303.000000</td>\n",
              "      <td>303.000000</td>\n",
              "      <td>303.000000</td>\n",
              "      <td>303.000000</td>\n",
              "      <td>303.000000</td>\n",
              "    </tr>\n",
              "    <tr>\n",
              "      <th>mean</th>\n",
              "      <td>54.366337</td>\n",
              "      <td>0.683168</td>\n",
              "      <td>0.966997</td>\n",
              "      <td>131.623762</td>\n",
              "      <td>246.264026</td>\n",
              "      <td>0.148515</td>\n",
              "      <td>0.528053</td>\n",
              "      <td>149.646865</td>\n",
              "      <td>0.326733</td>\n",
              "      <td>1.039604</td>\n",
              "      <td>1.399340</td>\n",
              "      <td>0.729373</td>\n",
              "      <td>2.313531</td>\n",
              "      <td>0.544554</td>\n",
              "    </tr>\n",
              "    <tr>\n",
              "      <th>std</th>\n",
              "      <td>9.082101</td>\n",
              "      <td>0.466011</td>\n",
              "      <td>1.032052</td>\n",
              "      <td>17.538143</td>\n",
              "      <td>51.830751</td>\n",
              "      <td>0.356198</td>\n",
              "      <td>0.525860</td>\n",
              "      <td>22.905161</td>\n",
              "      <td>0.469794</td>\n",
              "      <td>1.161075</td>\n",
              "      <td>0.616226</td>\n",
              "      <td>1.022606</td>\n",
              "      <td>0.612277</td>\n",
              "      <td>0.498835</td>\n",
              "    </tr>\n",
              "    <tr>\n",
              "      <th>min</th>\n",
              "      <td>29.000000</td>\n",
              "      <td>0.000000</td>\n",
              "      <td>0.000000</td>\n",
              "      <td>94.000000</td>\n",
              "      <td>126.000000</td>\n",
              "      <td>0.000000</td>\n",
              "      <td>0.000000</td>\n",
              "      <td>71.000000</td>\n",
              "      <td>0.000000</td>\n",
              "      <td>0.000000</td>\n",
              "      <td>0.000000</td>\n",
              "      <td>0.000000</td>\n",
              "      <td>0.000000</td>\n",
              "      <td>0.000000</td>\n",
              "    </tr>\n",
              "    <tr>\n",
              "      <th>25%</th>\n",
              "      <td>47.500000</td>\n",
              "      <td>0.000000</td>\n",
              "      <td>0.000000</td>\n",
              "      <td>120.000000</td>\n",
              "      <td>211.000000</td>\n",
              "      <td>0.000000</td>\n",
              "      <td>0.000000</td>\n",
              "      <td>133.500000</td>\n",
              "      <td>0.000000</td>\n",
              "      <td>0.000000</td>\n",
              "      <td>1.000000</td>\n",
              "      <td>0.000000</td>\n",
              "      <td>2.000000</td>\n",
              "      <td>0.000000</td>\n",
              "    </tr>\n",
              "    <tr>\n",
              "      <th>50%</th>\n",
              "      <td>55.000000</td>\n",
              "      <td>1.000000</td>\n",
              "      <td>1.000000</td>\n",
              "      <td>130.000000</td>\n",
              "      <td>240.000000</td>\n",
              "      <td>0.000000</td>\n",
              "      <td>1.000000</td>\n",
              "      <td>153.000000</td>\n",
              "      <td>0.000000</td>\n",
              "      <td>0.800000</td>\n",
              "      <td>1.000000</td>\n",
              "      <td>0.000000</td>\n",
              "      <td>2.000000</td>\n",
              "      <td>1.000000</td>\n",
              "    </tr>\n",
              "    <tr>\n",
              "      <th>75%</th>\n",
              "      <td>61.000000</td>\n",
              "      <td>1.000000</td>\n",
              "      <td>2.000000</td>\n",
              "      <td>140.000000</td>\n",
              "      <td>274.500000</td>\n",
              "      <td>0.000000</td>\n",
              "      <td>1.000000</td>\n",
              "      <td>166.000000</td>\n",
              "      <td>1.000000</td>\n",
              "      <td>1.600000</td>\n",
              "      <td>2.000000</td>\n",
              "      <td>1.000000</td>\n",
              "      <td>3.000000</td>\n",
              "      <td>1.000000</td>\n",
              "    </tr>\n",
              "    <tr>\n",
              "      <th>max</th>\n",
              "      <td>77.000000</td>\n",
              "      <td>1.000000</td>\n",
              "      <td>3.000000</td>\n",
              "      <td>200.000000</td>\n",
              "      <td>564.000000</td>\n",
              "      <td>1.000000</td>\n",
              "      <td>2.000000</td>\n",
              "      <td>202.000000</td>\n",
              "      <td>1.000000</td>\n",
              "      <td>6.200000</td>\n",
              "      <td>2.000000</td>\n",
              "      <td>4.000000</td>\n",
              "      <td>3.000000</td>\n",
              "      <td>1.000000</td>\n",
              "    </tr>\n",
              "  </tbody>\n",
              "</table>\n",
              "</div>"
            ],
            "text/plain": [
              "              age         sex          cp  ...          ca        thal      target\n",
              "count  303.000000  303.000000  303.000000  ...  303.000000  303.000000  303.000000\n",
              "mean    54.366337    0.683168    0.966997  ...    0.729373    2.313531    0.544554\n",
              "std      9.082101    0.466011    1.032052  ...    1.022606    0.612277    0.498835\n",
              "min     29.000000    0.000000    0.000000  ...    0.000000    0.000000    0.000000\n",
              "25%     47.500000    0.000000    0.000000  ...    0.000000    2.000000    0.000000\n",
              "50%     55.000000    1.000000    1.000000  ...    0.000000    2.000000    1.000000\n",
              "75%     61.000000    1.000000    2.000000  ...    1.000000    3.000000    1.000000\n",
              "max     77.000000    1.000000    3.000000  ...    4.000000    3.000000    1.000000\n",
              "\n",
              "[8 rows x 14 columns]"
            ]
          },
          "metadata": {
            "tags": []
          },
          "execution_count": 5
        }
      ]
    },
    {
      "cell_type": "code",
      "metadata": {
        "id": "L-V00_aB427F"
      },
      "source": [
        "# Split dataframe (df) into training and test sets\n",
        "from sklearn.model_selection import train_test_split\n",
        "\n",
        "X_train, X_test, y_train, y_test = train_test_split(X, y, test_size=0.2, \n",
        "                                                    random_state=0)"
      ],
      "execution_count": 6,
      "outputs": []
    },
    {
      "cell_type": "code",
      "metadata": {
        "id": "QRtaoswM5fKg"
      },
      "source": [
        "# Feature scaling\n",
        "from sklearn.preprocessing import StandardScaler\n",
        "\n",
        "sc = StandardScaler()\n",
        "X_train = sc.fit_transform(X_train)\n",
        "X_test = sc.transform(X_test)"
      ],
      "execution_count": 7,
      "outputs": []
    },
    {
      "cell_type": "markdown",
      "metadata": {
        "id": "g0L7LJYASx4n"
      },
      "source": [
        "## Visualize data"
      ]
    },
    {
      "cell_type": "markdown",
      "metadata": {
        "id": "NyJSwKlTGHfP"
      },
      "source": [
        "#### Plot age distribution"
      ]
    },
    {
      "cell_type": "code",
      "metadata": {
        "colab": {
          "base_uri": "https://localhost:8080/",
          "height": 408
        },
        "id": "AGP7MPe0DLJ8",
        "outputId": "4fb5a43e-0f55-472a-c09c-7cae784071c6"
      },
      "source": [
        "plt.figure(figsize=(9, 6))\n",
        "plt.yticks(np.arange(0, 20, 2))\n",
        "age_dist = df['age']\n",
        "sns.countplot(x=age_dist)\n",
        "plt.xlabel('Age', fontsize=12)\n",
        "plt.ylabel('Number of people', fontsize=12)\n",
        "plt.title('Age Distribution', fontsize=14)\n",
        "plt.show()"
      ],
      "execution_count": 8,
      "outputs": [
        {
          "output_type": "display_data",
          "data": {
            "image/png": "[encoded data removed]",
            "text/plain": [
              "<Figure size 648x432 with 1 Axes>"
            ]
          },
          "metadata": {
            "tags": [],
            "needs_background": "light"
          }
        }
      ]
    },
    {
      "cell_type": "code",
      "metadata": {
        "colab": {
          "base_uri": "https://localhost:8080/",
          "height": 408
        },
        "id": "Lbbmkbc1ue2y",
        "outputId": "201220fb-a234-4279-c0bf-923dc8bb3618"
      },
      "source": [
        "plt.figure(figsize=(9, 6))\n",
        "age_dist = df['age']\n",
        "sns.histplot(x=age_dist)\n",
        "plt.xlabel('Age', fontsize=12)\n",
        "plt.ylabel('Number of people', fontsize=12)\n",
        "plt.title('Age Distribution', fontsize=14)\n",
        "plt.show()"
      ],
      "execution_count": 9,
      "outputs": [
        {
          "output_type": "display_data",
          "data": {
            "image/png": "[encoded data removed]",
            "text/plain": [
              "<Figure size 648x432 with 1 Axes>"
            ]
          },
          "metadata": {
            "tags": [],
            "needs_background": "light"
          }
        }
      ]
    },
    {
      "cell_type": "markdown",
      "metadata": {
        "id": "h7dw-h0qJMS6"
      },
      "source": [
        "#### Plot gender distribution"
      ]
    },
    {
      "cell_type": "code",
      "metadata": {
        "colab": {
          "base_uri": "https://localhost:8080/",
          "height": 408
        },
        "id": "mjUgceieJPK2",
        "outputId": "d071b2e2-b919-4f7b-a80b-0881879baa56"
      },
      "source": [
        "plt.figure(figsize=(8, 6))\n",
        "labels = ['0 - Female', '1 - Male']\n",
        "gender_dist = df['sex']\n",
        "gender_plot = sns.countplot(x=gender_dist, hue=df['sex'], dodge=False)\n",
        "plt.xlabel('Gender', fontsize=12)\n",
        "plt.ylabel('Amount', fontsize=12)\n",
        "plt.title('Gender Distribution', fontsize=14)\n",
        "plt.legend(labels=labels, loc='upper left')\n",
        "plt.show()"
      ],
      "execution_count": 10,
      "outputs": [
        {
          "output_type": "display_data",
          "data": {
            "image/png": "[encoded data removed]",
            "text/plain": [
              "<Figure size 576x432 with 1 Axes>"
            ]
          },
          "metadata": {
            "tags": [],
            "needs_background": "light"
          }
        }
      ]
    },
    {
      "cell_type": "markdown",
      "metadata": {
        "id": "0zZePuPq0eDY"
      },
      "source": [
        "#### Gender distribution and Results"
      ]
    },
    {
      "cell_type": "code",
      "metadata": {
        "colab": {
          "base_uri": "https://localhost:8080/",
          "height": 408
        },
        "id": "qJwBKdMp64Se",
        "outputId": "37528e66-7636-4b72-96e4-019237736a95"
      },
      "source": [
        "labels = ['Female', 'Male']\n",
        "plt.figure(figsize=(8, 6))\n",
        "target = df['target']\n",
        "sns.countplot(x=target, hue=df['sex'])\n",
        "plt.xlabel('Category', fontsize=12)\n",
        "plt.ylabel('Number of people', fontsize=12)\n",
        "plt.title('Gender and Target', fontsize=14)\n",
        "plt.legend(labels=labels)\n",
        "plt.show()"
      ],
      "execution_count": 11,
      "outputs": [
        {
          "output_type": "display_data",
          "data": {
            "image/png": "[encoded data removed]",
            "text/plain": [
              "<Figure size 576x432 with 1 Axes>"
            ]
          },
          "metadata": {
            "tags": [],
            "needs_background": "light"
          }
        }
      ]
    },
    {
      "cell_type": "markdown",
      "metadata": {
        "id": "_yUl2T0hzETH"
      },
      "source": [
        "###### **Category:**\n",
        "0 - No Heart Disease\\\n",
        "1 - Heart Disease"
      ]
    },
    {
      "cell_type": "markdown",
      "metadata": {
        "id": "Sz0yCyLLuuqf"
      },
      "source": [
        "#### Chest Pain Type and Cholesterol Level"
      ]
    },
    {
      "cell_type": "code",
      "metadata": {
        "id": "F4qjUIWSMe3u",
        "colab": {
          "base_uri": "https://localhost:8080/",
          "height": 299
        },
        "outputId": "fbc6072c-b389-4831-a3ef-290f98517531"
      },
      "source": [
        "x = df['cp']\n",
        "y = df['chol']\n",
        "labels = ['0 - Nontypical', '1 - Nonanginal', '2 - Asymptomatic', '3 - Typical']\n",
        "box_plot = sns.boxplot(x=x, y=y, data=df)\n",
        "box_plot.set_xlabel(\"Chest Pain Type\", fontsize=12)\n",
        "box_plot.set_ylabel(\"Cholesterol Level\", fontsize=12)\n",
        "box_plot.set_title(\"Chest Pain Type and Cholesterol Level\", fontsize=14)\n",
        "plt.show()"
      ],
      "execution_count": 12,
      "outputs": [
        {
          "output_type": "display_data",
          "data": {
            "image/png": "[encoded data removed]",
            "text/plain": [
              "<Figure size 432x288 with 1 Axes>"
            ]
          },
          "metadata": {
            "tags": [],
            "needs_background": "light"
          }
        }
      ]
    },
    {
      "cell_type": "markdown",
      "metadata": {
        "id": "wZatIKkA56MQ"
      },
      "source": [
        "###### **Types of Chest Pain:**\n",
        "0 - Nontypical\\\n",
        "1 - Nonanginal\\\n",
        "2 - Asymptomatic\\\n",
        "3 - Typical"
      ]
    },
    {
      "cell_type": "markdown",
      "metadata": {
        "id": "nUdMs0l-4pGK"
      },
      "source": [
        "#### Chest pain and heart rate"
      ]
    },
    {
      "cell_type": "code",
      "metadata": {
        "colab": {
          "base_uri": "https://localhost:8080/",
          "height": 299
        },
        "id": "zAXBpaKK49r7",
        "outputId": "fb2cfbe1-5c8d-441f-9ad0-e379c6a9bcb6"
      },
      "source": [
        "x = df['cp']\n",
        "y = df['trestbps']\n",
        "labels = ['0 - Nontypical', '1 - Nonanginal', '2 - Asymptomatic', '3 - Typical']\n",
        "box_plot = sns.boxplot(x=x, y=y, data=df)\n",
        "plt.xlabel(\"Chest Pain Type\", fontsize=12)\n",
        "plt.ylabel(\"Resting Heart Rate (bpm)\", fontsize=12)\n",
        "plt.title(\"Chest Pain and Resting Heart Rate\", fontsize=14)\n",
        "plt.show()"
      ],
      "execution_count": 13,
      "outputs": [
        {
          "output_type": "display_data",
          "data": {
            "image/png": "[encoded data removed]",
            "text/plain": [
              "<Figure size 432x288 with 1 Axes>"
            ]
          },
          "metadata": {
            "tags": [],
            "needs_background": "light"
          }
        }
      ]
    },
    {
      "cell_type": "markdown",
      "metadata": {
        "id": "Cgnz2v6eCzaH"
      },
      "source": [
        "###### **Types of Chest Pain:**\n",
        "0 - Nontypical\\\n",
        "1 - Nonanginal\\\n",
        "2 - Asymptomatic\\\n",
        "3 - Typical"
      ]
    },
    {
      "cell_type": "markdown",
      "metadata": {
        "id": "A7nYJeYL5sR0"
      },
      "source": [
        "#### Age vs Cholesterol Level"
      ]
    },
    {
      "cell_type": "code",
      "metadata": {
        "id": "blfOwm2CVtCh",
        "colab": {
          "base_uri": "https://localhost:8080/",
          "height": 299
        },
        "outputId": "6dde3b4c-1041-4e17-de2b-882317b2c2ea"
      },
      "source": [
        "x = df['age']\n",
        "y = df['chol']\n",
        "line_plot = sns.lineplot(x=x, y=y, data=df)\n",
        "line_plot.set_xlabel(\"Age\", fontsize=12)\n",
        "line_plot.set_ylabel(\"Cholesterol Level\", fontsize=12)\n",
        "line_plot.set_title(\"Age vs. Cholesterol Level\", fontsize=14)\n",
        "plt.grid()\n",
        "plt.show()"
      ],
      "execution_count": 14,
      "outputs": [
        {
          "output_type": "display_data",
          "data": {
            "image/png": "[encoded data removed]",
            "text/plain": [
              "<Figure size 432x288 with 1 Axes>"
            ]
          },
          "metadata": {
            "tags": [],
            "needs_background": "light"
          }
        }
      ]
    },
    {
      "cell_type": "markdown",
      "metadata": {
        "id": "6nz9d307g8O_"
      },
      "source": [
        "#### Age vs. Blood Sugar"
      ]
    },
    {
      "cell_type": "code",
      "metadata": {
        "colab": {
          "base_uri": "https://localhost:8080/",
          "height": 299
        },
        "id": "apCQlcJ8g-Rg",
        "outputId": "9475b168-5f0a-40db-f518-387ecac1aab2"
      },
      "source": [
        "x = df['age']\n",
        "y = df['trestbps']\n",
        "line_plot = sns.lineplot(x=x, y=y, data=df, color='green')\n",
        "line_plot.set_xlabel(\"Age\", fontsize=12)\n",
        "line_plot.set_ylabel(\"Blood Sugar (in mmHg)\", fontsize=12)\n",
        "line_plot.set_title(\"Age vs. Blood Sugar\", fontsize=14)\n",
        "plt.grid()\n",
        "plt.show()"
      ],
      "execution_count": 15,
      "outputs": [
        {
          "output_type": "display_data",
          "data": {
            "image/png": "[encoded data removed]",
            "text/plain": [
              "<Figure size 432x288 with 1 Axes>"
            ]
          },
          "metadata": {
            "tags": [],
            "needs_background": "light"
          }
        }
      ]
    },
    {
      "cell_type": "markdown",
      "metadata": {
        "id": "1bgUDgxIDL86"
      },
      "source": [
        "## Define DNN model"
      ]
    },
    {
      "cell_type": "code",
      "metadata": {
        "colab": {
          "base_uri": "https://localhost:8080/",
          "height": 1000
        },
        "id": "d3h3Swfj5l3d",
        "outputId": "e1de3c71-c942-4d31-f533-3813c8dedbad"
      },
      "source": [
        "from keras.models import Sequential\n",
        "from keras.layers import Dense, Dropout\n",
        "from keras.callbacks import History\n",
        "from keras.optimizers import Adam\n",
        "from sklearn.model_selection import StratifiedKFold\n",
        "from sklearn.metrics import accuracy_score, roc_auc_score\n",
        "\n",
        "cv_scores = []  # Scores for each k-Fold\n",
        "losses = []  # Losses for each k-Fold\n",
        "def create_model(batch_size, epochs, folds, neurons, dropout_rate):  \n",
        "  \"\"\" Define DL model with specified parameters \"\"\"\n",
        "  kfold = StratifiedKFold(n_splits=folds, shuffle=True, random_state=0)\n",
        "  print(\"Batch size = %d, Epochs = %d, k-Folds = %d\" % (batch_size, epochs, folds))\n",
        "  for train, test in kfold.split(X, y):\n",
        "   \n",
        "    # Define Deep Learning model\n",
        "    model = Sequential()\n",
        "    # Input layer and Hidden Layer 1\n",
        "    model.add(Dense(units=neurons[0], input_dim=13, activation='relu'))\n",
        "    # model.add(Dropout(rate=dropout_rate))\n",
        "    # Hidden Layer 2\n",
        "    model.add(Dense(units=neurons[1],activation='relu'))\n",
        "    # Dropout layer\n",
        "    model.add(Dropout(rate=dropout_rate))\n",
        "    # Output layer\n",
        "    model.add(Dense(units=1,activation='sigmoid'))\n",
        "    \n",
        "    # Compile model\n",
        "    model.compile(optimizer=Adam(learning_rate=0.001), loss='binary_crossentropy', metrics=['accuracy'])\n",
        "    # Train model\n",
        "    history = model.fit(X_train, y_train, batch_size=32, epochs=epochs, validation_data=(X_test, y_test))\n",
        "\n",
        "    # Plot loss during training\n",
        "    plt.plot(history.history['loss'], 'g', label='train')\n",
        "    plt.plot(history.history['val_loss'], 'b', label='test')\n",
        "    plt.title('Training and Validation loss')\n",
        "    plt.xlabel('Epochs')\n",
        "    plt.ylabel('Loss')\n",
        "    plt.legend()\n",
        "    plt.grid()\n",
        "    plt.show()\n",
        "\n",
        "    # Plot accuracy during training\n",
        "    plt.plot(history.history['accuracy'], 'g', label='train')\n",
        "    plt.plot(history.history['val_accuracy'], 'b', label='test')\n",
        "    plt.xlabel('Epochs', fontsize=12)\n",
        "    plt.ylabel('Accuracy', fontsize=12)\n",
        "    plt.title('Training and Validation Accuracy', fontsize=14)\n",
        "    plt.legend()\n",
        "    plt.grid()\n",
        "    plt.show()\n",
        "\n",
        "    # Print scores\n",
        "    scores = model.evaluate(X_test, y_test, verbose=0)\n",
        "    print(\"%s: %.3f%%\" % (model.metrics_names[1], scores[1]*100))\n",
        "    losses.append(scores[0] * 100)  # Loss percentage\n",
        "    cv_scores.append(scores[1] * 100)  # Score percentage\n",
        "  return model\n",
        "\n",
        "# With one dropout layer (optimal results from Random Search)\n",
        "# {'batch_size': 32, 'epochs': 150, 'folds': 3, 'neurons': (14, 6), \n",
        "# 'dropout_rate': 0.4}\n",
        "model = create_model(32, 150, 3, (14, 6), 0.4)\n",
        "\n",
        "# With two dropout layers (results in too much underfitting)\n",
        "# {'batch_size': 32, 'epochs': 150, 'folds': 3, 'neurons': (14, 8), \n",
        "# 'dropout_rate': 0.45}\n",
        "# model = create_model(32, 150, 3, (14, 8), 0.45)\n",
        "\n",
        "# Print results\n",
        "print(\"Mean Accuracy: %.3f%%\" % np.mean(cv_scores))\n",
        "print(\"Standard Deviation: %.3f%%\" % np.std(cv_scores))\n",
        "print('Losses:')\n",
        "print(losses)\n",
        "print('Scores:')\n",
        "print(cv_scores)"
      ],
      "execution_count": 16,
      "outputs": [
        {
          "output_type": "stream",
          "text": [
            "Batch size = 32, Epochs = 150, k-Folds = 3\n",
            "Epoch 1/150\n"
          ],
          "name": "stdout"
        },
        {
          "output_type": "stream",
          "text": [
            "/usr/local/lib/python3.7/dist-packages/sklearn/model_selection/_split.py:667: UserWarning: The least populated class in y has only 1 members, which is less than n_splits=3.\n",
            "  % (min_groups, self.n_splits)), UserWarning)\n"
          ],
          "name": "stderr"
        },
        {
          "output_type": "stream",
          "text": [
            "8/8 [==============================] - 1s 66ms/step - loss: 0.9199 - accuracy: 0.4449 - val_loss: 0.8090 - val_accuracy: 0.4426\n",
            "Epoch 2/150\n",
            "8/8 [==============================] - 0s 9ms/step - loss: 0.8550 - accuracy: 0.4798 - val_loss: 0.7808 - val_accuracy: 0.4262\n",
            "Epoch 3/150\n",
            "8/8 [==============================] - 0s 9ms/step - loss: 0.8563 - accuracy: 0.4350 - val_loss: 0.7543 - val_accuracy: 0.4590\n",
            "Epoch 4/150\n",
            "8/8 [==============================] - 0s 9ms/step - loss: 0.8189 - accuracy: 0.4320 - val_loss: 0.7331 - val_accuracy: 0.4590\n",
            "Epoch 5/150\n",
            "8/8 [==============================] - 0s 9ms/step - loss: 0.7552 - accuracy: 0.5178 - val_loss: 0.7167 - val_accuracy: 0.4754\n",
            "Epoch 6/150\n",
            "8/8 [==============================] - 0s 8ms/step - loss: 0.7229 - accuracy: 0.5491 - val_loss: 0.7033 - val_accuracy: 0.4918\n",
            "Epoch 7/150\n",
            "8/8 [==============================] - 0s 9ms/step - loss: 0.7389 - accuracy: 0.5128 - val_loss: 0.6918 - val_accuracy: 0.5082\n",
            "Epoch 8/150\n",
            "8/8 [==============================] - 0s 8ms/step - loss: 0.6963 - accuracy: 0.5815 - val_loss: 0.6823 - val_accuracy: 0.4918\n",
            "Epoch 9/150\n",
            "8/8 [==============================] - 0s 9ms/step - loss: 0.7261 - accuracy: 0.5379 - val_loss: 0.6737 - val_accuracy: 0.4918\n",
            "Epoch 10/150\n",
            "8/8 [==============================] - 0s 10ms/step - loss: 0.6900 - accuracy: 0.6050 - val_loss: 0.6655 - val_accuracy: 0.5738\n",
            "Epoch 11/150\n",
            "8/8 [==============================] - 0s 11ms/step - loss: 0.7075 - accuracy: 0.5434 - val_loss: 0.6583 - val_accuracy: 0.6230\n",
            "Epoch 12/150\n",
            "8/8 [==============================] - 0s 10ms/step - loss: 0.7130 - accuracy: 0.5595 - val_loss: 0.6528 - val_accuracy: 0.6066\n",
            "Epoch 13/150\n",
            "8/8 [==============================] - 0s 11ms/step - loss: 0.6704 - accuracy: 0.6354 - val_loss: 0.6467 - val_accuracy: 0.6230\n",
            "Epoch 14/150\n",
            "8/8 [==============================] - 0s 9ms/step - loss: 0.6742 - accuracy: 0.5841 - val_loss: 0.6410 - val_accuracy: 0.6721\n",
            "Epoch 15/150\n",
            "8/8 [==============================] - 0s 9ms/step - loss: 0.6520 - accuracy: 0.6064 - val_loss: 0.6338 - val_accuracy: 0.6885\n",
            "Epoch 16/150\n",
            "8/8 [==============================] - 0s 9ms/step - loss: 0.6438 - accuracy: 0.6754 - val_loss: 0.6261 - val_accuracy: 0.7213\n",
            "Epoch 17/150\n",
            "8/8 [==============================] - 0s 10ms/step - loss: 0.6565 - accuracy: 0.6035 - val_loss: 0.6178 - val_accuracy: 0.7213\n",
            "Epoch 18/150\n",
            "8/8 [==============================] - 0s 10ms/step - loss: 0.6300 - accuracy: 0.7163 - val_loss: 0.6093 - val_accuracy: 0.7213\n",
            "Epoch 19/150\n",
            "8/8 [==============================] - 0s 10ms/step - loss: 0.6341 - accuracy: 0.6727 - val_loss: 0.5989 - val_accuracy: 0.7377\n",
            "Epoch 20/150\n",
            "8/8 [==============================] - 0s 10ms/step - loss: 0.6078 - accuracy: 0.7331 - val_loss: 0.5882 - val_accuracy: 0.7049\n",
            "Epoch 21/150\n",
            "8/8 [==============================] - 0s 9ms/step - loss: 0.5934 - accuracy: 0.7039 - val_loss: 0.5765 - val_accuracy: 0.7049\n",
            "Epoch 22/150\n",
            "8/8 [==============================] - 0s 10ms/step - loss: 0.6026 - accuracy: 0.6956 - val_loss: 0.5639 - val_accuracy: 0.7377\n",
            "Epoch 23/150\n",
            "8/8 [==============================] - 0s 9ms/step - loss: 0.5783 - accuracy: 0.7159 - val_loss: 0.5496 - val_accuracy: 0.7377\n",
            "Epoch 24/150\n",
            "8/8 [==============================] - 0s 11ms/step - loss: 0.5677 - accuracy: 0.7811 - val_loss: 0.5363 - val_accuracy: 0.7377\n",
            "Epoch 25/150\n",
            "8/8 [==============================] - 0s 9ms/step - loss: 0.5930 - accuracy: 0.6817 - val_loss: 0.5245 - val_accuracy: 0.7377\n",
            "Epoch 26/150\n",
            "8/8 [==============================] - 0s 9ms/step - loss: 0.5336 - accuracy: 0.7619 - val_loss: 0.5114 - val_accuracy: 0.7377\n",
            "Epoch 27/150\n",
            "8/8 [==============================] - 0s 9ms/step - loss: 0.5523 - accuracy: 0.7168 - val_loss: 0.4999 - val_accuracy: 0.7377\n",
            "Epoch 28/150\n",
            "8/8 [==============================] - 0s 9ms/step - loss: 0.5253 - accuracy: 0.7494 - val_loss: 0.4902 - val_accuracy: 0.7377\n",
            "Epoch 29/150\n",
            "8/8 [==============================] - 0s 10ms/step - loss: 0.5386 - accuracy: 0.7203 - val_loss: 0.4826 - val_accuracy: 0.7377\n",
            "Epoch 30/150\n",
            "8/8 [==============================] - 0s 9ms/step - loss: 0.5158 - accuracy: 0.7383 - val_loss: 0.4750 - val_accuracy: 0.7377\n",
            "Epoch 31/150\n",
            "8/8 [==============================] - 0s 11ms/step - loss: 0.4816 - accuracy: 0.7709 - val_loss: 0.4673 - val_accuracy: 0.7377\n",
            "Epoch 32/150\n",
            "8/8 [==============================] - 0s 10ms/step - loss: 0.4996 - accuracy: 0.7716 - val_loss: 0.4607 - val_accuracy: 0.7541\n",
            "Epoch 33/150\n",
            "8/8 [==============================] - 0s 10ms/step - loss: 0.5110 - accuracy: 0.7645 - val_loss: 0.4552 - val_accuracy: 0.7541\n",
            "Epoch 34/150\n",
            "8/8 [==============================] - 0s 10ms/step - loss: 0.5232 - accuracy: 0.7654 - val_loss: 0.4497 - val_accuracy: 0.7541\n",
            "Epoch 35/150\n",
            "8/8 [==============================] - 0s 10ms/step - loss: 0.5196 - accuracy: 0.7459 - val_loss: 0.4441 - val_accuracy: 0.7541\n",
            "Epoch 36/150\n",
            "8/8 [==============================] - 0s 9ms/step - loss: 0.5064 - accuracy: 0.7807 - val_loss: 0.4408 - val_accuracy: 0.7541\n",
            "Epoch 37/150\n",
            "8/8 [==============================] - 0s 9ms/step - loss: 0.4919 - accuracy: 0.7587 - val_loss: 0.4358 - val_accuracy: 0.7541\n",
            "Epoch 38/150\n",
            "8/8 [==============================] - 0s 10ms/step - loss: 0.5119 - accuracy: 0.7498 - val_loss: 0.4321 - val_accuracy: 0.7541\n",
            "Epoch 39/150\n",
            "8/8 [==============================] - 0s 9ms/step - loss: 0.4528 - accuracy: 0.8239 - val_loss: 0.4282 - val_accuracy: 0.7541\n",
            "Epoch 40/150\n",
            "8/8 [==============================] - 0s 10ms/step - loss: 0.4759 - accuracy: 0.7699 - val_loss: 0.4239 - val_accuracy: 0.7541\n",
            "Epoch 41/150\n",
            "8/8 [==============================] - 0s 9ms/step - loss: 0.4672 - accuracy: 0.8140 - val_loss: 0.4202 - val_accuracy: 0.7541\n",
            "Epoch 42/150\n",
            "8/8 [==============================] - 0s 9ms/step - loss: 0.4758 - accuracy: 0.7981 - val_loss: 0.4187 - val_accuracy: 0.7541\n",
            "Epoch 43/150\n",
            "8/8 [==============================] - 0s 10ms/step - loss: 0.4664 - accuracy: 0.8010 - val_loss: 0.4169 - val_accuracy: 0.7705\n",
            "Epoch 44/150\n",
            "8/8 [==============================] - 0s 9ms/step - loss: 0.4723 - accuracy: 0.7577 - val_loss: 0.4146 - val_accuracy: 0.7705\n",
            "Epoch 45/150\n",
            "8/8 [==============================] - 0s 10ms/step - loss: 0.4164 - accuracy: 0.8480 - val_loss: 0.4117 - val_accuracy: 0.7705\n",
            "Epoch 46/150\n",
            "8/8 [==============================] - 0s 10ms/step - loss: 0.4435 - accuracy: 0.8156 - val_loss: 0.4101 - val_accuracy: 0.7705\n",
            "Epoch 47/150\n",
            "8/8 [==============================] - 0s 10ms/step - loss: 0.4628 - accuracy: 0.8026 - val_loss: 0.4089 - val_accuracy: 0.7705\n",
            "Epoch 48/150\n",
            "8/8 [==============================] - 0s 10ms/step - loss: 0.4282 - accuracy: 0.8039 - val_loss: 0.4068 - val_accuracy: 0.7705\n",
            "Epoch 49/150\n",
            "8/8 [==============================] - 0s 10ms/step - loss: 0.4291 - accuracy: 0.8275 - val_loss: 0.4043 - val_accuracy: 0.7705\n",
            "Epoch 50/150\n",
            "8/8 [==============================] - 0s 9ms/step - loss: 0.4233 - accuracy: 0.8167 - val_loss: 0.4031 - val_accuracy: 0.7705\n",
            "Epoch 51/150\n",
            "8/8 [==============================] - 0s 10ms/step - loss: 0.4252 - accuracy: 0.8310 - val_loss: 0.4023 - val_accuracy: 0.7705\n",
            "Epoch 52/150\n",
            "8/8 [==============================] - 0s 9ms/step - loss: 0.4092 - accuracy: 0.8221 - val_loss: 0.4014 - val_accuracy: 0.7705\n",
            "Epoch 53/150\n",
            "8/8 [==============================] - 0s 10ms/step - loss: 0.4112 - accuracy: 0.8328 - val_loss: 0.4010 - val_accuracy: 0.7705\n",
            "Epoch 54/150\n",
            "8/8 [==============================] - 0s 9ms/step - loss: 0.4040 - accuracy: 0.8233 - val_loss: 0.3998 - val_accuracy: 0.7705\n",
            "Epoch 55/150\n",
            "8/8 [==============================] - 0s 9ms/step - loss: 0.4361 - accuracy: 0.8326 - val_loss: 0.3981 - val_accuracy: 0.7869\n",
            "Epoch 56/150\n",
            "8/8 [==============================] - 0s 10ms/step - loss: 0.4217 - accuracy: 0.8068 - val_loss: 0.3967 - val_accuracy: 0.7869\n",
            "Epoch 57/150\n",
            "8/8 [==============================] - 0s 10ms/step - loss: 0.4090 - accuracy: 0.8272 - val_loss: 0.3950 - val_accuracy: 0.7869\n",
            "Epoch 58/150\n",
            "8/8 [==============================] - 0s 10ms/step - loss: 0.4261 - accuracy: 0.8650 - val_loss: 0.3936 - val_accuracy: 0.7869\n",
            "Epoch 59/150\n",
            "8/8 [==============================] - 0s 28ms/step - loss: 0.3936 - accuracy: 0.8729 - val_loss: 0.3934 - val_accuracy: 0.7869\n",
            "Epoch 60/150\n",
            "8/8 [==============================] - 0s 9ms/step - loss: 0.3883 - accuracy: 0.8235 - val_loss: 0.3917 - val_accuracy: 0.7869\n",
            "Epoch 61/150\n",
            "8/8 [==============================] - 0s 9ms/step - loss: 0.4458 - accuracy: 0.8234 - val_loss: 0.3902 - val_accuracy: 0.7869\n",
            "Epoch 62/150\n",
            "8/8 [==============================] - 0s 9ms/step - loss: 0.4282 - accuracy: 0.8342 - val_loss: 0.3896 - val_accuracy: 0.7869\n",
            "Epoch 63/150\n",
            "8/8 [==============================] - 0s 10ms/step - loss: 0.4307 - accuracy: 0.8579 - val_loss: 0.3886 - val_accuracy: 0.7869\n",
            "Epoch 64/150\n",
            "8/8 [==============================] - 0s 8ms/step - loss: 0.4133 - accuracy: 0.8360 - val_loss: 0.3878 - val_accuracy: 0.8033\n",
            "Epoch 65/150\n",
            "8/8 [==============================] - 0s 10ms/step - loss: 0.4303 - accuracy: 0.8447 - val_loss: 0.3881 - val_accuracy: 0.8033\n",
            "Epoch 66/150\n",
            "8/8 [==============================] - 0s 10ms/step - loss: 0.4275 - accuracy: 0.8400 - val_loss: 0.3879 - val_accuracy: 0.8033\n",
            "Epoch 67/150\n",
            "8/8 [==============================] - 0s 9ms/step - loss: 0.3838 - accuracy: 0.8800 - val_loss: 0.3874 - val_accuracy: 0.8033\n",
            "Epoch 68/150\n",
            "8/8 [==============================] - 0s 10ms/step - loss: 0.4252 - accuracy: 0.8381 - val_loss: 0.3877 - val_accuracy: 0.8033\n",
            "Epoch 69/150\n",
            "8/8 [==============================] - 0s 10ms/step - loss: 0.3985 - accuracy: 0.8461 - val_loss: 0.3866 - val_accuracy: 0.8033\n",
            "Epoch 70/150\n",
            "8/8 [==============================] - 0s 9ms/step - loss: 0.4141 - accuracy: 0.8368 - val_loss: 0.3853 - val_accuracy: 0.8033\n",
            "Epoch 71/150\n",
            "8/8 [==============================] - 0s 9ms/step - loss: 0.4069 - accuracy: 0.8560 - val_loss: 0.3848 - val_accuracy: 0.8033\n",
            "Epoch 72/150\n",
            "8/8 [==============================] - 0s 9ms/step - loss: 0.4229 - accuracy: 0.8666 - val_loss: 0.3845 - val_accuracy: 0.8033\n",
            "Epoch 73/150\n",
            "8/8 [==============================] - 0s 9ms/step - loss: 0.3982 - accuracy: 0.8335 - val_loss: 0.3846 - val_accuracy: 0.8033\n",
            "Epoch 74/150\n",
            "8/8 [==============================] - 0s 9ms/step - loss: 0.4195 - accuracy: 0.8110 - val_loss: 0.3839 - val_accuracy: 0.8033\n",
            "Epoch 75/150\n",
            "8/8 [==============================] - 0s 11ms/step - loss: 0.4040 - accuracy: 0.8315 - val_loss: 0.3824 - val_accuracy: 0.8033\n",
            "Epoch 76/150\n",
            "8/8 [==============================] - 0s 9ms/step - loss: 0.4278 - accuracy: 0.8218 - val_loss: 0.3818 - val_accuracy: 0.8033\n",
            "Epoch 77/150\n",
            "8/8 [==============================] - 0s 10ms/step - loss: 0.4385 - accuracy: 0.8153 - val_loss: 0.3815 - val_accuracy: 0.8033\n",
            "Epoch 78/150\n",
            "8/8 [==============================] - 0s 9ms/step - loss: 0.4077 - accuracy: 0.8396 - val_loss: 0.3820 - val_accuracy: 0.8033\n",
            "Epoch 79/150\n",
            "8/8 [==============================] - 0s 9ms/step - loss: 0.3913 - accuracy: 0.8811 - val_loss: 0.3808 - val_accuracy: 0.8033\n",
            "Epoch 80/150\n",
            "8/8 [==============================] - 0s 9ms/step - loss: 0.3856 - accuracy: 0.8538 - val_loss: 0.3800 - val_accuracy: 0.8197\n",
            "Epoch 81/150\n",
            "8/8 [==============================] - 0s 10ms/step - loss: 0.4197 - accuracy: 0.8398 - val_loss: 0.3797 - val_accuracy: 0.8197\n",
            "Epoch 82/150\n",
            "8/8 [==============================] - 0s 11ms/step - loss: 0.4235 - accuracy: 0.8306 - val_loss: 0.3802 - val_accuracy: 0.8197\n",
            "Epoch 83/150\n",
            "8/8 [==============================] - 0s 11ms/step - loss: 0.4034 - accuracy: 0.8667 - val_loss: 0.3786 - val_accuracy: 0.8197\n",
            "Epoch 84/150\n",
            "8/8 [==============================] - 0s 11ms/step - loss: 0.3658 - accuracy: 0.8376 - val_loss: 0.3778 - val_accuracy: 0.8197\n",
            "Epoch 85/150\n",
            "8/8 [==============================] - 0s 9ms/step - loss: 0.3760 - accuracy: 0.8608 - val_loss: 0.3764 - val_accuracy: 0.8197\n",
            "Epoch 86/150\n",
            "8/8 [==============================] - 0s 9ms/step - loss: 0.3973 - accuracy: 0.8549 - val_loss: 0.3744 - val_accuracy: 0.8197\n",
            "Epoch 87/150\n",
            "8/8 [==============================] - 0s 9ms/step - loss: 0.3532 - accuracy: 0.8736 - val_loss: 0.3738 - val_accuracy: 0.8197\n",
            "Epoch 88/150\n",
            "8/8 [==============================] - 0s 10ms/step - loss: 0.3792 - accuracy: 0.8346 - val_loss: 0.3741 - val_accuracy: 0.8197\n",
            "Epoch 89/150\n",
            "8/8 [==============================] - 0s 10ms/step - loss: 0.3963 - accuracy: 0.8320 - val_loss: 0.3747 - val_accuracy: 0.8197\n",
            "Epoch 90/150\n",
            "8/8 [==============================] - 0s 10ms/step - loss: 0.3441 - accuracy: 0.9032 - val_loss: 0.3751 - val_accuracy: 0.8197\n",
            "Epoch 91/150\n",
            "8/8 [==============================] - 0s 10ms/step - loss: 0.3714 - accuracy: 0.8708 - val_loss: 0.3751 - val_accuracy: 0.8197\n",
            "Epoch 92/150\n",
            "8/8 [==============================] - 0s 9ms/step - loss: 0.3929 - accuracy: 0.8437 - val_loss: 0.3751 - val_accuracy: 0.8197\n",
            "Epoch 93/150\n",
            "8/8 [==============================] - 0s 10ms/step - loss: 0.3689 - accuracy: 0.8778 - val_loss: 0.3739 - val_accuracy: 0.8197\n",
            "Epoch 94/150\n",
            "8/8 [==============================] - 0s 10ms/step - loss: 0.4070 - accuracy: 0.8518 - val_loss: 0.3743 - val_accuracy: 0.8197\n",
            "Epoch 95/150\n",
            "8/8 [==============================] - 0s 10ms/step - loss: 0.3604 - accuracy: 0.8529 - val_loss: 0.3740 - val_accuracy: 0.8197\n",
            "Epoch 96/150\n",
            "8/8 [==============================] - 0s 10ms/step - loss: 0.3578 - accuracy: 0.8466 - val_loss: 0.3734 - val_accuracy: 0.8197\n",
            "Epoch 97/150\n",
            "8/8 [==============================] - 0s 9ms/step - loss: 0.3463 - accuracy: 0.8745 - val_loss: 0.3717 - val_accuracy: 0.8197\n",
            "Epoch 98/150\n",
            "8/8 [==============================] - 0s 9ms/step - loss: 0.3738 - accuracy: 0.8761 - val_loss: 0.3705 - val_accuracy: 0.8197\n",
            "Epoch 99/150\n",
            "8/8 [==============================] - 0s 10ms/step - loss: 0.4153 - accuracy: 0.8468 - val_loss: 0.3699 - val_accuracy: 0.8197\n",
            "Epoch 100/150\n",
            "8/8 [==============================] - 0s 11ms/step - loss: 0.3676 - accuracy: 0.8523 - val_loss: 0.3680 - val_accuracy: 0.8197\n",
            "Epoch 101/150\n",
            "8/8 [==============================] - 0s 10ms/step - loss: 0.4002 - accuracy: 0.8371 - val_loss: 0.3673 - val_accuracy: 0.8197\n",
            "Epoch 102/150\n",
            "8/8 [==============================] - 0s 10ms/step - loss: 0.3343 - accuracy: 0.8711 - val_loss: 0.3676 - val_accuracy: 0.8197\n",
            "Epoch 103/150\n",
            "8/8 [==============================] - 0s 10ms/step - loss: 0.3917 - accuracy: 0.8262 - val_loss: 0.3675 - val_accuracy: 0.8197\n",
            "Epoch 104/150\n",
            "8/8 [==============================] - 0s 10ms/step - loss: 0.4045 - accuracy: 0.8491 - val_loss: 0.3672 - val_accuracy: 0.8197\n",
            "Epoch 105/150\n",
            "8/8 [==============================] - 0s 10ms/step - loss: 0.4153 - accuracy: 0.8416 - val_loss: 0.3678 - val_accuracy: 0.8197\n",
            "Epoch 106/150\n",
            "8/8 [==============================] - 0s 11ms/step - loss: 0.3860 - accuracy: 0.8222 - val_loss: 0.3688 - val_accuracy: 0.8197\n",
            "Epoch 107/150\n",
            "8/8 [==============================] - 0s 11ms/step - loss: 0.3694 - accuracy: 0.8427 - val_loss: 0.3682 - val_accuracy: 0.8197\n",
            "Epoch 108/150\n",
            "8/8 [==============================] - 0s 10ms/step - loss: 0.3525 - accuracy: 0.8523 - val_loss: 0.3681 - val_accuracy: 0.8197\n",
            "Epoch 109/150\n",
            "8/8 [==============================] - 0s 11ms/step - loss: 0.3824 - accuracy: 0.8281 - val_loss: 0.3689 - val_accuracy: 0.8197\n",
            "Epoch 110/150\n",
            "8/8 [==============================] - 0s 11ms/step - loss: 0.3789 - accuracy: 0.8500 - val_loss: 0.3684 - val_accuracy: 0.8197\n",
            "Epoch 111/150\n",
            "8/8 [==============================] - 0s 10ms/step - loss: 0.3691 - accuracy: 0.8470 - val_loss: 0.3682 - val_accuracy: 0.8197\n",
            "Epoch 112/150\n",
            "8/8 [==============================] - 0s 10ms/step - loss: 0.3502 - accuracy: 0.8745 - val_loss: 0.3680 - val_accuracy: 0.8197\n",
            "Epoch 113/150\n",
            "8/8 [==============================] - 0s 10ms/step - loss: 0.3240 - accuracy: 0.8669 - val_loss: 0.3677 - val_accuracy: 0.8197\n",
            "Epoch 114/150\n",
            "8/8 [==============================] - 0s 10ms/step - loss: 0.3623 - accuracy: 0.8633 - val_loss: 0.3662 - val_accuracy: 0.8197\n",
            "Epoch 115/150\n",
            "8/8 [==============================] - 0s 10ms/step - loss: 0.3582 - accuracy: 0.8579 - val_loss: 0.3648 - val_accuracy: 0.8197\n",
            "Epoch 116/150\n",
            "8/8 [==============================] - 0s 10ms/step - loss: 0.3470 - accuracy: 0.8464 - val_loss: 0.3637 - val_accuracy: 0.8197\n",
            "Epoch 117/150\n",
            "8/8 [==============================] - 0s 11ms/step - loss: 0.3774 - accuracy: 0.8268 - val_loss: 0.3635 - val_accuracy: 0.8197\n",
            "Epoch 118/150\n",
            "8/8 [==============================] - 0s 11ms/step - loss: 0.3580 - accuracy: 0.8537 - val_loss: 0.3629 - val_accuracy: 0.8197\n",
            "Epoch 119/150\n",
            "8/8 [==============================] - 0s 9ms/step - loss: 0.3416 - accuracy: 0.8693 - val_loss: 0.3623 - val_accuracy: 0.8197\n",
            "Epoch 120/150\n",
            "8/8 [==============================] - 0s 10ms/step - loss: 0.3833 - accuracy: 0.8356 - val_loss: 0.3625 - val_accuracy: 0.8197\n",
            "Epoch 121/150\n",
            "8/8 [==============================] - 0s 9ms/step - loss: 0.3709 - accuracy: 0.8447 - val_loss: 0.3634 - val_accuracy: 0.8197\n",
            "Epoch 122/150\n",
            "8/8 [==============================] - 0s 10ms/step - loss: 0.4011 - accuracy: 0.8477 - val_loss: 0.3627 - val_accuracy: 0.8197\n",
            "Epoch 123/150\n",
            "8/8 [==============================] - 0s 11ms/step - loss: 0.3768 - accuracy: 0.8394 - val_loss: 0.3616 - val_accuracy: 0.8197\n",
            "Epoch 124/150\n",
            "8/8 [==============================] - 0s 11ms/step - loss: 0.3492 - accuracy: 0.8460 - val_loss: 0.3612 - val_accuracy: 0.8197\n",
            "Epoch 125/150\n",
            "8/8 [==============================] - 0s 10ms/step - loss: 0.3800 - accuracy: 0.8591 - val_loss: 0.3606 - val_accuracy: 0.8197\n",
            "Epoch 126/150\n",
            "8/8 [==============================] - 0s 10ms/step - loss: 0.3493 - accuracy: 0.8590 - val_loss: 0.3600 - val_accuracy: 0.8197\n",
            "Epoch 127/150\n",
            "8/8 [==============================] - 0s 10ms/step - loss: 0.3455 - accuracy: 0.8526 - val_loss: 0.3589 - val_accuracy: 0.8197\n",
            "Epoch 128/150\n",
            "8/8 [==============================] - 0s 10ms/step - loss: 0.3196 - accuracy: 0.8879 - val_loss: 0.3566 - val_accuracy: 0.8197\n",
            "Epoch 129/150\n",
            "8/8 [==============================] - 0s 11ms/step - loss: 0.3527 - accuracy: 0.8238 - val_loss: 0.3557 - val_accuracy: 0.8197\n",
            "Epoch 130/150\n",
            "8/8 [==============================] - 0s 9ms/step - loss: 0.3345 - accuracy: 0.8718 - val_loss: 0.3554 - val_accuracy: 0.8361\n",
            "Epoch 131/150\n",
            "8/8 [==============================] - 0s 10ms/step - loss: 0.3348 - accuracy: 0.8683 - val_loss: 0.3544 - val_accuracy: 0.8361\n",
            "Epoch 132/150\n",
            "8/8 [==============================] - 0s 10ms/step - loss: 0.3307 - accuracy: 0.8792 - val_loss: 0.3531 - val_accuracy: 0.8525\n",
            "Epoch 133/150\n",
            "8/8 [==============================] - 0s 10ms/step - loss: 0.3446 - accuracy: 0.8846 - val_loss: 0.3518 - val_accuracy: 0.8525\n",
            "Epoch 134/150\n",
            "8/8 [==============================] - 0s 10ms/step - loss: 0.3438 - accuracy: 0.8693 - val_loss: 0.3521 - val_accuracy: 0.8525\n",
            "Epoch 135/150\n",
            "8/8 [==============================] - 0s 10ms/step - loss: 0.3614 - accuracy: 0.8584 - val_loss: 0.3533 - val_accuracy: 0.8525\n",
            "Epoch 136/150\n",
            "8/8 [==============================] - 0s 9ms/step - loss: 0.2997 - accuracy: 0.8934 - val_loss: 0.3543 - val_accuracy: 0.8361\n",
            "Epoch 137/150\n",
            "8/8 [==============================] - 0s 10ms/step - loss: 0.3152 - accuracy: 0.8795 - val_loss: 0.3549 - val_accuracy: 0.8361\n",
            "Epoch 138/150\n",
            "8/8 [==============================] - 0s 10ms/step - loss: 0.3654 - accuracy: 0.8587 - val_loss: 0.3553 - val_accuracy: 0.8525\n",
            "Epoch 139/150\n",
            "8/8 [==============================] - 0s 10ms/step - loss: 0.3193 - accuracy: 0.8746 - val_loss: 0.3543 - val_accuracy: 0.8361\n",
            "Epoch 140/150\n",
            "8/8 [==============================] - 0s 10ms/step - loss: 0.3511 - accuracy: 0.8706 - val_loss: 0.3537 - val_accuracy: 0.8361\n",
            "Epoch 141/150\n",
            "8/8 [==============================] - 0s 10ms/step - loss: 0.3067 - accuracy: 0.8719 - val_loss: 0.3533 - val_accuracy: 0.8525\n",
            "Epoch 142/150\n",
            "8/8 [==============================] - 0s 12ms/step - loss: 0.3538 - accuracy: 0.8498 - val_loss: 0.3530 - val_accuracy: 0.8525\n",
            "Epoch 143/150\n",
            "8/8 [==============================] - 0s 10ms/step - loss: 0.3496 - accuracy: 0.8711 - val_loss: 0.3523 - val_accuracy: 0.8689\n",
            "Epoch 144/150\n",
            "8/8 [==============================] - 0s 10ms/step - loss: 0.3480 - accuracy: 0.8372 - val_loss: 0.3528 - val_accuracy: 0.8689\n",
            "Epoch 145/150\n",
            "8/8 [==============================] - 0s 10ms/step - loss: 0.3680 - accuracy: 0.8440 - val_loss: 0.3530 - val_accuracy: 0.8852\n",
            "Epoch 146/150\n",
            "8/8 [==============================] - 0s 9ms/step - loss: 0.3409 - accuracy: 0.8310 - val_loss: 0.3531 - val_accuracy: 0.8689\n",
            "Epoch 147/150\n",
            "8/8 [==============================] - 0s 11ms/step - loss: 0.3487 - accuracy: 0.8589 - val_loss: 0.3523 - val_accuracy: 0.8525\n",
            "Epoch 148/150\n",
            "8/8 [==============================] - 0s 11ms/step - loss: 0.3223 - accuracy: 0.8725 - val_loss: 0.3510 - val_accuracy: 0.8525\n",
            "Epoch 149/150\n",
            "8/8 [==============================] - 0s 10ms/step - loss: 0.3659 - accuracy: 0.8514 - val_loss: 0.3516 - val_accuracy: 0.8525\n",
            "Epoch 150/150\n",
            "8/8 [==============================] - 0s 10ms/step - loss: 0.3448 - accuracy: 0.8820 - val_loss: 0.3517 - val_accuracy: 0.8689\n"
          ],
          "name": "stdout"
        },
        {
          "output_type": "display_data",
          "data": {
            "image/png": "[encoded data removed]",
            "text/plain": [
              "<Figure size 432x288 with 1 Axes>"
            ]
          },
          "metadata": {
            "tags": [],
            "needs_background": "light"
          }
        },
        {
          "output_type": "display_data",
          "data": {
            "image/png": "[encoded data removed]",
            "text/plain": [
              "<Figure size 432x288 with 1 Axes>"
            ]
          },
          "metadata": {
            "tags": [],
            "needs_background": "light"
          }
        },
        {
          "output_type": "stream",
          "text": [
            "accuracy: 86.885%\n",
            "Epoch 1/150\n",
            "8/8 [==============================] - 1s 44ms/step - loss: 0.6274 - accuracy: 0.6369 - val_loss: 0.6088 - val_accuracy: 0.6066\n",
            "Epoch 2/150\n",
            "8/8 [==============================] - 0s 10ms/step - loss: 0.6434 - accuracy: 0.6415 - val_loss: 0.5960 - val_accuracy: 0.6557\n",
            "Epoch 3/150\n",
            "8/8 [==============================] - 0s 20ms/step - loss: 0.6383 - accuracy: 0.6528 - val_loss: 0.5852 - val_accuracy: 0.6721\n",
            "Epoch 4/150\n",
            "8/8 [==============================] - 0s 13ms/step - loss: 0.6163 - accuracy: 0.6719 - val_loss: 0.5746 - val_accuracy: 0.7377\n",
            "Epoch 5/150\n",
            "8/8 [==============================] - 0s 10ms/step - loss: 0.6099 - accuracy: 0.6703 - val_loss: 0.5650 - val_accuracy: 0.7213\n",
            "Epoch 6/150\n",
            "8/8 [==============================] - 0s 9ms/step - loss: 0.6418 - accuracy: 0.6134 - val_loss: 0.5553 - val_accuracy: 0.7213\n",
            "Epoch 7/150\n",
            "8/8 [==============================] - 0s 10ms/step - loss: 0.5413 - accuracy: 0.7770 - val_loss: 0.5459 - val_accuracy: 0.7213\n",
            "Epoch 8/150\n",
            "8/8 [==============================] - 0s 10ms/step - loss: 0.5507 - accuracy: 0.7357 - val_loss: 0.5376 - val_accuracy: 0.7377\n",
            "Epoch 9/150\n",
            "8/8 [==============================] - 0s 11ms/step - loss: 0.5865 - accuracy: 0.7325 - val_loss: 0.5290 - val_accuracy: 0.7705\n",
            "Epoch 10/150\n",
            "8/8 [==============================] - 0s 11ms/step - loss: 0.5564 - accuracy: 0.7459 - val_loss: 0.5201 - val_accuracy: 0.7869\n",
            "Epoch 11/150\n",
            "8/8 [==============================] - 0s 22ms/step - loss: 0.5745 - accuracy: 0.7055 - val_loss: 0.5116 - val_accuracy: 0.7869\n",
            "Epoch 12/150\n",
            "8/8 [==============================] - 0s 9ms/step - loss: 0.5762 - accuracy: 0.6861 - val_loss: 0.5037 - val_accuracy: 0.7869\n",
            "Epoch 13/150\n",
            "8/8 [==============================] - 0s 10ms/step - loss: 0.5981 - accuracy: 0.7217 - val_loss: 0.4959 - val_accuracy: 0.8033\n",
            "Epoch 14/150\n",
            "8/8 [==============================] - 0s 10ms/step - loss: 0.5660 - accuracy: 0.7023 - val_loss: 0.4883 - val_accuracy: 0.8033\n",
            "Epoch 15/150\n",
            "8/8 [==============================] - 0s 10ms/step - loss: 0.5078 - accuracy: 0.7749 - val_loss: 0.4801 - val_accuracy: 0.8033\n",
            "Epoch 16/150\n",
            "8/8 [==============================] - 0s 9ms/step - loss: 0.5094 - accuracy: 0.7667 - val_loss: 0.4739 - val_accuracy: 0.8197\n",
            "Epoch 17/150\n",
            "8/8 [==============================] - 0s 10ms/step - loss: 0.5189 - accuracy: 0.7421 - val_loss: 0.4671 - val_accuracy: 0.8361\n",
            "Epoch 18/150\n",
            "8/8 [==============================] - 0s 11ms/step - loss: 0.5496 - accuracy: 0.7382 - val_loss: 0.4605 - val_accuracy: 0.8361\n",
            "Epoch 19/150\n",
            "8/8 [==============================] - 0s 11ms/step - loss: 0.5080 - accuracy: 0.7694 - val_loss: 0.4536 - val_accuracy: 0.8525\n",
            "Epoch 20/150\n",
            "8/8 [==============================] - 0s 12ms/step - loss: 0.4933 - accuracy: 0.7840 - val_loss: 0.4464 - val_accuracy: 0.8525\n",
            "Epoch 21/150\n",
            "8/8 [==============================] - 0s 9ms/step - loss: 0.5091 - accuracy: 0.7407 - val_loss: 0.4394 - val_accuracy: 0.8361\n",
            "Epoch 22/150\n",
            "8/8 [==============================] - 0s 13ms/step - loss: 0.4886 - accuracy: 0.7935 - val_loss: 0.4338 - val_accuracy: 0.8361\n",
            "Epoch 23/150\n",
            "8/8 [==============================] - 0s 18ms/step - loss: 0.4657 - accuracy: 0.7853 - val_loss: 0.4303 - val_accuracy: 0.8361\n",
            "Epoch 24/150\n",
            "8/8 [==============================] - 0s 11ms/step - loss: 0.4904 - accuracy: 0.7710 - val_loss: 0.4253 - val_accuracy: 0.8361\n",
            "Epoch 25/150\n",
            "8/8 [==============================] - 0s 10ms/step - loss: 0.5074 - accuracy: 0.7665 - val_loss: 0.4203 - val_accuracy: 0.8361\n",
            "Epoch 26/150\n",
            "8/8 [==============================] - 0s 10ms/step - loss: 0.4409 - accuracy: 0.8178 - val_loss: 0.4149 - val_accuracy: 0.8361\n",
            "Epoch 27/150\n",
            "8/8 [==============================] - 0s 10ms/step - loss: 0.5058 - accuracy: 0.7877 - val_loss: 0.4116 - val_accuracy: 0.8361\n",
            "Epoch 28/150\n",
            "8/8 [==============================] - 0s 10ms/step - loss: 0.4684 - accuracy: 0.7728 - val_loss: 0.4093 - val_accuracy: 0.8361\n",
            "Epoch 29/150\n",
            "8/8 [==============================] - 0s 10ms/step - loss: 0.4257 - accuracy: 0.8232 - val_loss: 0.4047 - val_accuracy: 0.8525\n",
            "Epoch 30/150\n",
            "8/8 [==============================] - 0s 9ms/step - loss: 0.4663 - accuracy: 0.7806 - val_loss: 0.4001 - val_accuracy: 0.8525\n",
            "Epoch 31/150\n",
            "8/8 [==============================] - 0s 9ms/step - loss: 0.4796 - accuracy: 0.7861 - val_loss: 0.3972 - val_accuracy: 0.8525\n",
            "Epoch 32/150\n",
            "8/8 [==============================] - 0s 11ms/step - loss: 0.4702 - accuracy: 0.7667 - val_loss: 0.3952 - val_accuracy: 0.8525\n",
            "Epoch 33/150\n",
            "8/8 [==============================] - 0s 10ms/step - loss: 0.4187 - accuracy: 0.8017 - val_loss: 0.3936 - val_accuracy: 0.8525\n",
            "Epoch 34/150\n",
            "8/8 [==============================] - 0s 10ms/step - loss: 0.4448 - accuracy: 0.8116 - val_loss: 0.3912 - val_accuracy: 0.8525\n",
            "Epoch 35/150\n",
            "8/8 [==============================] - 0s 11ms/step - loss: 0.4196 - accuracy: 0.8131 - val_loss: 0.3898 - val_accuracy: 0.8525\n",
            "Epoch 36/150\n",
            "8/8 [==============================] - 0s 10ms/step - loss: 0.4362 - accuracy: 0.7786 - val_loss: 0.3886 - val_accuracy: 0.8525\n",
            "Epoch 37/150\n",
            "8/8 [==============================] - 0s 9ms/step - loss: 0.4244 - accuracy: 0.8180 - val_loss: 0.3860 - val_accuracy: 0.8525\n",
            "Epoch 38/150\n",
            "8/8 [==============================] - 0s 10ms/step - loss: 0.3992 - accuracy: 0.8245 - val_loss: 0.3829 - val_accuracy: 0.8525\n",
            "Epoch 39/150\n",
            "8/8 [==============================] - 0s 9ms/step - loss: 0.4078 - accuracy: 0.8001 - val_loss: 0.3799 - val_accuracy: 0.8525\n",
            "Epoch 40/150\n",
            "8/8 [==============================] - 0s 23ms/step - loss: 0.4306 - accuracy: 0.8268 - val_loss: 0.3778 - val_accuracy: 0.8525\n",
            "Epoch 41/150\n",
            "8/8 [==============================] - 0s 11ms/step - loss: 0.4495 - accuracy: 0.7563 - val_loss: 0.3773 - val_accuracy: 0.8525\n",
            "Epoch 42/150\n",
            "8/8 [==============================] - 0s 10ms/step - loss: 0.4081 - accuracy: 0.8072 - val_loss: 0.3754 - val_accuracy: 0.8525\n",
            "Epoch 43/150\n",
            "8/8 [==============================] - 0s 11ms/step - loss: 0.3745 - accuracy: 0.8471 - val_loss: 0.3727 - val_accuracy: 0.8525\n",
            "Epoch 44/150\n",
            "8/8 [==============================] - 0s 10ms/step - loss: 0.4286 - accuracy: 0.8083 - val_loss: 0.3718 - val_accuracy: 0.8525\n",
            "Epoch 45/150\n",
            "8/8 [==============================] - 0s 9ms/step - loss: 0.4307 - accuracy: 0.8373 - val_loss: 0.3713 - val_accuracy: 0.8525\n",
            "Epoch 46/150\n",
            "8/8 [==============================] - 0s 10ms/step - loss: 0.4364 - accuracy: 0.8191 - val_loss: 0.3720 - val_accuracy: 0.8525\n",
            "Epoch 47/150\n",
            "8/8 [==============================] - 0s 10ms/step - loss: 0.4248 - accuracy: 0.7962 - val_loss: 0.3717 - val_accuracy: 0.8525\n",
            "Epoch 48/150\n",
            "8/8 [==============================] - 0s 11ms/step - loss: 0.3754 - accuracy: 0.8553 - val_loss: 0.3707 - val_accuracy: 0.8525\n",
            "Epoch 49/150\n",
            "8/8 [==============================] - 0s 10ms/step - loss: 0.4204 - accuracy: 0.8068 - val_loss: 0.3703 - val_accuracy: 0.8525\n",
            "Epoch 50/150\n",
            "8/8 [==============================] - 0s 10ms/step - loss: 0.3925 - accuracy: 0.8272 - val_loss: 0.3702 - val_accuracy: 0.8525\n",
            "Epoch 51/150\n",
            "8/8 [==============================] - 0s 9ms/step - loss: 0.4268 - accuracy: 0.8182 - val_loss: 0.3720 - val_accuracy: 0.8525\n",
            "Epoch 52/150\n",
            "8/8 [==============================] - 0s 11ms/step - loss: 0.4105 - accuracy: 0.8129 - val_loss: 0.3732 - val_accuracy: 0.8525\n",
            "Epoch 53/150\n",
            "8/8 [==============================] - 0s 10ms/step - loss: 0.4032 - accuracy: 0.8237 - val_loss: 0.3741 - val_accuracy: 0.8525\n",
            "Epoch 54/150\n",
            "8/8 [==============================] - 0s 11ms/step - loss: 0.3334 - accuracy: 0.8620 - val_loss: 0.3747 - val_accuracy: 0.8525\n",
            "Epoch 55/150\n",
            "8/8 [==============================] - 0s 10ms/step - loss: 0.4190 - accuracy: 0.8317 - val_loss: 0.3746 - val_accuracy: 0.8525\n",
            "Epoch 56/150\n",
            "8/8 [==============================] - 0s 11ms/step - loss: 0.4156 - accuracy: 0.8224 - val_loss: 0.3746 - val_accuracy: 0.8525\n",
            "Epoch 57/150\n",
            "8/8 [==============================] - 0s 11ms/step - loss: 0.3723 - accuracy: 0.8388 - val_loss: 0.3751 - val_accuracy: 0.8525\n",
            "Epoch 58/150\n",
            "8/8 [==============================] - 0s 10ms/step - loss: 0.3496 - accuracy: 0.8427 - val_loss: 0.3761 - val_accuracy: 0.8689\n",
            "Epoch 59/150\n",
            "8/8 [==============================] - 0s 10ms/step - loss: 0.4245 - accuracy: 0.7876 - val_loss: 0.3758 - val_accuracy: 0.8689\n",
            "Epoch 60/150\n",
            "8/8 [==============================] - 0s 10ms/step - loss: 0.4153 - accuracy: 0.7807 - val_loss: 0.3759 - val_accuracy: 0.8689\n",
            "Epoch 61/150\n",
            "8/8 [==============================] - 0s 11ms/step - loss: 0.3671 - accuracy: 0.8466 - val_loss: 0.3753 - val_accuracy: 0.8689\n",
            "Epoch 62/150\n",
            "8/8 [==============================] - 0s 10ms/step - loss: 0.3328 - accuracy: 0.8654 - val_loss: 0.3744 - val_accuracy: 0.8689\n",
            "Epoch 63/150\n",
            "8/8 [==============================] - 0s 10ms/step - loss: 0.4065 - accuracy: 0.8019 - val_loss: 0.3750 - val_accuracy: 0.8689\n",
            "Epoch 64/150\n",
            "8/8 [==============================] - 0s 10ms/step - loss: 0.3537 - accuracy: 0.8437 - val_loss: 0.3758 - val_accuracy: 0.8689\n",
            "Epoch 65/150\n",
            "8/8 [==============================] - 0s 10ms/step - loss: 0.3728 - accuracy: 0.8285 - val_loss: 0.3790 - val_accuracy: 0.8689\n",
            "Epoch 66/150\n",
            "8/8 [==============================] - 0s 23ms/step - loss: 0.3773 - accuracy: 0.8062 - val_loss: 0.3790 - val_accuracy: 0.8689\n",
            "Epoch 67/150\n",
            "8/8 [==============================] - 0s 10ms/step - loss: 0.3344 - accuracy: 0.8606 - val_loss: 0.3792 - val_accuracy: 0.8689\n",
            "Epoch 68/150\n",
            "8/8 [==============================] - 0s 10ms/step - loss: 0.3667 - accuracy: 0.8463 - val_loss: 0.3786 - val_accuracy: 0.8689\n",
            "Epoch 69/150\n",
            "8/8 [==============================] - 0s 10ms/step - loss: 0.4407 - accuracy: 0.7941 - val_loss: 0.3795 - val_accuracy: 0.8689\n",
            "Epoch 70/150\n",
            "8/8 [==============================] - 0s 10ms/step - loss: 0.3688 - accuracy: 0.8256 - val_loss: 0.3801 - val_accuracy: 0.8689\n",
            "Epoch 71/150\n",
            "8/8 [==============================] - 0s 11ms/step - loss: 0.3612 - accuracy: 0.8555 - val_loss: 0.3808 - val_accuracy: 0.8689\n",
            "Epoch 72/150\n",
            "8/8 [==============================] - 0s 10ms/step - loss: 0.3754 - accuracy: 0.8339 - val_loss: 0.3822 - val_accuracy: 0.8689\n",
            "Epoch 73/150\n",
            "8/8 [==============================] - 0s 13ms/step - loss: 0.3993 - accuracy: 0.8120 - val_loss: 0.3831 - val_accuracy: 0.8689\n",
            "Epoch 74/150\n",
            "8/8 [==============================] - 0s 11ms/step - loss: 0.3258 - accuracy: 0.8621 - val_loss: 0.3826 - val_accuracy: 0.8689\n",
            "Epoch 75/150\n",
            "8/8 [==============================] - 0s 10ms/step - loss: 0.3527 - accuracy: 0.8582 - val_loss: 0.3835 - val_accuracy: 0.8689\n",
            "Epoch 76/150\n",
            "8/8 [==============================] - 0s 10ms/step - loss: 0.3848 - accuracy: 0.8390 - val_loss: 0.3842 - val_accuracy: 0.8689\n",
            "Epoch 77/150\n",
            "8/8 [==============================] - 0s 11ms/step - loss: 0.3638 - accuracy: 0.8346 - val_loss: 0.3853 - val_accuracy: 0.8689\n",
            "Epoch 78/150\n",
            "8/8 [==============================] - 0s 9ms/step - loss: 0.3146 - accuracy: 0.8850 - val_loss: 0.3860 - val_accuracy: 0.8689\n",
            "Epoch 79/150\n",
            "8/8 [==============================] - 0s 10ms/step - loss: 0.3254 - accuracy: 0.8290 - val_loss: 0.3870 - val_accuracy: 0.8689\n",
            "Epoch 80/150\n",
            "8/8 [==============================] - 0s 11ms/step - loss: 0.3041 - accuracy: 0.8719 - val_loss: 0.3857 - val_accuracy: 0.8689\n",
            "Epoch 81/150\n",
            "8/8 [==============================] - 0s 10ms/step - loss: 0.3384 - accuracy: 0.8373 - val_loss: 0.3832 - val_accuracy: 0.8689\n",
            "Epoch 82/150\n",
            "8/8 [==============================] - 0s 9ms/step - loss: 0.3350 - accuracy: 0.8698 - val_loss: 0.3833 - val_accuracy: 0.8689\n",
            "Epoch 83/150\n",
            "8/8 [==============================] - 0s 10ms/step - loss: 0.3686 - accuracy: 0.8489 - val_loss: 0.3849 - val_accuracy: 0.8689\n",
            "Epoch 84/150\n",
            "8/8 [==============================] - 0s 10ms/step - loss: 0.3350 - accuracy: 0.8291 - val_loss: 0.3868 - val_accuracy: 0.8689\n",
            "Epoch 85/150\n",
            "8/8 [==============================] - 0s 10ms/step - loss: 0.3742 - accuracy: 0.8502 - val_loss: 0.3881 - val_accuracy: 0.8689\n",
            "Epoch 86/150\n",
            "8/8 [==============================] - 0s 10ms/step - loss: 0.3558 - accuracy: 0.8371 - val_loss: 0.3888 - val_accuracy: 0.8689\n",
            "Epoch 87/150\n",
            "8/8 [==============================] - 0s 12ms/step - loss: 0.3043 - accuracy: 0.8897 - val_loss: 0.3891 - val_accuracy: 0.8689\n",
            "Epoch 88/150\n",
            "8/8 [==============================] - 0s 11ms/step - loss: 0.3331 - accuracy: 0.8609 - val_loss: 0.3898 - val_accuracy: 0.8689\n",
            "Epoch 89/150\n",
            "8/8 [==============================] - 0s 11ms/step - loss: 0.3060 - accuracy: 0.8665 - val_loss: 0.3905 - val_accuracy: 0.8689\n",
            "Epoch 90/150\n",
            "8/8 [==============================] - 0s 11ms/step - loss: 0.3033 - accuracy: 0.8767 - val_loss: 0.3898 - val_accuracy: 0.8689\n",
            "Epoch 91/150\n",
            "8/8 [==============================] - 0s 10ms/step - loss: 0.3169 - accuracy: 0.8573 - val_loss: 0.3888 - val_accuracy: 0.8689\n",
            "Epoch 92/150\n",
            "8/8 [==============================] - 0s 11ms/step - loss: 0.3301 - accuracy: 0.8776 - val_loss: 0.3896 - val_accuracy: 0.8689\n",
            "Epoch 93/150\n",
            "8/8 [==============================] - 0s 10ms/step - loss: 0.3064 - accuracy: 0.8731 - val_loss: 0.3903 - val_accuracy: 0.8689\n",
            "Epoch 94/150\n",
            "8/8 [==============================] - 0s 10ms/step - loss: 0.3304 - accuracy: 0.8700 - val_loss: 0.3916 - val_accuracy: 0.8689\n",
            "Epoch 95/150\n",
            "8/8 [==============================] - 0s 10ms/step - loss: 0.3317 - accuracy: 0.8423 - val_loss: 0.3927 - val_accuracy: 0.8689\n",
            "Epoch 96/150\n",
            "8/8 [==============================] - 0s 10ms/step - loss: 0.2988 - accuracy: 0.8781 - val_loss: 0.3932 - val_accuracy: 0.8689\n",
            "Epoch 97/150\n",
            "8/8 [==============================] - 0s 10ms/step - loss: 0.3253 - accuracy: 0.8490 - val_loss: 0.3930 - val_accuracy: 0.8689\n",
            "Epoch 98/150\n",
            "8/8 [==============================] - 0s 11ms/step - loss: 0.3525 - accuracy: 0.8545 - val_loss: 0.3932 - val_accuracy: 0.8689\n",
            "Epoch 99/150\n",
            "8/8 [==============================] - 0s 10ms/step - loss: 0.2820 - accuracy: 0.8995 - val_loss: 0.3939 - val_accuracy: 0.8689\n",
            "Epoch 100/150\n",
            "8/8 [==============================] - 0s 10ms/step - loss: 0.3448 - accuracy: 0.8549 - val_loss: 0.3942 - val_accuracy: 0.8689\n",
            "Epoch 101/150\n",
            "8/8 [==============================] - 0s 10ms/step - loss: 0.3189 - accuracy: 0.8591 - val_loss: 0.3949 - val_accuracy: 0.8689\n",
            "Epoch 102/150\n",
            "8/8 [==============================] - 0s 10ms/step - loss: 0.3262 - accuracy: 0.8557 - val_loss: 0.3962 - val_accuracy: 0.8689\n",
            "Epoch 103/150\n",
            "8/8 [==============================] - 0s 10ms/step - loss: 0.3389 - accuracy: 0.8525 - val_loss: 0.3977 - val_accuracy: 0.8689\n",
            "Epoch 104/150\n",
            "8/8 [==============================] - 0s 10ms/step - loss: 0.3160 - accuracy: 0.8565 - val_loss: 0.3982 - val_accuracy: 0.8689\n",
            "Epoch 105/150\n",
            "8/8 [==============================] - 0s 23ms/step - loss: 0.3159 - accuracy: 0.8499 - val_loss: 0.3988 - val_accuracy: 0.8689\n",
            "Epoch 106/150\n",
            "8/8 [==============================] - 0s 11ms/step - loss: 0.3153 - accuracy: 0.8421 - val_loss: 0.3980 - val_accuracy: 0.8689\n",
            "Epoch 107/150\n",
            "8/8 [==============================] - 0s 10ms/step - loss: 0.3797 - accuracy: 0.8219 - val_loss: 0.3977 - val_accuracy: 0.8689\n",
            "Epoch 108/150\n",
            "8/8 [==============================] - 0s 11ms/step - loss: 0.3290 - accuracy: 0.8434 - val_loss: 0.3976 - val_accuracy: 0.8689\n",
            "Epoch 109/150\n",
            "8/8 [==============================] - 0s 10ms/step - loss: 0.3104 - accuracy: 0.8456 - val_loss: 0.3978 - val_accuracy: 0.8689\n",
            "Epoch 110/150\n",
            "8/8 [==============================] - 0s 9ms/step - loss: 0.2886 - accuracy: 0.8932 - val_loss: 0.3977 - val_accuracy: 0.8689\n",
            "Epoch 111/150\n",
            "8/8 [==============================] - 0s 10ms/step - loss: 0.3384 - accuracy: 0.8553 - val_loss: 0.3965 - val_accuracy: 0.8689\n",
            "Epoch 112/150\n",
            "8/8 [==============================] - 0s 11ms/step - loss: 0.3475 - accuracy: 0.8397 - val_loss: 0.3973 - val_accuracy: 0.8689\n",
            "Epoch 113/150\n",
            "8/8 [==============================] - 0s 10ms/step - loss: 0.3411 - accuracy: 0.8260 - val_loss: 0.3969 - val_accuracy: 0.8689\n",
            "Epoch 114/150\n",
            "8/8 [==============================] - 0s 11ms/step - loss: 0.2997 - accuracy: 0.8765 - val_loss: 0.3974 - val_accuracy: 0.8525\n",
            "Epoch 115/150\n",
            "8/8 [==============================] - 0s 10ms/step - loss: 0.3213 - accuracy: 0.8397 - val_loss: 0.3974 - val_accuracy: 0.8525\n",
            "Epoch 116/150\n",
            "8/8 [==============================] - 0s 10ms/step - loss: 0.3176 - accuracy: 0.8448 - val_loss: 0.3984 - val_accuracy: 0.8689\n",
            "Epoch 117/150\n",
            "8/8 [==============================] - 0s 11ms/step - loss: 0.3061 - accuracy: 0.8718 - val_loss: 0.3989 - val_accuracy: 0.8525\n",
            "Epoch 118/150\n",
            "8/8 [==============================] - 0s 11ms/step - loss: 0.3179 - accuracy: 0.8482 - val_loss: 0.4001 - val_accuracy: 0.8525\n",
            "Epoch 119/150\n",
            "8/8 [==============================] - 0s 10ms/step - loss: 0.2656 - accuracy: 0.8802 - val_loss: 0.4011 - val_accuracy: 0.8525\n",
            "Epoch 120/150\n",
            "8/8 [==============================] - 0s 11ms/step - loss: 0.2896 - accuracy: 0.8735 - val_loss: 0.4026 - val_accuracy: 0.8525\n",
            "Epoch 121/150\n",
            "8/8 [==============================] - 0s 11ms/step - loss: 0.2755 - accuracy: 0.8753 - val_loss: 0.4041 - val_accuracy: 0.8525\n",
            "Epoch 122/150\n",
            "8/8 [==============================] - 0s 10ms/step - loss: 0.3494 - accuracy: 0.8451 - val_loss: 0.4057 - val_accuracy: 0.8525\n",
            "Epoch 123/150\n",
            "8/8 [==============================] - 0s 12ms/step - loss: 0.2730 - accuracy: 0.8813 - val_loss: 0.4061 - val_accuracy: 0.8525\n",
            "Epoch 124/150\n",
            "8/8 [==============================] - 0s 10ms/step - loss: 0.3237 - accuracy: 0.8514 - val_loss: 0.4064 - val_accuracy: 0.8525\n",
            "Epoch 125/150\n",
            "8/8 [==============================] - 0s 11ms/step - loss: 0.3327 - accuracy: 0.8487 - val_loss: 0.4075 - val_accuracy: 0.8525\n",
            "Epoch 126/150\n",
            "8/8 [==============================] - 0s 9ms/step - loss: 0.3312 - accuracy: 0.8528 - val_loss: 0.4095 - val_accuracy: 0.8525\n",
            "Epoch 127/150\n",
            "8/8 [==============================] - 0s 9ms/step - loss: 0.3428 - accuracy: 0.8233 - val_loss: 0.4097 - val_accuracy: 0.8525\n",
            "Epoch 128/150\n",
            "8/8 [==============================] - 0s 10ms/step - loss: 0.3159 - accuracy: 0.8565 - val_loss: 0.4089 - val_accuracy: 0.8525\n",
            "Epoch 129/150\n",
            "8/8 [==============================] - 0s 10ms/step - loss: 0.2750 - accuracy: 0.8753 - val_loss: 0.4097 - val_accuracy: 0.8525\n",
            "Epoch 130/150\n",
            "8/8 [==============================] - 0s 10ms/step - loss: 0.3009 - accuracy: 0.8550 - val_loss: 0.4132 - val_accuracy: 0.8525\n",
            "Epoch 131/150\n",
            "8/8 [==============================] - 0s 10ms/step - loss: 0.2749 - accuracy: 0.8856 - val_loss: 0.4151 - val_accuracy: 0.8525\n",
            "Epoch 132/150\n",
            "8/8 [==============================] - 0s 10ms/step - loss: 0.3217 - accuracy: 0.8473 - val_loss: 0.4154 - val_accuracy: 0.8525\n",
            "Epoch 133/150\n",
            "8/8 [==============================] - 0s 11ms/step - loss: 0.2762 - accuracy: 0.8867 - val_loss: 0.4156 - val_accuracy: 0.8525\n",
            "Epoch 134/150\n",
            "8/8 [==============================] - 0s 10ms/step - loss: 0.3042 - accuracy: 0.8574 - val_loss: 0.4149 - val_accuracy: 0.8525\n",
            "Epoch 135/150\n",
            "8/8 [==============================] - 0s 9ms/step - loss: 0.2750 - accuracy: 0.8596 - val_loss: 0.4138 - val_accuracy: 0.8525\n",
            "Epoch 136/150\n",
            "8/8 [==============================] - 0s 10ms/step - loss: 0.2704 - accuracy: 0.9031 - val_loss: 0.4137 - val_accuracy: 0.8525\n",
            "Epoch 137/150\n",
            "8/8 [==============================] - 0s 10ms/step - loss: 0.3400 - accuracy: 0.8457 - val_loss: 0.4137 - val_accuracy: 0.8525\n",
            "Epoch 138/150\n",
            "8/8 [==============================] - 0s 9ms/step - loss: 0.2624 - accuracy: 0.8791 - val_loss: 0.4147 - val_accuracy: 0.8525\n",
            "Epoch 139/150\n",
            "8/8 [==============================] - 0s 10ms/step - loss: 0.2812 - accuracy: 0.8566 - val_loss: 0.4168 - val_accuracy: 0.8525\n",
            "Epoch 140/150\n",
            "8/8 [==============================] - 0s 11ms/step - loss: 0.2885 - accuracy: 0.8508 - val_loss: 0.4165 - val_accuracy: 0.8525\n",
            "Epoch 141/150\n",
            "8/8 [==============================] - 0s 11ms/step - loss: 0.2530 - accuracy: 0.8791 - val_loss: 0.4173 - val_accuracy: 0.8525\n",
            "Epoch 142/150\n",
            "8/8 [==============================] - 0s 10ms/step - loss: 0.3079 - accuracy: 0.8284 - val_loss: 0.4188 - val_accuracy: 0.8525\n",
            "Epoch 143/150\n",
            "8/8 [==============================] - 0s 12ms/step - loss: 0.2768 - accuracy: 0.8594 - val_loss: 0.4199 - val_accuracy: 0.8525\n",
            "Epoch 144/150\n",
            "8/8 [==============================] - 0s 10ms/step - loss: 0.2975 - accuracy: 0.8492 - val_loss: 0.4214 - val_accuracy: 0.8525\n",
            "Epoch 145/150\n",
            "8/8 [==============================] - 0s 10ms/step - loss: 0.2620 - accuracy: 0.8888 - val_loss: 0.4216 - val_accuracy: 0.8525\n",
            "Epoch 146/150\n",
            "8/8 [==============================] - 0s 10ms/step - loss: 0.2798 - accuracy: 0.8909 - val_loss: 0.4206 - val_accuracy: 0.8525\n",
            "Epoch 147/150\n",
            "8/8 [==============================] - 0s 10ms/step - loss: 0.2851 - accuracy: 0.8750 - val_loss: 0.4179 - val_accuracy: 0.8525\n",
            "Epoch 148/150\n",
            "8/8 [==============================] - 0s 11ms/step - loss: 0.2877 - accuracy: 0.8558 - val_loss: 0.4177 - val_accuracy: 0.8525\n",
            "Epoch 149/150\n",
            "8/8 [==============================] - 0s 9ms/step - loss: 0.2829 - accuracy: 0.8838 - val_loss: 0.4207 - val_accuracy: 0.8525\n",
            "Epoch 150/150\n",
            "8/8 [==============================] - 0s 9ms/step - loss: 0.3063 - accuracy: 0.8649 - val_loss: 0.4210 - val_accuracy: 0.8525\n"
          ],
          "name": "stdout"
        },
        {
          "output_type": "display_data",
          "data": {
            "image/png": "[encoded data removed]",
            "text/plain": [
              "<Figure size 432x288 with 1 Axes>"
            ]
          },
          "metadata": {
            "tags": [],
            "needs_background": "light"
          }
        },
        {
          "output_type": "display_data",
          "data": {
            "image/png": "[encoded data removed]",
            "text/plain": [
              "<Figure size 432x288 with 1 Axes>"
            ]
          },
          "metadata": {
            "tags": [],
            "needs_background": "light"
          }
        },
        {
          "output_type": "stream",
          "text": [
            "accuracy: 85.246%\n",
            "Epoch 1/150\n",
            "8/8 [==============================] - 1s 43ms/step - loss: 0.7136 - accuracy: 0.5576 - val_loss: 0.6864 - val_accuracy: 0.5246\n",
            "Epoch 2/150\n",
            "8/8 [==============================] - 0s 10ms/step - loss: 0.7218 - accuracy: 0.4884 - val_loss: 0.6691 - val_accuracy: 0.5082\n",
            "Epoch 3/150\n",
            "8/8 [==============================] - 0s 12ms/step - loss: 0.6831 - accuracy: 0.5696 - val_loss: 0.6532 - val_accuracy: 0.5246\n",
            "Epoch 4/150\n",
            "8/8 [==============================] - 0s 10ms/step - loss: 0.6499 - accuracy: 0.6069 - val_loss: 0.6397 - val_accuracy: 0.5738\n",
            "Epoch 5/150\n",
            "8/8 [==============================] - 0s 9ms/step - loss: 0.6210 - accuracy: 0.6062 - val_loss: 0.6269 - val_accuracy: 0.5902\n",
            "Epoch 6/150\n",
            "8/8 [==============================] - 0s 10ms/step - loss: 0.6120 - accuracy: 0.6728 - val_loss: 0.6153 - val_accuracy: 0.6885\n",
            "Epoch 7/150\n",
            "8/8 [==============================] - 0s 9ms/step - loss: 0.6106 - accuracy: 0.6496 - val_loss: 0.6060 - val_accuracy: 0.7049\n",
            "Epoch 8/150\n",
            "8/8 [==============================] - 0s 10ms/step - loss: 0.6222 - accuracy: 0.6582 - val_loss: 0.5967 - val_accuracy: 0.7213\n",
            "Epoch 9/150\n",
            "8/8 [==============================] - 0s 9ms/step - loss: 0.6209 - accuracy: 0.6419 - val_loss: 0.5871 - val_accuracy: 0.7541\n",
            "Epoch 10/150\n",
            "8/8 [==============================] - 0s 10ms/step - loss: 0.6135 - accuracy: 0.6849 - val_loss: 0.5785 - val_accuracy: 0.7377\n",
            "Epoch 11/150\n",
            "8/8 [==============================] - 0s 10ms/step - loss: 0.5764 - accuracy: 0.7459 - val_loss: 0.5709 - val_accuracy: 0.7705\n",
            "Epoch 12/150\n",
            "8/8 [==============================] - 0s 11ms/step - loss: 0.5705 - accuracy: 0.7663 - val_loss: 0.5620 - val_accuracy: 0.7705\n",
            "Epoch 13/150\n",
            "8/8 [==============================] - 0s 10ms/step - loss: 0.5706 - accuracy: 0.7283 - val_loss: 0.5541 - val_accuracy: 0.7869\n",
            "Epoch 14/150\n",
            "8/8 [==============================] - 0s 9ms/step - loss: 0.5625 - accuracy: 0.7440 - val_loss: 0.5462 - val_accuracy: 0.7869\n",
            "Epoch 15/150\n",
            "8/8 [==============================] - 0s 11ms/step - loss: 0.5515 - accuracy: 0.7281 - val_loss: 0.5373 - val_accuracy: 0.7541\n",
            "Epoch 16/150\n",
            "8/8 [==============================] - 0s 11ms/step - loss: 0.5579 - accuracy: 0.7349 - val_loss: 0.5289 - val_accuracy: 0.7541\n",
            "Epoch 17/150\n",
            "8/8 [==============================] - 0s 10ms/step - loss: 0.5155 - accuracy: 0.7730 - val_loss: 0.5201 - val_accuracy: 0.7541\n",
            "Epoch 18/150\n",
            "8/8 [==============================] - 0s 10ms/step - loss: 0.4851 - accuracy: 0.8542 - val_loss: 0.5126 - val_accuracy: 0.7541\n",
            "Epoch 19/150\n",
            "8/8 [==============================] - 0s 9ms/step - loss: 0.5095 - accuracy: 0.7846 - val_loss: 0.5052 - val_accuracy: 0.7541\n",
            "Epoch 20/150\n",
            "8/8 [==============================] - 0s 10ms/step - loss: 0.5145 - accuracy: 0.7609 - val_loss: 0.4967 - val_accuracy: 0.7541\n",
            "Epoch 21/150\n",
            "8/8 [==============================] - 0s 11ms/step - loss: 0.5323 - accuracy: 0.7904 - val_loss: 0.4880 - val_accuracy: 0.7541\n",
            "Epoch 22/150\n",
            "8/8 [==============================] - 0s 10ms/step - loss: 0.5362 - accuracy: 0.7681 - val_loss: 0.4812 - val_accuracy: 0.7377\n",
            "Epoch 23/150\n",
            "8/8 [==============================] - 0s 10ms/step - loss: 0.5107 - accuracy: 0.8166 - val_loss: 0.4748 - val_accuracy: 0.7541\n",
            "Epoch 24/150\n",
            "8/8 [==============================] - 0s 10ms/step - loss: 0.5118 - accuracy: 0.7717 - val_loss: 0.4690 - val_accuracy: 0.7541\n",
            "Epoch 25/150\n",
            "8/8 [==============================] - 0s 10ms/step - loss: 0.5056 - accuracy: 0.7575 - val_loss: 0.4640 - val_accuracy: 0.7541\n",
            "Epoch 26/150\n",
            "8/8 [==============================] - 0s 10ms/step - loss: 0.4713 - accuracy: 0.8051 - val_loss: 0.4586 - val_accuracy: 0.7541\n",
            "Epoch 27/150\n",
            "8/8 [==============================] - 0s 10ms/step - loss: 0.5199 - accuracy: 0.7611 - val_loss: 0.4546 - val_accuracy: 0.7541\n",
            "Epoch 28/150\n",
            "8/8 [==============================] - 0s 11ms/step - loss: 0.4794 - accuracy: 0.7953 - val_loss: 0.4509 - val_accuracy: 0.7541\n",
            "Epoch 29/150\n",
            "8/8 [==============================] - 0s 12ms/step - loss: 0.4893 - accuracy: 0.7793 - val_loss: 0.4458 - val_accuracy: 0.7541\n",
            "Epoch 30/150\n",
            "8/8 [==============================] - 0s 10ms/step - loss: 0.4720 - accuracy: 0.8134 - val_loss: 0.4419 - val_accuracy: 0.7541\n",
            "Epoch 31/150\n",
            "8/8 [==============================] - 0s 10ms/step - loss: 0.4683 - accuracy: 0.7921 - val_loss: 0.4379 - val_accuracy: 0.7541\n",
            "Epoch 32/150\n",
            "8/8 [==============================] - 0s 10ms/step - loss: 0.4649 - accuracy: 0.7994 - val_loss: 0.4344 - val_accuracy: 0.7541\n",
            "Epoch 33/150\n",
            "8/8 [==============================] - 0s 11ms/step - loss: 0.4770 - accuracy: 0.8106 - val_loss: 0.4313 - val_accuracy: 0.7705\n",
            "Epoch 34/150\n",
            "8/8 [==============================] - 0s 11ms/step - loss: 0.4374 - accuracy: 0.8229 - val_loss: 0.4281 - val_accuracy: 0.7705\n",
            "Epoch 35/150\n",
            "8/8 [==============================] - 0s 10ms/step - loss: 0.4358 - accuracy: 0.8307 - val_loss: 0.4246 - val_accuracy: 0.7869\n",
            "Epoch 36/150\n",
            "8/8 [==============================] - 0s 12ms/step - loss: 0.4493 - accuracy: 0.8021 - val_loss: 0.4225 - val_accuracy: 0.7869\n",
            "Epoch 37/150\n",
            "8/8 [==============================] - 0s 10ms/step - loss: 0.4043 - accuracy: 0.8179 - val_loss: 0.4193 - val_accuracy: 0.7869\n",
            "Epoch 38/150\n",
            "8/8 [==============================] - 0s 10ms/step - loss: 0.4537 - accuracy: 0.8329 - val_loss: 0.4163 - val_accuracy: 0.7869\n",
            "Epoch 39/150\n",
            "8/8 [==============================] - 0s 10ms/step - loss: 0.4569 - accuracy: 0.8558 - val_loss: 0.4141 - val_accuracy: 0.8197\n",
            "Epoch 40/150\n",
            "8/8 [==============================] - 0s 10ms/step - loss: 0.4389 - accuracy: 0.8323 - val_loss: 0.4126 - val_accuracy: 0.8197\n",
            "Epoch 41/150\n",
            "8/8 [==============================] - 0s 12ms/step - loss: 0.4505 - accuracy: 0.8153 - val_loss: 0.4123 - val_accuracy: 0.8361\n",
            "Epoch 42/150\n",
            "8/8 [==============================] - 0s 10ms/step - loss: 0.3884 - accuracy: 0.8535 - val_loss: 0.4114 - val_accuracy: 0.8361\n",
            "Epoch 43/150\n",
            "8/8 [==============================] - 0s 10ms/step - loss: 0.4235 - accuracy: 0.8600 - val_loss: 0.4100 - val_accuracy: 0.8361\n",
            "Epoch 44/150\n",
            "8/8 [==============================] - 0s 11ms/step - loss: 0.4339 - accuracy: 0.8128 - val_loss: 0.4090 - val_accuracy: 0.8361\n",
            "Epoch 45/150\n",
            "8/8 [==============================] - 0s 10ms/step - loss: 0.4429 - accuracy: 0.8589 - val_loss: 0.4072 - val_accuracy: 0.8361\n",
            "Epoch 46/150\n",
            "8/8 [==============================] - 0s 10ms/step - loss: 0.3900 - accuracy: 0.8317 - val_loss: 0.4051 - val_accuracy: 0.8361\n",
            "Epoch 47/150\n",
            "8/8 [==============================] - 0s 11ms/step - loss: 0.4723 - accuracy: 0.8187 - val_loss: 0.4035 - val_accuracy: 0.8361\n",
            "Epoch 48/150\n",
            "8/8 [==============================] - 0s 10ms/step - loss: 0.3873 - accuracy: 0.8514 - val_loss: 0.4031 - val_accuracy: 0.8361\n",
            "Epoch 49/150\n",
            "8/8 [==============================] - 0s 10ms/step - loss: 0.4355 - accuracy: 0.8145 - val_loss: 0.4029 - val_accuracy: 0.8361\n",
            "Epoch 50/150\n",
            "8/8 [==============================] - 0s 11ms/step - loss: 0.4200 - accuracy: 0.8331 - val_loss: 0.4023 - val_accuracy: 0.8361\n",
            "Epoch 51/150\n",
            "8/8 [==============================] - 0s 10ms/step - loss: 0.4517 - accuracy: 0.8306 - val_loss: 0.4022 - val_accuracy: 0.8361\n",
            "Epoch 52/150\n",
            "8/8 [==============================] - 0s 11ms/step - loss: 0.4001 - accuracy: 0.8627 - val_loss: 0.4021 - val_accuracy: 0.8361\n",
            "Epoch 53/150\n",
            "8/8 [==============================] - 0s 11ms/step - loss: 0.4342 - accuracy: 0.8230 - val_loss: 0.4012 - val_accuracy: 0.8361\n",
            "Epoch 54/150\n",
            "8/8 [==============================] - 0s 11ms/step - loss: 0.4226 - accuracy: 0.8122 - val_loss: 0.4012 - val_accuracy: 0.8361\n",
            "Epoch 55/150\n",
            "8/8 [==============================] - 0s 10ms/step - loss: 0.3904 - accuracy: 0.8609 - val_loss: 0.4004 - val_accuracy: 0.8361\n",
            "Epoch 56/150\n",
            "8/8 [==============================] - 0s 11ms/step - loss: 0.3923 - accuracy: 0.8731 - val_loss: 0.3996 - val_accuracy: 0.8361\n",
            "Epoch 57/150\n",
            "8/8 [==============================] - 0s 9ms/step - loss: 0.4477 - accuracy: 0.8076 - val_loss: 0.3985 - val_accuracy: 0.8361\n",
            "Epoch 58/150\n",
            "8/8 [==============================] - 0s 10ms/step - loss: 0.4167 - accuracy: 0.8058 - val_loss: 0.3973 - val_accuracy: 0.8361\n",
            "Epoch 59/150\n",
            "8/8 [==============================] - 0s 10ms/step - loss: 0.3507 - accuracy: 0.8746 - val_loss: 0.3959 - val_accuracy: 0.8361\n",
            "Epoch 60/150\n",
            "8/8 [==============================] - 0s 10ms/step - loss: 0.3827 - accuracy: 0.8401 - val_loss: 0.3937 - val_accuracy: 0.8361\n",
            "Epoch 61/150\n",
            "8/8 [==============================] - 0s 10ms/step - loss: 0.3387 - accuracy: 0.8657 - val_loss: 0.3927 - val_accuracy: 0.8361\n",
            "Epoch 62/150\n",
            "8/8 [==============================] - 0s 10ms/step - loss: 0.3775 - accuracy: 0.8474 - val_loss: 0.3928 - val_accuracy: 0.8361\n",
            "Epoch 63/150\n",
            "8/8 [==============================] - 0s 10ms/step - loss: 0.3677 - accuracy: 0.8556 - val_loss: 0.3926 - val_accuracy: 0.8361\n",
            "Epoch 64/150\n",
            "8/8 [==============================] - 0s 10ms/step - loss: 0.3848 - accuracy: 0.8641 - val_loss: 0.3926 - val_accuracy: 0.8361\n",
            "Epoch 65/150\n",
            "8/8 [==============================] - 0s 10ms/step - loss: 0.4139 - accuracy: 0.8073 - val_loss: 0.3928 - val_accuracy: 0.8361\n",
            "Epoch 66/150\n",
            "8/8 [==============================] - 0s 10ms/step - loss: 0.3468 - accuracy: 0.8511 - val_loss: 0.3921 - val_accuracy: 0.8361\n",
            "Epoch 67/150\n",
            "8/8 [==============================] - 0s 11ms/step - loss: 0.3682 - accuracy: 0.8562 - val_loss: 0.3908 - val_accuracy: 0.8525\n",
            "Epoch 68/150\n",
            "8/8 [==============================] - 0s 10ms/step - loss: 0.3150 - accuracy: 0.8749 - val_loss: 0.3912 - val_accuracy: 0.8361\n",
            "Epoch 69/150\n",
            "8/8 [==============================] - 0s 11ms/step - loss: 0.3828 - accuracy: 0.8309 - val_loss: 0.3914 - val_accuracy: 0.8361\n",
            "Epoch 70/150\n",
            "8/8 [==============================] - 0s 10ms/step - loss: 0.3994 - accuracy: 0.8722 - val_loss: 0.3902 - val_accuracy: 0.8361\n",
            "Epoch 71/150\n",
            "8/8 [==============================] - 0s 10ms/step - loss: 0.3572 - accuracy: 0.8571 - val_loss: 0.3901 - val_accuracy: 0.8361\n",
            "Epoch 72/150\n",
            "8/8 [==============================] - 0s 9ms/step - loss: 0.4006 - accuracy: 0.8334 - val_loss: 0.3898 - val_accuracy: 0.8361\n",
            "Epoch 73/150\n",
            "8/8 [==============================] - 0s 11ms/step - loss: 0.3870 - accuracy: 0.8600 - val_loss: 0.3884 - val_accuracy: 0.8361\n",
            "Epoch 74/150\n",
            "8/8 [==============================] - 0s 10ms/step - loss: 0.3369 - accuracy: 0.8707 - val_loss: 0.3881 - val_accuracy: 0.8361\n",
            "Epoch 75/150\n",
            "8/8 [==============================] - 0s 10ms/step - loss: 0.3639 - accuracy: 0.8424 - val_loss: 0.3880 - val_accuracy: 0.8361\n",
            "Epoch 76/150\n",
            "8/8 [==============================] - 0s 10ms/step - loss: 0.3354 - accuracy: 0.9001 - val_loss: 0.3862 - val_accuracy: 0.8361\n",
            "Epoch 77/150\n",
            "8/8 [==============================] - 0s 11ms/step - loss: 0.3942 - accuracy: 0.8625 - val_loss: 0.3861 - val_accuracy: 0.8361\n",
            "Epoch 78/150\n",
            "8/8 [==============================] - 0s 11ms/step - loss: 0.3594 - accuracy: 0.8774 - val_loss: 0.3860 - val_accuracy: 0.8361\n",
            "Epoch 79/150\n",
            "8/8 [==============================] - 0s 12ms/step - loss: 0.3822 - accuracy: 0.8470 - val_loss: 0.3849 - val_accuracy: 0.8361\n",
            "Epoch 80/150\n",
            "8/8 [==============================] - 0s 12ms/step - loss: 0.3278 - accuracy: 0.8669 - val_loss: 0.3838 - val_accuracy: 0.8361\n",
            "Epoch 81/150\n",
            "8/8 [==============================] - 0s 10ms/step - loss: 0.3815 - accuracy: 0.8658 - val_loss: 0.3848 - val_accuracy: 0.8361\n",
            "Epoch 82/150\n",
            "8/8 [==============================] - 0s 10ms/step - loss: 0.2905 - accuracy: 0.8983 - val_loss: 0.3845 - val_accuracy: 0.8361\n",
            "Epoch 83/150\n",
            "8/8 [==============================] - 0s 10ms/step - loss: 0.3512 - accuracy: 0.8998 - val_loss: 0.3847 - val_accuracy: 0.8361\n",
            "Epoch 84/150\n",
            "8/8 [==============================] - 0s 10ms/step - loss: 0.3509 - accuracy: 0.8801 - val_loss: 0.3845 - val_accuracy: 0.8361\n",
            "Epoch 85/150\n",
            "8/8 [==============================] - 0s 10ms/step - loss: 0.3185 - accuracy: 0.8795 - val_loss: 0.3843 - val_accuracy: 0.8361\n",
            "Epoch 86/150\n",
            "8/8 [==============================] - 0s 11ms/step - loss: 0.3147 - accuracy: 0.8874 - val_loss: 0.3837 - val_accuracy: 0.8361\n",
            "Epoch 87/150\n",
            "8/8 [==============================] - 0s 10ms/step - loss: 0.3574 - accuracy: 0.8693 - val_loss: 0.3827 - val_accuracy: 0.8525\n",
            "Epoch 88/150\n",
            "8/8 [==============================] - 0s 10ms/step - loss: 0.3504 - accuracy: 0.8819 - val_loss: 0.3819 - val_accuracy: 0.8525\n",
            "Epoch 89/150\n",
            "8/8 [==============================] - 0s 11ms/step - loss: 0.3581 - accuracy: 0.8564 - val_loss: 0.3822 - val_accuracy: 0.8525\n",
            "Epoch 90/150\n",
            "8/8 [==============================] - 0s 10ms/step - loss: 0.3594 - accuracy: 0.8628 - val_loss: 0.3829 - val_accuracy: 0.8525\n",
            "Epoch 91/150\n",
            "8/8 [==============================] - 0s 24ms/step - loss: 0.3354 - accuracy: 0.8740 - val_loss: 0.3825 - val_accuracy: 0.8361\n",
            "Epoch 92/150\n",
            "8/8 [==============================] - 0s 10ms/step - loss: 0.3517 - accuracy: 0.8743 - val_loss: 0.3834 - val_accuracy: 0.8361\n",
            "Epoch 93/150\n",
            "8/8 [==============================] - 0s 10ms/step - loss: 0.3252 - accuracy: 0.8955 - val_loss: 0.3841 - val_accuracy: 0.8361\n",
            "Epoch 94/150\n",
            "8/8 [==============================] - 0s 11ms/step - loss: 0.4227 - accuracy: 0.8743 - val_loss: 0.3834 - val_accuracy: 0.8525\n",
            "Epoch 95/150\n",
            "8/8 [==============================] - 0s 11ms/step - loss: 0.3521 - accuracy: 0.8555 - val_loss: 0.3846 - val_accuracy: 0.8525\n",
            "Epoch 96/150\n",
            "8/8 [==============================] - 0s 10ms/step - loss: 0.3064 - accuracy: 0.8930 - val_loss: 0.3854 - val_accuracy: 0.8361\n",
            "Epoch 97/150\n",
            "8/8 [==============================] - 0s 9ms/step - loss: 0.3263 - accuracy: 0.8739 - val_loss: 0.3839 - val_accuracy: 0.8525\n",
            "Epoch 98/150\n",
            "8/8 [==============================] - 0s 10ms/step - loss: 0.3069 - accuracy: 0.8995 - val_loss: 0.3829 - val_accuracy: 0.8689\n",
            "Epoch 99/150\n",
            "8/8 [==============================] - 0s 11ms/step - loss: 0.3612 - accuracy: 0.8653 - val_loss: 0.3797 - val_accuracy: 0.8689\n",
            "Epoch 100/150\n",
            "8/8 [==============================] - 0s 10ms/step - loss: 0.3031 - accuracy: 0.8750 - val_loss: 0.3780 - val_accuracy: 0.8852\n",
            "Epoch 101/150\n",
            "8/8 [==============================] - 0s 10ms/step - loss: 0.3320 - accuracy: 0.8754 - val_loss: 0.3757 - val_accuracy: 0.8689\n",
            "Epoch 102/150\n",
            "8/8 [==============================] - 0s 10ms/step - loss: 0.3030 - accuracy: 0.8800 - val_loss: 0.3749 - val_accuracy: 0.8689\n",
            "Epoch 103/150\n",
            "8/8 [==============================] - 0s 10ms/step - loss: 0.3431 - accuracy: 0.8897 - val_loss: 0.3730 - val_accuracy: 0.8689\n",
            "Epoch 104/150\n",
            "8/8 [==============================] - 0s 11ms/step - loss: 0.3084 - accuracy: 0.9081 - val_loss: 0.3732 - val_accuracy: 0.8689\n",
            "Epoch 105/150\n",
            "8/8 [==============================] - 0s 11ms/step - loss: 0.3284 - accuracy: 0.8799 - val_loss: 0.3738 - val_accuracy: 0.8689\n",
            "Epoch 106/150\n",
            "8/8 [==============================] - 0s 10ms/step - loss: 0.3321 - accuracy: 0.8656 - val_loss: 0.3741 - val_accuracy: 0.8689\n",
            "Epoch 107/150\n",
            "8/8 [==============================] - 0s 9ms/step - loss: 0.3704 - accuracy: 0.8687 - val_loss: 0.3736 - val_accuracy: 0.8525\n",
            "Epoch 108/150\n",
            "8/8 [==============================] - 0s 10ms/step - loss: 0.3532 - accuracy: 0.8385 - val_loss: 0.3744 - val_accuracy: 0.8689\n",
            "Epoch 109/150\n",
            "8/8 [==============================] - 0s 10ms/step - loss: 0.3306 - accuracy: 0.8923 - val_loss: 0.3715 - val_accuracy: 0.8689\n",
            "Epoch 110/150\n",
            "8/8 [==============================] - 0s 10ms/step - loss: 0.3415 - accuracy: 0.8820 - val_loss: 0.3716 - val_accuracy: 0.8689\n",
            "Epoch 111/150\n",
            "8/8 [==============================] - 0s 10ms/step - loss: 0.3078 - accuracy: 0.8922 - val_loss: 0.3713 - val_accuracy: 0.8689\n",
            "Epoch 112/150\n",
            "8/8 [==============================] - 0s 11ms/step - loss: 0.3125 - accuracy: 0.8867 - val_loss: 0.3703 - val_accuracy: 0.8689\n",
            "Epoch 113/150\n",
            "8/8 [==============================] - 0s 12ms/step - loss: 0.3093 - accuracy: 0.8730 - val_loss: 0.3712 - val_accuracy: 0.8689\n",
            "Epoch 114/150\n",
            "8/8 [==============================] - 0s 12ms/step - loss: 0.3456 - accuracy: 0.8844 - val_loss: 0.3713 - val_accuracy: 0.8689\n",
            "Epoch 115/150\n",
            "8/8 [==============================] - 0s 10ms/step - loss: 0.2805 - accuracy: 0.8863 - val_loss: 0.3700 - val_accuracy: 0.8689\n",
            "Epoch 116/150\n",
            "8/8 [==============================] - 0s 12ms/step - loss: 0.3333 - accuracy: 0.9118 - val_loss: 0.3695 - val_accuracy: 0.8689\n",
            "Epoch 117/150\n",
            "8/8 [==============================] - 0s 11ms/step - loss: 0.3483 - accuracy: 0.8430 - val_loss: 0.3704 - val_accuracy: 0.8689\n",
            "Epoch 118/150\n",
            "8/8 [==============================] - 0s 11ms/step - loss: 0.2935 - accuracy: 0.8732 - val_loss: 0.3703 - val_accuracy: 0.8689\n",
            "Epoch 119/150\n",
            "8/8 [==============================] - 0s 10ms/step - loss: 0.3210 - accuracy: 0.8649 - val_loss: 0.3714 - val_accuracy: 0.8689\n",
            "Epoch 120/150\n",
            "8/8 [==============================] - 0s 10ms/step - loss: 0.3152 - accuracy: 0.8849 - val_loss: 0.3717 - val_accuracy: 0.8689\n",
            "Epoch 121/150\n",
            "8/8 [==============================] - 0s 11ms/step - loss: 0.2937 - accuracy: 0.8954 - val_loss: 0.3720 - val_accuracy: 0.8689\n",
            "Epoch 122/150\n",
            "8/8 [==============================] - 0s 10ms/step - loss: 0.3599 - accuracy: 0.8579 - val_loss: 0.3712 - val_accuracy: 0.8689\n",
            "Epoch 123/150\n",
            "8/8 [==============================] - 0s 10ms/step - loss: 0.3228 - accuracy: 0.8651 - val_loss: 0.3699 - val_accuracy: 0.8689\n",
            "Epoch 124/150\n",
            "8/8 [==============================] - 0s 10ms/step - loss: 0.2678 - accuracy: 0.9058 - val_loss: 0.3690 - val_accuracy: 0.8689\n",
            "Epoch 125/150\n",
            "8/8 [==============================] - 0s 11ms/step - loss: 0.3056 - accuracy: 0.8968 - val_loss: 0.3676 - val_accuracy: 0.8689\n",
            "Epoch 126/150\n",
            "8/8 [==============================] - 0s 10ms/step - loss: 0.2996 - accuracy: 0.8744 - val_loss: 0.3677 - val_accuracy: 0.8689\n",
            "Epoch 127/150\n",
            "8/8 [==============================] - 0s 11ms/step - loss: 0.3176 - accuracy: 0.8527 - val_loss: 0.3682 - val_accuracy: 0.8689\n",
            "Epoch 128/150\n",
            "8/8 [==============================] - 0s 11ms/step - loss: 0.2805 - accuracy: 0.9079 - val_loss: 0.3692 - val_accuracy: 0.8689\n",
            "Epoch 129/150\n",
            "8/8 [==============================] - 0s 10ms/step - loss: 0.3147 - accuracy: 0.8782 - val_loss: 0.3713 - val_accuracy: 0.8689\n",
            "Epoch 130/150\n",
            "8/8 [==============================] - 0s 10ms/step - loss: 0.2662 - accuracy: 0.8970 - val_loss: 0.3723 - val_accuracy: 0.8689\n",
            "Epoch 131/150\n",
            "8/8 [==============================] - 0s 10ms/step - loss: 0.3316 - accuracy: 0.8685 - val_loss: 0.3721 - val_accuracy: 0.8689\n",
            "Epoch 132/150\n",
            "8/8 [==============================] - 0s 10ms/step - loss: 0.2752 - accuracy: 0.9053 - val_loss: 0.3728 - val_accuracy: 0.8689\n",
            "Epoch 133/150\n",
            "8/8 [==============================] - 0s 11ms/step - loss: 0.3185 - accuracy: 0.8495 - val_loss: 0.3729 - val_accuracy: 0.8689\n",
            "Epoch 134/150\n",
            "8/8 [==============================] - 0s 10ms/step - loss: 0.2689 - accuracy: 0.8954 - val_loss: 0.3736 - val_accuracy: 0.8525\n",
            "Epoch 135/150\n",
            "8/8 [==============================] - 0s 11ms/step - loss: 0.3215 - accuracy: 0.9008 - val_loss: 0.3730 - val_accuracy: 0.8525\n",
            "Epoch 136/150\n",
            "8/8 [==============================] - 0s 11ms/step - loss: 0.3278 - accuracy: 0.8561 - val_loss: 0.3737 - val_accuracy: 0.8525\n",
            "Epoch 137/150\n",
            "8/8 [==============================] - 0s 10ms/step - loss: 0.3120 - accuracy: 0.8890 - val_loss: 0.3746 - val_accuracy: 0.8525\n",
            "Epoch 138/150\n",
            "8/8 [==============================] - 0s 11ms/step - loss: 0.3249 - accuracy: 0.8550 - val_loss: 0.3750 - val_accuracy: 0.8525\n",
            "Epoch 139/150\n",
            "8/8 [==============================] - 0s 10ms/step - loss: 0.3270 - accuracy: 0.8679 - val_loss: 0.3757 - val_accuracy: 0.8525\n",
            "Epoch 140/150\n",
            "8/8 [==============================] - 0s 11ms/step - loss: 0.2892 - accuracy: 0.8965 - val_loss: 0.3759 - val_accuracy: 0.8525\n",
            "Epoch 141/150\n",
            "8/8 [==============================] - 0s 11ms/step - loss: 0.3259 - accuracy: 0.8627 - val_loss: 0.3770 - val_accuracy: 0.8525\n",
            "Epoch 142/150\n",
            "8/8 [==============================] - 0s 10ms/step - loss: 0.2684 - accuracy: 0.8822 - val_loss: 0.3796 - val_accuracy: 0.8689\n",
            "Epoch 143/150\n",
            "8/8 [==============================] - 0s 11ms/step - loss: 0.3046 - accuracy: 0.9111 - val_loss: 0.3801 - val_accuracy: 0.8689\n",
            "Epoch 144/150\n",
            "8/8 [==============================] - 0s 11ms/step - loss: 0.3137 - accuracy: 0.8629 - val_loss: 0.3797 - val_accuracy: 0.8525\n",
            "Epoch 145/150\n",
            "8/8 [==============================] - 0s 10ms/step - loss: 0.3205 - accuracy: 0.8897 - val_loss: 0.3806 - val_accuracy: 0.8525\n",
            "Epoch 146/150\n",
            "8/8 [==============================] - 0s 10ms/step - loss: 0.2913 - accuracy: 0.8788 - val_loss: 0.3818 - val_accuracy: 0.8689\n",
            "Epoch 147/150\n",
            "8/8 [==============================] - 0s 11ms/step - loss: 0.3484 - accuracy: 0.8489 - val_loss: 0.3815 - val_accuracy: 0.8689\n",
            "Epoch 148/150\n",
            "8/8 [==============================] - 0s 11ms/step - loss: 0.2874 - accuracy: 0.8654 - val_loss: 0.3803 - val_accuracy: 0.8689\n",
            "Epoch 149/150\n",
            "8/8 [==============================] - 0s 11ms/step - loss: 0.2423 - accuracy: 0.9099 - val_loss: 0.3802 - val_accuracy: 0.8525\n",
            "Epoch 150/150\n",
            "8/8 [==============================] - 0s 11ms/step - loss: 0.2733 - accuracy: 0.9330 - val_loss: 0.3794 - val_accuracy: 0.8689\n"
          ],
          "name": "stdout"
        },
        {
          "output_type": "display_data",
          "data": {
            "image/png": "[encoded data removed]",
            "text/plain": [
              "<Figure size 432x288 with 1 Axes>"
            ]
          },
          "metadata": {
            "tags": [],
            "needs_background": "light"
          }
        },
        {
          "output_type": "display_data",
          "data": {
            "image/png": "[encoded data removed]",
            "text/plain": [
              "<Figure size 432x288 with 1 Axes>"
            ]
          },
          "metadata": {
            "tags": [],
            "needs_background": "light"
          }
        },
        {
          "output_type": "stream",
          "text": [
            "accuracy: 86.885%\n",
            "Mean Accuracy: 86.339%\n",
            "Standard Deviation: 0.773%\n",
            "Losses:\n",
            "[35.17318367958069, 42.09863245487213, 37.935858964920044]\n",
            "Scores:\n",
            "[86.8852436542511, 85.24590134620667, 86.8852436542511]\n"
          ],
          "name": "stdout"
        }
      ]
    },
    {
      "cell_type": "markdown",
      "metadata": {
        "id": "2H5joD_q1aGm"
      },
      "source": [
        "#### Sample Results:"
      ]
    },
    {
      "cell_type": "markdown",
      "metadata": {
        "id": "CdW2vVy2i4IR"
      },
      "source": [
        "##### Using one dropout layer (optimal results from Random Search):\n",
        "**Parameters:** {'batch_size': 32, 'epochs': 150, 'folds': 3, 'neurons': (14, 6), 'dropout_rate': 0.4}\n",
        "\n",
        "<table border = \"1\">\n",
        "  <thead>\n",
        "    <th colspan = \"5\">With one dropout layer</th>\n",
        "  </thead>\n",
        "  <tbody>\n",
        "    <tr>\n",
        "      <th>Trial</th>\n",
        "      <th>Mean (%)</th>\n",
        "      <th>Std. (+/- %)</th>\n",
        "      <th>Losses (%)</th>\n",
        "      <th>Scores (%)</th>\n",
        "    </tr>\n",
        "    <tr>\n",
        "      <td><b>1</b></td>\n",
        "      <td>85.792</td>\n",
        "      <td>1.546</td>\n",
        "      <td>[40.784, 36.420, 37.566]</td>\n",
        "      <td>[83.607, 86.885, 86.885]</td>\n",
        "    </tr>\n",
        "    <tr>\n",
        "      <td><b>2</b></td>\n",
        "      <td>86.339</td>\n",
        "      <td>2.045</td>\n",
        "      <td>[34.234, 38.973, 37.645]</td>\n",
        "      <td>[88.525, 86.885, 83.607]</td>\n",
        "    </tr>\n",
        "    <tr>\n",
        "      <td><b>3</b></td>\n",
        "      <td>84.153</td>\n",
        "      <td>2.045</td>\n",
        "      <td>[39.444, 36.632, 39.889]</td>\n",
        "      <td>[81.967, 86.885, 83.607]</td>\n",
        "    </tr>\n",
        "    <tr>\n",
        "      <td><b>4</b></td>\n",
        "      <td>88.525</td>\n",
        "      <td>1.339</td>\n",
        "      <td>[38.665, 30.301, 35.466]</td>\n",
        "      <td>[86.885, 90.164, 88.525]</td>\n",
        "    </tr>\n",
        "    <tr>\n",
        "      <td><b>5</b></td>\n",
        "      <td>86.339</td>\n",
        "      <td>2.045</td>\n",
        "      <td>[34.047, 35.591, 39.353]</td>\n",
        "      <td>[88.525, 83.607, 86.885]</td>\n",
        "    </tr>\n",
        "    <tr>\n",
        "      <th>Average:</th>\n",
        "      <td><b>86.230<b></td>\n",
        "      <td><b>1.804</b></td>\n",
        "    </tr>\n",
        "  </tbody>\n",
        "</table>"
      ]
    },
    {
      "cell_type": "markdown",
      "metadata": {
        "id": "NR-ko_NXmdCW"
      },
      "source": [
        "##### With two dropout layers (results in too much underfitting)\n",
        "**Parameters:** {'batch_size': 32, 'epochs': 150, 'folds': 3, 'neurons': (14, 8), 'dropout_rate': 0.45}\n",
        "\n",
        "<table border = \"1\">\n",
        "  <thead>\n",
        "    <th colspan = \"5\">With two dropout layers</th>\n",
        "  </thead>\n",
        "  <tbody>\n",
        "    <tr>\n",
        "      <th>Trial</th>\n",
        "      <th>Mean (%)</th>\n",
        "      <th>Std. (+/- %)</th>\n",
        "      <th>Losses (%)</th>\n",
        "      <th>Scores (%)</th>\n",
        "    </tr>\n",
        "    <tr>\n",
        "      <td><b>1</b></td>\n",
        "      <td>86.339</td>\n",
        "      <td>2.045</td>\n",
        "      <td>[36.204, 33.903, 37.372]</td>\n",
        "      <td>[86.885, 83.607, 88.525]</td>\n",
        "    </tr>\n",
        "    <tr>\n",
        "      <td><b>2</b></td>\n",
        "      <td>84.699</td>\n",
        "      <td>2.045</td>\n",
        "      <td>[37.547, 36.046, 32.915]</td>\n",
        "      <td>[81.967, 85.246, 86.885]</td>\n",
        "    </tr>\n",
        "    <tr>\n",
        "      <td><b>3</b></td>\n",
        "      <td>83.607</td>\n",
        "      <td>1.339</td>\n",
        "      <td>[40.159, 36.067, 40.181]</td>\n",
        "      <td>[83.607, 85.246, 81.967]</td>\n",
        "    </tr>\n",
        "    <tr>\n",
        "      <td><b>4</b></td>\n",
        "      <td>84.153</td>\n",
        "      <td>2.045</td>\n",
        "      <td>[36.800, 38.977, 37.290]</td>\n",
        "      <td>[83.607, 86.885, 81.967]</td>\n",
        "    </tr>\n",
        "    <tr>\n",
        "      <td><b>5</b></td>\n",
        "      <td>85.246</td>\n",
        "      <td>2.677</td>\n",
        "      <td>[35.594, 41.179, 37.873]</td>\n",
        "      <td>[85.246, 81.967, 88.525]</td>\n",
        "    </tr>\n",
        "    <tr>\n",
        "      <th>Average:</th>\n",
        "      <td><b>85.409</b></td>\n",
        "      <td><b>2.030</b></td>\n",
        "    </tr>\n",
        "  </tbody>\n",
        "</table>"
      ]
    },
    {
      "cell_type": "markdown",
      "metadata": {
        "id": "V-_jLvSYsomd"
      },
      "source": [
        "##### NOTE: These results vary between trials."
      ]
    },
    {
      "cell_type": "markdown",
      "metadata": {
        "id": "4pJmT1cVDP1A"
      },
      "source": [
        "## Evaluate model"
      ]
    },
    {
      "cell_type": "code",
      "metadata": {
        "colab": {
          "base_uri": "https://localhost:8080/"
        },
        "id": "X8C9Nd-sB-rl",
        "outputId": "94fae641-ae1b-4c66-f8ac-ea6ab95433f6"
      },
      "source": [
        "# Predict test set results\n",
        "y_pred = model.predict(X_test)\n",
        "np.set_printoptions(precision = 2)\n",
        "print(np.concatenate((y_pred.reshape(len(y_pred), 1), y_test.reshape(len(y_test), 1)), 1 ))"
      ],
      "execution_count": 17,
      "outputs": [
        {
          "output_type": "stream",
          "text": [
            "[[3.17e-03 0.00e+00]\n",
            " [5.99e-01 1.00e+00]\n",
            " [6.38e-01 0.00e+00]\n",
            " [1.09e-03 0.00e+00]\n",
            " [8.56e-02 1.00e+00]\n",
            " [1.28e-01 0.00e+00]\n",
            " [1.04e-01 0.00e+00]\n",
            " [1.48e-02 0.00e+00]\n",
            " [1.69e-06 0.00e+00]\n",
            " [4.83e-04 0.00e+00]\n",
            " [7.28e-01 1.00e+00]\n",
            " [9.88e-01 1.00e+00]\n",
            " [2.25e-03 0.00e+00]\n",
            " [8.80e-01 1.00e+00]\n",
            " [9.78e-01 1.00e+00]\n",
            " [7.67e-01 1.00e+00]\n",
            " [8.75e-03 1.00e+00]\n",
            " [8.53e-01 1.00e+00]\n",
            " [2.44e-03 0.00e+00]\n",
            " [5.83e-01 1.00e+00]\n",
            " [9.07e-01 1.00e+00]\n",
            " [2.63e-01 0.00e+00]\n",
            " [2.13e-01 0.00e+00]\n",
            " [3.81e-01 0.00e+00]\n",
            " [8.59e-01 1.00e+00]\n",
            " [7.09e-01 0.00e+00]\n",
            " [4.82e-02 0.00e+00]\n",
            " [1.44e-01 0.00e+00]\n",
            " [9.88e-01 1.00e+00]\n",
            " [7.43e-01 1.00e+00]\n",
            " [6.55e-01 0.00e+00]\n",
            " [7.81e-04 0.00e+00]\n",
            " [9.91e-01 1.00e+00]\n",
            " [7.99e-01 1.00e+00]\n",
            " [9.44e-01 1.00e+00]\n",
            " [5.05e-01 0.00e+00]\n",
            " [6.85e-03 0.00e+00]\n",
            " [8.38e-01 1.00e+00]\n",
            " [5.31e-02 0.00e+00]\n",
            " [1.40e-03 0.00e+00]\n",
            " [8.26e-01 1.00e+00]\n",
            " [9.37e-01 1.00e+00]\n",
            " [4.34e-01 1.00e+00]\n",
            " [1.72e-01 0.00e+00]\n",
            " [6.24e-01 1.00e+00]\n",
            " [5.91e-01 1.00e+00]\n",
            " [8.99e-01 1.00e+00]\n",
            " [4.97e-01 0.00e+00]\n",
            " [1.68e-04 0.00e+00]\n",
            " [8.20e-01 1.00e+00]\n",
            " [8.74e-01 1.00e+00]\n",
            " [6.28e-01 1.00e+00]\n",
            " [9.77e-01 1.00e+00]\n",
            " [8.17e-01 1.00e+00]\n",
            " [9.94e-01 1.00e+00]\n",
            " [5.84e-02 0.00e+00]\n",
            " [9.79e-01 1.00e+00]\n",
            " [9.43e-01 0.00e+00]\n",
            " [8.53e-01 1.00e+00]\n",
            " [9.88e-01 1.00e+00]\n",
            " [8.54e-01 1.00e+00]]\n"
          ],
          "name": "stdout"
        }
      ]
    },
    {
      "cell_type": "code",
      "metadata": {
        "id": "IjKnlzbiPhL_",
        "colab": {
          "base_uri": "https://localhost:8080/"
        },
        "outputId": "8fb1016b-6ff2-4b63-96c5-8b633bb36312"
      },
      "source": [
        "from sklearn.metrics import confusion_matrix, accuracy_score, classification_report\n",
        "\n",
        "y_pred = (y_pred > 0.5)\n",
        "print(np.concatenate((y_pred.reshape(len(y_pred), 1), y_test.reshape(len(y_test), 1)), 1 ))\n",
        "\n",
        "# Create the confusion matrix\n",
        "# TN = cm[0][0]  # True Negative\n",
        "# FP = cm[0][1]  # False Positive\n",
        "# FN = cm[1][0]  # False Negative\n",
        "# TP = cm[1][1]  # True Positive\n",
        "cm = confusion_matrix(y_test, y_pred)\n",
        "print(cm)\n",
        "print(accuracy_score(y_test, y_pred) * 100)\n",
        "print(\"Test Accuracy: %.3f%% \" % (accuracy_score(y_test, y_pred) * 100))\n",
        "\n",
        "# accuracy = (TP + TN)/(TN + FP + FN + TP)\n",
        "# precision = TP/(TP + FP)\n",
        "# recall = TP/(TP + FN)\n",
        "# f1_score = (2 * precision * recall)/(precision + recall)\n",
        "# support = Number of occurrences of each class in y_pred\n",
        "print(classification_report(y_test, y_pred))\n"
      ],
      "execution_count": 18,
      "outputs": [
        {
          "output_type": "stream",
          "text": [
            "[[0 0]\n",
            " [1 1]\n",
            " [1 0]\n",
            " [0 0]\n",
            " [0 1]\n",
            " [0 0]\n",
            " [0 0]\n",
            " [0 0]\n",
            " [0 0]\n",
            " [0 0]\n",
            " [1 1]\n",
            " [1 1]\n",
            " [0 0]\n",
            " [1 1]\n",
            " [1 1]\n",
            " [1 1]\n",
            " [0 1]\n",
            " [1 1]\n",
            " [0 0]\n",
            " [1 1]\n",
            " [1 1]\n",
            " [0 0]\n",
            " [0 0]\n",
            " [0 0]\n",
            " [1 1]\n",
            " [1 0]\n",
            " [0 0]\n",
            " [0 0]\n",
            " [1 1]\n",
            " [1 1]\n",
            " [1 0]\n",
            " [0 0]\n",
            " [1 1]\n",
            " [1 1]\n",
            " [1 1]\n",
            " [1 0]\n",
            " [0 0]\n",
            " [1 1]\n",
            " [0 0]\n",
            " [0 0]\n",
            " [1 1]\n",
            " [1 1]\n",
            " [0 1]\n",
            " [0 0]\n",
            " [1 1]\n",
            " [1 1]\n",
            " [1 1]\n",
            " [0 0]\n",
            " [0 0]\n",
            " [1 1]\n",
            " [1 1]\n",
            " [1 1]\n",
            " [1 1]\n",
            " [1 1]\n",
            " [1 1]\n",
            " [0 0]\n",
            " [1 1]\n",
            " [1 0]\n",
            " [1 1]\n",
            " [1 1]\n",
            " [1 1]]\n",
            "[[22  5]\n",
            " [ 3 31]]\n",
            "86.88524590163934\n",
            "Test Accuracy: 86.885% \n",
            "              precision    recall  f1-score   support\n",
            "\n",
            "           0       0.88      0.81      0.85        27\n",
            "           1       0.86      0.91      0.89        34\n",
            "\n",
            "    accuracy                           0.87        61\n",
            "   macro avg       0.87      0.86      0.87        61\n",
            "weighted avg       0.87      0.87      0.87        61\n",
            "\n"
          ],
          "name": "stdout"
        }
      ]
    },
    {
      "cell_type": "code",
      "metadata": {
        "id": "0iWE9Zp3DSu6"
      },
      "source": [
        "# Apply Random Search for parameter tuning\n",
        "from keras.wrappers.scikit_learn import KerasClassifier\n",
        "from sklearn.metrics import make_scorer\n",
        "from sklearn.metrics import accuracy_score, precision_score, recall_score\n",
        "from sklearn.model_selection import RandomizedSearchCV\n",
        "\n",
        "# Initialize Keras Classifier\n",
        "model = KerasClassifier(build_fn=create_model, verbose=0)\n",
        "\n",
        "# Initialize parameters\n",
        "# Min 2 splits, max 6 splits\n",
        "# param_dict = {'batch_size': [16, 32],\n",
        "#                'epochs': [100, 150],\n",
        "#                'folds': [3, 4, 5],\n",
        "#               'neurons': [(14, 6), (14, 8), (16, 6), (16, 8)],\n",
        "#               'dropout_rate': [0.1, 0.2, 0.3, 0.4, 0.5]}\n",
        "\n",
        "param_dict = {'batch_size': [32],\n",
        "              'epochs': [150],\n",
        "              'folds': [3],\n",
        "              'neurons': [(14, 6), (14, 8)],\n",
        "              'dropout_rate': [0.4]}\n",
        "\n",
        "# Initialize scoring method\n",
        "scoring_dict = {'accuracy_score': make_scorer(accuracy_score),\n",
        "           'precision_score': make_scorer(precision_score),\n",
        "           'recall_score': make_scorer(recall_score)}\n",
        "\n",
        "# Initialize RandomizedSearchCV object\n",
        "rand = RandomizedSearchCV(estimator=model,\n",
        "                          param_distributions=param_dict,\n",
        "                          scoring=scoring_dict,\n",
        "                          refit='accuracy_score')\n",
        "rand_result = rand.fit(X_train, y_train)\n",
        "\n",
        "# Show the results\n",
        "print(\"Best Score: %.3f%%\" % (rand_result.best_score_ * 100))\n",
        "print(\"Best Parameters: %s\" % rand_result.best_params_)\n"
      ],
      "execution_count": null,
      "outputs": []
    },
    {
      "cell_type": "markdown",
      "metadata": {
        "id": "fHFJKbIA94fT"
      },
      "source": [
        "#### -- Random Search Results --"
      ]
    },
    {
      "cell_type": "markdown",
      "metadata": {
        "id": "DZZgb5E6jrMB"
      },
      "source": [
        "##### param_dict = {'batch_size': [16], 'epochs': [100], 'folds': [3, 4], 'neurons': [6, 8]}\n",
        "\n",
        "Best Score: 77.7541%\\\n",
        "Best Parameters: {'neurons': 8, 'folds': 3, 'epochs': 100, 'batch_size': 16}\n",
        "\n",
        "*Search time: Approx. 15 minutes"
      ]
    },
    {
      "cell_type": "markdown",
      "metadata": {
        "id": "cq2pmGQK9fUj"
      },
      "source": [
        "##### param_dict = {'batch_size': [16, 32], 'epochs': [150], 'folds': [3, 4], 'neurons': [10, 12]}\n",
        "\n",
        "Best Score: 80.820%\\\n",
        "Best Parameters: {'neurons': 12, 'folds': 4, 'epochs': 150, 'batch_size': 32}\n",
        "\n",
        "*Search time: Approx. 1.25 hours"
      ]
    },
    {
      "cell_type": "markdown",
      "metadata": {
        "id": "HBp3HzMWz5OH"
      },
      "source": [
        "##### param_dict = {'batch_size': [16, 32], 'epochs': [100, 150], 'folds': [3, 4, 5], 'neurons': [4, 6, 8, 10, 12]}\n",
        "Best Score: 85.4372%\\\n",
        "Best Parameters: {'neurons': 12, 'folds': 3, 'epochs': 150, 'batch_size': 16}\n",
        "\n",
        "*Search time: At least 1.5 hours"
      ]
    },
    {
      "cell_type": "markdown",
      "metadata": {
        "id": "EzFZSWwpi_DM"
      },
      "source": [
        "##### param_dict = {'batch_size': [32], 'epochs': [150], 'folds': [3, 4, 5], 'neurons': [12], 'dropout_rate': [0.05, 0.1, 0.15]}\n",
        "Best Score: 85.578%\\\n",
        "Best Parameters: {'neurons': 12, 'folds': 3, 'epochs': 150, 'dropout_rate': 0.05, 'batch_size': 32}\n",
        "\n",
        "*Search time: At least 1.5 hours"
      ]
    },
    {
      "cell_type": "markdown",
      "metadata": {
        "id": "UtPi31Og6wUO"
      },
      "source": [
        "##### param_dict = {'batch_size': [32], 'epochs': [150], 'folds': [3], 'neurons': [12], 'dropout_rate': [0.04, 0.05, 0.06]}\n",
        "Best Score: 86.378%\\\n",
        "Best Parameters: {'neurons': 12, 'folds': 3, 'epochs': 150, 'dropout_rate': 0.05, 'batch_size': 32}\n",
        "\n",
        "*Search time: Approx. 15 minutes"
      ]
    },
    {
      "cell_type": "markdown",
      "metadata": {
        "id": "H1S_7RuwPQL-"
      },
      "source": [
        "##### **With one Dropout layer:**\n",
        "\n",
        "param_dict = {'batch_size': [32], 'epochs': [150], 'folds': [3, 4],  'neurons': [(14, 6), (14, 8), (16, 6), (16, 8)], 'dropout_rate': [0.1, 0.2, 0.3, 0.4, 0.5]}\n",
        "\n",
        "- Best Score: 86.412%\\\n",
        "Best Parameters: {'neurons': (14, 8), 'folds': 3, 'epochs': 150, 'dropout_rate': 0.4, 'batch_size': 32}\n",
        "\n",
        "- Best Score: 87.645%\\\n",
        "Best Parameters: {'neurons': (14, 6), 'folds': 3, 'epochs': 150, 'dropout_rate': 0.4, 'batch_size': 32}\n",
        "\n",
        "*Search time: Approx. 1.25 hours"
      ]
    },
    {
      "cell_type": "markdown",
      "metadata": {
        "id": "RDgh6RnyYkhz"
      },
      "source": [
        "##### **With two Dropout layers:**\n",
        "\n",
        "param_dict = param_dict = {'batch_size': [32], 'epochs': [150], 'folds': [3, 4], 'neurons': [(14, 6), (14, 8)], 'dropout_rate': [0.3, 0.4, 0.5]}\n",
        "\n",
        "Best Score: 85.978%\\\n",
        "Best Parameters: {'neurons': (14, 8), 'folds': 3, 'epochs': 150, 'dropout_rate': 0.5, 'batch_size': 32}\n",
        "\n",
        "*Search time: Approx. 1.5 hours"
      ]
    }
  ]
}