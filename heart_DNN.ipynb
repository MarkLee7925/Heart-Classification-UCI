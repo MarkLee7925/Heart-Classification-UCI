{
  "nbformat": 4,
  "nbformat_minor": 0,
  "metadata": {
    "colab": {
      "name": "heart-DNN.ipynb",
      "provenance": [],
      "collapsed_sections": [],
      "authorship_tag": "ABX9TyN8lof/SJ8KmqNN9ijG2NPO",
      "include_colab_link": true
    },
    "kernelspec": {
      "display_name": "Python 3",
      "name": "python3"
    }
  },
  "cells": [
    {
      "cell_type": "markdown",
      "metadata": {
        "id": "view-in-github",
        "colab_type": "text"
      },
      "source": [
        "<a href=\"https://colab.research.google.com/github/MarkLee7925/Heart-Classification-UCI/blob/main/heart_DNN.ipynb\" target=\"_parent\"><img src=\"https://colab.research.google.com/assets/colab-badge.svg\" alt=\"Open In Colab\"/></a>"
      ]
    },
    {
      "cell_type": "markdown",
      "metadata": {
        "id": "APZVoQmL47I1"
      },
      "source": [
        "# Heart Disease Classification - DNN"
      ]
    },
    {
      "cell_type": "markdown",
      "metadata": {
        "id": "nNx9hfINDIam"
      },
      "source": [
        "## Data preprocessing"
      ]
    },
    {
      "cell_type": "code",
      "metadata": {
        "id": "xuNOzl914e6q"
      },
      "source": [
        "import numpy as np\n",
        "import matplotlib.pyplot as plt\n",
        "import pandas as pd\n",
        "import tensorflow as tf\n",
        "import seaborn as sns"
      ],
      "execution_count": 1,
      "outputs": []
    },
    {
      "cell_type": "code",
      "metadata": {
        "colab": {
          "base_uri": "https://localhost:8080/"
        },
        "id": "Vs4q7FIt4s8o",
        "outputId": "831d6a6b-eab5-4030-be6b-2e42601a073d"
      },
      "source": [
        "# Load dataframe (df)\n",
        "df = pd.read_csv('heart.csv')\n",
        "X, y = df.iloc[:, :-1].values, df.iloc[:, -1].values\n",
        "\n",
        "print(X.shape, y.shape)"
      ],
      "execution_count": 2,
      "outputs": [
        {
          "output_type": "stream",
          "text": [
            "(303, 13) (303,)\n"
          ],
          "name": "stdout"
        }
      ]
    },
    {
      "cell_type": "code",
      "metadata": {
        "colab": {
          "base_uri": "https://localhost:8080/"
        },
        "id": "Y40bdlo6LmXA",
        "outputId": "b977312b-8cf5-4e4a-968d-2c230aefd0a3"
      },
      "source": [
        "print(df.head())"
      ],
      "execution_count": 3,
      "outputs": [
        {
          "output_type": "stream",
          "text": [
            "   age  sex  cp  trestbps  chol  fbs  ...  exang  oldpeak  slope  ca  thal  target\n",
            "0   63    1   3       145   233    1  ...      0      2.3      0   0     1       1\n",
            "1   37    1   2       130   250    0  ...      0      3.5      0   0     2       1\n",
            "2   41    0   1       130   204    0  ...      0      1.4      2   0     2       1\n",
            "3   56    1   1       120   236    0  ...      0      0.8      2   0     2       1\n",
            "4   57    0   0       120   354    0  ...      1      0.6      2   0     2       1\n",
            "\n",
            "[5 rows x 14 columns]\n"
          ],
          "name": "stdout"
        }
      ]
    },
    {
      "cell_type": "code",
      "metadata": {
        "colab": {
          "base_uri": "https://localhost:8080/"
        },
        "id": "RUXT12RH4xJs",
        "outputId": "0533d4a6-59d4-487b-92a8-c47ecd03d870"
      },
      "source": [
        "df.dtypes"
      ],
      "execution_count": 4,
      "outputs": [
        {
          "output_type": "execute_result",
          "data": {
            "text/plain": [
              "age           int64\n",
              "sex           int64\n",
              "cp            int64\n",
              "trestbps      int64\n",
              "chol          int64\n",
              "fbs           int64\n",
              "restecg       int64\n",
              "thalach       int64\n",
              "exang         int64\n",
              "oldpeak     float64\n",
              "slope         int64\n",
              "ca            int64\n",
              "thal          int64\n",
              "target        int64\n",
              "dtype: object"
            ]
          },
          "metadata": {
            "tags": []
          },
          "execution_count": 4
        }
      ]
    },
    {
      "cell_type": "code",
      "metadata": {
        "colab": {
          "base_uri": "https://localhost:8080/",
          "height": 310
        },
        "id": "ey97ULPW4yvY",
        "outputId": "44e3efce-eadc-41fc-ca96-f922a402e8f6"
      },
      "source": [
        "df.describe()"
      ],
      "execution_count": 5,
      "outputs": [
        {
          "output_type": "execute_result",
          "data": {
            "text/html": [
              "<div>\n",
              "<style scoped>\n",
              "    .dataframe tbody tr th:only-of-type {\n",
              "        vertical-align: middle;\n",
              "    }\n",
              "\n",
              "    .dataframe tbody tr th {\n",
              "        vertical-align: top;\n",
              "    }\n",
              "\n",
              "    .dataframe thead th {\n",
              "        text-align: right;\n",
              "    }\n",
              "</style>\n",
              "<table border=\"1\" class=\"dataframe\">\n",
              "  <thead>\n",
              "    <tr style=\"text-align: right;\">\n",
              "      <th></th>\n",
              "      <th>age</th>\n",
              "      <th>sex</th>\n",
              "      <th>cp</th>\n",
              "      <th>trestbps</th>\n",
              "      <th>chol</th>\n",
              "      <th>fbs</th>\n",
              "      <th>restecg</th>\n",
              "      <th>thalach</th>\n",
              "      <th>exang</th>\n",
              "      <th>oldpeak</th>\n",
              "      <th>slope</th>\n",
              "      <th>ca</th>\n",
              "      <th>thal</th>\n",
              "      <th>target</th>\n",
              "    </tr>\n",
              "  </thead>\n",
              "  <tbody>\n",
              "    <tr>\n",
              "      <th>count</th>\n",
              "      <td>303.000000</td>\n",
              "      <td>303.000000</td>\n",
              "      <td>303.000000</td>\n",
              "      <td>303.000000</td>\n",
              "      <td>303.000000</td>\n",
              "      <td>303.000000</td>\n",
              "      <td>303.000000</td>\n",
              "      <td>303.000000</td>\n",
              "      <td>303.000000</td>\n",
              "      <td>303.000000</td>\n",
              "      <td>303.000000</td>\n",
              "      <td>303.000000</td>\n",
              "      <td>303.000000</td>\n",
              "      <td>303.000000</td>\n",
              "    </tr>\n",
              "    <tr>\n",
              "      <th>mean</th>\n",
              "      <td>54.366337</td>\n",
              "      <td>0.683168</td>\n",
              "      <td>0.966997</td>\n",
              "      <td>131.623762</td>\n",
              "      <td>246.264026</td>\n",
              "      <td>0.148515</td>\n",
              "      <td>0.528053</td>\n",
              "      <td>149.646865</td>\n",
              "      <td>0.326733</td>\n",
              "      <td>1.039604</td>\n",
              "      <td>1.399340</td>\n",
              "      <td>0.729373</td>\n",
              "      <td>2.313531</td>\n",
              "      <td>0.544554</td>\n",
              "    </tr>\n",
              "    <tr>\n",
              "      <th>std</th>\n",
              "      <td>9.082101</td>\n",
              "      <td>0.466011</td>\n",
              "      <td>1.032052</td>\n",
              "      <td>17.538143</td>\n",
              "      <td>51.830751</td>\n",
              "      <td>0.356198</td>\n",
              "      <td>0.525860</td>\n",
              "      <td>22.905161</td>\n",
              "      <td>0.469794</td>\n",
              "      <td>1.161075</td>\n",
              "      <td>0.616226</td>\n",
              "      <td>1.022606</td>\n",
              "      <td>0.612277</td>\n",
              "      <td>0.498835</td>\n",
              "    </tr>\n",
              "    <tr>\n",
              "      <th>min</th>\n",
              "      <td>29.000000</td>\n",
              "      <td>0.000000</td>\n",
              "      <td>0.000000</td>\n",
              "      <td>94.000000</td>\n",
              "      <td>126.000000</td>\n",
              "      <td>0.000000</td>\n",
              "      <td>0.000000</td>\n",
              "      <td>71.000000</td>\n",
              "      <td>0.000000</td>\n",
              "      <td>0.000000</td>\n",
              "      <td>0.000000</td>\n",
              "      <td>0.000000</td>\n",
              "      <td>0.000000</td>\n",
              "      <td>0.000000</td>\n",
              "    </tr>\n",
              "    <tr>\n",
              "      <th>25%</th>\n",
              "      <td>47.500000</td>\n",
              "      <td>0.000000</td>\n",
              "      <td>0.000000</td>\n",
              "      <td>120.000000</td>\n",
              "      <td>211.000000</td>\n",
              "      <td>0.000000</td>\n",
              "      <td>0.000000</td>\n",
              "      <td>133.500000</td>\n",
              "      <td>0.000000</td>\n",
              "      <td>0.000000</td>\n",
              "      <td>1.000000</td>\n",
              "      <td>0.000000</td>\n",
              "      <td>2.000000</td>\n",
              "      <td>0.000000</td>\n",
              "    </tr>\n",
              "    <tr>\n",
              "      <th>50%</th>\n",
              "      <td>55.000000</td>\n",
              "      <td>1.000000</td>\n",
              "      <td>1.000000</td>\n",
              "      <td>130.000000</td>\n",
              "      <td>240.000000</td>\n",
              "      <td>0.000000</td>\n",
              "      <td>1.000000</td>\n",
              "      <td>153.000000</td>\n",
              "      <td>0.000000</td>\n",
              "      <td>0.800000</td>\n",
              "      <td>1.000000</td>\n",
              "      <td>0.000000</td>\n",
              "      <td>2.000000</td>\n",
              "      <td>1.000000</td>\n",
              "    </tr>\n",
              "    <tr>\n",
              "      <th>75%</th>\n",
              "      <td>61.000000</td>\n",
              "      <td>1.000000</td>\n",
              "      <td>2.000000</td>\n",
              "      <td>140.000000</td>\n",
              "      <td>274.500000</td>\n",
              "      <td>0.000000</td>\n",
              "      <td>1.000000</td>\n",
              "      <td>166.000000</td>\n",
              "      <td>1.000000</td>\n",
              "      <td>1.600000</td>\n",
              "      <td>2.000000</td>\n",
              "      <td>1.000000</td>\n",
              "      <td>3.000000</td>\n",
              "      <td>1.000000</td>\n",
              "    </tr>\n",
              "    <tr>\n",
              "      <th>max</th>\n",
              "      <td>77.000000</td>\n",
              "      <td>1.000000</td>\n",
              "      <td>3.000000</td>\n",
              "      <td>200.000000</td>\n",
              "      <td>564.000000</td>\n",
              "      <td>1.000000</td>\n",
              "      <td>2.000000</td>\n",
              "      <td>202.000000</td>\n",
              "      <td>1.000000</td>\n",
              "      <td>6.200000</td>\n",
              "      <td>2.000000</td>\n",
              "      <td>4.000000</td>\n",
              "      <td>3.000000</td>\n",
              "      <td>1.000000</td>\n",
              "    </tr>\n",
              "  </tbody>\n",
              "</table>\n",
              "</div>"
            ],
            "text/plain": [
              "              age         sex          cp  ...          ca        thal      target\n",
              "count  303.000000  303.000000  303.000000  ...  303.000000  303.000000  303.000000\n",
              "mean    54.366337    0.683168    0.966997  ...    0.729373    2.313531    0.544554\n",
              "std      9.082101    0.466011    1.032052  ...    1.022606    0.612277    0.498835\n",
              "min     29.000000    0.000000    0.000000  ...    0.000000    0.000000    0.000000\n",
              "25%     47.500000    0.000000    0.000000  ...    0.000000    2.000000    0.000000\n",
              "50%     55.000000    1.000000    1.000000  ...    0.000000    2.000000    1.000000\n",
              "75%     61.000000    1.000000    2.000000  ...    1.000000    3.000000    1.000000\n",
              "max     77.000000    1.000000    3.000000  ...    4.000000    3.000000    1.000000\n",
              "\n",
              "[8 rows x 14 columns]"
            ]
          },
          "metadata": {
            "tags": []
          },
          "execution_count": 5
        }
      ]
    },
    {
      "cell_type": "code",
      "metadata": {
        "id": "L-V00_aB427F"
      },
      "source": [
        "# Split dataframe (df) into training and test sets\n",
        "from sklearn.model_selection import train_test_split\n",
        "\n",
        "X_train, X_test, y_train, y_test = train_test_split(X, y, test_size=0.2, \n",
        "                                                    random_state=0)"
      ],
      "execution_count": 6,
      "outputs": []
    },
    {
      "cell_type": "code",
      "metadata": {
        "id": "QRtaoswM5fKg"
      },
      "source": [
        "# Feature scaling\n",
        "from sklearn.preprocessing import StandardScaler\n",
        "\n",
        "sc = StandardScaler()\n",
        "X_train = sc.fit_transform(X_train)\n",
        "X_test = sc.transform(X_test)"
      ],
      "execution_count": 7,
      "outputs": []
    },
    {
      "cell_type": "markdown",
      "metadata": {
        "id": "g0L7LJYASx4n"
      },
      "source": [
        "## Visualize data"
      ]
    },
    {
      "cell_type": "markdown",
      "metadata": {
        "id": "NyJSwKlTGHfP"
      },
      "source": [
        "#### Plot age distribution"
      ]
    },
    {
      "cell_type": "code",
      "metadata": {
        "colab": {
          "base_uri": "https://localhost:8080/",
          "height": 408
        },
        "id": "AGP7MPe0DLJ8",
        "outputId": "b859b8bf-faa8-488b-ce24-14e68019900b"
      },
      "source": [
        "plt.figure(figsize=(9, 6))\n",
        "plt.yticks(np.arange(0, 20, 2))\n",
        "age_dist = df['age']\n",
        "sns.countplot(x=age_dist)\n",
        "plt.xlabel('Age', fontsize=12)\n",
        "plt.ylabel('Number of people', fontsize=12)\n",
        "plt.title('Age Distribution', fontsize=14)\n",
        "plt.show()"
      ],
      "execution_count": 8,
      "outputs": [
        {
          "output_type": "display_data",
          "data": {
            "image/png": "[encoded data removed]",
            "text/plain": [
              "<Figure size 648x432 with 1 Axes>"
            ]
          },
          "metadata": {
            "tags": [],
            "needs_background": "light"
          }
        }
      ]
    },
    {
      "cell_type": "code",
      "metadata": {
        "colab": {
          "base_uri": "https://localhost:8080/",
          "height": 408
        },
        "id": "Lbbmkbc1ue2y",
        "outputId": "4d662d64-3d7a-44e4-eba2-496f307d4114"
      },
      "source": [
        "plt.figure(figsize=(9, 6))\n",
        "age_dist = df['age']\n",
        "sns.histplot(x=age_dist)\n",
        "plt.xlabel('Age', fontsize=12)\n",
        "plt.ylabel('Number of people', fontsize=12)\n",
        "plt.title('Age Distribution', fontsize=14)\n",
        "plt.show()"
      ],
      "execution_count": 9,
      "outputs": [
        {
          "output_type": "display_data",
          "data": {
            "image/png": "[encoded data removed]",
            "text/plain": [
              "<Figure size 648x432 with 1 Axes>"
            ]
          },
          "metadata": {
            "tags": [],
            "needs_background": "light"
          }
        }
      ]
    },
    {
      "cell_type": "markdown",
      "metadata": {
        "id": "h7dw-h0qJMS6"
      },
      "source": [
        "#### Plot gender distribution"
      ]
    },
    {
      "cell_type": "code",
      "metadata": {
        "colab": {
          "base_uri": "https://localhost:8080/",
          "height": 408
        },
        "id": "mjUgceieJPK2",
        "outputId": "c4c7b661-4c35-42c2-a5b7-a955f66a445f"
      },
      "source": [
        "plt.figure(figsize=(8, 6))\n",
        "labels = ['0 - Female', '1 - Male']\n",
        "gender_dist = df['sex']\n",
        "gender_plot = sns.countplot(x=gender_dist, hue=df['sex'], dodge=False)\n",
        "plt.xlabel('Gender', fontsize=12)\n",
        "plt.ylabel('Amount', fontsize=12)\n",
        "plt.title('Gender Distribution', fontsize=14)\n",
        "plt.legend(labels=labels, loc='upper left')\n",
        "plt.show()"
      ],
      "execution_count": 10,
      "outputs": [
        {
          "output_type": "display_data",
          "data": {
            "image/png": "[encoded data removed]",
            "text/plain": [
              "<Figure size 576x432 with 1 Axes>"
            ]
          },
          "metadata": {
            "tags": [],
            "needs_background": "light"
          }
        }
      ]
    },
    {
      "cell_type": "markdown",
      "metadata": {
        "id": "0zZePuPq0eDY"
      },
      "source": [
        "#### Gender distribution and Results"
      ]
    },
    {
      "cell_type": "code",
      "metadata": {
        "colab": {
          "base_uri": "https://localhost:8080/",
          "height": 408
        },
        "id": "qJwBKdMp64Se",
        "outputId": "52ca64d2-f35c-458b-9e49-809157b13eac"
      },
      "source": [
        "labels = ['Female', 'Male']\n",
        "plt.figure(figsize=(8, 6))\n",
        "target = df['target']\n",
        "sns.countplot(x=target, hue=df['sex'])\n",
        "plt.xlabel('Category', fontsize=12)\n",
        "plt.ylabel('Number of people', fontsize=12)\n",
        "plt.title('Gender and Target', fontsize=14)\n",
        "plt.legend(labels=labels)\n",
        "plt.show()"
      ],
      "execution_count": 11,
      "outputs": [
        {
          "output_type": "display_data",
          "data": {
            "image/png": "[encoded data removed]",
            "text/plain": [
              "<Figure size 576x432 with 1 Axes>"
            ]
          },
          "metadata": {
            "tags": [],
            "needs_background": "light"
          }
        }
      ]
    },
    {
      "cell_type": "markdown",
      "metadata": {
        "id": "_yUl2T0hzETH"
      },
      "source": [
        "###### **Category:**\n",
        "0 = No Heart Disease, 1 = Heart Disease"
      ]
    },
    {
      "cell_type": "markdown",
      "metadata": {
        "id": "Sz0yCyLLuuqf"
      },
      "source": [
        "#### Chest Pain Type and Cholesterol Level"
      ]
    },
    {
      "cell_type": "code",
      "metadata": {
        "id": "F4qjUIWSMe3u",
        "colab": {
          "base_uri": "https://localhost:8080/",
          "height": 299
        },
        "outputId": "15a8e25a-2439-4ac6-ab07-b7feeec1678e"
      },
      "source": [
        "x = df['cp']\n",
        "y = df['chol']\n",
        "labels = ['0 - Nontypical', '1 - Nonanginal', '2 - Asymptomatic', '3 - Typical']\n",
        "box_plot = sns.boxplot(x=x, y=y, data=df)\n",
        "box_plot.set_xlabel(\"Chest Pain Type\", fontsize=12)\n",
        "box_plot.set_ylabel(\"Cholesterol Level\", fontsize=12)\n",
        "box_plot.set_title(\"Chest Pain Type and Cholesterol Level\", fontsize=14)\n",
        "plt.show()"
      ],
      "execution_count": 12,
      "outputs": [
        {
          "output_type": "display_data",
          "data": {
            "image/png": "[encoded data removed]",
            "text/plain": [
              "<Figure size 432x288 with 1 Axes>"
            ]
          },
          "metadata": {
            "tags": [],
            "needs_background": "light"
          }
        }
      ]
    },
    {
      "cell_type": "markdown",
      "metadata": {
        "id": "wZatIKkA56MQ"
      },
      "source": [
        "###### **Types of Chest Pain:**\n",
        "0 = Nontypical, 1 = Nonanginal, 2 = Asymptomatic, 3 = Typical"
      ]
    },
    {
      "cell_type": "markdown",
      "metadata": {
        "id": "nUdMs0l-4pGK"
      },
      "source": [
        "#### Chest pain and heart rate"
      ]
    },
    {
      "cell_type": "code",
      "metadata": {
        "colab": {
          "base_uri": "https://localhost:8080/",
          "height": 299
        },
        "id": "zAXBpaKK49r7",
        "outputId": "9b305a33-c303-4d46-a5df-967e9d4453c3"
      },
      "source": [
        "x = df['cp']\n",
        "y = df['trestbps']\n",
        "labels = ['0 - Nontypical', '1 - Nonanginal', '2 - Asymptomatic', '3 - Typical']\n",
        "box_plot = sns.boxplot(x=x, y=y, data=df)\n",
        "plt.xlabel(\"Chest Pain Type\", fontsize=12)\n",
        "plt.ylabel(\"Resting Heart Rate (bpm)\", fontsize=12)\n",
        "plt.title(\"Chest Pain and Resting Heart Rate\", fontsize=14)\n",
        "plt.show()"
      ],
      "execution_count": 13,
      "outputs": [
        {
          "output_type": "display_data",
          "data": {
            "image/png": "[encoded data removed]",
            "text/plain": [
              "<Figure size 432x288 with 1 Axes>"
            ]
          },
          "metadata": {
            "tags": [],
            "needs_background": "light"
          }
        }
      ]
    },
    {
      "cell_type": "markdown",
      "metadata": {
        "id": "rCz0al4r5CBX"
      },
      "source": [
        "###### **Types of Chest Pain:**\n",
        "0 = Nontypical, 1 = Nonanginal, 2 = Asymptomatic, 3 = Typical"
      ]
    },
    {
      "cell_type": "markdown",
      "metadata": {
        "id": "A7nYJeYL5sR0"
      },
      "source": [
        "#### Age vs Cholesterol Level"
      ]
    },
    {
      "cell_type": "code",
      "metadata": {
        "id": "blfOwm2CVtCh",
        "colab": {
          "base_uri": "https://localhost:8080/",
          "height": 299
        },
        "outputId": "2bb07184-c273-48e5-dae5-d000872beb5a"
      },
      "source": [
        "x = df['age']\n",
        "y = df['chol']\n",
        "line_plot = sns.lineplot(x=x, y=y, data=df)\n",
        "line_plot.set_xlabel(\"Age\", fontsize=12)\n",
        "line_plot.set_ylabel(\"Cholesterol Level\", fontsize=12)\n",
        "line_plot.set_title(\"Age vs. Cholesterol Level\", fontsize=14)\n",
        "plt.grid()\n",
        "plt.show()"
      ],
      "execution_count": 14,
      "outputs": [
        {
          "output_type": "display_data",
          "data": {
            "image/png": "[encoded data removed]",
            "text/plain": [
              "<Figure size 432x288 with 1 Axes>"
            ]
          },
          "metadata": {
            "tags": [],
            "needs_background": "light"
          }
        }
      ]
    },
    {
      "cell_type": "markdown",
      "metadata": {
        "id": "6nz9d307g8O_"
      },
      "source": [
        "#### Age vs. Blood Sugar"
      ]
    },
    {
      "cell_type": "code",
      "metadata": {
        "colab": {
          "base_uri": "https://localhost:8080/",
          "height": 299
        },
        "id": "apCQlcJ8g-Rg",
        "outputId": "28ea51a2-94aa-4fb3-a777-4272c4eaff4c"
      },
      "source": [
        "x = df['age']\n",
        "y = df['trestbps']\n",
        "line_plot = sns.lineplot(x=x, y=y, data=df, color='green')\n",
        "line_plot.set_xlabel(\"Age\", fontsize=12)\n",
        "line_plot.set_ylabel(\"Blood Sugar (in mmHg)\", fontsize=12)\n",
        "line_plot.set_title(\"Age vs. Blood Sugar\", fontsize=14)\n",
        "plt.grid()\n",
        "plt.show()"
      ],
      "execution_count": 15,
      "outputs": [
        {
          "output_type": "display_data",
          "data": {
            "image/png": "[encoded data removed]",
            "text/plain": [
              "<Figure size 432x288 with 1 Axes>"
            ]
          },
          "metadata": {
            "tags": [],
            "needs_background": "light"
          }
        }
      ]
    },
    {
      "cell_type": "markdown",
      "metadata": {
        "id": "1bgUDgxIDL86"
      },
      "source": [
        "## Define DNN model"
      ]
    },
    {
      "cell_type": "code",
      "metadata": {
        "colab": {
          "base_uri": "https://localhost:8080/",
          "height": 1000
        },
        "id": "d3h3Swfj5l3d",
        "outputId": "fb14d244-087e-49db-9c26-88b5604b4fd8"
      },
      "source": [
        "from keras.models import Sequential\n",
        "from keras.layers import Dense, Dropout\n",
        "from keras.callbacks import History\n",
        "from keras.optimizers import Adam\n",
        "from sklearn.model_selection import StratifiedKFold\n",
        "from sklearn.metrics import accuracy_score, roc_auc_score\n",
        "\n",
        "cv_scores = []  # Scores for each k-Fold\n",
        "losses = []  # Losses for each k-Fold\n",
        "def create_model(batch_size, epochs, folds, neurons, dropout_rate):  \n",
        "  \"\"\" Define DL model with specified parameters \"\"\"\n",
        "  kfold = StratifiedKFold(n_splits=folds, shuffle=True, random_state=0)\n",
        "  print(\"Batch size = %d, Epochs = %d, k-Folds = %d\" % (batch_size, epochs, folds))\n",
        "  for train, test in kfold.split(X, y):\n",
        "   \n",
        "    # Define Deep Learning model\n",
        "    model = Sequential()\n",
        "    # Input layer and Hidden Layer 1\n",
        "    model.add(Dense(units=neurons[0], input_dim=13, activation='relu'))\n",
        "    # model.add(Dropout(rate=dropout_rate))\n",
        "    # Hidden Layer 2\n",
        "    model.add(Dense(units=neurons[1],activation='relu'))\n",
        "    # Dropout layer\n",
        "    model.add(Dropout(rate=dropout_rate))\n",
        "    # Output layer\n",
        "    model.add(Dense(units=1,activation='sigmoid'))\n",
        "    \n",
        "    # Compile model\n",
        "    model.compile(optimizer=Adam(learning_rate=0.001), loss='binary_crossentropy', metrics=['accuracy'])\n",
        "    # Train model\n",
        "    history = model.fit(X_train, y_train, batch_size=32, epochs=epochs, validation_data=(X_test, y_test))\n",
        "\n",
        "    # Plot loss during training\n",
        "    plt.plot(history.history['loss'], 'g', label='train')\n",
        "    plt.plot(history.history['val_loss'], 'b', label='test')\n",
        "    plt.title('Training and Validation loss')\n",
        "    plt.xlabel('Epochs')\n",
        "    plt.ylabel('Loss')\n",
        "    plt.legend()\n",
        "    plt.grid()\n",
        "    plt.show()\n",
        "\n",
        "    # Plot accuracy during training\n",
        "    plt.plot(history.history['accuracy'], 'g', label='train')\n",
        "    plt.plot(history.history['val_accuracy'], 'b', label='test')\n",
        "    plt.xlabel('Epochs', fontsize=12)\n",
        "    plt.ylabel('Accuracy', fontsize=12)\n",
        "    plt.title('Training and Validation Accuracy', fontsize=14)\n",
        "    plt.legend()\n",
        "    plt.grid()\n",
        "    plt.show()\n",
        "\n",
        "    # Print scores\n",
        "    scores = model.evaluate(X_test, y_test, verbose=0)\n",
        "    print(\"%s: %.3f%%\" % (model.metrics_names[1], scores[1]*100))\n",
        "    losses.append(scores[0] * 100)  # Loss percentage\n",
        "    cv_scores.append(scores[1] * 100)  # Score percentage\n",
        "  return model\n",
        "\n",
        "# With one dropout layer (optimal results from Random Search)\n",
        "# {'batch_size': 32, 'epochs': 150, 'folds': 3, 'neurons': (14, 6), \n",
        "# 'dropout_rate': 0.4}\n",
        "model = create_model(32, 150, 3, (14, 6), 0.4)\n",
        "\n",
        "# With two dropout layers (results in too much underfitting)\n",
        "# {'batch_size': 32, 'epochs': 150, 'folds': 3, 'neurons': (14, 8), \n",
        "# 'dropout_rate': 0.45}\n",
        "# model = create_model(32, 150, 3, (14, 8), 0.45)\n",
        "\n",
        "# Print results\n",
        "print(\"Mean Accuracy: %.3f%%\" % np.mean(cv_scores))\n",
        "print(\"Standard Deviation: %.3f%%\" % np.std(cv_scores))\n",
        "print('Losses:')\n",
        "print(losses)\n",
        "print('Scores:')\n",
        "print(cv_scores)"
      ],
      "execution_count": 20,
      "outputs": [
        {
          "output_type": "stream",
          "text": [
            "Batch size = 32, Epochs = 150, k-Folds = 3\n",
            "Epoch 1/150\n"
          ],
          "name": "stdout"
        },
        {
          "output_type": "stream",
          "text": [
            "/usr/local/lib/python3.7/dist-packages/sklearn/model_selection/_split.py:667: UserWarning: The least populated class in y has only 1 members, which is less than n_splits=3.\n",
            "  % (min_groups, self.n_splits)), UserWarning)\n"
          ],
          "name": "stderr"
        },
        {
          "output_type": "stream",
          "text": [
            "8/8 [==============================] - 1s 40ms/step - loss: 0.6098 - accuracy: 0.7184 - val_loss: 0.5693 - val_accuracy: 0.8033\n",
            "Epoch 2/150\n",
            "8/8 [==============================] - 0s 12ms/step - loss: 0.5961 - accuracy: 0.6562 - val_loss: 0.5550 - val_accuracy: 0.8197\n",
            "Epoch 3/150\n",
            "8/8 [==============================] - 0s 11ms/step - loss: 0.5717 - accuracy: 0.7156 - val_loss: 0.5415 - val_accuracy: 0.7869\n",
            "Epoch 4/150\n",
            "8/8 [==============================] - 0s 11ms/step - loss: 0.5923 - accuracy: 0.6792 - val_loss: 0.5291 - val_accuracy: 0.7705\n",
            "Epoch 5/150\n",
            "8/8 [==============================] - 0s 11ms/step - loss: 0.5622 - accuracy: 0.7153 - val_loss: 0.5172 - val_accuracy: 0.7705\n",
            "Epoch 6/150\n",
            "8/8 [==============================] - 0s 12ms/step - loss: 0.5564 - accuracy: 0.7008 - val_loss: 0.5055 - val_accuracy: 0.8033\n",
            "Epoch 7/150\n",
            "8/8 [==============================] - 0s 13ms/step - loss: 0.5452 - accuracy: 0.7186 - val_loss: 0.4966 - val_accuracy: 0.8033\n",
            "Epoch 8/150\n",
            "8/8 [==============================] - 0s 11ms/step - loss: 0.5290 - accuracy: 0.7377 - val_loss: 0.4878 - val_accuracy: 0.8033\n",
            "Epoch 9/150\n",
            "8/8 [==============================] - 0s 10ms/step - loss: 0.5195 - accuracy: 0.7703 - val_loss: 0.4785 - val_accuracy: 0.8033\n",
            "Epoch 10/150\n",
            "8/8 [==============================] - 0s 11ms/step - loss: 0.5743 - accuracy: 0.7005 - val_loss: 0.4703 - val_accuracy: 0.8033\n",
            "Epoch 11/150\n",
            "8/8 [==============================] - 0s 13ms/step - loss: 0.5393 - accuracy: 0.7203 - val_loss: 0.4627 - val_accuracy: 0.8033\n",
            "Epoch 12/150\n",
            "8/8 [==============================] - 0s 11ms/step - loss: 0.4981 - accuracy: 0.7423 - val_loss: 0.4550 - val_accuracy: 0.8197\n",
            "Epoch 13/150\n",
            "8/8 [==============================] - 0s 11ms/step - loss: 0.4669 - accuracy: 0.7905 - val_loss: 0.4482 - val_accuracy: 0.8361\n",
            "Epoch 14/150\n",
            "8/8 [==============================] - 0s 12ms/step - loss: 0.4720 - accuracy: 0.7709 - val_loss: 0.4429 - val_accuracy: 0.8361\n",
            "Epoch 15/150\n",
            "8/8 [==============================] - 0s 12ms/step - loss: 0.4480 - accuracy: 0.7848 - val_loss: 0.4379 - val_accuracy: 0.8197\n",
            "Epoch 16/150\n",
            "8/8 [==============================] - 0s 12ms/step - loss: 0.4471 - accuracy: 0.8205 - val_loss: 0.4338 - val_accuracy: 0.8197\n",
            "Epoch 17/150\n",
            "8/8 [==============================] - 0s 12ms/step - loss: 0.4716 - accuracy: 0.7893 - val_loss: 0.4298 - val_accuracy: 0.8197\n",
            "Epoch 18/150\n",
            "8/8 [==============================] - 0s 13ms/step - loss: 0.4678 - accuracy: 0.7761 - val_loss: 0.4272 - val_accuracy: 0.8197\n",
            "Epoch 19/150\n",
            "8/8 [==============================] - 0s 12ms/step - loss: 0.4340 - accuracy: 0.7491 - val_loss: 0.4246 - val_accuracy: 0.8197\n",
            "Epoch 20/150\n",
            "8/8 [==============================] - 0s 11ms/step - loss: 0.5077 - accuracy: 0.7415 - val_loss: 0.4212 - val_accuracy: 0.8197\n",
            "Epoch 21/150\n",
            "8/8 [==============================] - 0s 12ms/step - loss: 0.4376 - accuracy: 0.8300 - val_loss: 0.4185 - val_accuracy: 0.8197\n",
            "Epoch 22/150\n",
            "8/8 [==============================] - 0s 13ms/step - loss: 0.4710 - accuracy: 0.7850 - val_loss: 0.4151 - val_accuracy: 0.8361\n",
            "Epoch 23/150\n",
            "8/8 [==============================] - 0s 11ms/step - loss: 0.4435 - accuracy: 0.7871 - val_loss: 0.4108 - val_accuracy: 0.8361\n",
            "Epoch 24/150\n",
            "8/8 [==============================] - 0s 12ms/step - loss: 0.4343 - accuracy: 0.7814 - val_loss: 0.4072 - val_accuracy: 0.8361\n",
            "Epoch 25/150\n",
            "8/8 [==============================] - 0s 13ms/step - loss: 0.4020 - accuracy: 0.7807 - val_loss: 0.4039 - val_accuracy: 0.8197\n",
            "Epoch 26/150\n",
            "8/8 [==============================] - 0s 13ms/step - loss: 0.3946 - accuracy: 0.8389 - val_loss: 0.4014 - val_accuracy: 0.8197\n",
            "Epoch 27/150\n",
            "8/8 [==============================] - 0s 11ms/step - loss: 0.3840 - accuracy: 0.8439 - val_loss: 0.3996 - val_accuracy: 0.8197\n",
            "Epoch 28/150\n",
            "8/8 [==============================] - 0s 12ms/step - loss: 0.4431 - accuracy: 0.8110 - val_loss: 0.3984 - val_accuracy: 0.8197\n",
            "Epoch 29/150\n",
            "8/8 [==============================] - 0s 13ms/step - loss: 0.4441 - accuracy: 0.8102 - val_loss: 0.3959 - val_accuracy: 0.8197\n",
            "Epoch 30/150\n",
            "8/8 [==============================] - 0s 13ms/step - loss: 0.4305 - accuracy: 0.8192 - val_loss: 0.3940 - val_accuracy: 0.8197\n",
            "Epoch 31/150\n",
            "8/8 [==============================] - 0s 12ms/step - loss: 0.4715 - accuracy: 0.7702 - val_loss: 0.3933 - val_accuracy: 0.8361\n",
            "Epoch 32/150\n",
            "8/8 [==============================] - 0s 13ms/step - loss: 0.4408 - accuracy: 0.7945 - val_loss: 0.3933 - val_accuracy: 0.8197\n",
            "Epoch 33/150\n",
            "8/8 [==============================] - 0s 13ms/step - loss: 0.4285 - accuracy: 0.7773 - val_loss: 0.3926 - val_accuracy: 0.8033\n",
            "Epoch 34/150\n",
            "8/8 [==============================] - 0s 13ms/step - loss: 0.4199 - accuracy: 0.8153 - val_loss: 0.3919 - val_accuracy: 0.8033\n",
            "Epoch 35/150\n",
            "8/8 [==============================] - 0s 13ms/step - loss: 0.3784 - accuracy: 0.8370 - val_loss: 0.3911 - val_accuracy: 0.8197\n",
            "Epoch 36/150\n",
            "8/8 [==============================] - 0s 13ms/step - loss: 0.4111 - accuracy: 0.8320 - val_loss: 0.3900 - val_accuracy: 0.8033\n",
            "Epoch 37/150\n",
            "8/8 [==============================] - 0s 13ms/step - loss: 0.4482 - accuracy: 0.7923 - val_loss: 0.3900 - val_accuracy: 0.8033\n",
            "Epoch 38/150\n",
            "8/8 [==============================] - 0s 12ms/step - loss: 0.4519 - accuracy: 0.7951 - val_loss: 0.3899 - val_accuracy: 0.8033\n",
            "Epoch 39/150\n",
            "8/8 [==============================] - 0s 12ms/step - loss: 0.3915 - accuracy: 0.8077 - val_loss: 0.3915 - val_accuracy: 0.8033\n",
            "Epoch 40/150\n",
            "8/8 [==============================] - 0s 12ms/step - loss: 0.4067 - accuracy: 0.8023 - val_loss: 0.3928 - val_accuracy: 0.8033\n",
            "Epoch 41/150\n",
            "8/8 [==============================] - 0s 11ms/step - loss: 0.3694 - accuracy: 0.8255 - val_loss: 0.3941 - val_accuracy: 0.8033\n",
            "Epoch 42/150\n",
            "8/8 [==============================] - 0s 12ms/step - loss: 0.4242 - accuracy: 0.7969 - val_loss: 0.3944 - val_accuracy: 0.8033\n",
            "Epoch 43/150\n",
            "8/8 [==============================] - 0s 14ms/step - loss: 0.3880 - accuracy: 0.8611 - val_loss: 0.3948 - val_accuracy: 0.8033\n",
            "Epoch 44/150\n",
            "8/8 [==============================] - 0s 14ms/step - loss: 0.3806 - accuracy: 0.8136 - val_loss: 0.3943 - val_accuracy: 0.8033\n",
            "Epoch 45/150\n",
            "8/8 [==============================] - 0s 14ms/step - loss: 0.3881 - accuracy: 0.8281 - val_loss: 0.3940 - val_accuracy: 0.8033\n",
            "Epoch 46/150\n",
            "8/8 [==============================] - 0s 12ms/step - loss: 0.3899 - accuracy: 0.7933 - val_loss: 0.3940 - val_accuracy: 0.8033\n",
            "Epoch 47/150\n",
            "8/8 [==============================] - 0s 13ms/step - loss: 0.4153 - accuracy: 0.8169 - val_loss: 0.3946 - val_accuracy: 0.8033\n",
            "Epoch 48/150\n",
            "8/8 [==============================] - 0s 12ms/step - loss: 0.4098 - accuracy: 0.8101 - val_loss: 0.3945 - val_accuracy: 0.8033\n",
            "Epoch 49/150\n",
            "8/8 [==============================] - 0s 13ms/step - loss: 0.3384 - accuracy: 0.8362 - val_loss: 0.3946 - val_accuracy: 0.8033\n",
            "Epoch 50/150\n",
            "8/8 [==============================] - 0s 13ms/step - loss: 0.4345 - accuracy: 0.7958 - val_loss: 0.3962 - val_accuracy: 0.8033\n",
            "Epoch 51/150\n",
            "8/8 [==============================] - 0s 14ms/step - loss: 0.3778 - accuracy: 0.8194 - val_loss: 0.3956 - val_accuracy: 0.8033\n",
            "Epoch 52/150\n",
            "8/8 [==============================] - 0s 13ms/step - loss: 0.4135 - accuracy: 0.8075 - val_loss: 0.3963 - val_accuracy: 0.8033\n",
            "Epoch 53/150\n",
            "8/8 [==============================] - 0s 13ms/step - loss: 0.3566 - accuracy: 0.8436 - val_loss: 0.3956 - val_accuracy: 0.8033\n",
            "Epoch 54/150\n",
            "8/8 [==============================] - 0s 11ms/step - loss: 0.3864 - accuracy: 0.8191 - val_loss: 0.3953 - val_accuracy: 0.8033\n",
            "Epoch 55/150\n",
            "8/8 [==============================] - 0s 12ms/step - loss: 0.4115 - accuracy: 0.8031 - val_loss: 0.3948 - val_accuracy: 0.8033\n",
            "Epoch 56/150\n",
            "8/8 [==============================] - 0s 13ms/step - loss: 0.3529 - accuracy: 0.8614 - val_loss: 0.3944 - val_accuracy: 0.8033\n",
            "Epoch 57/150\n",
            "8/8 [==============================] - 0s 12ms/step - loss: 0.4223 - accuracy: 0.7863 - val_loss: 0.3945 - val_accuracy: 0.8033\n",
            "Epoch 58/150\n",
            "8/8 [==============================] - 0s 13ms/step - loss: 0.4256 - accuracy: 0.7880 - val_loss: 0.3944 - val_accuracy: 0.8033\n",
            "Epoch 59/150\n",
            "8/8 [==============================] - 0s 12ms/step - loss: 0.3662 - accuracy: 0.8339 - val_loss: 0.3949 - val_accuracy: 0.8033\n",
            "Epoch 60/150\n",
            "8/8 [==============================] - 0s 12ms/step - loss: 0.4182 - accuracy: 0.7946 - val_loss: 0.3961 - val_accuracy: 0.8033\n",
            "Epoch 61/150\n",
            "8/8 [==============================] - 0s 12ms/step - loss: 0.3728 - accuracy: 0.8200 - val_loss: 0.3965 - val_accuracy: 0.8033\n",
            "Epoch 62/150\n",
            "8/8 [==============================] - 0s 12ms/step - loss: 0.3893 - accuracy: 0.8209 - val_loss: 0.3982 - val_accuracy: 0.8033\n",
            "Epoch 63/150\n",
            "8/8 [==============================] - 0s 12ms/step - loss: 0.3606 - accuracy: 0.8093 - val_loss: 0.3996 - val_accuracy: 0.8033\n",
            "Epoch 64/150\n",
            "8/8 [==============================] - 0s 12ms/step - loss: 0.3825 - accuracy: 0.8328 - val_loss: 0.4012 - val_accuracy: 0.8033\n",
            "Epoch 65/150\n",
            "8/8 [==============================] - 0s 46ms/step - loss: 0.3528 - accuracy: 0.8324 - val_loss: 0.4008 - val_accuracy: 0.8033\n",
            "Epoch 66/150\n",
            "8/8 [==============================] - 0s 11ms/step - loss: 0.3693 - accuracy: 0.8109 - val_loss: 0.4004 - val_accuracy: 0.8033\n",
            "Epoch 67/150\n",
            "8/8 [==============================] - 0s 12ms/step - loss: 0.3972 - accuracy: 0.7973 - val_loss: 0.3984 - val_accuracy: 0.8033\n",
            "Epoch 68/150\n",
            "8/8 [==============================] - 0s 11ms/step - loss: 0.3794 - accuracy: 0.8165 - val_loss: 0.3976 - val_accuracy: 0.8033\n",
            "Epoch 69/150\n",
            "8/8 [==============================] - 0s 15ms/step - loss: 0.3869 - accuracy: 0.8167 - val_loss: 0.3978 - val_accuracy: 0.8033\n",
            "Epoch 70/150\n",
            "8/8 [==============================] - 0s 12ms/step - loss: 0.3513 - accuracy: 0.8034 - val_loss: 0.3978 - val_accuracy: 0.8033\n",
            "Epoch 71/150\n",
            "8/8 [==============================] - 0s 12ms/step - loss: 0.3523 - accuracy: 0.8540 - val_loss: 0.3972 - val_accuracy: 0.8033\n",
            "Epoch 72/150\n",
            "8/8 [==============================] - 0s 11ms/step - loss: 0.3841 - accuracy: 0.8178 - val_loss: 0.3977 - val_accuracy: 0.8033\n",
            "Epoch 73/150\n",
            "8/8 [==============================] - 0s 12ms/step - loss: 0.3584 - accuracy: 0.8459 - val_loss: 0.3973 - val_accuracy: 0.8033\n",
            "Epoch 74/150\n",
            "8/8 [==============================] - 0s 13ms/step - loss: 0.3688 - accuracy: 0.8159 - val_loss: 0.3971 - val_accuracy: 0.8033\n",
            "Epoch 75/150\n",
            "8/8 [==============================] - 0s 12ms/step - loss: 0.3298 - accuracy: 0.8568 - val_loss: 0.3983 - val_accuracy: 0.8033\n",
            "Epoch 76/150\n",
            "8/8 [==============================] - 0s 12ms/step - loss: 0.4012 - accuracy: 0.7891 - val_loss: 0.3997 - val_accuracy: 0.8033\n",
            "Epoch 77/150\n",
            "8/8 [==============================] - 0s 12ms/step - loss: 0.3659 - accuracy: 0.8009 - val_loss: 0.4013 - val_accuracy: 0.8033\n",
            "Epoch 78/150\n",
            "8/8 [==============================] - 0s 11ms/step - loss: 0.3593 - accuracy: 0.8218 - val_loss: 0.4017 - val_accuracy: 0.8033\n",
            "Epoch 79/150\n",
            "8/8 [==============================] - 0s 12ms/step - loss: 0.3178 - accuracy: 0.8524 - val_loss: 0.4018 - val_accuracy: 0.8033\n",
            "Epoch 80/150\n",
            "8/8 [==============================] - 0s 13ms/step - loss: 0.3368 - accuracy: 0.8407 - val_loss: 0.4028 - val_accuracy: 0.8033\n",
            "Epoch 81/150\n",
            "8/8 [==============================] - 0s 12ms/step - loss: 0.3496 - accuracy: 0.8163 - val_loss: 0.4032 - val_accuracy: 0.8033\n",
            "Epoch 82/150\n",
            "8/8 [==============================] - 0s 12ms/step - loss: 0.4005 - accuracy: 0.7776 - val_loss: 0.4028 - val_accuracy: 0.8033\n",
            "Epoch 83/150\n",
            "8/8 [==============================] - 0s 12ms/step - loss: 0.3568 - accuracy: 0.8089 - val_loss: 0.4036 - val_accuracy: 0.8033\n",
            "Epoch 84/150\n",
            "8/8 [==============================] - 0s 12ms/step - loss: 0.3779 - accuracy: 0.8372 - val_loss: 0.4056 - val_accuracy: 0.8033\n",
            "Epoch 85/150\n",
            "8/8 [==============================] - 0s 13ms/step - loss: 0.4170 - accuracy: 0.7560 - val_loss: 0.4083 - val_accuracy: 0.8033\n",
            "Epoch 86/150\n",
            "8/8 [==============================] - 0s 13ms/step - loss: 0.3636 - accuracy: 0.8203 - val_loss: 0.4102 - val_accuracy: 0.8033\n",
            "Epoch 87/150\n",
            "8/8 [==============================] - 0s 13ms/step - loss: 0.3384 - accuracy: 0.8553 - val_loss: 0.4127 - val_accuracy: 0.8033\n",
            "Epoch 88/150\n",
            "8/8 [==============================] - 0s 11ms/step - loss: 0.3320 - accuracy: 0.8645 - val_loss: 0.4132 - val_accuracy: 0.8033\n",
            "Epoch 89/150\n",
            "8/8 [==============================] - 0s 12ms/step - loss: 0.4047 - accuracy: 0.8158 - val_loss: 0.4128 - val_accuracy: 0.8033\n",
            "Epoch 90/150\n",
            "8/8 [==============================] - 0s 13ms/step - loss: 0.3598 - accuracy: 0.8313 - val_loss: 0.4123 - val_accuracy: 0.8033\n",
            "Epoch 91/150\n",
            "8/8 [==============================] - 0s 13ms/step - loss: 0.4047 - accuracy: 0.7955 - val_loss: 0.4103 - val_accuracy: 0.8033\n",
            "Epoch 92/150\n",
            "8/8 [==============================] - 0s 13ms/step - loss: 0.3598 - accuracy: 0.8021 - val_loss: 0.4095 - val_accuracy: 0.8033\n",
            "Epoch 93/150\n",
            "8/8 [==============================] - 0s 12ms/step - loss: 0.3369 - accuracy: 0.8333 - val_loss: 0.4094 - val_accuracy: 0.8033\n",
            "Epoch 94/150\n",
            "8/8 [==============================] - 0s 12ms/step - loss: 0.3653 - accuracy: 0.7787 - val_loss: 0.4081 - val_accuracy: 0.8033\n",
            "Epoch 95/150\n",
            "8/8 [==============================] - 0s 13ms/step - loss: 0.3577 - accuracy: 0.8379 - val_loss: 0.4083 - val_accuracy: 0.8033\n",
            "Epoch 96/150\n",
            "8/8 [==============================] - 0s 13ms/step - loss: 0.3706 - accuracy: 0.7959 - val_loss: 0.4088 - val_accuracy: 0.8033\n",
            "Epoch 97/150\n",
            "8/8 [==============================] - 0s 13ms/step - loss: 0.3184 - accuracy: 0.8679 - val_loss: 0.4095 - val_accuracy: 0.8033\n",
            "Epoch 98/150\n",
            "8/8 [==============================] - 0s 13ms/step - loss: 0.3559 - accuracy: 0.8458 - val_loss: 0.4100 - val_accuracy: 0.8033\n",
            "Epoch 99/150\n",
            "8/8 [==============================] - 0s 14ms/step - loss: 0.3220 - accuracy: 0.8227 - val_loss: 0.4121 - val_accuracy: 0.8033\n",
            "Epoch 100/150\n",
            "8/8 [==============================] - 0s 14ms/step - loss: 0.3104 - accuracy: 0.8551 - val_loss: 0.4127 - val_accuracy: 0.8033\n",
            "Epoch 101/150\n",
            "8/8 [==============================] - 0s 12ms/step - loss: 0.3262 - accuracy: 0.8410 - val_loss: 0.4137 - val_accuracy: 0.8033\n",
            "Epoch 102/150\n",
            "8/8 [==============================] - 0s 12ms/step - loss: 0.3503 - accuracy: 0.8024 - val_loss: 0.4149 - val_accuracy: 0.8033\n",
            "Epoch 103/150\n",
            "8/8 [==============================] - 0s 14ms/step - loss: 0.2976 - accuracy: 0.8332 - val_loss: 0.4152 - val_accuracy: 0.8033\n",
            "Epoch 104/150\n",
            "8/8 [==============================] - 0s 11ms/step - loss: 0.3242 - accuracy: 0.8269 - val_loss: 0.4155 - val_accuracy: 0.8033\n",
            "Epoch 105/150\n",
            "8/8 [==============================] - 0s 13ms/step - loss: 0.3115 - accuracy: 0.8334 - val_loss: 0.4173 - val_accuracy: 0.8033\n",
            "Epoch 106/150\n",
            "8/8 [==============================] - 0s 12ms/step - loss: 0.3460 - accuracy: 0.8340 - val_loss: 0.4184 - val_accuracy: 0.8033\n",
            "Epoch 107/150\n",
            "8/8 [==============================] - 0s 13ms/step - loss: 0.3337 - accuracy: 0.8530 - val_loss: 0.4182 - val_accuracy: 0.8033\n",
            "Epoch 108/150\n",
            "8/8 [==============================] - 0s 12ms/step - loss: 0.3559 - accuracy: 0.7762 - val_loss: 0.4166 - val_accuracy: 0.8033\n",
            "Epoch 109/150\n",
            "8/8 [==============================] - 0s 11ms/step - loss: 0.3378 - accuracy: 0.7944 - val_loss: 0.4170 - val_accuracy: 0.8033\n",
            "Epoch 110/150\n",
            "8/8 [==============================] - 0s 14ms/step - loss: 0.3189 - accuracy: 0.8423 - val_loss: 0.4177 - val_accuracy: 0.8033\n",
            "Epoch 111/150\n",
            "8/8 [==============================] - 0s 12ms/step - loss: 0.3155 - accuracy: 0.8581 - val_loss: 0.4196 - val_accuracy: 0.8197\n",
            "Epoch 112/150\n",
            "8/8 [==============================] - 0s 13ms/step - loss: 0.2805 - accuracy: 0.8836 - val_loss: 0.4216 - val_accuracy: 0.8197\n",
            "Epoch 113/150\n",
            "8/8 [==============================] - 0s 14ms/step - loss: 0.3615 - accuracy: 0.8425 - val_loss: 0.4226 - val_accuracy: 0.8361\n",
            "Epoch 114/150\n",
            "8/8 [==============================] - 0s 12ms/step - loss: 0.3073 - accuracy: 0.8629 - val_loss: 0.4240 - val_accuracy: 0.8361\n",
            "Epoch 115/150\n",
            "8/8 [==============================] - 0s 12ms/step - loss: 0.3158 - accuracy: 0.8574 - val_loss: 0.4250 - val_accuracy: 0.8361\n",
            "Epoch 116/150\n",
            "8/8 [==============================] - 0s 12ms/step - loss: 0.3010 - accuracy: 0.8644 - val_loss: 0.4265 - val_accuracy: 0.8361\n",
            "Epoch 117/150\n",
            "8/8 [==============================] - 0s 12ms/step - loss: 0.3358 - accuracy: 0.8243 - val_loss: 0.4267 - val_accuracy: 0.8361\n",
            "Epoch 118/150\n",
            "8/8 [==============================] - 0s 12ms/step - loss: 0.3228 - accuracy: 0.8497 - val_loss: 0.4273 - val_accuracy: 0.8361\n",
            "Epoch 119/150\n",
            "8/8 [==============================] - 0s 12ms/step - loss: 0.3234 - accuracy: 0.8396 - val_loss: 0.4272 - val_accuracy: 0.8197\n",
            "Epoch 120/150\n",
            "8/8 [==============================] - 0s 14ms/step - loss: 0.3050 - accuracy: 0.8430 - val_loss: 0.4272 - val_accuracy: 0.8197\n",
            "Epoch 121/150\n",
            "8/8 [==============================] - 0s 13ms/step - loss: 0.3155 - accuracy: 0.8454 - val_loss: 0.4282 - val_accuracy: 0.8197\n",
            "Epoch 122/150\n",
            "8/8 [==============================] - 0s 11ms/step - loss: 0.3110 - accuracy: 0.8459 - val_loss: 0.4290 - val_accuracy: 0.8197\n",
            "Epoch 123/150\n",
            "8/8 [==============================] - 0s 12ms/step - loss: 0.3168 - accuracy: 0.8452 - val_loss: 0.4291 - val_accuracy: 0.8197\n",
            "Epoch 124/150\n",
            "8/8 [==============================] - 0s 14ms/step - loss: 0.3136 - accuracy: 0.8356 - val_loss: 0.4299 - val_accuracy: 0.8197\n",
            "Epoch 125/150\n",
            "8/8 [==============================] - 0s 12ms/step - loss: 0.3047 - accuracy: 0.8409 - val_loss: 0.4296 - val_accuracy: 0.8197\n",
            "Epoch 126/150\n",
            "8/8 [==============================] - 0s 13ms/step - loss: 0.2807 - accuracy: 0.8613 - val_loss: 0.4303 - val_accuracy: 0.8197\n",
            "Epoch 127/150\n",
            "8/8 [==============================] - 0s 12ms/step - loss: 0.3032 - accuracy: 0.8555 - val_loss: 0.4290 - val_accuracy: 0.8197\n",
            "Epoch 128/150\n",
            "8/8 [==============================] - 0s 13ms/step - loss: 0.3317 - accuracy: 0.8242 - val_loss: 0.4287 - val_accuracy: 0.8197\n",
            "Epoch 129/150\n",
            "8/8 [==============================] - 0s 11ms/step - loss: 0.3399 - accuracy: 0.8524 - val_loss: 0.4280 - val_accuracy: 0.8197\n",
            "Epoch 130/150\n",
            "8/8 [==============================] - 0s 12ms/step - loss: 0.3196 - accuracy: 0.8146 - val_loss: 0.4276 - val_accuracy: 0.8197\n",
            "Epoch 131/150\n",
            "8/8 [==============================] - 0s 12ms/step - loss: 0.2666 - accuracy: 0.8766 - val_loss: 0.4297 - val_accuracy: 0.8197\n",
            "Epoch 132/150\n",
            "8/8 [==============================] - 0s 12ms/step - loss: 0.3266 - accuracy: 0.8350 - val_loss: 0.4309 - val_accuracy: 0.8197\n",
            "Epoch 133/150\n",
            "8/8 [==============================] - 0s 11ms/step - loss: 0.3108 - accuracy: 0.8464 - val_loss: 0.4298 - val_accuracy: 0.8197\n",
            "Epoch 134/150\n",
            "8/8 [==============================] - 0s 12ms/step - loss: 0.2880 - accuracy: 0.8670 - val_loss: 0.4277 - val_accuracy: 0.8197\n",
            "Epoch 135/150\n",
            "8/8 [==============================] - 0s 13ms/step - loss: 0.3405 - accuracy: 0.8103 - val_loss: 0.4280 - val_accuracy: 0.8197\n",
            "Epoch 136/150\n",
            "8/8 [==============================] - 0s 13ms/step - loss: 0.3155 - accuracy: 0.8461 - val_loss: 0.4278 - val_accuracy: 0.8197\n",
            "Epoch 137/150\n",
            "8/8 [==============================] - 0s 12ms/step - loss: 0.2965 - accuracy: 0.8432 - val_loss: 0.4286 - val_accuracy: 0.8197\n",
            "Epoch 138/150\n",
            "8/8 [==============================] - 0s 12ms/step - loss: 0.2997 - accuracy: 0.8651 - val_loss: 0.4300 - val_accuracy: 0.8197\n",
            "Epoch 139/150\n",
            "8/8 [==============================] - 0s 12ms/step - loss: 0.2873 - accuracy: 0.8804 - val_loss: 0.4302 - val_accuracy: 0.8197\n",
            "Epoch 140/150\n",
            "8/8 [==============================] - 0s 12ms/step - loss: 0.3002 - accuracy: 0.8526 - val_loss: 0.4317 - val_accuracy: 0.8197\n",
            "Epoch 141/150\n",
            "8/8 [==============================] - 0s 12ms/step - loss: 0.3211 - accuracy: 0.8351 - val_loss: 0.4332 - val_accuracy: 0.8197\n",
            "Epoch 142/150\n",
            "8/8 [==============================] - 0s 12ms/step - loss: 0.3125 - accuracy: 0.8583 - val_loss: 0.4354 - val_accuracy: 0.8197\n",
            "Epoch 143/150\n",
            "8/8 [==============================] - 0s 11ms/step - loss: 0.3170 - accuracy: 0.8115 - val_loss: 0.4354 - val_accuracy: 0.8197\n",
            "Epoch 144/150\n",
            "8/8 [==============================] - 0s 12ms/step - loss: 0.3472 - accuracy: 0.8544 - val_loss: 0.4351 - val_accuracy: 0.8197\n",
            "Epoch 145/150\n",
            "8/8 [==============================] - 0s 13ms/step - loss: 0.2912 - accuracy: 0.8509 - val_loss: 0.4340 - val_accuracy: 0.8197\n",
            "Epoch 146/150\n",
            "8/8 [==============================] - 0s 12ms/step - loss: 0.2944 - accuracy: 0.8673 - val_loss: 0.4343 - val_accuracy: 0.8197\n",
            "Epoch 147/150\n",
            "8/8 [==============================] - 0s 13ms/step - loss: 0.3108 - accuracy: 0.8547 - val_loss: 0.4347 - val_accuracy: 0.8197\n",
            "Epoch 148/150\n",
            "8/8 [==============================] - 0s 12ms/step - loss: 0.2831 - accuracy: 0.8905 - val_loss: 0.4359 - val_accuracy: 0.8197\n",
            "Epoch 149/150\n",
            "8/8 [==============================] - 0s 12ms/step - loss: 0.2394 - accuracy: 0.9029 - val_loss: 0.4360 - val_accuracy: 0.8197\n",
            "Epoch 150/150\n",
            "8/8 [==============================] - 0s 12ms/step - loss: 0.3070 - accuracy: 0.8526 - val_loss: 0.4361 - val_accuracy: 0.8197\n"
          ],
          "name": "stdout"
        },
        {
          "output_type": "display_data",
          "data": {
            "image/png": "[encoded data removed]",
            "text/plain": [
              "<Figure size 432x288 with 1 Axes>"
            ]
          },
          "metadata": {
            "tags": [],
            "needs_background": "light"
          }
        },
        {
          "output_type": "display_data",
          "data": {
            "image/png": "[encoded data removed]",
            "text/plain": [
              "<Figure size 432x288 with 1 Axes>"
            ]
          },
          "metadata": {
            "tags": [],
            "needs_background": "light"
          }
        },
        {
          "output_type": "stream",
          "text": [
            "accuracy: 81.967%\n",
            "Epoch 1/150\n",
            "8/8 [==============================] - 1s 38ms/step - loss: 0.7224 - accuracy: 0.5143 - val_loss: 0.6997 - val_accuracy: 0.5246\n",
            "Epoch 2/150\n",
            "8/8 [==============================] - 0s 11ms/step - loss: 0.7067 - accuracy: 0.5428 - val_loss: 0.6876 - val_accuracy: 0.5574\n",
            "Epoch 3/150\n",
            "8/8 [==============================] - 0s 12ms/step - loss: 0.6939 - accuracy: 0.5325 - val_loss: 0.6768 - val_accuracy: 0.5902\n",
            "Epoch 4/150\n",
            "8/8 [==============================] - 0s 12ms/step - loss: 0.6961 - accuracy: 0.5667 - val_loss: 0.6666 - val_accuracy: 0.6393\n",
            "Epoch 5/150\n",
            "8/8 [==============================] - 0s 12ms/step - loss: 0.6846 - accuracy: 0.5617 - val_loss: 0.6570 - val_accuracy: 0.6557\n",
            "Epoch 6/150\n",
            "8/8 [==============================] - 0s 11ms/step - loss: 0.6771 - accuracy: 0.5599 - val_loss: 0.6480 - val_accuracy: 0.6557\n",
            "Epoch 7/150\n",
            "8/8 [==============================] - 0s 12ms/step - loss: 0.6599 - accuracy: 0.6291 - val_loss: 0.6393 - val_accuracy: 0.6557\n",
            "Epoch 8/150\n",
            "8/8 [==============================] - 0s 13ms/step - loss: 0.6606 - accuracy: 0.5952 - val_loss: 0.6312 - val_accuracy: 0.6721\n",
            "Epoch 9/150\n",
            "8/8 [==============================] - 0s 13ms/step - loss: 0.6430 - accuracy: 0.6234 - val_loss: 0.6242 - val_accuracy: 0.6721\n",
            "Epoch 10/150\n",
            "8/8 [==============================] - 0s 13ms/step - loss: 0.6467 - accuracy: 0.6395 - val_loss: 0.6169 - val_accuracy: 0.6885\n",
            "Epoch 11/150\n",
            "8/8 [==============================] - 0s 13ms/step - loss: 0.6276 - accuracy: 0.6569 - val_loss: 0.6096 - val_accuracy: 0.7213\n",
            "Epoch 12/150\n",
            "8/8 [==============================] - 0s 12ms/step - loss: 0.6353 - accuracy: 0.6584 - val_loss: 0.6025 - val_accuracy: 0.7049\n",
            "Epoch 13/150\n",
            "8/8 [==============================] - 0s 14ms/step - loss: 0.6186 - accuracy: 0.6598 - val_loss: 0.5948 - val_accuracy: 0.7049\n",
            "Epoch 14/150\n",
            "8/8 [==============================] - 0s 13ms/step - loss: 0.6185 - accuracy: 0.6473 - val_loss: 0.5865 - val_accuracy: 0.7049\n",
            "Epoch 15/150\n",
            "8/8 [==============================] - 0s 14ms/step - loss: 0.6086 - accuracy: 0.6065 - val_loss: 0.5782 - val_accuracy: 0.7049\n",
            "Epoch 16/150\n",
            "8/8 [==============================] - 0s 11ms/step - loss: 0.6053 - accuracy: 0.6746 - val_loss: 0.5706 - val_accuracy: 0.7049\n",
            "Epoch 17/150\n",
            "8/8 [==============================] - 0s 11ms/step - loss: 0.5808 - accuracy: 0.6759 - val_loss: 0.5620 - val_accuracy: 0.7049\n",
            "Epoch 18/150\n",
            "8/8 [==============================] - 0s 12ms/step - loss: 0.5415 - accuracy: 0.7448 - val_loss: 0.5532 - val_accuracy: 0.7213\n",
            "Epoch 19/150\n",
            "8/8 [==============================] - 0s 12ms/step - loss: 0.5882 - accuracy: 0.6802 - val_loss: 0.5446 - val_accuracy: 0.7213\n",
            "Epoch 20/150\n",
            "8/8 [==============================] - 0s 12ms/step - loss: 0.5633 - accuracy: 0.7133 - val_loss: 0.5357 - val_accuracy: 0.7213\n",
            "Epoch 21/150\n",
            "8/8 [==============================] - 0s 13ms/step - loss: 0.6103 - accuracy: 0.6653 - val_loss: 0.5280 - val_accuracy: 0.7377\n",
            "Epoch 22/150\n",
            "8/8 [==============================] - 0s 16ms/step - loss: 0.5562 - accuracy: 0.6929 - val_loss: 0.5212 - val_accuracy: 0.7541\n",
            "Epoch 23/150\n",
            "8/8 [==============================] - 0s 13ms/step - loss: 0.5376 - accuracy: 0.7865 - val_loss: 0.5142 - val_accuracy: 0.7541\n",
            "Epoch 24/150\n",
            "8/8 [==============================] - 0s 11ms/step - loss: 0.5350 - accuracy: 0.7401 - val_loss: 0.5075 - val_accuracy: 0.7705\n",
            "Epoch 25/150\n",
            "8/8 [==============================] - 0s 14ms/step - loss: 0.5511 - accuracy: 0.6968 - val_loss: 0.5007 - val_accuracy: 0.7869\n",
            "Epoch 26/150\n",
            "8/8 [==============================] - 0s 12ms/step - loss: 0.5119 - accuracy: 0.7452 - val_loss: 0.4935 - val_accuracy: 0.8033\n",
            "Epoch 27/150\n",
            "8/8 [==============================] - 0s 12ms/step - loss: 0.5535 - accuracy: 0.7416 - val_loss: 0.4874 - val_accuracy: 0.8197\n",
            "Epoch 28/150\n",
            "8/8 [==============================] - 0s 14ms/step - loss: 0.4874 - accuracy: 0.7894 - val_loss: 0.4811 - val_accuracy: 0.8197\n",
            "Epoch 29/150\n",
            "8/8 [==============================] - 0s 13ms/step - loss: 0.5279 - accuracy: 0.7735 - val_loss: 0.4744 - val_accuracy: 0.8197\n",
            "Epoch 30/150\n",
            "8/8 [==============================] - 0s 12ms/step - loss: 0.5249 - accuracy: 0.7624 - val_loss: 0.4685 - val_accuracy: 0.8361\n",
            "Epoch 31/150\n",
            "8/8 [==============================] - 0s 12ms/step - loss: 0.5312 - accuracy: 0.7338 - val_loss: 0.4629 - val_accuracy: 0.8525\n",
            "Epoch 32/150\n",
            "8/8 [==============================] - 0s 12ms/step - loss: 0.5382 - accuracy: 0.7548 - val_loss: 0.4575 - val_accuracy: 0.8525\n",
            "Epoch 33/150\n",
            "8/8 [==============================] - 0s 12ms/step - loss: 0.5278 - accuracy: 0.7348 - val_loss: 0.4526 - val_accuracy: 0.8525\n",
            "Epoch 34/150\n",
            "8/8 [==============================] - 0s 11ms/step - loss: 0.5023 - accuracy: 0.7364 - val_loss: 0.4479 - val_accuracy: 0.8525\n",
            "Epoch 35/150\n",
            "8/8 [==============================] - 0s 12ms/step - loss: 0.4999 - accuracy: 0.7299 - val_loss: 0.4434 - val_accuracy: 0.8525\n",
            "Epoch 36/150\n",
            "8/8 [==============================] - 0s 12ms/step - loss: 0.5034 - accuracy: 0.7982 - val_loss: 0.4394 - val_accuracy: 0.8525\n",
            "Epoch 37/150\n",
            "8/8 [==============================] - 0s 10ms/step - loss: 0.4916 - accuracy: 0.7860 - val_loss: 0.4365 - val_accuracy: 0.8525\n",
            "Epoch 38/150\n",
            "8/8 [==============================] - 0s 12ms/step - loss: 0.5084 - accuracy: 0.7499 - val_loss: 0.4331 - val_accuracy: 0.8525\n",
            "Epoch 39/150\n",
            "8/8 [==============================] - 0s 13ms/step - loss: 0.4220 - accuracy: 0.7848 - val_loss: 0.4277 - val_accuracy: 0.8525\n",
            "Epoch 40/150\n",
            "8/8 [==============================] - 0s 11ms/step - loss: 0.4777 - accuracy: 0.7686 - val_loss: 0.4230 - val_accuracy: 0.8525\n",
            "Epoch 41/150\n",
            "8/8 [==============================] - 0s 13ms/step - loss: 0.4737 - accuracy: 0.7955 - val_loss: 0.4190 - val_accuracy: 0.8525\n",
            "Epoch 42/150\n",
            "8/8 [==============================] - 0s 14ms/step - loss: 0.4808 - accuracy: 0.7846 - val_loss: 0.4150 - val_accuracy: 0.8689\n",
            "Epoch 43/150\n",
            "8/8 [==============================] - 0s 14ms/step - loss: 0.4313 - accuracy: 0.8224 - val_loss: 0.4110 - val_accuracy: 0.8525\n",
            "Epoch 44/150\n",
            "8/8 [==============================] - 0s 12ms/step - loss: 0.4491 - accuracy: 0.8001 - val_loss: 0.4078 - val_accuracy: 0.8525\n",
            "Epoch 45/150\n",
            "8/8 [==============================] - 0s 12ms/step - loss: 0.4858 - accuracy: 0.7342 - val_loss: 0.4053 - val_accuracy: 0.8525\n",
            "Epoch 46/150\n",
            "8/8 [==============================] - 0s 11ms/step - loss: 0.4405 - accuracy: 0.8122 - val_loss: 0.4020 - val_accuracy: 0.8525\n",
            "Epoch 47/150\n",
            "8/8 [==============================] - 0s 11ms/step - loss: 0.4469 - accuracy: 0.7868 - val_loss: 0.3998 - val_accuracy: 0.8689\n",
            "Epoch 48/150\n",
            "8/8 [==============================] - 0s 11ms/step - loss: 0.4353 - accuracy: 0.8140 - val_loss: 0.3973 - val_accuracy: 0.8689\n",
            "Epoch 49/150\n",
            "8/8 [==============================] - 0s 12ms/step - loss: 0.4220 - accuracy: 0.8121 - val_loss: 0.3943 - val_accuracy: 0.8689\n",
            "Epoch 50/150\n",
            "8/8 [==============================] - 0s 11ms/step - loss: 0.4350 - accuracy: 0.8502 - val_loss: 0.3913 - val_accuracy: 0.8689\n",
            "Epoch 51/150\n",
            "8/8 [==============================] - 0s 11ms/step - loss: 0.4678 - accuracy: 0.7713 - val_loss: 0.3884 - val_accuracy: 0.8689\n",
            "Epoch 52/150\n",
            "8/8 [==============================] - 0s 13ms/step - loss: 0.3962 - accuracy: 0.8293 - val_loss: 0.3853 - val_accuracy: 0.8689\n",
            "Epoch 53/150\n",
            "8/8 [==============================] - 0s 11ms/step - loss: 0.4612 - accuracy: 0.7957 - val_loss: 0.3833 - val_accuracy: 0.8689\n",
            "Epoch 54/150\n",
            "8/8 [==============================] - 0s 13ms/step - loss: 0.4207 - accuracy: 0.8118 - val_loss: 0.3811 - val_accuracy: 0.8689\n",
            "Epoch 55/150\n",
            "8/8 [==============================] - 0s 13ms/step - loss: 0.4215 - accuracy: 0.8365 - val_loss: 0.3778 - val_accuracy: 0.8689\n",
            "Epoch 56/150\n",
            "8/8 [==============================] - 0s 11ms/step - loss: 0.4081 - accuracy: 0.8502 - val_loss: 0.3759 - val_accuracy: 0.8689\n",
            "Epoch 57/150\n",
            "8/8 [==============================] - 0s 11ms/step - loss: 0.3868 - accuracy: 0.8226 - val_loss: 0.3746 - val_accuracy: 0.8689\n",
            "Epoch 58/150\n",
            "8/8 [==============================] - 0s 12ms/step - loss: 0.4261 - accuracy: 0.8563 - val_loss: 0.3722 - val_accuracy: 0.8689\n",
            "Epoch 59/150\n",
            "8/8 [==============================] - 0s 12ms/step - loss: 0.3912 - accuracy: 0.8319 - val_loss: 0.3705 - val_accuracy: 0.8689\n",
            "Epoch 60/150\n",
            "8/8 [==============================] - 0s 12ms/step - loss: 0.3876 - accuracy: 0.8591 - val_loss: 0.3677 - val_accuracy: 0.8852\n",
            "Epoch 61/150\n",
            "8/8 [==============================] - 0s 12ms/step - loss: 0.4233 - accuracy: 0.8183 - val_loss: 0.3652 - val_accuracy: 0.8852\n",
            "Epoch 62/150\n",
            "8/8 [==============================] - 0s 11ms/step - loss: 0.4154 - accuracy: 0.8428 - val_loss: 0.3662 - val_accuracy: 0.8852\n",
            "Epoch 63/150\n",
            "8/8 [==============================] - 0s 11ms/step - loss: 0.3574 - accuracy: 0.8484 - val_loss: 0.3666 - val_accuracy: 0.8852\n",
            "Epoch 64/150\n",
            "8/8 [==============================] - 0s 12ms/step - loss: 0.4136 - accuracy: 0.8063 - val_loss: 0.3680 - val_accuracy: 0.8852\n",
            "Epoch 65/150\n",
            "8/8 [==============================] - 0s 12ms/step - loss: 0.4414 - accuracy: 0.7858 - val_loss: 0.3684 - val_accuracy: 0.8852\n",
            "Epoch 66/150\n",
            "8/8 [==============================] - 0s 11ms/step - loss: 0.4271 - accuracy: 0.8192 - val_loss: 0.3644 - val_accuracy: 0.8852\n",
            "Epoch 67/150\n",
            "8/8 [==============================] - 0s 11ms/step - loss: 0.4168 - accuracy: 0.8316 - val_loss: 0.3608 - val_accuracy: 0.8852\n",
            "Epoch 68/150\n",
            "8/8 [==============================] - 0s 11ms/step - loss: 0.4085 - accuracy: 0.8215 - val_loss: 0.3591 - val_accuracy: 0.8852\n",
            "Epoch 69/150\n",
            "8/8 [==============================] - 0s 13ms/step - loss: 0.3880 - accuracy: 0.8431 - val_loss: 0.3570 - val_accuracy: 0.9016\n",
            "Epoch 70/150\n",
            "8/8 [==============================] - 0s 12ms/step - loss: 0.4258 - accuracy: 0.8128 - val_loss: 0.3554 - val_accuracy: 0.9016\n",
            "Epoch 71/150\n",
            "8/8 [==============================] - 0s 12ms/step - loss: 0.3997 - accuracy: 0.8484 - val_loss: 0.3548 - val_accuracy: 0.9016\n",
            "Epoch 72/150\n",
            "8/8 [==============================] - 0s 13ms/step - loss: 0.3947 - accuracy: 0.8339 - val_loss: 0.3546 - val_accuracy: 0.8852\n",
            "Epoch 73/150\n",
            "8/8 [==============================] - 0s 10ms/step - loss: 0.3958 - accuracy: 0.8666 - val_loss: 0.3532 - val_accuracy: 0.8852\n",
            "Epoch 74/150\n",
            "8/8 [==============================] - 0s 13ms/step - loss: 0.4064 - accuracy: 0.8547 - val_loss: 0.3522 - val_accuracy: 0.9016\n",
            "Epoch 75/150\n",
            "8/8 [==============================] - 0s 13ms/step - loss: 0.4021 - accuracy: 0.8383 - val_loss: 0.3516 - val_accuracy: 0.9016\n",
            "Epoch 76/150\n",
            "8/8 [==============================] - 0s 11ms/step - loss: 0.4070 - accuracy: 0.8424 - val_loss: 0.3507 - val_accuracy: 0.9016\n",
            "Epoch 77/150\n",
            "8/8 [==============================] - 0s 13ms/step - loss: 0.3542 - accuracy: 0.8487 - val_loss: 0.3497 - val_accuracy: 0.9016\n",
            "Epoch 78/150\n",
            "8/8 [==============================] - 0s 12ms/step - loss: 0.3690 - accuracy: 0.8858 - val_loss: 0.3504 - val_accuracy: 0.9016\n",
            "Epoch 79/150\n",
            "8/8 [==============================] - 0s 12ms/step - loss: 0.3806 - accuracy: 0.8719 - val_loss: 0.3508 - val_accuracy: 0.9016\n",
            "Epoch 80/150\n",
            "8/8 [==============================] - 0s 12ms/step - loss: 0.3465 - accuracy: 0.8542 - val_loss: 0.3505 - val_accuracy: 0.8852\n",
            "Epoch 81/150\n",
            "8/8 [==============================] - 0s 12ms/step - loss: 0.3721 - accuracy: 0.8607 - val_loss: 0.3506 - val_accuracy: 0.8852\n",
            "Epoch 82/150\n",
            "8/8 [==============================] - 0s 12ms/step - loss: 0.3738 - accuracy: 0.8233 - val_loss: 0.3513 - val_accuracy: 0.8852\n",
            "Epoch 83/150\n",
            "8/8 [==============================] - 0s 13ms/step - loss: 0.3923 - accuracy: 0.8414 - val_loss: 0.3513 - val_accuracy: 0.9016\n",
            "Epoch 84/150\n",
            "8/8 [==============================] - 0s 14ms/step - loss: 0.3859 - accuracy: 0.8629 - val_loss: 0.3521 - val_accuracy: 0.9016\n",
            "Epoch 85/150\n",
            "8/8 [==============================] - 0s 12ms/step - loss: 0.3794 - accuracy: 0.8854 - val_loss: 0.3514 - val_accuracy: 0.9016\n",
            "Epoch 86/150\n",
            "8/8 [==============================] - 0s 13ms/step - loss: 0.4360 - accuracy: 0.8455 - val_loss: 0.3508 - val_accuracy: 0.9016\n",
            "Epoch 87/150\n",
            "8/8 [==============================] - 0s 13ms/step - loss: 0.3568 - accuracy: 0.8628 - val_loss: 0.3495 - val_accuracy: 0.9016\n",
            "Epoch 88/150\n",
            "8/8 [==============================] - 0s 11ms/step - loss: 0.3829 - accuracy: 0.8477 - val_loss: 0.3488 - val_accuracy: 0.9016\n",
            "Epoch 89/150\n",
            "8/8 [==============================] - 0s 12ms/step - loss: 0.3999 - accuracy: 0.8250 - val_loss: 0.3499 - val_accuracy: 0.8852\n",
            "Epoch 90/150\n",
            "8/8 [==============================] - 0s 12ms/step - loss: 0.3148 - accuracy: 0.8522 - val_loss: 0.3499 - val_accuracy: 0.8852\n",
            "Epoch 91/150\n",
            "8/8 [==============================] - 0s 13ms/step - loss: 0.3524 - accuracy: 0.8593 - val_loss: 0.3504 - val_accuracy: 0.8689\n",
            "Epoch 92/150\n",
            "8/8 [==============================] - 0s 13ms/step - loss: 0.3421 - accuracy: 0.8833 - val_loss: 0.3505 - val_accuracy: 0.8852\n",
            "Epoch 93/150\n",
            "8/8 [==============================] - 0s 13ms/step - loss: 0.3514 - accuracy: 0.8536 - val_loss: 0.3510 - val_accuracy: 0.8852\n",
            "Epoch 94/150\n",
            "8/8 [==============================] - 0s 11ms/step - loss: 0.3616 - accuracy: 0.8177 - val_loss: 0.3522 - val_accuracy: 0.8689\n",
            "Epoch 95/150\n",
            "8/8 [==============================] - 0s 13ms/step - loss: 0.3501 - accuracy: 0.8709 - val_loss: 0.3503 - val_accuracy: 0.8689\n",
            "Epoch 96/150\n",
            "8/8 [==============================] - 0s 14ms/step - loss: 0.3342 - accuracy: 0.8544 - val_loss: 0.3479 - val_accuracy: 0.8689\n",
            "Epoch 97/150\n",
            "8/8 [==============================] - 0s 14ms/step - loss: 0.3987 - accuracy: 0.7901 - val_loss: 0.3475 - val_accuracy: 0.8689\n",
            "Epoch 98/150\n",
            "8/8 [==============================] - 0s 11ms/step - loss: 0.4148 - accuracy: 0.8234 - val_loss: 0.3478 - val_accuracy: 0.8525\n",
            "Epoch 99/150\n",
            "8/8 [==============================] - 0s 13ms/step - loss: 0.3427 - accuracy: 0.8673 - val_loss: 0.3467 - val_accuracy: 0.8525\n",
            "Epoch 100/150\n",
            "8/8 [==============================] - 0s 13ms/step - loss: 0.3923 - accuracy: 0.8328 - val_loss: 0.3483 - val_accuracy: 0.8525\n",
            "Epoch 101/150\n",
            "8/8 [==============================] - 0s 12ms/step - loss: 0.3527 - accuracy: 0.8568 - val_loss: 0.3492 - val_accuracy: 0.8525\n",
            "Epoch 102/150\n",
            "8/8 [==============================] - 0s 12ms/step - loss: 0.3485 - accuracy: 0.8662 - val_loss: 0.3513 - val_accuracy: 0.8689\n",
            "Epoch 103/150\n",
            "8/8 [==============================] - 0s 12ms/step - loss: 0.4067 - accuracy: 0.8320 - val_loss: 0.3519 - val_accuracy: 0.8689\n",
            "Epoch 104/150\n",
            "8/8 [==============================] - 0s 13ms/step - loss: 0.3168 - accuracy: 0.8495 - val_loss: 0.3513 - val_accuracy: 0.8689\n",
            "Epoch 105/150\n",
            "8/8 [==============================] - 0s 13ms/step - loss: 0.3547 - accuracy: 0.8591 - val_loss: 0.3498 - val_accuracy: 0.8689\n",
            "Epoch 106/150\n",
            "8/8 [==============================] - 0s 12ms/step - loss: 0.2770 - accuracy: 0.9038 - val_loss: 0.3472 - val_accuracy: 0.8689\n",
            "Epoch 107/150\n",
            "8/8 [==============================] - 0s 15ms/step - loss: 0.3562 - accuracy: 0.8569 - val_loss: 0.3466 - val_accuracy: 0.8525\n",
            "Epoch 108/150\n",
            "8/8 [==============================] - 0s 14ms/step - loss: 0.3122 - accuracy: 0.8933 - val_loss: 0.3466 - val_accuracy: 0.8525\n",
            "Epoch 109/150\n",
            "8/8 [==============================] - 0s 12ms/step - loss: 0.3658 - accuracy: 0.8614 - val_loss: 0.3472 - val_accuracy: 0.8689\n",
            "Epoch 110/150\n",
            "8/8 [==============================] - 0s 12ms/step - loss: 0.3778 - accuracy: 0.8614 - val_loss: 0.3475 - val_accuracy: 0.8525\n",
            "Epoch 111/150\n",
            "8/8 [==============================] - 0s 12ms/step - loss: 0.3292 - accuracy: 0.8959 - val_loss: 0.3480 - val_accuracy: 0.8525\n",
            "Epoch 112/150\n",
            "8/8 [==============================] - 0s 11ms/step - loss: 0.3241 - accuracy: 0.8880 - val_loss: 0.3491 - val_accuracy: 0.8525\n",
            "Epoch 113/150\n",
            "8/8 [==============================] - 0s 13ms/step - loss: 0.3414 - accuracy: 0.8781 - val_loss: 0.3473 - val_accuracy: 0.8525\n",
            "Epoch 114/150\n",
            "8/8 [==============================] - 0s 12ms/step - loss: 0.3198 - accuracy: 0.8500 - val_loss: 0.3469 - val_accuracy: 0.8525\n",
            "Epoch 115/150\n",
            "8/8 [==============================] - 0s 14ms/step - loss: 0.3477 - accuracy: 0.8532 - val_loss: 0.3471 - val_accuracy: 0.8689\n",
            "Epoch 116/150\n",
            "8/8 [==============================] - 0s 12ms/step - loss: 0.3470 - accuracy: 0.8512 - val_loss: 0.3468 - val_accuracy: 0.8689\n",
            "Epoch 117/150\n",
            "8/8 [==============================] - 0s 14ms/step - loss: 0.3341 - accuracy: 0.8766 - val_loss: 0.3476 - val_accuracy: 0.8689\n",
            "Epoch 118/150\n",
            "8/8 [==============================] - 0s 12ms/step - loss: 0.3069 - accuracy: 0.8724 - val_loss: 0.3473 - val_accuracy: 0.8689\n",
            "Epoch 119/150\n",
            "8/8 [==============================] - 0s 12ms/step - loss: 0.3287 - accuracy: 0.8926 - val_loss: 0.3479 - val_accuracy: 0.8689\n",
            "Epoch 120/150\n",
            "8/8 [==============================] - 0s 11ms/step - loss: 0.3332 - accuracy: 0.8521 - val_loss: 0.3480 - val_accuracy: 0.8689\n",
            "Epoch 121/150\n",
            "8/8 [==============================] - 0s 12ms/step - loss: 0.3335 - accuracy: 0.8764 - val_loss: 0.3479 - val_accuracy: 0.8525\n",
            "Epoch 122/150\n",
            "8/8 [==============================] - 0s 13ms/step - loss: 0.3686 - accuracy: 0.8571 - val_loss: 0.3476 - val_accuracy: 0.8689\n",
            "Epoch 123/150\n",
            "8/8 [==============================] - 0s 13ms/step - loss: 0.3487 - accuracy: 0.8969 - val_loss: 0.3477 - val_accuracy: 0.8689\n",
            "Epoch 124/150\n",
            "8/8 [==============================] - 0s 12ms/step - loss: 0.3575 - accuracy: 0.8736 - val_loss: 0.3479 - val_accuracy: 0.8689\n",
            "Epoch 125/150\n",
            "8/8 [==============================] - 0s 13ms/step - loss: 0.2981 - accuracy: 0.8808 - val_loss: 0.3474 - val_accuracy: 0.8689\n",
            "Epoch 126/150\n",
            "8/8 [==============================] - 0s 13ms/step - loss: 0.3320 - accuracy: 0.8786 - val_loss: 0.3478 - val_accuracy: 0.8689\n",
            "Epoch 127/150\n",
            "8/8 [==============================] - 0s 13ms/step - loss: 0.2971 - accuracy: 0.8625 - val_loss: 0.3471 - val_accuracy: 0.8689\n",
            "Epoch 128/150\n",
            "8/8 [==============================] - 0s 13ms/step - loss: 0.2985 - accuracy: 0.9025 - val_loss: 0.3476 - val_accuracy: 0.8689\n",
            "Epoch 129/150\n",
            "8/8 [==============================] - 0s 12ms/step - loss: 0.3133 - accuracy: 0.8675 - val_loss: 0.3466 - val_accuracy: 0.8689\n",
            "Epoch 130/150\n",
            "8/8 [==============================] - 0s 13ms/step - loss: 0.3212 - accuracy: 0.8564 - val_loss: 0.3479 - val_accuracy: 0.8689\n",
            "Epoch 131/150\n",
            "8/8 [==============================] - 0s 15ms/step - loss: 0.3151 - accuracy: 0.8662 - val_loss: 0.3482 - val_accuracy: 0.8689\n",
            "Epoch 132/150\n",
            "8/8 [==============================] - 0s 13ms/step - loss: 0.3246 - accuracy: 0.8715 - val_loss: 0.3491 - val_accuracy: 0.8689\n",
            "Epoch 133/150\n",
            "8/8 [==============================] - 0s 15ms/step - loss: 0.3059 - accuracy: 0.8837 - val_loss: 0.3487 - val_accuracy: 0.8689\n",
            "Epoch 134/150\n",
            "8/8 [==============================] - 0s 14ms/step - loss: 0.3184 - accuracy: 0.8698 - val_loss: 0.3475 - val_accuracy: 0.8689\n",
            "Epoch 135/150\n",
            "8/8 [==============================] - 0s 12ms/step - loss: 0.3398 - accuracy: 0.8697 - val_loss: 0.3485 - val_accuracy: 0.8689\n",
            "Epoch 136/150\n",
            "8/8 [==============================] - 0s 13ms/step - loss: 0.2892 - accuracy: 0.8910 - val_loss: 0.3476 - val_accuracy: 0.8689\n",
            "Epoch 137/150\n",
            "8/8 [==============================] - 0s 13ms/step - loss: 0.2769 - accuracy: 0.8911 - val_loss: 0.3464 - val_accuracy: 0.8689\n",
            "Epoch 138/150\n",
            "8/8 [==============================] - 0s 12ms/step - loss: 0.3001 - accuracy: 0.8781 - val_loss: 0.3447 - val_accuracy: 0.8689\n",
            "Epoch 139/150\n",
            "8/8 [==============================] - 0s 14ms/step - loss: 0.3144 - accuracy: 0.9128 - val_loss: 0.3445 - val_accuracy: 0.8689\n",
            "Epoch 140/150\n",
            "8/8 [==============================] - 0s 14ms/step - loss: 0.3006 - accuracy: 0.8971 - val_loss: 0.3448 - val_accuracy: 0.8689\n",
            "Epoch 141/150\n",
            "8/8 [==============================] - 0s 12ms/step - loss: 0.3047 - accuracy: 0.8795 - val_loss: 0.3444 - val_accuracy: 0.8689\n",
            "Epoch 142/150\n",
            "8/8 [==============================] - 0s 13ms/step - loss: 0.3033 - accuracy: 0.9028 - val_loss: 0.3474 - val_accuracy: 0.8689\n",
            "Epoch 143/150\n",
            "8/8 [==============================] - 0s 14ms/step - loss: 0.2813 - accuracy: 0.9062 - val_loss: 0.3470 - val_accuracy: 0.8689\n",
            "Epoch 144/150\n",
            "8/8 [==============================] - 0s 14ms/step - loss: 0.3173 - accuracy: 0.8690 - val_loss: 0.3478 - val_accuracy: 0.8689\n",
            "Epoch 145/150\n",
            "8/8 [==============================] - 0s 13ms/step - loss: 0.2894 - accuracy: 0.9055 - val_loss: 0.3478 - val_accuracy: 0.8689\n",
            "Epoch 146/150\n",
            "8/8 [==============================] - 0s 13ms/step - loss: 0.2801 - accuracy: 0.8784 - val_loss: 0.3485 - val_accuracy: 0.8689\n",
            "Epoch 147/150\n",
            "8/8 [==============================] - 0s 12ms/step - loss: 0.3283 - accuracy: 0.8674 - val_loss: 0.3481 - val_accuracy: 0.8689\n",
            "Epoch 148/150\n",
            "8/8 [==============================] - 0s 14ms/step - loss: 0.2930 - accuracy: 0.8914 - val_loss: 0.3481 - val_accuracy: 0.8689\n",
            "Epoch 149/150\n",
            "8/8 [==============================] - 0s 15ms/step - loss: 0.3336 - accuracy: 0.8706 - val_loss: 0.3480 - val_accuracy: 0.8689\n",
            "Epoch 150/150\n",
            "8/8 [==============================] - 0s 13ms/step - loss: 0.3161 - accuracy: 0.8524 - val_loss: 0.3483 - val_accuracy: 0.8689\n"
          ],
          "name": "stdout"
        },
        {
          "output_type": "display_data",
          "data": {
            "image/png": "[encoded data removed]",
            "text/plain": [
              "<Figure size 432x288 with 1 Axes>"
            ]
          },
          "metadata": {
            "tags": [],
            "needs_background": "light"
          }
        },
        {
          "output_type": "display_data",
          "data": {
            "image/png": "[encoded data removed]",
            "text/plain": [
              "<Figure size 432x288 with 1 Axes>"
            ]
          },
          "metadata": {
            "tags": [],
            "needs_background": "light"
          }
        },
        {
          "output_type": "stream",
          "text": [
            "accuracy: 86.885%\n",
            "Epoch 1/150\n",
            "8/8 [==============================] - 1s 39ms/step - loss: 0.7893 - accuracy: 0.4236 - val_loss: 0.7599 - val_accuracy: 0.3934\n",
            "Epoch 2/150\n",
            "8/8 [==============================] - 0s 13ms/step - loss: 0.7442 - accuracy: 0.4683 - val_loss: 0.7430 - val_accuracy: 0.3934\n",
            "Epoch 3/150\n",
            "8/8 [==============================] - 0s 12ms/step - loss: 0.7180 - accuracy: 0.5089 - val_loss: 0.7285 - val_accuracy: 0.4098\n",
            "Epoch 4/150\n",
            "8/8 [==============================] - 0s 14ms/step - loss: 0.7279 - accuracy: 0.5273 - val_loss: 0.7160 - val_accuracy: 0.4098\n",
            "Epoch 5/150\n",
            "8/8 [==============================] - 0s 13ms/step - loss: 0.6923 - accuracy: 0.5525 - val_loss: 0.7051 - val_accuracy: 0.4262\n",
            "Epoch 6/150\n",
            "8/8 [==============================] - 0s 12ms/step - loss: 0.6857 - accuracy: 0.6239 - val_loss: 0.6959 - val_accuracy: 0.4590\n",
            "Epoch 7/150\n",
            "8/8 [==============================] - 0s 15ms/step - loss: 0.6676 - accuracy: 0.5702 - val_loss: 0.6868 - val_accuracy: 0.4918\n",
            "Epoch 8/150\n",
            "8/8 [==============================] - 0s 13ms/step - loss: 0.6587 - accuracy: 0.5720 - val_loss: 0.6767 - val_accuracy: 0.5574\n",
            "Epoch 9/150\n",
            "8/8 [==============================] - 0s 13ms/step - loss: 0.6483 - accuracy: 0.5965 - val_loss: 0.6669 - val_accuracy: 0.5902\n",
            "Epoch 10/150\n",
            "8/8 [==============================] - 0s 14ms/step - loss: 0.6323 - accuracy: 0.6553 - val_loss: 0.6571 - val_accuracy: 0.6230\n",
            "Epoch 11/150\n",
            "8/8 [==============================] - 0s 14ms/step - loss: 0.6425 - accuracy: 0.6398 - val_loss: 0.6471 - val_accuracy: 0.6721\n",
            "Epoch 12/150\n",
            "8/8 [==============================] - 0s 12ms/step - loss: 0.6102 - accuracy: 0.6961 - val_loss: 0.6374 - val_accuracy: 0.7377\n",
            "Epoch 13/150\n",
            "8/8 [==============================] - 0s 13ms/step - loss: 0.6058 - accuracy: 0.6734 - val_loss: 0.6280 - val_accuracy: 0.7377\n",
            "Epoch 14/150\n",
            "8/8 [==============================] - 0s 13ms/step - loss: 0.5835 - accuracy: 0.7338 - val_loss: 0.6180 - val_accuracy: 0.7541\n",
            "Epoch 15/150\n",
            "8/8 [==============================] - 0s 14ms/step - loss: 0.5752 - accuracy: 0.7353 - val_loss: 0.6075 - val_accuracy: 0.7869\n",
            "Epoch 16/150\n",
            "8/8 [==============================] - 0s 14ms/step - loss: 0.6083 - accuracy: 0.6644 - val_loss: 0.5967 - val_accuracy: 0.7869\n",
            "Epoch 17/150\n",
            "8/8 [==============================] - 0s 14ms/step - loss: 0.5891 - accuracy: 0.7005 - val_loss: 0.5849 - val_accuracy: 0.8033\n",
            "Epoch 18/150\n",
            "8/8 [==============================] - 0s 13ms/step - loss: 0.5296 - accuracy: 0.7764 - val_loss: 0.5720 - val_accuracy: 0.8033\n",
            "Epoch 19/150\n",
            "8/8 [==============================] - 0s 11ms/step - loss: 0.5803 - accuracy: 0.7275 - val_loss: 0.5591 - val_accuracy: 0.8033\n",
            "Epoch 20/150\n",
            "8/8 [==============================] - 0s 12ms/step - loss: 0.5760 - accuracy: 0.7513 - val_loss: 0.5458 - val_accuracy: 0.8197\n",
            "Epoch 21/150\n",
            "8/8 [==============================] - 0s 14ms/step - loss: 0.5539 - accuracy: 0.7593 - val_loss: 0.5334 - val_accuracy: 0.8197\n",
            "Epoch 22/150\n",
            "8/8 [==============================] - 0s 14ms/step - loss: 0.5358 - accuracy: 0.7442 - val_loss: 0.5209 - val_accuracy: 0.8361\n",
            "Epoch 23/150\n",
            "8/8 [==============================] - 0s 12ms/step - loss: 0.5112 - accuracy: 0.7919 - val_loss: 0.5104 - val_accuracy: 0.8361\n",
            "Epoch 24/150\n",
            "8/8 [==============================] - 0s 13ms/step - loss: 0.5046 - accuracy: 0.7854 - val_loss: 0.4996 - val_accuracy: 0.8361\n",
            "Epoch 25/150\n",
            "8/8 [==============================] - 0s 13ms/step - loss: 0.5117 - accuracy: 0.7217 - val_loss: 0.4898 - val_accuracy: 0.8361\n",
            "Epoch 26/150\n",
            "8/8 [==============================] - 0s 13ms/step - loss: 0.4873 - accuracy: 0.7850 - val_loss: 0.4799 - val_accuracy: 0.8361\n",
            "Epoch 27/150\n",
            "8/8 [==============================] - 0s 13ms/step - loss: 0.4887 - accuracy: 0.7771 - val_loss: 0.4701 - val_accuracy: 0.8361\n",
            "Epoch 28/150\n",
            "8/8 [==============================] - 0s 12ms/step - loss: 0.4657 - accuracy: 0.8114 - val_loss: 0.4599 - val_accuracy: 0.8361\n",
            "Epoch 29/150\n",
            "8/8 [==============================] - 0s 14ms/step - loss: 0.4434 - accuracy: 0.7849 - val_loss: 0.4510 - val_accuracy: 0.8525\n",
            "Epoch 30/150\n",
            "8/8 [==============================] - 0s 14ms/step - loss: 0.4521 - accuracy: 0.8063 - val_loss: 0.4429 - val_accuracy: 0.8525\n",
            "Epoch 31/150\n",
            "8/8 [==============================] - 0s 13ms/step - loss: 0.4568 - accuracy: 0.7658 - val_loss: 0.4366 - val_accuracy: 0.8525\n",
            "Epoch 32/150\n",
            "8/8 [==============================] - 0s 11ms/step - loss: 0.4865 - accuracy: 0.7069 - val_loss: 0.4305 - val_accuracy: 0.8525\n",
            "Epoch 33/150\n",
            "8/8 [==============================] - 0s 13ms/step - loss: 0.4660 - accuracy: 0.7774 - val_loss: 0.4246 - val_accuracy: 0.8689\n",
            "Epoch 34/150\n",
            "8/8 [==============================] - 0s 16ms/step - loss: 0.4303 - accuracy: 0.8251 - val_loss: 0.4193 - val_accuracy: 0.8689\n",
            "Epoch 35/150\n",
            "8/8 [==============================] - 0s 12ms/step - loss: 0.4356 - accuracy: 0.8379 - val_loss: 0.4147 - val_accuracy: 0.8689\n",
            "Epoch 36/150\n",
            "8/8 [==============================] - 0s 14ms/step - loss: 0.4390 - accuracy: 0.8370 - val_loss: 0.4096 - val_accuracy: 0.8689\n",
            "Epoch 37/150\n",
            "8/8 [==============================] - 0s 14ms/step - loss: 0.4165 - accuracy: 0.8033 - val_loss: 0.4058 - val_accuracy: 0.8689\n",
            "Epoch 38/150\n",
            "8/8 [==============================] - 0s 11ms/step - loss: 0.3979 - accuracy: 0.8303 - val_loss: 0.4019 - val_accuracy: 0.8689\n",
            "Epoch 39/150\n",
            "8/8 [==============================] - 0s 14ms/step - loss: 0.4214 - accuracy: 0.8063 - val_loss: 0.3990 - val_accuracy: 0.8689\n",
            "Epoch 40/150\n",
            "8/8 [==============================] - 0s 12ms/step - loss: 0.4176 - accuracy: 0.8117 - val_loss: 0.3958 - val_accuracy: 0.8689\n",
            "Epoch 41/150\n",
            "8/8 [==============================] - 0s 12ms/step - loss: 0.4139 - accuracy: 0.8220 - val_loss: 0.3925 - val_accuracy: 0.8689\n",
            "Epoch 42/150\n",
            "8/8 [==============================] - 0s 13ms/step - loss: 0.4151 - accuracy: 0.8410 - val_loss: 0.3900 - val_accuracy: 0.8689\n",
            "Epoch 43/150\n",
            "8/8 [==============================] - 0s 13ms/step - loss: 0.4078 - accuracy: 0.8350 - val_loss: 0.3881 - val_accuracy: 0.8852\n",
            "Epoch 44/150\n",
            "8/8 [==============================] - 0s 13ms/step - loss: 0.4147 - accuracy: 0.8306 - val_loss: 0.3860 - val_accuracy: 0.8852\n",
            "Epoch 45/150\n",
            "8/8 [==============================] - 0s 13ms/step - loss: 0.4132 - accuracy: 0.8269 - val_loss: 0.3856 - val_accuracy: 0.8852\n",
            "Epoch 46/150\n",
            "8/8 [==============================] - 0s 13ms/step - loss: 0.3783 - accuracy: 0.8605 - val_loss: 0.3851 - val_accuracy: 0.8689\n",
            "Epoch 47/150\n",
            "8/8 [==============================] - 0s 12ms/step - loss: 0.4055 - accuracy: 0.8410 - val_loss: 0.3840 - val_accuracy: 0.8689\n",
            "Epoch 48/150\n",
            "8/8 [==============================] - 0s 12ms/step - loss: 0.3806 - accuracy: 0.8742 - val_loss: 0.3828 - val_accuracy: 0.8689\n",
            "Epoch 49/150\n",
            "8/8 [==============================] - 0s 14ms/step - loss: 0.4163 - accuracy: 0.8112 - val_loss: 0.3811 - val_accuracy: 0.8852\n",
            "Epoch 50/150\n",
            "8/8 [==============================] - 0s 14ms/step - loss: 0.3831 - accuracy: 0.8805 - val_loss: 0.3792 - val_accuracy: 0.8852\n",
            "Epoch 51/150\n",
            "8/8 [==============================] - 0s 14ms/step - loss: 0.3860 - accuracy: 0.8722 - val_loss: 0.3771 - val_accuracy: 0.8852\n",
            "Epoch 52/150\n",
            "8/8 [==============================] - 0s 12ms/step - loss: 0.4144 - accuracy: 0.8335 - val_loss: 0.3767 - val_accuracy: 0.9016\n",
            "Epoch 53/150\n",
            "8/8 [==============================] - 0s 13ms/step - loss: 0.3452 - accuracy: 0.8581 - val_loss: 0.3757 - val_accuracy: 0.9016\n",
            "Epoch 54/150\n",
            "8/8 [==============================] - 0s 13ms/step - loss: 0.3469 - accuracy: 0.8674 - val_loss: 0.3736 - val_accuracy: 0.8852\n",
            "Epoch 55/150\n",
            "8/8 [==============================] - 0s 14ms/step - loss: 0.4044 - accuracy: 0.8117 - val_loss: 0.3722 - val_accuracy: 0.8852\n",
            "Epoch 56/150\n",
            "8/8 [==============================] - 0s 15ms/step - loss: 0.3873 - accuracy: 0.8468 - val_loss: 0.3708 - val_accuracy: 0.8852\n",
            "Epoch 57/150\n",
            "8/8 [==============================] - 0s 13ms/step - loss: 0.3914 - accuracy: 0.8566 - val_loss: 0.3692 - val_accuracy: 0.8852\n",
            "Epoch 58/150\n",
            "8/8 [==============================] - 0s 13ms/step - loss: 0.4010 - accuracy: 0.8633 - val_loss: 0.3684 - val_accuracy: 0.8852\n",
            "Epoch 59/150\n",
            "8/8 [==============================] - 0s 14ms/step - loss: 0.3904 - accuracy: 0.8500 - val_loss: 0.3684 - val_accuracy: 0.8852\n",
            "Epoch 60/150\n",
            "8/8 [==============================] - 0s 12ms/step - loss: 0.3827 - accuracy: 0.8601 - val_loss: 0.3685 - val_accuracy: 0.8852\n",
            "Epoch 61/150\n",
            "8/8 [==============================] - 0s 12ms/step - loss: 0.3589 - accuracy: 0.8783 - val_loss: 0.3675 - val_accuracy: 0.8852\n",
            "Epoch 62/150\n",
            "8/8 [==============================] - 0s 14ms/step - loss: 0.3814 - accuracy: 0.8429 - val_loss: 0.3675 - val_accuracy: 0.8852\n",
            "Epoch 63/150\n",
            "8/8 [==============================] - 0s 15ms/step - loss: 0.4376 - accuracy: 0.7946 - val_loss: 0.3675 - val_accuracy: 0.8852\n",
            "Epoch 64/150\n",
            "8/8 [==============================] - 0s 13ms/step - loss: 0.3652 - accuracy: 0.8404 - val_loss: 0.3667 - val_accuracy: 0.8852\n",
            "Epoch 65/150\n",
            "8/8 [==============================] - 0s 13ms/step - loss: 0.3555 - accuracy: 0.8411 - val_loss: 0.3653 - val_accuracy: 0.8852\n",
            "Epoch 66/150\n",
            "8/8 [==============================] - 0s 15ms/step - loss: 0.3511 - accuracy: 0.8697 - val_loss: 0.3645 - val_accuracy: 0.8852\n",
            "Epoch 67/150\n",
            "8/8 [==============================] - 0s 13ms/step - loss: 0.3445 - accuracy: 0.8778 - val_loss: 0.3639 - val_accuracy: 0.8852\n",
            "Epoch 68/150\n",
            "8/8 [==============================] - 0s 12ms/step - loss: 0.3492 - accuracy: 0.8538 - val_loss: 0.3629 - val_accuracy: 0.8852\n",
            "Epoch 69/150\n",
            "8/8 [==============================] - 0s 13ms/step - loss: 0.3911 - accuracy: 0.8461 - val_loss: 0.3618 - val_accuracy: 0.8852\n",
            "Epoch 70/150\n",
            "8/8 [==============================] - 0s 14ms/step - loss: 0.3070 - accuracy: 0.8886 - val_loss: 0.3601 - val_accuracy: 0.8852\n",
            "Epoch 71/150\n",
            "8/8 [==============================] - 0s 14ms/step - loss: 0.3424 - accuracy: 0.8592 - val_loss: 0.3596 - val_accuracy: 0.8852\n",
            "Epoch 72/150\n",
            "8/8 [==============================] - 0s 11ms/step - loss: 0.3849 - accuracy: 0.8463 - val_loss: 0.3590 - val_accuracy: 0.8852\n",
            "Epoch 73/150\n",
            "8/8 [==============================] - 0s 13ms/step - loss: 0.3406 - accuracy: 0.8756 - val_loss: 0.3583 - val_accuracy: 0.8852\n",
            "Epoch 74/150\n",
            "8/8 [==============================] - 0s 14ms/step - loss: 0.3600 - accuracy: 0.8447 - val_loss: 0.3581 - val_accuracy: 0.8852\n",
            "Epoch 75/150\n",
            "8/8 [==============================] - 0s 13ms/step - loss: 0.3083 - accuracy: 0.8800 - val_loss: 0.3586 - val_accuracy: 0.8852\n",
            "Epoch 76/150\n",
            "8/8 [==============================] - 0s 13ms/step - loss: 0.3446 - accuracy: 0.8652 - val_loss: 0.3593 - val_accuracy: 0.8852\n",
            "Epoch 77/150\n",
            "8/8 [==============================] - 0s 13ms/step - loss: 0.3789 - accuracy: 0.8687 - val_loss: 0.3593 - val_accuracy: 0.8852\n",
            "Epoch 78/150\n",
            "8/8 [==============================] - 0s 13ms/step - loss: 0.3728 - accuracy: 0.8516 - val_loss: 0.3584 - val_accuracy: 0.8852\n",
            "Epoch 79/150\n",
            "8/8 [==============================] - 0s 13ms/step - loss: 0.3733 - accuracy: 0.8498 - val_loss: 0.3573 - val_accuracy: 0.8852\n",
            "Epoch 80/150\n",
            "8/8 [==============================] - 0s 15ms/step - loss: 0.3697 - accuracy: 0.8719 - val_loss: 0.3565 - val_accuracy: 0.8852\n",
            "Epoch 81/150\n",
            "8/8 [==============================] - 0s 12ms/step - loss: 0.3376 - accuracy: 0.8729 - val_loss: 0.3557 - val_accuracy: 0.8852\n",
            "Epoch 82/150\n",
            "8/8 [==============================] - 0s 14ms/step - loss: 0.3277 - accuracy: 0.8732 - val_loss: 0.3558 - val_accuracy: 0.8852\n",
            "Epoch 83/150\n",
            "8/8 [==============================] - 0s 13ms/step - loss: 0.3791 - accuracy: 0.8577 - val_loss: 0.3558 - val_accuracy: 0.8852\n",
            "Epoch 84/150\n",
            "8/8 [==============================] - 0s 13ms/step - loss: 0.2977 - accuracy: 0.8804 - val_loss: 0.3557 - val_accuracy: 0.8852\n",
            "Epoch 85/150\n",
            "8/8 [==============================] - 0s 15ms/step - loss: 0.3298 - accuracy: 0.8671 - val_loss: 0.3563 - val_accuracy: 0.8852\n",
            "Epoch 86/150\n",
            "8/8 [==============================] - 0s 12ms/step - loss: 0.3472 - accuracy: 0.8739 - val_loss: 0.3570 - val_accuracy: 0.8852\n",
            "Epoch 87/150\n",
            "8/8 [==============================] - 0s 13ms/step - loss: 0.3305 - accuracy: 0.8546 - val_loss: 0.3579 - val_accuracy: 0.8852\n",
            "Epoch 88/150\n",
            "8/8 [==============================] - 0s 15ms/step - loss: 0.3649 - accuracy: 0.8438 - val_loss: 0.3575 - val_accuracy: 0.8852\n",
            "Epoch 89/150\n",
            "8/8 [==============================] - 0s 14ms/step - loss: 0.3190 - accuracy: 0.8571 - val_loss: 0.3574 - val_accuracy: 0.8852\n",
            "Epoch 90/150\n",
            "8/8 [==============================] - 0s 13ms/step - loss: 0.3361 - accuracy: 0.8577 - val_loss: 0.3566 - val_accuracy: 0.8852\n",
            "Epoch 91/150\n",
            "8/8 [==============================] - 0s 11ms/step - loss: 0.3767 - accuracy: 0.8358 - val_loss: 0.3566 - val_accuracy: 0.8852\n",
            "Epoch 92/150\n",
            "8/8 [==============================] - 0s 13ms/step - loss: 0.3290 - accuracy: 0.8361 - val_loss: 0.3572 - val_accuracy: 0.8852\n",
            "Epoch 93/150\n",
            "8/8 [==============================] - 0s 16ms/step - loss: 0.3354 - accuracy: 0.8665 - val_loss: 0.3568 - val_accuracy: 0.8852\n",
            "Epoch 94/150\n",
            "8/8 [==============================] - 0s 13ms/step - loss: 0.3709 - accuracy: 0.8487 - val_loss: 0.3561 - val_accuracy: 0.8852\n",
            "Epoch 95/150\n",
            "8/8 [==============================] - 0s 13ms/step - loss: 0.3460 - accuracy: 0.8762 - val_loss: 0.3557 - val_accuracy: 0.8852\n",
            "Epoch 96/150\n",
            "8/8 [==============================] - 0s 12ms/step - loss: 0.3852 - accuracy: 0.8546 - val_loss: 0.3552 - val_accuracy: 0.8852\n",
            "Epoch 97/150\n",
            "8/8 [==============================] - 0s 13ms/step - loss: 0.4048 - accuracy: 0.8563 - val_loss: 0.3554 - val_accuracy: 0.8852\n",
            "Epoch 98/150\n",
            "8/8 [==============================] - 0s 12ms/step - loss: 0.3099 - accuracy: 0.8887 - val_loss: 0.3543 - val_accuracy: 0.8852\n",
            "Epoch 99/150\n",
            "8/8 [==============================] - 0s 13ms/step - loss: 0.3921 - accuracy: 0.8443 - val_loss: 0.3535 - val_accuracy: 0.8852\n",
            "Epoch 100/150\n",
            "8/8 [==============================] - 0s 12ms/step - loss: 0.3169 - accuracy: 0.9095 - val_loss: 0.3536 - val_accuracy: 0.8852\n",
            "Epoch 101/150\n",
            "8/8 [==============================] - 0s 14ms/step - loss: 0.3062 - accuracy: 0.8658 - val_loss: 0.3542 - val_accuracy: 0.8852\n",
            "Epoch 102/150\n",
            "8/8 [==============================] - 0s 14ms/step - loss: 0.3179 - accuracy: 0.8587 - val_loss: 0.3548 - val_accuracy: 0.8852\n",
            "Epoch 103/150\n",
            "8/8 [==============================] - 0s 12ms/step - loss: 0.3575 - accuracy: 0.8380 - val_loss: 0.3555 - val_accuracy: 0.8852\n",
            "Epoch 104/150\n",
            "8/8 [==============================] - 0s 17ms/step - loss: 0.3066 - accuracy: 0.8595 - val_loss: 0.3557 - val_accuracy: 0.8852\n",
            "Epoch 105/150\n",
            "8/8 [==============================] - 0s 14ms/step - loss: 0.3754 - accuracy: 0.8312 - val_loss: 0.3560 - val_accuracy: 0.8852\n",
            "Epoch 106/150\n",
            "8/8 [==============================] - 0s 12ms/step - loss: 0.3384 - accuracy: 0.8724 - val_loss: 0.3560 - val_accuracy: 0.8852\n",
            "Epoch 107/150\n",
            "8/8 [==============================] - 0s 14ms/step - loss: 0.3106 - accuracy: 0.8808 - val_loss: 0.3563 - val_accuracy: 0.8852\n",
            "Epoch 108/150\n",
            "8/8 [==============================] - 0s 14ms/step - loss: 0.3139 - accuracy: 0.8818 - val_loss: 0.3569 - val_accuracy: 0.8852\n",
            "Epoch 109/150\n",
            "8/8 [==============================] - 0s 14ms/step - loss: 0.3529 - accuracy: 0.8560 - val_loss: 0.3575 - val_accuracy: 0.8852\n",
            "Epoch 110/150\n",
            "8/8 [==============================] - 0s 13ms/step - loss: 0.3133 - accuracy: 0.8824 - val_loss: 0.3571 - val_accuracy: 0.8852\n",
            "Epoch 111/150\n",
            "8/8 [==============================] - 0s 12ms/step - loss: 0.3296 - accuracy: 0.8492 - val_loss: 0.3569 - val_accuracy: 0.8852\n",
            "Epoch 112/150\n",
            "8/8 [==============================] - 0s 16ms/step - loss: 0.3327 - accuracy: 0.8673 - val_loss: 0.3567 - val_accuracy: 0.8852\n",
            "Epoch 113/150\n",
            "8/8 [==============================] - 0s 12ms/step - loss: 0.3283 - accuracy: 0.9003 - val_loss: 0.3571 - val_accuracy: 0.8852\n",
            "Epoch 114/150\n",
            "8/8 [==============================] - 0s 15ms/step - loss: 0.3184 - accuracy: 0.8671 - val_loss: 0.3574 - val_accuracy: 0.8852\n",
            "Epoch 115/150\n",
            "8/8 [==============================] - 0s 13ms/step - loss: 0.3377 - accuracy: 0.8714 - val_loss: 0.3586 - val_accuracy: 0.8852\n",
            "Epoch 116/150\n",
            "8/8 [==============================] - 0s 14ms/step - loss: 0.3242 - accuracy: 0.8754 - val_loss: 0.3576 - val_accuracy: 0.8852\n",
            "Epoch 117/150\n",
            "8/8 [==============================] - 0s 13ms/step - loss: 0.3526 - accuracy: 0.8739 - val_loss: 0.3571 - val_accuracy: 0.8852\n",
            "Epoch 118/150\n",
            "8/8 [==============================] - 0s 13ms/step - loss: 0.3497 - accuracy: 0.8649 - val_loss: 0.3567 - val_accuracy: 0.8852\n",
            "Epoch 119/150\n",
            "8/8 [==============================] - 0s 13ms/step - loss: 0.3667 - accuracy: 0.8544 - val_loss: 0.3568 - val_accuracy: 0.8852\n",
            "Epoch 120/150\n",
            "8/8 [==============================] - 0s 12ms/step - loss: 0.3038 - accuracy: 0.8842 - val_loss: 0.3561 - val_accuracy: 0.8852\n",
            "Epoch 121/150\n",
            "8/8 [==============================] - 0s 13ms/step - loss: 0.2753 - accuracy: 0.8707 - val_loss: 0.3564 - val_accuracy: 0.8852\n",
            "Epoch 122/150\n",
            "8/8 [==============================] - 0s 14ms/step - loss: 0.3092 - accuracy: 0.8771 - val_loss: 0.3570 - val_accuracy: 0.8852\n",
            "Epoch 123/150\n",
            "8/8 [==============================] - 0s 14ms/step - loss: 0.3340 - accuracy: 0.8355 - val_loss: 0.3579 - val_accuracy: 0.8852\n",
            "Epoch 124/150\n",
            "8/8 [==============================] - 0s 15ms/step - loss: 0.3459 - accuracy: 0.8411 - val_loss: 0.3587 - val_accuracy: 0.8852\n",
            "Epoch 125/150\n",
            "8/8 [==============================] - 0s 13ms/step - loss: 0.3019 - accuracy: 0.8803 - val_loss: 0.3597 - val_accuracy: 0.8852\n",
            "Epoch 126/150\n",
            "8/8 [==============================] - 0s 14ms/step - loss: 0.3236 - accuracy: 0.8530 - val_loss: 0.3606 - val_accuracy: 0.8852\n",
            "Epoch 127/150\n",
            "8/8 [==============================] - 0s 13ms/step - loss: 0.3740 - accuracy: 0.8393 - val_loss: 0.3615 - val_accuracy: 0.8852\n",
            "Epoch 128/150\n",
            "8/8 [==============================] - 0s 14ms/step - loss: 0.3165 - accuracy: 0.8695 - val_loss: 0.3604 - val_accuracy: 0.8852\n",
            "Epoch 129/150\n",
            "8/8 [==============================] - 0s 13ms/step - loss: 0.2953 - accuracy: 0.8806 - val_loss: 0.3600 - val_accuracy: 0.8852\n",
            "Epoch 130/150\n",
            "8/8 [==============================] - 0s 12ms/step - loss: 0.3323 - accuracy: 0.8483 - val_loss: 0.3603 - val_accuracy: 0.8852\n",
            "Epoch 131/150\n",
            "8/8 [==============================] - 0s 13ms/step - loss: 0.3607 - accuracy: 0.8756 - val_loss: 0.3607 - val_accuracy: 0.8852\n",
            "Epoch 132/150\n",
            "8/8 [==============================] - 0s 14ms/step - loss: 0.3370 - accuracy: 0.8587 - val_loss: 0.3610 - val_accuracy: 0.8852\n",
            "Epoch 133/150\n",
            "8/8 [==============================] - 0s 12ms/step - loss: 0.3276 - accuracy: 0.8483 - val_loss: 0.3622 - val_accuracy: 0.8852\n",
            "Epoch 134/150\n",
            "8/8 [==============================] - 0s 12ms/step - loss: 0.2954 - accuracy: 0.8682 - val_loss: 0.3626 - val_accuracy: 0.8852\n",
            "Epoch 135/150\n",
            "8/8 [==============================] - 0s 14ms/step - loss: 0.3280 - accuracy: 0.8780 - val_loss: 0.3629 - val_accuracy: 0.8852\n",
            "Epoch 136/150\n",
            "8/8 [==============================] - 0s 15ms/step - loss: 0.3208 - accuracy: 0.8739 - val_loss: 0.3640 - val_accuracy: 0.8852\n",
            "Epoch 137/150\n",
            "8/8 [==============================] - 0s 13ms/step - loss: 0.2521 - accuracy: 0.9224 - val_loss: 0.3641 - val_accuracy: 0.8852\n",
            "Epoch 138/150\n",
            "8/8 [==============================] - 0s 13ms/step - loss: 0.3253 - accuracy: 0.8657 - val_loss: 0.3643 - val_accuracy: 0.8852\n",
            "Epoch 139/150\n",
            "8/8 [==============================] - 0s 12ms/step - loss: 0.3258 - accuracy: 0.8506 - val_loss: 0.3641 - val_accuracy: 0.8852\n",
            "Epoch 140/150\n",
            "8/8 [==============================] - 0s 12ms/step - loss: 0.3266 - accuracy: 0.8550 - val_loss: 0.3645 - val_accuracy: 0.8852\n",
            "Epoch 141/150\n",
            "8/8 [==============================] - 0s 14ms/step - loss: 0.3421 - accuracy: 0.8289 - val_loss: 0.3649 - val_accuracy: 0.8852\n",
            "Epoch 142/150\n",
            "8/8 [==============================] - 0s 13ms/step - loss: 0.3289 - accuracy: 0.8671 - val_loss: 0.3651 - val_accuracy: 0.8852\n",
            "Epoch 143/150\n",
            "8/8 [==============================] - 0s 13ms/step - loss: 0.3264 - accuracy: 0.8777 - val_loss: 0.3653 - val_accuracy: 0.8852\n",
            "Epoch 144/150\n",
            "8/8 [==============================] - 0s 18ms/step - loss: 0.3561 - accuracy: 0.8529 - val_loss: 0.3643 - val_accuracy: 0.8852\n",
            "Epoch 145/150\n",
            "8/8 [==============================] - 0s 15ms/step - loss: 0.3018 - accuracy: 0.8677 - val_loss: 0.3637 - val_accuracy: 0.8852\n",
            "Epoch 146/150\n",
            "8/8 [==============================] - 0s 13ms/step - loss: 0.3156 - accuracy: 0.8747 - val_loss: 0.3643 - val_accuracy: 0.8852\n",
            "Epoch 147/150\n",
            "8/8 [==============================] - 0s 15ms/step - loss: 0.3361 - accuracy: 0.8692 - val_loss: 0.3626 - val_accuracy: 0.8852\n",
            "Epoch 148/150\n",
            "8/8 [==============================] - 0s 12ms/step - loss: 0.3095 - accuracy: 0.8734 - val_loss: 0.3631 - val_accuracy: 0.8852\n",
            "Epoch 149/150\n",
            "8/8 [==============================] - 0s 13ms/step - loss: 0.3492 - accuracy: 0.8448 - val_loss: 0.3633 - val_accuracy: 0.8852\n",
            "Epoch 150/150\n",
            "8/8 [==============================] - 0s 14ms/step - loss: 0.2824 - accuracy: 0.8848 - val_loss: 0.3633 - val_accuracy: 0.8852\n"
          ],
          "name": "stdout"
        },
        {
          "output_type": "display_data",
          "data": {
            "image/png": "[encoded data removed]",
            "text/plain": [
              "<Figure size 432x288 with 1 Axes>"
            ]
          },
          "metadata": {
            "tags": [],
            "needs_background": "light"
          }
        },
        {
          "output_type": "display_data",
          "data": {
            "image/png": "[encoded data removed]",
            "text/plain": [
              "<Figure size 432x288 with 1 Axes>"
            ]
          },
          "metadata": {
            "tags": [],
            "needs_background": "light"
          }
        },
        {
          "output_type": "stream",
          "text": [
            "accuracy: 88.525%\n",
            "Mean Accuracy: 85.792%\n",
            "Standard Deviation: 2.786%\n",
            "Losses:\n",
            "[43.6091274023056, 34.82812941074371, 36.330533027648926]\n",
            "Scores:\n",
            "[81.96721076965332, 86.8852436542511, 88.52459192276001]\n"
          ],
          "name": "stdout"
        }
      ]
    },
    {
      "cell_type": "markdown",
      "metadata": {
        "id": "2H5joD_q1aGm"
      },
      "source": [
        "#### -- Sample Results --"
      ]
    },
    {
      "cell_type": "markdown",
      "metadata": {
        "id": "CdW2vVy2i4IR"
      },
      "source": [
        "##### Using one dropout layer (optimal results from Random Search):\n",
        "**Parameters:** {'batch_size': 32, 'epochs': 150, 'folds': 3, 'neurons': (14, 6), 'dropout_rate': 0.4}\n",
        "\n",
        "<table border = \"1\">\n",
        "  <thead>\n",
        "    <th colspan = \"5\">With one dropout layer</th>\n",
        "  </thead>\n",
        "  <tbody>\n",
        "    <tr>\n",
        "      <th>Trial</th>\n",
        "      <th>Mean (%)</th>\n",
        "      <th>Std. (+/- %)</th>\n",
        "      <th>Losses (%)</th>\n",
        "      <th>Scores (%)</th>\n",
        "    </tr>\n",
        "    <tr>\n",
        "      <td><b>1</b></td>\n",
        "      <td>85.792</td>\n",
        "      <td>1.546</td>\n",
        "      <td>[40.784, 36.420, 37.566]</td>\n",
        "      <td>[83.607, 86.885, 86.885]</td>\n",
        "    </tr>\n",
        "    <tr>\n",
        "      <td><b>2</b></td>\n",
        "      <td>86.339</td>\n",
        "      <td>2.045</td>\n",
        "      <td>[34.234, 38.973, 37.645]</td>\n",
        "      <td>[88.525, 86.885, 83.607]</td>\n",
        "    </tr>\n",
        "    <tr>\n",
        "      <td><b>3</b></td>\n",
        "      <td>84.153</td>\n",
        "      <td>2.045</td>\n",
        "      <td>[39.444, 36.632, 39.889]</td>\n",
        "      <td>[81.967, 86.885, 83.607]</td>\n",
        "    </tr>\n",
        "    <tr>\n",
        "      <td><b>4</b></td>\n",
        "      <td>88.525</td>\n",
        "      <td>1.339</td>\n",
        "      <td>[38.665, 30.301, 35.466]</td>\n",
        "      <td>[86.885, 90.164, 88.525]</td>\n",
        "    </tr>\n",
        "    <tr>\n",
        "      <td><b>5</b></td>\n",
        "      <td>86.339</td>\n",
        "      <td>2.045</td>\n",
        "      <td>[34.047, 35.591, 39.353]</td>\n",
        "      <td>[88.525, 83.607, 86.885]</td>\n",
        "    </tr>\n",
        "    <tr>\n",
        "      <th>Average:</th>\n",
        "      <td><b>86.230<b></td>\n",
        "      <td><b>1.804</b></td>\n",
        "    </tr>\n",
        "  </tbody>\n",
        "</table>"
      ]
    },
    {
      "cell_type": "markdown",
      "metadata": {
        "id": "NR-ko_NXmdCW"
      },
      "source": [
        "##### With two dropout layers (results in too much underfitting)\n",
        "**Parameters:** {'batch_size': 32, 'epochs': 150, 'folds': 3, 'neurons': (14, 8), 'dropout_rate': 0.45}\n",
        "\n",
        "<table border = \"1\">\n",
        "  <thead>\n",
        "    <th colspan = \"5\">With two dropout layers</th>\n",
        "  </thead>\n",
        "  <tbody>\n",
        "    <tr>\n",
        "      <th>Trial</th>\n",
        "      <th>Mean (%)</th>\n",
        "      <th>Std. (+/- %)</th>\n",
        "      <th>Losses (%)</th>\n",
        "      <th>Scores (%)</th>\n",
        "    </tr>\n",
        "    <tr>\n",
        "      <td><b>1</b></td>\n",
        "      <td>86.339</td>\n",
        "      <td>2.045</td>\n",
        "      <td>[36.204, 33.903, 37.372]</td>\n",
        "      <td>[86.885, 83.607, 88.525]</td>\n",
        "    </tr>\n",
        "    <tr>\n",
        "      <td><b>2</b></td>\n",
        "      <td>84.699</td>\n",
        "      <td>2.045</td>\n",
        "      <td>[37.547, 36.046, 32.915]</td>\n",
        "      <td>[81.967, 85.246, 86.885]</td>\n",
        "    </tr>\n",
        "    <tr>\n",
        "      <td><b>3</b></td>\n",
        "      <td>83.607</td>\n",
        "      <td>1.339</td>\n",
        "      <td>[40.159, 36.067, 40.181]</td>\n",
        "      <td>[83.607, 85.246, 81.967]</td>\n",
        "    </tr>\n",
        "    <tr>\n",
        "      <td><b>4</b></td>\n",
        "      <td>84.153</td>\n",
        "      <td>2.045</td>\n",
        "      <td>[36.800, 38.977, 37.290]</td>\n",
        "      <td>[83.607, 86.885, 81.967]</td>\n",
        "    </tr>\n",
        "    <tr>\n",
        "      <td><b>5</b></td>\n",
        "      <td>85.246</td>\n",
        "      <td>2.677</td>\n",
        "      <td>[35.594, 41.179, 37.873]</td>\n",
        "      <td>[85.246, 81.967, 88.525]</td>\n",
        "    </tr>\n",
        "    <tr>\n",
        "      <th>Average:</th>\n",
        "      <td><b>85.409</b></td>\n",
        "      <td><b>2.030</b></td>\n",
        "    </tr>\n",
        "  </tbody>\n",
        "</table>"
      ]
    },
    {
      "cell_type": "markdown",
      "metadata": {
        "id": "V-_jLvSYsomd"
      },
      "source": [
        "##### NOTE: These results vary between trials."
      ]
    },
    {
      "cell_type": "markdown",
      "metadata": {
        "id": "4pJmT1cVDP1A"
      },
      "source": [
        "## Evaluate model"
      ]
    },
    {
      "cell_type": "code",
      "metadata": {
        "colab": {
          "base_uri": "https://localhost:8080/"
        },
        "id": "X8C9Nd-sB-rl",
        "outputId": "acb220ea-5b0d-4379-f1ce-e18feaa2a1e5"
      },
      "source": [
        "# Predict test set results\n",
        "y_pred = model.predict(X_test)\n",
        "np.set_printoptions(precision = 2)\n",
        "print(np.concatenate((y_pred.reshape(len(y_pred), 1), y_test.reshape(len(y_test), 1)), 1 ))"
      ],
      "execution_count": 21,
      "outputs": [
        {
          "output_type": "stream",
          "text": [
            "[[2.77e-02 0.00e+00]\n",
            " [5.46e-01 1.00e+00]\n",
            " [5.36e-01 0.00e+00]\n",
            " [3.95e-03 0.00e+00]\n",
            " [1.13e-01 1.00e+00]\n",
            " [2.17e-01 0.00e+00]\n",
            " [4.80e-02 0.00e+00]\n",
            " [9.38e-02 0.00e+00]\n",
            " [2.52e-06 0.00e+00]\n",
            " [4.75e-05 0.00e+00]\n",
            " [9.08e-01 1.00e+00]\n",
            " [9.60e-01 1.00e+00]\n",
            " [1.46e-02 0.00e+00]\n",
            " [8.26e-01 1.00e+00]\n",
            " [9.86e-01 1.00e+00]\n",
            " [8.40e-01 1.00e+00]\n",
            " [9.14e-03 1.00e+00]\n",
            " [8.69e-01 1.00e+00]\n",
            " [3.65e-03 0.00e+00]\n",
            " [7.85e-01 1.00e+00]\n",
            " [8.67e-01 1.00e+00]\n",
            " [1.64e-01 0.00e+00]\n",
            " [2.50e-01 0.00e+00]\n",
            " [2.11e-01 0.00e+00]\n",
            " [9.06e-01 1.00e+00]\n",
            " [7.91e-01 0.00e+00]\n",
            " [7.86e-02 0.00e+00]\n",
            " [2.14e-01 0.00e+00]\n",
            " [9.88e-01 1.00e+00]\n",
            " [7.24e-01 1.00e+00]\n",
            " [6.77e-01 0.00e+00]\n",
            " [1.41e-02 0.00e+00]\n",
            " [9.77e-01 1.00e+00]\n",
            " [8.91e-01 1.00e+00]\n",
            " [9.52e-01 1.00e+00]\n",
            " [4.40e-01 0.00e+00]\n",
            " [7.11e-02 0.00e+00]\n",
            " [8.10e-01 1.00e+00]\n",
            " [8.33e-03 0.00e+00]\n",
            " [4.04e-02 0.00e+00]\n",
            " [7.89e-01 1.00e+00]\n",
            " [8.28e-01 1.00e+00]\n",
            " [6.03e-01 1.00e+00]\n",
            " [1.02e-01 0.00e+00]\n",
            " [5.96e-01 1.00e+00]\n",
            " [5.75e-01 1.00e+00]\n",
            " [8.52e-01 1.00e+00]\n",
            " [5.04e-01 0.00e+00]\n",
            " [1.60e-02 0.00e+00]\n",
            " [7.87e-01 1.00e+00]\n",
            " [7.89e-01 1.00e+00]\n",
            " [8.03e-01 1.00e+00]\n",
            " [9.93e-01 1.00e+00]\n",
            " [9.11e-01 1.00e+00]\n",
            " [9.98e-01 1.00e+00]\n",
            " [8.61e-02 0.00e+00]\n",
            " [9.63e-01 1.00e+00]\n",
            " [9.53e-01 0.00e+00]\n",
            " [9.32e-01 1.00e+00]\n",
            " [9.80e-01 1.00e+00]\n",
            " [9.08e-01 1.00e+00]]\n"
          ],
          "name": "stdout"
        }
      ]
    },
    {
      "cell_type": "code",
      "metadata": {
        "id": "IjKnlzbiPhL_",
        "colab": {
          "base_uri": "https://localhost:8080/"
        },
        "outputId": "5bc86a57-9070-47a6-aad8-7657afe3d6f5"
      },
      "source": [
        "from sklearn.metrics import confusion_matrix, accuracy_score, classification_report\n",
        "\n",
        "y_pred = (y_pred > 0.5)\n",
        "print(np.concatenate((y_pred.reshape(len(y_pred), 1), y_test.reshape(len(y_test), 1)), 1 ))\n",
        "\n",
        "# Create the confusion matrix\n",
        "# TN = cm[0][0]  # True Negative\n",
        "# FP = cm[0][1]  # False Positive\n",
        "# FN = cm[1][0]  # False Negative\n",
        "# TP = cm[1][1]  # True Positive\n",
        "cm = confusion_matrix(y_test, y_pred)\n",
        "print(cm)\n",
        "print(accuracy_score(y_test, y_pred) * 100)\n",
        "print(\"Test Accuracy: %.3f%% \" % (accuracy_score(y_test, y_pred) * 100))\n",
        "\n",
        "# accuracy = (TP + TN)/(TN + FP + FN + TP)\n",
        "# precision = TP/(TP + FP)\n",
        "# recall = TP/(TP + FN)\n",
        "# f1_score = (2 * precision * recall)/(precision + recall)\n",
        "# support = Number of occurrences of each class in y_pred\n",
        "print(classification_report(y_test, y_pred))\n"
      ],
      "execution_count": 22,
      "outputs": [
        {
          "output_type": "stream",
          "text": [
            "[[0 0]\n",
            " [1 1]\n",
            " [1 0]\n",
            " [0 0]\n",
            " [0 1]\n",
            " [0 0]\n",
            " [0 0]\n",
            " [0 0]\n",
            " [0 0]\n",
            " [0 0]\n",
            " [1 1]\n",
            " [1 1]\n",
            " [0 0]\n",
            " [1 1]\n",
            " [1 1]\n",
            " [1 1]\n",
            " [0 1]\n",
            " [1 1]\n",
            " [0 0]\n",
            " [1 1]\n",
            " [1 1]\n",
            " [0 0]\n",
            " [0 0]\n",
            " [0 0]\n",
            " [1 1]\n",
            " [1 0]\n",
            " [0 0]\n",
            " [0 0]\n",
            " [1 1]\n",
            " [1 1]\n",
            " [1 0]\n",
            " [0 0]\n",
            " [1 1]\n",
            " [1 1]\n",
            " [1 1]\n",
            " [0 0]\n",
            " [0 0]\n",
            " [1 1]\n",
            " [0 0]\n",
            " [0 0]\n",
            " [1 1]\n",
            " [1 1]\n",
            " [1 1]\n",
            " [0 0]\n",
            " [1 1]\n",
            " [1 1]\n",
            " [1 1]\n",
            " [1 0]\n",
            " [0 0]\n",
            " [1 1]\n",
            " [1 1]\n",
            " [1 1]\n",
            " [1 1]\n",
            " [1 1]\n",
            " [1 1]\n",
            " [0 0]\n",
            " [1 1]\n",
            " [1 0]\n",
            " [1 1]\n",
            " [1 1]\n",
            " [1 1]]\n",
            "[[22  5]\n",
            " [ 2 32]]\n",
            "88.52459016393442\n",
            "Test Accuracy: 88.525% \n",
            "              precision    recall  f1-score   support\n",
            "\n",
            "           0       0.92      0.81      0.86        27\n",
            "           1       0.86      0.94      0.90        34\n",
            "\n",
            "    accuracy                           0.89        61\n",
            "   macro avg       0.89      0.88      0.88        61\n",
            "weighted avg       0.89      0.89      0.88        61\n",
            "\n"
          ],
          "name": "stdout"
        }
      ]
    },
    {
      "cell_type": "code",
      "metadata": {
        "id": "0iWE9Zp3DSu6"
      },
      "source": [
        "# Apply Random Search for parameter tuning\n",
        "from keras.wrappers.scikit_learn import KerasClassifier\n",
        "from sklearn.metrics import make_scorer\n",
        "from sklearn.metrics import accuracy_score, precision_score, recall_score\n",
        "from sklearn.model_selection import RandomizedSearchCV\n",
        "\n",
        "# Initialize Keras Classifier\n",
        "model = KerasClassifier(build_fn=create_model, verbose=0)\n",
        "\n",
        "# Initialize parameters\n",
        "# Min 2 splits, max 6 splits\n",
        "# param_dict = {'batch_size': [16, 32],\n",
        "#                'epochs': [100, 150],\n",
        "#                'folds': [3, 4, 5],\n",
        "#               'neurons': [(14, 6), (14, 8), (16, 6), (16, 8)],\n",
        "#               'dropout_rate': [0.1, 0.2, 0.3, 0.4, 0.5]}\n",
        "\n",
        "param_dict = {'batch_size': [32],\n",
        "              'epochs': [150],\n",
        "              'folds': [3],\n",
        "              'neurons': [(14, 6), (14, 8)],\n",
        "              'dropout_rate': [0.4]}\n",
        "\n",
        "# Initialize scoring method\n",
        "scoring_dict = {'accuracy_score': make_scorer(accuracy_score),\n",
        "           'precision_score': make_scorer(precision_score),\n",
        "           'recall_score': make_scorer(recall_score)}\n",
        "\n",
        "# Initialize RandomizedSearchCV object\n",
        "rand = RandomizedSearchCV(estimator=model,\n",
        "                          param_distributions=param_dict,\n",
        "                          scoring=scoring_dict,\n",
        "                          refit='accuracy_score')\n",
        "rand_result = rand.fit(X_train, y_train)\n",
        "\n",
        "# Show the results\n",
        "print(\"Best Score: %.3f%%\" % (rand_result.best_score_ * 100))\n",
        "print(\"Best Parameters: %s\" % rand_result.best_params_)\n"
      ],
      "execution_count": null,
      "outputs": []
    },
    {
      "cell_type": "markdown",
      "metadata": {
        "id": "fHFJKbIA94fT"
      },
      "source": [
        "#### -- Random Search Results --"
      ]
    },
    {
      "cell_type": "markdown",
      "metadata": {
        "id": "DZZgb5E6jrMB"
      },
      "source": [
        "##### param_dict = {'batch_size': [16], 'epochs': [100], 'folds': [3, 4], 'neurons': [6, 8]}\n",
        "\n",
        "**Best Score:** 77.7541%, **Best Parameters:** {'neurons': 8, 'folds': 3, 'epochs': 100, 'batch_size': 16}\n",
        "\n",
        "**Search time:** Approx. 15 minutes"
      ]
    },
    {
      "cell_type": "markdown",
      "metadata": {
        "id": "cq2pmGQK9fUj"
      },
      "source": [
        "##### param_dict = {'batch_size': [16, 32], 'epochs': [150], 'folds': [3, 4], 'neurons': [10, 12]}\n",
        "\n",
        "**Best Score:** 80.820%, **Best Parameters:** {'neurons': 12, 'folds': 4, 'epochs': 150, 'batch_size': 32}\n",
        "\n",
        "**Search time:** Approx. 1.25 hours"
      ]
    },
    {
      "cell_type": "markdown",
      "metadata": {
        "id": "HBp3HzMWz5OH"
      },
      "source": [
        "##### param_dict = {'batch_size': [16, 32], 'epochs': [100, 150], 'folds': [3, 4, 5], 'neurons': [4, 6, 8, 10, 12]}\n",
        "\n",
        "**Best Score:** 85.4372%, **Best Parameters:** {'neurons': 12, 'folds': 3, 'epochs': 150, 'batch_size': 16}\n",
        "\n",
        "**Search time:** At least 1.5 hours"
      ]
    },
    {
      "cell_type": "markdown",
      "metadata": {
        "id": "EzFZSWwpi_DM"
      },
      "source": [
        "##### param_dict = {'batch_size': [32], 'epochs': [150], 'folds': [3, 4, 5], 'neurons': [12], 'dropout_rate': [0.05, 0.1, 0.15]}\n",
        "\n",
        "**Best Score:** 85.578%, **Best Parameters:** {'neurons': 12, 'folds': 3, 'epochs': 150, 'dropout_rate': 0.05, 'batch_size': 32}\n",
        "\n",
        "**Search time:** At least 1.5 hours"
      ]
    },
    {
      "cell_type": "markdown",
      "metadata": {
        "id": "UtPi31Og6wUO"
      },
      "source": [
        "##### param_dict = {'batch_size': [32], 'epochs': [150], 'folds': [3], 'neurons': [12], 'dropout_rate': [0.04, 0.05, 0.06]}\n",
        "\n",
        "**Best Score:** 86.378%, **Best Parameters:** {'neurons': 12, 'folds': 3, 'epochs': 150, 'dropout_rate': 0.05, 'batch_size': 32}\n",
        "\n",
        "**Search time:** Approx. 15 minutes"
      ]
    },
    {
      "cell_type": "markdown",
      "metadata": {
        "id": "H1S_7RuwPQL-"
      },
      "source": [
        "##### **With one Dropout layer:**\n",
        "\n",
        "**param_dict** = {'batch_size': [32], 'epochs': [150], 'folds': [3, 4],  'neurons': [(14, 6), (14, 8), (16, 6), (16, 8)], 'dropout_rate': [0.1, 0.2, 0.3, 0.4, 0.5]}\n",
        "\n",
        "1. **Best Score:** 86.412%, **Best Parameters:** {'neurons': (14, 8), 'folds': 3, 'epochs': 150, 'dropout_rate': 0.4, 'batch_size': 32}\n",
        "\n",
        "2. **Best Score:** 87.645%, **Best Parameters:** {'neurons': (14, 6), 'folds': 3, 'epochs': 150, 'dropout_rate': 0.4, 'batch_size': 32}\n",
        "\n",
        "**Search time:** Approx. 1.25 hours"
      ]
    },
    {
      "cell_type": "markdown",
      "metadata": {
        "id": "RDgh6RnyYkhz"
      },
      "source": [
        "##### **With two Dropout layers:**\n",
        "\n",
        "**param_dict** = param_dict = {'batch_size': [32], 'epochs': [150], 'folds': [3, 4], 'neurons': [(14, 6), (14, 8)], 'dropout_rate': [0.3, 0.4, 0.5]}\n",
        "\n",
        "- **Best Score:** 85.978%, **Best Parameters:** {'neurons': (14, 8), 'folds': 3, 'epochs': 150, 'dropout_rate': 0.5, 'batch_size': 32}\n",
        "\n",
        "**Search time:** Approx. 1.5 hours"
      ]
    }
  ]
}