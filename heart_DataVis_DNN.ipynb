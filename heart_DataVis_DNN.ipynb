{
  "nbformat": 4,
  "nbformat_minor": 0,
  "metadata": {
    "colab": {
      "name": "heart-DataVis_DNN.ipynb",
      "provenance": [],
      "collapsed_sections": [],
      "authorship_tag": "ABX9TyPYDfGujXnQ7MFEcXCsbyI+",
      "include_colab_link": true
    },
    "kernelspec": {
      "display_name": "Python 3",
      "name": "python3"
    }
  },
  "cells": [
    {
      "cell_type": "markdown",
      "metadata": {
        "id": "view-in-github",
        "colab_type": "text"
      },
      "source": [
        "<a href=\"https://colab.research.google.com/github/MarkLee7925/Heart-Classification-UCI/blob/main/heart_DataVis_DNN.ipynb\" target=\"_parent\"><img src=\"https://colab.research.google.com/assets/colab-badge.svg\" alt=\"Open In Colab\"/></a>"
      ]
    },
    {
      "cell_type": "markdown",
      "metadata": {
        "id": "APZVoQmL47I1"
      },
      "source": [
        "# Heart Disease Classification - Data Visualization - DNN"
      ]
    },
    {
      "cell_type": "markdown",
      "metadata": {
        "id": "nNx9hfINDIam"
      },
      "source": [
        "## Data preprocessing"
      ]
    },
    {
      "cell_type": "code",
      "metadata": {
        "id": "xuNOzl914e6q"
      },
      "source": [
        "import numpy as np\n",
        "import matplotlib.pyplot as plt\n",
        "import pandas as pd\n",
        "import tensorflow as tf\n",
        "import seaborn as sns"
      ],
      "execution_count": 1,
      "outputs": []
    },
    {
      "cell_type": "code",
      "metadata": {
        "colab": {
          "base_uri": "https://localhost:8080/"
        },
        "id": "Vs4q7FIt4s8o",
        "outputId": "b799ddb2-63e6-4974-a533-525613aa1373"
      },
      "source": [
        "# Load dataframe (df)\n",
        "df = pd.read_csv('heart.csv')\n",
        "X, y = df.iloc[:, :-1].values, df.iloc[:, -1].values\n",
        "\n",
        "print(X.shape, y.shape)"
      ],
      "execution_count": 2,
      "outputs": [
        {
          "output_type": "stream",
          "text": [
            "(303, 13) (303,)\n"
          ],
          "name": "stdout"
        }
      ]
    },
    {
      "cell_type": "code",
      "metadata": {
        "colab": {
          "base_uri": "https://localhost:8080/"
        },
        "id": "Y40bdlo6LmXA",
        "outputId": "23bdf77b-105c-4992-f4cf-4b0fe8b84089"
      },
      "source": [
        "print(df.head())"
      ],
      "execution_count": 3,
      "outputs": [
        {
          "output_type": "stream",
          "text": [
            "   age  sex  cp  trestbps  chol  fbs  ...  exang  oldpeak  slope  ca  thal  target\n",
            "0   63    1   3       145   233    1  ...      0      2.3      0   0     1       1\n",
            "1   37    1   2       130   250    0  ...      0      3.5      0   0     2       1\n",
            "2   41    0   1       130   204    0  ...      0      1.4      2   0     2       1\n",
            "3   56    1   1       120   236    0  ...      0      0.8      2   0     2       1\n",
            "4   57    0   0       120   354    0  ...      1      0.6      2   0     2       1\n",
            "\n",
            "[5 rows x 14 columns]\n"
          ],
          "name": "stdout"
        }
      ]
    },
    {
      "cell_type": "code",
      "metadata": {
        "colab": {
          "base_uri": "https://localhost:8080/"
        },
        "id": "RUXT12RH4xJs",
        "outputId": "6c12ac8e-25e4-4d56-e34a-18b2185c9348"
      },
      "source": [
        "df.dtypes"
      ],
      "execution_count": 4,
      "outputs": [
        {
          "output_type": "execute_result",
          "data": {
            "text/plain": [
              "age           int64\n",
              "sex           int64\n",
              "cp            int64\n",
              "trestbps      int64\n",
              "chol          int64\n",
              "fbs           int64\n",
              "restecg       int64\n",
              "thalach       int64\n",
              "exang         int64\n",
              "oldpeak     float64\n",
              "slope         int64\n",
              "ca            int64\n",
              "thal          int64\n",
              "target        int64\n",
              "dtype: object"
            ]
          },
          "metadata": {
            "tags": []
          },
          "execution_count": 4
        }
      ]
    },
    {
      "cell_type": "code",
      "metadata": {
        "colab": {
          "base_uri": "https://localhost:8080/",
          "height": 310
        },
        "id": "ey97ULPW4yvY",
        "outputId": "85dd692b-0c73-4e00-d53e-1592e47955ea"
      },
      "source": [
        "df.describe()"
      ],
      "execution_count": 5,
      "outputs": [
        {
          "output_type": "execute_result",
          "data": {
            "text/html": [
              "<div>\n",
              "<style scoped>\n",
              "    .dataframe tbody tr th:only-of-type {\n",
              "        vertical-align: middle;\n",
              "    }\n",
              "\n",
              "    .dataframe tbody tr th {\n",
              "        vertical-align: top;\n",
              "    }\n",
              "\n",
              "    .dataframe thead th {\n",
              "        text-align: right;\n",
              "    }\n",
              "</style>\n",
              "<table border=\"1\" class=\"dataframe\">\n",
              "  <thead>\n",
              "    <tr style=\"text-align: right;\">\n",
              "      <th></th>\n",
              "      <th>age</th>\n",
              "      <th>sex</th>\n",
              "      <th>cp</th>\n",
              "      <th>trestbps</th>\n",
              "      <th>chol</th>\n",
              "      <th>fbs</th>\n",
              "      <th>restecg</th>\n",
              "      <th>thalach</th>\n",
              "      <th>exang</th>\n",
              "      <th>oldpeak</th>\n",
              "      <th>slope</th>\n",
              "      <th>ca</th>\n",
              "      <th>thal</th>\n",
              "      <th>target</th>\n",
              "    </tr>\n",
              "  </thead>\n",
              "  <tbody>\n",
              "    <tr>\n",
              "      <th>count</th>\n",
              "      <td>303.000000</td>\n",
              "      <td>303.000000</td>\n",
              "      <td>303.000000</td>\n",
              "      <td>303.000000</td>\n",
              "      <td>303.000000</td>\n",
              "      <td>303.000000</td>\n",
              "      <td>303.000000</td>\n",
              "      <td>303.000000</td>\n",
              "      <td>303.000000</td>\n",
              "      <td>303.000000</td>\n",
              "      <td>303.000000</td>\n",
              "      <td>303.000000</td>\n",
              "      <td>303.000000</td>\n",
              "      <td>303.000000</td>\n",
              "    </tr>\n",
              "    <tr>\n",
              "      <th>mean</th>\n",
              "      <td>54.366337</td>\n",
              "      <td>0.683168</td>\n",
              "      <td>0.966997</td>\n",
              "      <td>131.623762</td>\n",
              "      <td>246.264026</td>\n",
              "      <td>0.148515</td>\n",
              "      <td>0.528053</td>\n",
              "      <td>149.646865</td>\n",
              "      <td>0.326733</td>\n",
              "      <td>1.039604</td>\n",
              "      <td>1.399340</td>\n",
              "      <td>0.729373</td>\n",
              "      <td>2.313531</td>\n",
              "      <td>0.544554</td>\n",
              "    </tr>\n",
              "    <tr>\n",
              "      <th>std</th>\n",
              "      <td>9.082101</td>\n",
              "      <td>0.466011</td>\n",
              "      <td>1.032052</td>\n",
              "      <td>17.538143</td>\n",
              "      <td>51.830751</td>\n",
              "      <td>0.356198</td>\n",
              "      <td>0.525860</td>\n",
              "      <td>22.905161</td>\n",
              "      <td>0.469794</td>\n",
              "      <td>1.161075</td>\n",
              "      <td>0.616226</td>\n",
              "      <td>1.022606</td>\n",
              "      <td>0.612277</td>\n",
              "      <td>0.498835</td>\n",
              "    </tr>\n",
              "    <tr>\n",
              "      <th>min</th>\n",
              "      <td>29.000000</td>\n",
              "      <td>0.000000</td>\n",
              "      <td>0.000000</td>\n",
              "      <td>94.000000</td>\n",
              "      <td>126.000000</td>\n",
              "      <td>0.000000</td>\n",
              "      <td>0.000000</td>\n",
              "      <td>71.000000</td>\n",
              "      <td>0.000000</td>\n",
              "      <td>0.000000</td>\n",
              "      <td>0.000000</td>\n",
              "      <td>0.000000</td>\n",
              "      <td>0.000000</td>\n",
              "      <td>0.000000</td>\n",
              "    </tr>\n",
              "    <tr>\n",
              "      <th>25%</th>\n",
              "      <td>47.500000</td>\n",
              "      <td>0.000000</td>\n",
              "      <td>0.000000</td>\n",
              "      <td>120.000000</td>\n",
              "      <td>211.000000</td>\n",
              "      <td>0.000000</td>\n",
              "      <td>0.000000</td>\n",
              "      <td>133.500000</td>\n",
              "      <td>0.000000</td>\n",
              "      <td>0.000000</td>\n",
              "      <td>1.000000</td>\n",
              "      <td>0.000000</td>\n",
              "      <td>2.000000</td>\n",
              "      <td>0.000000</td>\n",
              "    </tr>\n",
              "    <tr>\n",
              "      <th>50%</th>\n",
              "      <td>55.000000</td>\n",
              "      <td>1.000000</td>\n",
              "      <td>1.000000</td>\n",
              "      <td>130.000000</td>\n",
              "      <td>240.000000</td>\n",
              "      <td>0.000000</td>\n",
              "      <td>1.000000</td>\n",
              "      <td>153.000000</td>\n",
              "      <td>0.000000</td>\n",
              "      <td>0.800000</td>\n",
              "      <td>1.000000</td>\n",
              "      <td>0.000000</td>\n",
              "      <td>2.000000</td>\n",
              "      <td>1.000000</td>\n",
              "    </tr>\n",
              "    <tr>\n",
              "      <th>75%</th>\n",
              "      <td>61.000000</td>\n",
              "      <td>1.000000</td>\n",
              "      <td>2.000000</td>\n",
              "      <td>140.000000</td>\n",
              "      <td>274.500000</td>\n",
              "      <td>0.000000</td>\n",
              "      <td>1.000000</td>\n",
              "      <td>166.000000</td>\n",
              "      <td>1.000000</td>\n",
              "      <td>1.600000</td>\n",
              "      <td>2.000000</td>\n",
              "      <td>1.000000</td>\n",
              "      <td>3.000000</td>\n",
              "      <td>1.000000</td>\n",
              "    </tr>\n",
              "    <tr>\n",
              "      <th>max</th>\n",
              "      <td>77.000000</td>\n",
              "      <td>1.000000</td>\n",
              "      <td>3.000000</td>\n",
              "      <td>200.000000</td>\n",
              "      <td>564.000000</td>\n",
              "      <td>1.000000</td>\n",
              "      <td>2.000000</td>\n",
              "      <td>202.000000</td>\n",
              "      <td>1.000000</td>\n",
              "      <td>6.200000</td>\n",
              "      <td>2.000000</td>\n",
              "      <td>4.000000</td>\n",
              "      <td>3.000000</td>\n",
              "      <td>1.000000</td>\n",
              "    </tr>\n",
              "  </tbody>\n",
              "</table>\n",
              "</div>"
            ],
            "text/plain": [
              "              age         sex          cp  ...          ca        thal      target\n",
              "count  303.000000  303.000000  303.000000  ...  303.000000  303.000000  303.000000\n",
              "mean    54.366337    0.683168    0.966997  ...    0.729373    2.313531    0.544554\n",
              "std      9.082101    0.466011    1.032052  ...    1.022606    0.612277    0.498835\n",
              "min     29.000000    0.000000    0.000000  ...    0.000000    0.000000    0.000000\n",
              "25%     47.500000    0.000000    0.000000  ...    0.000000    2.000000    0.000000\n",
              "50%     55.000000    1.000000    1.000000  ...    0.000000    2.000000    1.000000\n",
              "75%     61.000000    1.000000    2.000000  ...    1.000000    3.000000    1.000000\n",
              "max     77.000000    1.000000    3.000000  ...    4.000000    3.000000    1.000000\n",
              "\n",
              "[8 rows x 14 columns]"
            ]
          },
          "metadata": {
            "tags": []
          },
          "execution_count": 5
        }
      ]
    },
    {
      "cell_type": "code",
      "metadata": {
        "id": "L-V00_aB427F"
      },
      "source": [
        "# Split dataframe (df) into training and test sets\n",
        "from sklearn.model_selection import train_test_split\n",
        "\n",
        "X_train, X_test, y_train, y_test = train_test_split(X, y, test_size=0.2, \n",
        "                                                    random_state=0)"
      ],
      "execution_count": 6,
      "outputs": []
    },
    {
      "cell_type": "code",
      "metadata": {
        "id": "QRtaoswM5fKg"
      },
      "source": [
        "# Feature scaling\n",
        "from sklearn.preprocessing import StandardScaler\n",
        "\n",
        "sc = StandardScaler()\n",
        "X_train = sc.fit_transform(X_train)\n",
        "X_test = sc.transform(X_test)"
      ],
      "execution_count": 7,
      "outputs": []
    },
    {
      "cell_type": "markdown",
      "metadata": {
        "id": "g0L7LJYASx4n"
      },
      "source": [
        "## Visualize data"
      ]
    },
    {
      "cell_type": "markdown",
      "metadata": {
        "id": "NyJSwKlTGHfP"
      },
      "source": [
        "#### Age Distribution"
      ]
    },
    {
      "cell_type": "code",
      "metadata": {
        "colab": {
          "base_uri": "https://localhost:8080/",
          "height": 408
        },
        "id": "AGP7MPe0DLJ8",
        "outputId": "79ae17d6-24bc-4175-eb97-f60d2d4e88b4"
      },
      "source": [
        "plt.figure(figsize=(9, 6))\n",
        "plt.yticks(np.arange(0, 20, 2))\n",
        "age_dist = df['age']\n",
        "sns.countplot(x=age_dist)\n",
        "plt.xlabel('Age', fontsize=12)\n",
        "plt.ylabel('Number of people', fontsize=12)\n",
        "plt.title('Age Distribution', fontsize=14)\n",
        "plt.show()"
      ],
      "execution_count": 8,
      "outputs": [
        {
          "output_type": "display_data",
          "data": {
            "image/png": "[encoded data removed]",
            "text/plain": [
              "<Figure size 648x432 with 1 Axes>"
            ]
          },
          "metadata": {
            "tags": [],
            "needs_background": "light"
          }
        }
      ]
    },
    {
      "cell_type": "code",
      "metadata": {
        "colab": {
          "base_uri": "https://localhost:8080/",
          "height": 408
        },
        "id": "Lbbmkbc1ue2y",
        "outputId": "b3d86e36-0c4b-48b3-85e1-5a7b2a2d4b60"
      },
      "source": [
        "plt.figure(figsize=(9, 6))\n",
        "age_dist = df['age']\n",
        "sns.histplot(x=age_dist)\n",
        "plt.xlabel('Age', fontsize=12)\n",
        "plt.ylabel('Number of people', fontsize=12)\n",
        "plt.title('Age Distribution', fontsize=14)\n",
        "plt.show()"
      ],
      "execution_count": 9,
      "outputs": [
        {
          "output_type": "display_data",
          "data": {
            "image/png": "[encoded data removed]",
            "text/plain": [
              "<Figure size 648x432 with 1 Axes>"
            ]
          },
          "metadata": {
            "tags": [],
            "needs_background": "light"
          }
        }
      ]
    },
    {
      "cell_type": "markdown",
      "metadata": {
        "id": "h7dw-h0qJMS6"
      },
      "source": [
        "#### Gender Distribution"
      ]
    },
    {
      "cell_type": "code",
      "metadata": {
        "colab": {
          "base_uri": "https://localhost:8080/",
          "height": 408
        },
        "id": "mjUgceieJPK2",
        "outputId": "4b508d97-23ad-4dec-c691-d17d12e49cbe"
      },
      "source": [
        "# Gender\n",
        "plt.figure(figsize=(8, 6))\n",
        "labels = ['Female', 'Male']\n",
        "gender_dist = df['sex']\n",
        "gender_plot = sns.countplot(x=df['sex'], hue=df['sex'], dodge=False)\n",
        "plt.xlabel('Gender', fontsize=12)\n",
        "plt.ylabel('Amount', fontsize=12)\n",
        "plt.title('Gender Distribution', fontsize=14)\n",
        "plt.legend(labels=labels, loc='upper right')\n",
        "plt.show()"
      ],
      "execution_count": 10,
      "outputs": [
        {
          "output_type": "display_data",
          "data": {
            "image/png": "[encoded data removed]",
            "text/plain": [
              "<Figure size 576x432 with 1 Axes>"
            ]
          },
          "metadata": {
            "tags": [],
            "needs_background": "light"
          }
        }
      ]
    },
    {
      "cell_type": "markdown",
      "metadata": {
        "id": "0zZePuPq0eDY"
      },
      "source": [
        "#### Gender Distribution and Classication Results"
      ]
    },
    {
      "cell_type": "code",
      "metadata": {
        "colab": {
          "base_uri": "https://localhost:8080/",
          "height": 408
        },
        "id": "qJwBKdMp64Se",
        "outputId": "9d906b2b-a317-45f3-a572-f560852a3c02"
      },
      "source": [
        "labels = ['Female', 'Male']\n",
        "plt.figure(figsize=(8, 6))\n",
        "target = df['target']\n",
        "sns.countplot(x=target, hue=df['sex'])\n",
        "plt.xlabel('Category', fontsize=12)\n",
        "plt.ylabel('Number of people', fontsize=12)\n",
        "plt.title('Gender and Classification Results', fontsize=14)\n",
        "plt.legend(labels=labels)\n",
        "plt.show()"
      ],
      "execution_count": 11,
      "outputs": [
        {
          "output_type": "display_data",
          "data": {
            "image/png": "[encoded data removed]",
            "text/plain": [
              "<Figure size 576x432 with 1 Axes>"
            ]
          },
          "metadata": {
            "tags": [],
            "needs_background": "light"
          }
        }
      ]
    },
    {
      "cell_type": "markdown",
      "metadata": {
        "id": "_yUl2T0hzETH"
      },
      "source": [
        "###### **Category:**\n",
        "0 = No Heart Disease, 1 = Heart Disease"
      ]
    },
    {
      "cell_type": "markdown",
      "metadata": {
        "id": "Sz0yCyLLuuqf"
      },
      "source": [
        "#### Chest Pain Type and Cholesterol Level"
      ]
    },
    {
      "cell_type": "code",
      "metadata": {
        "id": "F4qjUIWSMe3u",
        "colab": {
          "base_uri": "https://localhost:8080/",
          "height": 299
        },
        "outputId": "1f67a362-424c-477c-fced-b79a34e8fc6c"
      },
      "source": [
        "x = df['cp']\n",
        "y = df['chol']\n",
        "labels = ['0 - Nontypical', '1 - Nonanginal', '2 - Asymptomatic', '3 - Typical']\n",
        "box_plot = sns.boxplot(x=x, y=y, data=df)\n",
        "box_plot.set_xlabel('Chest Pain Type', fontsize=12)\n",
        "box_plot.set_ylabel('Cholesterol Level', fontsize=12)\n",
        "box_plot.set_title('Chest Pain Type and Cholesterol Level', fontsize=14)\n",
        "plt.show()"
      ],
      "execution_count": 13,
      "outputs": [
        {
          "output_type": "display_data",
          "data": {
            "image/png": "[encoded data removed]",
            "text/plain": [
              "<Figure size 432x288 with 1 Axes>"
            ]
          },
          "metadata": {
            "tags": [],
            "needs_background": "light"
          }
        }
      ]
    },
    {
      "cell_type": "markdown",
      "metadata": {
        "id": "wZatIKkA56MQ"
      },
      "source": [
        "###### **Types of Chest Pain:**\n",
        "0 = Nontypical, 1 = Nonanginal, 2 = Asymptomatic, 3 = Typical"
      ]
    },
    {
      "cell_type": "markdown",
      "metadata": {
        "id": "nUdMs0l-4pGK"
      },
      "source": [
        "#### Chest Pain and Heart Rate"
      ]
    },
    {
      "cell_type": "code",
      "metadata": {
        "colab": {
          "base_uri": "https://localhost:8080/",
          "height": 299
        },
        "id": "zAXBpaKK49r7",
        "outputId": "f39e2ba1-a82d-4def-e7f9-a2bfd8e6f286"
      },
      "source": [
        "x = df['cp']\n",
        "y = df['trestbps']\n",
        "labels = ['0 - Nontypical', '1 - Nonanginal', '2 - Asymptomatic', '3 - Typical']\n",
        "sns.boxplot(x=x, y=y, data=df)\n",
        "plt.xlabel('Chest Pain Type', fontsize=12)\n",
        "plt.ylabel('Resting Heart Rate (bpm)', fontsize=12)\n",
        "plt.title('Chest Pain and Resting Heart Rate', fontsize=14)\n",
        "plt.show()"
      ],
      "execution_count": 14,
      "outputs": [
        {
          "output_type": "display_data",
          "data": {
            "image/png": "[encoded data removed]",
            "text/plain": [
              "<Figure size 432x288 with 1 Axes>"
            ]
          },
          "metadata": {
            "tags": [],
            "needs_background": "light"
          }
        }
      ]
    },
    {
      "cell_type": "markdown",
      "metadata": {
        "id": "rCz0al4r5CBX"
      },
      "source": [
        "###### **Types of Chest Pain:**\n",
        "0 = Nontypical, 1 = Nonanginal, 2 = Asymptomatic, 3 = Typical"
      ]
    },
    {
      "cell_type": "markdown",
      "metadata": {
        "id": "A7nYJeYL5sR0"
      },
      "source": [
        "#### Age vs. Cholesterol Level"
      ]
    },
    {
      "cell_type": "code",
      "metadata": {
        "id": "blfOwm2CVtCh",
        "colab": {
          "base_uri": "https://localhost:8080/",
          "height": 299
        },
        "outputId": "8cc4d0e4-d284-40a3-a7f7-4b481beca54a"
      },
      "source": [
        "x = df['age']\n",
        "y = df['chol']\n",
        "line_plot = sns.lineplot(x=x, y=y, data=df)\n",
        "line_plot.set_xlabel('Age', fontsize=12)\n",
        "line_plot.set_ylabel('Cholesterol Level', fontsize=12)\n",
        "line_plot.set_title('Age vs. Cholesterol Level', fontsize=14)\n",
        "plt.grid()\n",
        "plt.show()"
      ],
      "execution_count": 15,
      "outputs": [
        {
          "output_type": "display_data",
          "data": {
            "image/png": "[encoded data removed]",
            "text/plain": [
              "<Figure size 432x288 with 1 Axes>"
            ]
          },
          "metadata": {
            "tags": [],
            "needs_background": "light"
          }
        }
      ]
    },
    {
      "cell_type": "markdown",
      "metadata": {
        "id": "6nz9d307g8O_"
      },
      "source": [
        "#### Age vs. Blood Sugar"
      ]
    },
    {
      "cell_type": "code",
      "metadata": {
        "colab": {
          "base_uri": "https://localhost:8080/",
          "height": 299
        },
        "id": "apCQlcJ8g-Rg",
        "outputId": "b97012ea-01a2-42e1-f35a-3575bbc98ea3"
      },
      "source": [
        "x = df['age']\n",
        "y = df['trestbps']\n",
        "line_plot = sns.lineplot(x=x, y=y, data=df, color='green')\n",
        "line_plot.set_xlabel('Age', fontsize=12)\n",
        "line_plot.set_ylabel('Blood Sugar (in mmHg)', fontsize=12)\n",
        "line_plot.set_title('Age vs. Blood Sugar', fontsize=14)\n",
        "plt.grid()\n",
        "plt.show()"
      ],
      "execution_count": 16,
      "outputs": [
        {
          "output_type": "display_data",
          "data": {
            "image/png": "[encoded data removed]",
            "text/plain": [
              "<Figure size 432x288 with 1 Axes>"
            ]
          },
          "metadata": {
            "tags": [],
            "needs_background": "light"
          }
        }
      ]
    },
    {
      "cell_type": "markdown",
      "metadata": {
        "id": "1bgUDgxIDL86"
      },
      "source": [
        "## Define DNN model"
      ]
    },
    {
      "cell_type": "code",
      "metadata": {
        "colab": {
          "base_uri": "https://localhost:8080/",
          "height": 1000
        },
        "id": "d3h3Swfj5l3d",
        "outputId": "d48543e9-72e9-4d3e-e2c2-e68ac2feed2b"
      },
      "source": [
        "from keras.models import Sequential\n",
        "from keras.layers import Dense, Dropout\n",
        "from keras.callbacks import History\n",
        "from keras.optimizers import Adam\n",
        "from sklearn.model_selection import StratifiedKFold\n",
        "from sklearn.metrics import accuracy_score, roc_auc_score\n",
        "\n",
        "cv_scores = []  # Scores for each k-Fold\n",
        "losses = []  # Losses for each k-Fold\n",
        "def create_model(batch_size, epochs, folds, neurons, dropout_rate):  \n",
        "  \"\"\" Define DL model with specified parameters \"\"\"\n",
        "  kfold = StratifiedKFold(n_splits=folds, shuffle=True, random_state=0)\n",
        "  print('Batch size = %d, Epochs = %d, k-Folds = %d' % (batch_size, epochs, folds))\n",
        "  for train, test in kfold.split(X, y):\n",
        "   \n",
        "    # Define Deep Learning model\n",
        "    model = Sequential()\n",
        "    # Input layer and Hidden Layer 1\n",
        "    model.add(Dense(units=neurons[0], input_dim=13, activation='relu'))\n",
        "    # model.add(Dropout(rate=dropout_rate))\n",
        "    # Hidden Layer 2\n",
        "    model.add(Dense(units=neurons[1],activation='relu'))\n",
        "    # Dropout layer\n",
        "    model.add(Dropout(rate=dropout_rate))\n",
        "    # Output layer\n",
        "    model.add(Dense(units=1,activation='sigmoid'))\n",
        "    \n",
        "    # Compile model\n",
        "    model.compile(optimizer=Adam(learning_rate=0.001), loss='binary_crossentropy', metrics=['accuracy'])\n",
        "    # Train model\n",
        "    history = model.fit(X_train, y_train, batch_size=32, epochs=epochs, validation_data=(X_test, y_test))\n",
        "\n",
        "    # Plot loss during training\n",
        "    plt.plot(history.history['loss'], 'g', label='train')\n",
        "    plt.plot(history.history['val_loss'], 'b', label='test')\n",
        "    plt.title('Training and Validation loss')\n",
        "    plt.xlabel('Epochs')\n",
        "    plt.ylabel('Loss')\n",
        "    plt.legend()\n",
        "    plt.grid()\n",
        "    plt.show()\n",
        "\n",
        "    # Plot accuracy during training\n",
        "    plt.plot(history.history['accuracy'], 'g', label='train')\n",
        "    plt.plot(history.history['val_accuracy'], 'b', label='test')\n",
        "    plt.xlabel('Epochs', fontsize=12)\n",
        "    plt.ylabel('Accuracy', fontsize=12)\n",
        "    plt.title('Training and Validation Accuracy', fontsize=14)\n",
        "    plt.legend()\n",
        "    plt.grid()\n",
        "    plt.show()\n",
        "\n",
        "    # Print scores\n",
        "    scores = model.evaluate(X_test, y_test, verbose=0)\n",
        "    print('%s: %.3f%%' % (model.metrics_names[1], scores[1]*100))\n",
        "    losses.append(scores[0] * 100)  # Loss percentage\n",
        "    cv_scores.append(scores[1] * 100)  # Score percentage\n",
        "  return model\n",
        "\n",
        "# With one dropout layer (optimal results from Random Search)\n",
        "# {'batch_size': 32, 'epochs': 150, 'folds': 3, 'neurons': (14, 6), \n",
        "# 'dropout_rate': 0.4}\n",
        "model = create_model(32, 150, 3, (14, 6), 0.4)\n",
        "\n",
        "# With two dropout layers (results in too much underfitting)\n",
        "# {'batch_size': 32, 'epochs': 150, 'folds': 3, 'neurons': (14, 8), \n",
        "# 'dropout_rate': 0.45}\n",
        "# model = create_model(32, 150, 3, (14, 8), 0.45)\n",
        "\n",
        "# Print results\n",
        "print('Mean Accuracy: %.3f%%' % np.mean(cv_scores))\n",
        "print('Standard Deviation: %.3f%%' % np.std(cv_scores))\n",
        "print('Losses:')\n",
        "print(losses)\n",
        "print('Scores:')\n",
        "print(cv_scores)"
      ],
      "execution_count": 17,
      "outputs": [
        {
          "output_type": "stream",
          "text": [
            "Batch size = 32, Epochs = 150, k-Folds = 3\n"
          ],
          "name": "stdout"
        },
        {
          "output_type": "stream",
          "text": [
            "/usr/local/lib/python3.7/dist-packages/sklearn/model_selection/_split.py:667: UserWarning: The least populated class in y has only 1 members, which is less than n_splits=3.\n",
            "  % (min_groups, self.n_splits)), UserWarning)\n"
          ],
          "name": "stderr"
        },
        {
          "output_type": "stream",
          "text": [
            "Epoch 1/150\n",
            "8/8 [==============================] - 1s 45ms/step - loss: 0.8561 - accuracy: 0.4739 - val_loss: 0.7655 - val_accuracy: 0.4098\n",
            "Epoch 2/150\n",
            "8/8 [==============================] - 0s 11ms/step - loss: 0.7960 - accuracy: 0.4475 - val_loss: 0.7268 - val_accuracy: 0.4262\n",
            "Epoch 3/150\n",
            "8/8 [==============================] - 0s 11ms/step - loss: 0.7462 - accuracy: 0.5045 - val_loss: 0.6933 - val_accuracy: 0.5082\n",
            "Epoch 4/150\n",
            "8/8 [==============================] - 0s 12ms/step - loss: 0.7124 - accuracy: 0.4958 - val_loss: 0.6650 - val_accuracy: 0.5738\n",
            "Epoch 5/150\n",
            "8/8 [==============================] - 0s 13ms/step - loss: 0.6926 - accuracy: 0.6070 - val_loss: 0.6386 - val_accuracy: 0.6557\n",
            "Epoch 6/150\n",
            "8/8 [==============================] - 0s 12ms/step - loss: 0.7119 - accuracy: 0.5655 - val_loss: 0.6157 - val_accuracy: 0.6885\n",
            "Epoch 7/150\n",
            "8/8 [==============================] - 0s 11ms/step - loss: 0.6493 - accuracy: 0.6028 - val_loss: 0.5953 - val_accuracy: 0.7213\n",
            "Epoch 8/150\n",
            "8/8 [==============================] - 0s 11ms/step - loss: 0.6152 - accuracy: 0.6708 - val_loss: 0.5769 - val_accuracy: 0.7213\n",
            "Epoch 9/150\n",
            "8/8 [==============================] - 0s 11ms/step - loss: 0.6067 - accuracy: 0.7090 - val_loss: 0.5604 - val_accuracy: 0.7705\n",
            "Epoch 10/150\n",
            "8/8 [==============================] - 0s 12ms/step - loss: 0.5721 - accuracy: 0.6849 - val_loss: 0.5451 - val_accuracy: 0.7705\n",
            "Epoch 11/150\n",
            "8/8 [==============================] - 0s 12ms/step - loss: 0.5556 - accuracy: 0.7098 - val_loss: 0.5311 - val_accuracy: 0.7705\n",
            "Epoch 12/150\n",
            "8/8 [==============================] - 0s 11ms/step - loss: 0.5692 - accuracy: 0.7090 - val_loss: 0.5177 - val_accuracy: 0.7869\n",
            "Epoch 13/150\n",
            "8/8 [==============================] - 0s 14ms/step - loss: 0.5422 - accuracy: 0.7427 - val_loss: 0.5068 - val_accuracy: 0.7705\n",
            "Epoch 14/150\n",
            "8/8 [==============================] - 0s 13ms/step - loss: 0.5694 - accuracy: 0.7436 - val_loss: 0.4971 - val_accuracy: 0.7705\n",
            "Epoch 15/150\n",
            "8/8 [==============================] - 0s 12ms/step - loss: 0.5633 - accuracy: 0.7278 - val_loss: 0.4888 - val_accuracy: 0.7705\n",
            "Epoch 16/150\n",
            "8/8 [==============================] - 0s 12ms/step - loss: 0.4823 - accuracy: 0.7619 - val_loss: 0.4818 - val_accuracy: 0.7705\n",
            "Epoch 17/150\n",
            "8/8 [==============================] - 0s 12ms/step - loss: 0.5192 - accuracy: 0.6995 - val_loss: 0.4756 - val_accuracy: 0.7705\n",
            "Epoch 18/150\n",
            "8/8 [==============================] - 0s 11ms/step - loss: 0.5621 - accuracy: 0.7105 - val_loss: 0.4704 - val_accuracy: 0.7705\n",
            "Epoch 19/150\n",
            "8/8 [==============================] - 0s 11ms/step - loss: 0.4688 - accuracy: 0.7779 - val_loss: 0.4637 - val_accuracy: 0.7705\n",
            "Epoch 20/150\n",
            "8/8 [==============================] - 0s 12ms/step - loss: 0.5019 - accuracy: 0.7102 - val_loss: 0.4576 - val_accuracy: 0.8033\n",
            "Epoch 21/150\n",
            "8/8 [==============================] - 0s 12ms/step - loss: 0.4405 - accuracy: 0.7970 - val_loss: 0.4523 - val_accuracy: 0.8033\n",
            "Epoch 22/150\n",
            "8/8 [==============================] - 0s 11ms/step - loss: 0.5116 - accuracy: 0.7290 - val_loss: 0.4476 - val_accuracy: 0.8033\n",
            "Epoch 23/150\n",
            "8/8 [==============================] - 0s 11ms/step - loss: 0.4793 - accuracy: 0.7963 - val_loss: 0.4440 - val_accuracy: 0.8033\n",
            "Epoch 24/150\n",
            "8/8 [==============================] - 0s 11ms/step - loss: 0.4765 - accuracy: 0.7328 - val_loss: 0.4407 - val_accuracy: 0.8033\n",
            "Epoch 25/150\n",
            "8/8 [==============================] - 0s 12ms/step - loss: 0.4423 - accuracy: 0.8032 - val_loss: 0.4377 - val_accuracy: 0.8033\n",
            "Epoch 26/150\n",
            "8/8 [==============================] - 0s 12ms/step - loss: 0.4436 - accuracy: 0.7882 - val_loss: 0.4350 - val_accuracy: 0.8033\n",
            "Epoch 27/150\n",
            "8/8 [==============================] - 0s 12ms/step - loss: 0.4908 - accuracy: 0.7493 - val_loss: 0.4335 - val_accuracy: 0.8033\n",
            "Epoch 28/150\n",
            "8/8 [==============================] - 0s 11ms/step - loss: 0.5052 - accuracy: 0.7776 - val_loss: 0.4322 - val_accuracy: 0.8033\n",
            "Epoch 29/150\n",
            "8/8 [==============================] - 0s 11ms/step - loss: 0.4934 - accuracy: 0.7340 - val_loss: 0.4307 - val_accuracy: 0.8033\n",
            "Epoch 30/150\n",
            "8/8 [==============================] - 0s 12ms/step - loss: 0.4857 - accuracy: 0.7280 - val_loss: 0.4279 - val_accuracy: 0.8033\n",
            "Epoch 31/150\n",
            "8/8 [==============================] - 0s 13ms/step - loss: 0.4383 - accuracy: 0.8163 - val_loss: 0.4255 - val_accuracy: 0.8033\n",
            "Epoch 32/150\n",
            "8/8 [==============================] - 0s 13ms/step - loss: 0.4588 - accuracy: 0.7871 - val_loss: 0.4233 - val_accuracy: 0.8033\n",
            "Epoch 33/150\n",
            "8/8 [==============================] - 0s 10ms/step - loss: 0.4693 - accuracy: 0.7771 - val_loss: 0.4203 - val_accuracy: 0.8033\n",
            "Epoch 34/150\n",
            "8/8 [==============================] - 0s 12ms/step - loss: 0.4431 - accuracy: 0.7622 - val_loss: 0.4178 - val_accuracy: 0.8033\n",
            "Epoch 35/150\n",
            "8/8 [==============================] - 0s 12ms/step - loss: 0.4412 - accuracy: 0.8053 - val_loss: 0.4156 - val_accuracy: 0.8033\n",
            "Epoch 36/150\n",
            "8/8 [==============================] - 0s 11ms/step - loss: 0.4121 - accuracy: 0.8118 - val_loss: 0.4150 - val_accuracy: 0.8033\n",
            "Epoch 37/150\n",
            "8/8 [==============================] - 0s 12ms/step - loss: 0.4717 - accuracy: 0.8001 - val_loss: 0.4129 - val_accuracy: 0.8033\n",
            "Epoch 38/150\n",
            "8/8 [==============================] - 0s 11ms/step - loss: 0.4357 - accuracy: 0.8101 - val_loss: 0.4115 - val_accuracy: 0.8033\n",
            "Epoch 39/150\n",
            "8/8 [==============================] - 0s 11ms/step - loss: 0.4600 - accuracy: 0.8065 - val_loss: 0.4105 - val_accuracy: 0.8033\n",
            "Epoch 40/150\n",
            "8/8 [==============================] - 0s 11ms/step - loss: 0.4153 - accuracy: 0.8129 - val_loss: 0.4095 - val_accuracy: 0.8033\n",
            "Epoch 41/150\n",
            "8/8 [==============================] - 0s 12ms/step - loss: 0.3923 - accuracy: 0.8481 - val_loss: 0.4081 - val_accuracy: 0.8033\n",
            "Epoch 42/150\n",
            "8/8 [==============================] - 0s 12ms/step - loss: 0.4139 - accuracy: 0.7985 - val_loss: 0.4079 - val_accuracy: 0.7869\n",
            "Epoch 43/150\n",
            "8/8 [==============================] - 0s 12ms/step - loss: 0.4280 - accuracy: 0.7906 - val_loss: 0.4069 - val_accuracy: 0.7869\n",
            "Epoch 44/150\n",
            "8/8 [==============================] - 0s 11ms/step - loss: 0.4533 - accuracy: 0.7627 - val_loss: 0.4057 - val_accuracy: 0.7869\n",
            "Epoch 45/150\n",
            "8/8 [==============================] - 0s 11ms/step - loss: 0.4172 - accuracy: 0.7556 - val_loss: 0.4056 - val_accuracy: 0.7869\n",
            "Epoch 46/150\n",
            "8/8 [==============================] - 0s 11ms/step - loss: 0.4217 - accuracy: 0.8151 - val_loss: 0.4043 - val_accuracy: 0.7869\n",
            "Epoch 47/150\n",
            "8/8 [==============================] - 0s 12ms/step - loss: 0.4448 - accuracy: 0.8065 - val_loss: 0.4040 - val_accuracy: 0.7869\n",
            "Epoch 48/150\n",
            "8/8 [==============================] - 0s 11ms/step - loss: 0.3962 - accuracy: 0.7966 - val_loss: 0.4036 - val_accuracy: 0.7869\n",
            "Epoch 49/150\n",
            "8/8 [==============================] - 0s 12ms/step - loss: 0.4227 - accuracy: 0.8122 - val_loss: 0.4020 - val_accuracy: 0.7869\n",
            "Epoch 50/150\n",
            "8/8 [==============================] - 0s 11ms/step - loss: 0.4610 - accuracy: 0.7942 - val_loss: 0.4012 - val_accuracy: 0.7869\n",
            "Epoch 51/150\n",
            "8/8 [==============================] - 0s 12ms/step - loss: 0.3894 - accuracy: 0.8378 - val_loss: 0.3993 - val_accuracy: 0.7869\n",
            "Epoch 52/150\n",
            "8/8 [==============================] - 0s 11ms/step - loss: 0.3878 - accuracy: 0.8039 - val_loss: 0.3977 - val_accuracy: 0.7705\n",
            "Epoch 53/150\n",
            "8/8 [==============================] - 0s 11ms/step - loss: 0.3725 - accuracy: 0.8595 - val_loss: 0.3961 - val_accuracy: 0.7869\n",
            "Epoch 54/150\n",
            "8/8 [==============================] - 0s 13ms/step - loss: 0.3617 - accuracy: 0.8142 - val_loss: 0.3959 - val_accuracy: 0.7869\n",
            "Epoch 55/150\n",
            "8/8 [==============================] - 0s 12ms/step - loss: 0.3955 - accuracy: 0.8204 - val_loss: 0.3950 - val_accuracy: 0.7869\n",
            "Epoch 56/150\n",
            "8/8 [==============================] - 0s 11ms/step - loss: 0.4000 - accuracy: 0.8370 - val_loss: 0.3941 - val_accuracy: 0.7869\n",
            "Epoch 57/150\n",
            "8/8 [==============================] - 0s 12ms/step - loss: 0.4026 - accuracy: 0.8268 - val_loss: 0.3932 - val_accuracy: 0.7869\n",
            "Epoch 58/150\n",
            "8/8 [==============================] - 0s 11ms/step - loss: 0.3505 - accuracy: 0.8471 - val_loss: 0.3938 - val_accuracy: 0.7869\n",
            "Epoch 59/150\n",
            "8/8 [==============================] - 0s 11ms/step - loss: 0.3903 - accuracy: 0.7856 - val_loss: 0.3940 - val_accuracy: 0.7705\n",
            "Epoch 60/150\n",
            "8/8 [==============================] - 0s 12ms/step - loss: 0.3596 - accuracy: 0.8344 - val_loss: 0.3928 - val_accuracy: 0.7869\n",
            "Epoch 61/150\n",
            "8/8 [==============================] - 0s 12ms/step - loss: 0.4034 - accuracy: 0.8166 - val_loss: 0.3925 - val_accuracy: 0.7869\n",
            "Epoch 62/150\n",
            "8/8 [==============================] - 0s 11ms/step - loss: 0.3923 - accuracy: 0.8377 - val_loss: 0.3918 - val_accuracy: 0.7869\n",
            "Epoch 63/150\n",
            "8/8 [==============================] - 0s 12ms/step - loss: 0.4347 - accuracy: 0.8316 - val_loss: 0.3905 - val_accuracy: 0.7869\n",
            "Epoch 64/150\n",
            "8/8 [==============================] - 0s 11ms/step - loss: 0.3975 - accuracy: 0.8117 - val_loss: 0.3913 - val_accuracy: 0.7869\n",
            "Epoch 65/150\n",
            "8/8 [==============================] - 0s 11ms/step - loss: 0.3550 - accuracy: 0.8640 - val_loss: 0.3928 - val_accuracy: 0.7869\n",
            "Epoch 66/150\n",
            "8/8 [==============================] - 0s 11ms/step - loss: 0.4074 - accuracy: 0.7992 - val_loss: 0.3930 - val_accuracy: 0.7869\n",
            "Epoch 67/150\n",
            "8/8 [==============================] - 0s 11ms/step - loss: 0.3744 - accuracy: 0.8087 - val_loss: 0.3914 - val_accuracy: 0.7869\n",
            "Epoch 68/150\n",
            "8/8 [==============================] - 0s 11ms/step - loss: 0.3431 - accuracy: 0.8685 - val_loss: 0.3907 - val_accuracy: 0.7869\n",
            "Epoch 69/150\n",
            "8/8 [==============================] - 0s 12ms/step - loss: 0.3826 - accuracy: 0.8423 - val_loss: 0.3883 - val_accuracy: 0.7869\n",
            "Epoch 70/150\n",
            "8/8 [==============================] - 0s 11ms/step - loss: 0.4001 - accuracy: 0.8151 - val_loss: 0.3873 - val_accuracy: 0.7869\n",
            "Epoch 71/150\n",
            "8/8 [==============================] - 0s 11ms/step - loss: 0.3965 - accuracy: 0.8487 - val_loss: 0.3873 - val_accuracy: 0.7869\n",
            "Epoch 72/150\n",
            "8/8 [==============================] - 0s 12ms/step - loss: 0.3915 - accuracy: 0.8362 - val_loss: 0.3871 - val_accuracy: 0.7869\n",
            "Epoch 73/150\n",
            "8/8 [==============================] - 0s 12ms/step - loss: 0.3875 - accuracy: 0.8480 - val_loss: 0.3868 - val_accuracy: 0.7869\n",
            "Epoch 74/150\n",
            "8/8 [==============================] - 0s 11ms/step - loss: 0.3734 - accuracy: 0.7859 - val_loss: 0.3894 - val_accuracy: 0.7869\n",
            "Epoch 75/150\n",
            "8/8 [==============================] - 0s 13ms/step - loss: 0.3298 - accuracy: 0.8584 - val_loss: 0.3893 - val_accuracy: 0.7869\n",
            "Epoch 76/150\n",
            "8/8 [==============================] - 0s 12ms/step - loss: 0.4124 - accuracy: 0.7943 - val_loss: 0.3886 - val_accuracy: 0.7869\n",
            "Epoch 77/150\n",
            "8/8 [==============================] - 0s 12ms/step - loss: 0.3742 - accuracy: 0.8184 - val_loss: 0.3873 - val_accuracy: 0.7869\n",
            "Epoch 78/150\n",
            "8/8 [==============================] - 0s 11ms/step - loss: 0.3593 - accuracy: 0.8388 - val_loss: 0.3872 - val_accuracy: 0.7869\n",
            "Epoch 79/150\n",
            "8/8 [==============================] - 0s 12ms/step - loss: 0.3470 - accuracy: 0.8661 - val_loss: 0.3862 - val_accuracy: 0.7869\n",
            "Epoch 80/150\n",
            "8/8 [==============================] - 0s 11ms/step - loss: 0.3689 - accuracy: 0.8380 - val_loss: 0.3866 - val_accuracy: 0.7869\n",
            "Epoch 81/150\n",
            "8/8 [==============================] - 0s 11ms/step - loss: 0.3324 - accuracy: 0.8753 - val_loss: 0.3846 - val_accuracy: 0.7869\n",
            "Epoch 82/150\n",
            "8/8 [==============================] - 0s 12ms/step - loss: 0.3105 - accuracy: 0.8648 - val_loss: 0.3832 - val_accuracy: 0.7869\n",
            "Epoch 83/150\n",
            "8/8 [==============================] - 0s 11ms/step - loss: 0.4105 - accuracy: 0.8229 - val_loss: 0.3821 - val_accuracy: 0.7869\n",
            "Epoch 84/150\n",
            "8/8 [==============================] - 0s 13ms/step - loss: 0.3730 - accuracy: 0.8232 - val_loss: 0.3813 - val_accuracy: 0.7869\n",
            "Epoch 85/150\n",
            "8/8 [==============================] - 0s 13ms/step - loss: 0.3594 - accuracy: 0.8098 - val_loss: 0.3819 - val_accuracy: 0.7869\n",
            "Epoch 86/150\n",
            "8/8 [==============================] - 0s 12ms/step - loss: 0.3927 - accuracy: 0.8387 - val_loss: 0.3824 - val_accuracy: 0.7869\n",
            "Epoch 87/150\n",
            "8/8 [==============================] - 0s 11ms/step - loss: 0.3344 - accuracy: 0.8624 - val_loss: 0.3833 - val_accuracy: 0.7869\n",
            "Epoch 88/150\n",
            "8/8 [==============================] - 0s 12ms/step - loss: 0.3657 - accuracy: 0.8333 - val_loss: 0.3839 - val_accuracy: 0.7869\n",
            "Epoch 89/150\n",
            "8/8 [==============================] - 0s 12ms/step - loss: 0.3204 - accuracy: 0.8642 - val_loss: 0.3850 - val_accuracy: 0.7869\n",
            "Epoch 90/150\n",
            "8/8 [==============================] - 0s 11ms/step - loss: 0.3596 - accuracy: 0.8454 - val_loss: 0.3858 - val_accuracy: 0.7869\n",
            "Epoch 91/150\n",
            "8/8 [==============================] - 0s 11ms/step - loss: 0.3897 - accuracy: 0.8648 - val_loss: 0.3868 - val_accuracy: 0.7869\n",
            "Epoch 92/150\n",
            "8/8 [==============================] - 0s 11ms/step - loss: 0.3373 - accuracy: 0.8502 - val_loss: 0.3864 - val_accuracy: 0.7869\n",
            "Epoch 93/150\n",
            "8/8 [==============================] - 0s 11ms/step - loss: 0.3937 - accuracy: 0.7993 - val_loss: 0.3853 - val_accuracy: 0.7869\n",
            "Epoch 94/150\n",
            "8/8 [==============================] - 0s 13ms/step - loss: 0.3427 - accuracy: 0.8726 - val_loss: 0.3843 - val_accuracy: 0.7869\n",
            "Epoch 95/150\n",
            "8/8 [==============================] - 0s 12ms/step - loss: 0.4029 - accuracy: 0.8235 - val_loss: 0.3831 - val_accuracy: 0.7869\n",
            "Epoch 96/150\n",
            "8/8 [==============================] - 0s 11ms/step - loss: 0.3672 - accuracy: 0.8277 - val_loss: 0.3835 - val_accuracy: 0.7869\n",
            "Epoch 97/150\n",
            "8/8 [==============================] - 0s 11ms/step - loss: 0.3701 - accuracy: 0.8313 - val_loss: 0.3840 - val_accuracy: 0.7869\n",
            "Epoch 98/150\n",
            "8/8 [==============================] - 0s 12ms/step - loss: 0.3591 - accuracy: 0.8124 - val_loss: 0.3828 - val_accuracy: 0.7869\n",
            "Epoch 99/150\n",
            "8/8 [==============================] - 0s 13ms/step - loss: 0.3294 - accuracy: 0.8676 - val_loss: 0.3818 - val_accuracy: 0.7869\n",
            "Epoch 100/150\n",
            "8/8 [==============================] - 0s 12ms/step - loss: 0.3733 - accuracy: 0.8147 - val_loss: 0.3821 - val_accuracy: 0.7869\n",
            "Epoch 101/150\n",
            "8/8 [==============================] - 0s 11ms/step - loss: 0.3490 - accuracy: 0.8545 - val_loss: 0.3827 - val_accuracy: 0.7869\n",
            "Epoch 102/150\n",
            "8/8 [==============================] - 0s 12ms/step - loss: 0.3521 - accuracy: 0.8117 - val_loss: 0.3817 - val_accuracy: 0.7869\n",
            "Epoch 103/150\n",
            "8/8 [==============================] - 0s 14ms/step - loss: 0.3785 - accuracy: 0.7990 - val_loss: 0.3811 - val_accuracy: 0.7869\n",
            "Epoch 104/150\n",
            "8/8 [==============================] - 0s 13ms/step - loss: 0.3637 - accuracy: 0.8355 - val_loss: 0.3817 - val_accuracy: 0.7869\n",
            "Epoch 105/150\n",
            "8/8 [==============================] - 0s 10ms/step - loss: 0.3594 - accuracy: 0.8188 - val_loss: 0.3828 - val_accuracy: 0.7869\n",
            "Epoch 106/150\n",
            "8/8 [==============================] - 0s 11ms/step - loss: 0.3974 - accuracy: 0.7993 - val_loss: 0.3832 - val_accuracy: 0.7869\n",
            "Epoch 107/150\n",
            "8/8 [==============================] - 0s 11ms/step - loss: 0.3318 - accuracy: 0.8223 - val_loss: 0.3834 - val_accuracy: 0.7869\n",
            "Epoch 108/150\n",
            "8/8 [==============================] - 0s 11ms/step - loss: 0.3371 - accuracy: 0.8523 - val_loss: 0.3836 - val_accuracy: 0.7869\n",
            "Epoch 109/150\n",
            "8/8 [==============================] - 0s 12ms/step - loss: 0.4012 - accuracy: 0.8175 - val_loss: 0.3838 - val_accuracy: 0.7869\n",
            "Epoch 110/150\n",
            "8/8 [==============================] - 0s 12ms/step - loss: 0.3087 - accuracy: 0.8736 - val_loss: 0.3848 - val_accuracy: 0.7869\n",
            "Epoch 111/150\n",
            "8/8 [==============================] - 0s 13ms/step - loss: 0.3551 - accuracy: 0.8288 - val_loss: 0.3859 - val_accuracy: 0.8033\n",
            "Epoch 112/150\n",
            "8/8 [==============================] - 0s 14ms/step - loss: 0.3304 - accuracy: 0.8396 - val_loss: 0.3861 - val_accuracy: 0.8033\n",
            "Epoch 113/150\n",
            "8/8 [==============================] - 0s 12ms/step - loss: 0.2880 - accuracy: 0.8735 - val_loss: 0.3848 - val_accuracy: 0.8033\n",
            "Epoch 114/150\n",
            "8/8 [==============================] - 0s 11ms/step - loss: 0.3316 - accuracy: 0.8520 - val_loss: 0.3834 - val_accuracy: 0.8033\n",
            "Epoch 115/150\n",
            "8/8 [==============================] - 0s 12ms/step - loss: 0.3446 - accuracy: 0.8307 - val_loss: 0.3838 - val_accuracy: 0.8033\n",
            "Epoch 116/150\n",
            "8/8 [==============================] - 0s 12ms/step - loss: 0.3366 - accuracy: 0.8414 - val_loss: 0.3846 - val_accuracy: 0.8033\n",
            "Epoch 117/150\n",
            "8/8 [==============================] - 0s 12ms/step - loss: 0.3182 - accuracy: 0.8749 - val_loss: 0.3861 - val_accuracy: 0.8033\n",
            "Epoch 118/150\n",
            "8/8 [==============================] - 0s 12ms/step - loss: 0.3764 - accuracy: 0.8524 - val_loss: 0.3876 - val_accuracy: 0.8033\n",
            "Epoch 119/150\n",
            "8/8 [==============================] - 0s 13ms/step - loss: 0.3104 - accuracy: 0.8795 - val_loss: 0.3874 - val_accuracy: 0.8033\n",
            "Epoch 120/150\n",
            "8/8 [==============================] - 0s 14ms/step - loss: 0.3134 - accuracy: 0.8586 - val_loss: 0.3880 - val_accuracy: 0.8033\n",
            "Epoch 121/150\n",
            "8/8 [==============================] - 0s 12ms/step - loss: 0.3333 - accuracy: 0.8708 - val_loss: 0.3896 - val_accuracy: 0.8033\n",
            "Epoch 122/150\n",
            "8/8 [==============================] - 0s 12ms/step - loss: 0.3146 - accuracy: 0.8578 - val_loss: 0.3892 - val_accuracy: 0.7869\n",
            "Epoch 123/150\n",
            "8/8 [==============================] - 0s 16ms/step - loss: 0.2867 - accuracy: 0.8424 - val_loss: 0.3897 - val_accuracy: 0.7869\n",
            "Epoch 124/150\n",
            "8/8 [==============================] - 0s 13ms/step - loss: 0.3267 - accuracy: 0.8326 - val_loss: 0.3889 - val_accuracy: 0.7869\n",
            "Epoch 125/150\n",
            "8/8 [==============================] - 0s 11ms/step - loss: 0.3055 - accuracy: 0.8496 - val_loss: 0.3880 - val_accuracy: 0.7869\n",
            "Epoch 126/150\n",
            "8/8 [==============================] - 0s 11ms/step - loss: 0.2815 - accuracy: 0.8852 - val_loss: 0.3872 - val_accuracy: 0.7869\n",
            "Epoch 127/150\n",
            "8/8 [==============================] - 0s 11ms/step - loss: 0.3535 - accuracy: 0.8476 - val_loss: 0.3866 - val_accuracy: 0.8033\n",
            "Epoch 128/150\n",
            "8/8 [==============================] - 0s 11ms/step - loss: 0.3149 - accuracy: 0.8531 - val_loss: 0.3869 - val_accuracy: 0.8033\n",
            "Epoch 129/150\n",
            "8/8 [==============================] - 0s 11ms/step - loss: 0.3120 - accuracy: 0.8470 - val_loss: 0.3858 - val_accuracy: 0.8033\n",
            "Epoch 130/150\n",
            "8/8 [==============================] - 0s 12ms/step - loss: 0.3086 - accuracy: 0.8917 - val_loss: 0.3857 - val_accuracy: 0.8033\n",
            "Epoch 131/150\n",
            "8/8 [==============================] - 0s 14ms/step - loss: 0.3338 - accuracy: 0.8634 - val_loss: 0.3871 - val_accuracy: 0.8033\n",
            "Epoch 132/150\n",
            "8/8 [==============================] - 0s 12ms/step - loss: 0.2912 - accuracy: 0.8877 - val_loss: 0.3889 - val_accuracy: 0.8033\n",
            "Epoch 133/150\n",
            "8/8 [==============================] - 0s 12ms/step - loss: 0.3068 - accuracy: 0.9034 - val_loss: 0.3903 - val_accuracy: 0.8033\n",
            "Epoch 134/150\n",
            "8/8 [==============================] - 0s 12ms/step - loss: 0.3188 - accuracy: 0.8495 - val_loss: 0.3917 - val_accuracy: 0.8033\n",
            "Epoch 135/150\n",
            "8/8 [==============================] - 0s 11ms/step - loss: 0.3651 - accuracy: 0.8144 - val_loss: 0.3926 - val_accuracy: 0.8033\n",
            "Epoch 136/150\n",
            "8/8 [==============================] - 0s 12ms/step - loss: 0.3072 - accuracy: 0.8339 - val_loss: 0.3919 - val_accuracy: 0.8033\n",
            "Epoch 137/150\n",
            "8/8 [==============================] - 0s 13ms/step - loss: 0.3286 - accuracy: 0.8717 - val_loss: 0.3923 - val_accuracy: 0.8033\n",
            "Epoch 138/150\n",
            "8/8 [==============================] - 0s 12ms/step - loss: 0.2810 - accuracy: 0.8823 - val_loss: 0.3917 - val_accuracy: 0.8033\n",
            "Epoch 139/150\n",
            "8/8 [==============================] - 0s 11ms/step - loss: 0.3446 - accuracy: 0.8355 - val_loss: 0.3910 - val_accuracy: 0.8033\n",
            "Epoch 140/150\n",
            "8/8 [==============================] - 0s 11ms/step - loss: 0.3255 - accuracy: 0.8600 - val_loss: 0.3903 - val_accuracy: 0.8033\n",
            "Epoch 141/150\n",
            "8/8 [==============================] - 0s 14ms/step - loss: 0.3646 - accuracy: 0.8256 - val_loss: 0.3905 - val_accuracy: 0.8033\n",
            "Epoch 142/150\n",
            "8/8 [==============================] - 0s 12ms/step - loss: 0.2763 - accuracy: 0.8687 - val_loss: 0.3892 - val_accuracy: 0.8033\n",
            "Epoch 143/150\n",
            "8/8 [==============================] - 0s 13ms/step - loss: 0.3231 - accuracy: 0.8422 - val_loss: 0.3886 - val_accuracy: 0.8033\n",
            "Epoch 144/150\n",
            "8/8 [==============================] - 0s 13ms/step - loss: 0.3295 - accuracy: 0.8327 - val_loss: 0.3885 - val_accuracy: 0.8033\n",
            "Epoch 145/150\n",
            "8/8 [==============================] - 0s 12ms/step - loss: 0.3277 - accuracy: 0.8516 - val_loss: 0.3896 - val_accuracy: 0.8033\n",
            "Epoch 146/150\n",
            "8/8 [==============================] - 0s 11ms/step - loss: 0.2867 - accuracy: 0.8731 - val_loss: 0.3908 - val_accuracy: 0.8033\n",
            "Epoch 147/150\n",
            "8/8 [==============================] - 0s 12ms/step - loss: 0.2944 - accuracy: 0.8453 - val_loss: 0.3920 - val_accuracy: 0.8033\n",
            "Epoch 148/150\n",
            "8/8 [==============================] - 0s 12ms/step - loss: 0.2824 - accuracy: 0.8751 - val_loss: 0.3924 - val_accuracy: 0.8033\n",
            "Epoch 149/150\n",
            "8/8 [==============================] - 0s 13ms/step - loss: 0.3332 - accuracy: 0.8548 - val_loss: 0.3937 - val_accuracy: 0.8033\n",
            "Epoch 150/150\n",
            "8/8 [==============================] - 0s 11ms/step - loss: 0.2748 - accuracy: 0.9120 - val_loss: 0.3947 - val_accuracy: 0.8033\n"
          ],
          "name": "stdout"
        },
        {
          "output_type": "display_data",
          "data": {
            "image/png": "[encoded data removed]",
            "text/plain": [
              "<Figure size 432x288 with 1 Axes>"
            ]
          },
          "metadata": {
            "tags": [],
            "needs_background": "light"
          }
        },
        {
          "output_type": "display_data",
          "data": {
            "image/png": "[encoded data removed]",
            "text/plain": [
              "<Figure size 432x288 with 1 Axes>"
            ]
          },
          "metadata": {
            "tags": [],
            "needs_background": "light"
          }
        },
        {
          "output_type": "stream",
          "text": [
            "accuracy: 80.328%\n",
            "Epoch 1/150\n",
            "8/8 [==============================] - 1s 39ms/step - loss: 0.7292 - accuracy: 0.6242 - val_loss: 0.5221 - val_accuracy: 0.6721\n",
            "Epoch 2/150\n",
            "8/8 [==============================] - 0s 11ms/step - loss: 0.6377 - accuracy: 0.6830 - val_loss: 0.5116 - val_accuracy: 0.6557\n",
            "Epoch 3/150\n",
            "8/8 [==============================] - 0s 12ms/step - loss: 0.6354 - accuracy: 0.6295 - val_loss: 0.5025 - val_accuracy: 0.7213\n",
            "Epoch 4/150\n",
            "8/8 [==============================] - 0s 12ms/step - loss: 0.6567 - accuracy: 0.6553 - val_loss: 0.4961 - val_accuracy: 0.7541\n",
            "Epoch 5/150\n",
            "8/8 [==============================] - 0s 12ms/step - loss: 0.5908 - accuracy: 0.6438 - val_loss: 0.4916 - val_accuracy: 0.7705\n",
            "Epoch 6/150\n",
            "8/8 [==============================] - 0s 11ms/step - loss: 0.5840 - accuracy: 0.6631 - val_loss: 0.4869 - val_accuracy: 0.7869\n",
            "Epoch 7/150\n",
            "8/8 [==============================] - 0s 11ms/step - loss: 0.6221 - accuracy: 0.6601 - val_loss: 0.4835 - val_accuracy: 0.8033\n",
            "Epoch 8/150\n",
            "8/8 [==============================] - 0s 12ms/step - loss: 0.6166 - accuracy: 0.6764 - val_loss: 0.4805 - val_accuracy: 0.8197\n",
            "Epoch 9/150\n",
            "8/8 [==============================] - 0s 11ms/step - loss: 0.5748 - accuracy: 0.7085 - val_loss: 0.4779 - val_accuracy: 0.8361\n",
            "Epoch 10/150\n",
            "8/8 [==============================] - 0s 13ms/step - loss: 0.5285 - accuracy: 0.7395 - val_loss: 0.4757 - val_accuracy: 0.8525\n",
            "Epoch 11/150\n",
            "8/8 [==============================] - 0s 13ms/step - loss: 0.6159 - accuracy: 0.6670 - val_loss: 0.4741 - val_accuracy: 0.8525\n",
            "Epoch 12/150\n",
            "8/8 [==============================] - 0s 12ms/step - loss: 0.5404 - accuracy: 0.6727 - val_loss: 0.4712 - val_accuracy: 0.8197\n",
            "Epoch 13/150\n",
            "8/8 [==============================] - 0s 12ms/step - loss: 0.5248 - accuracy: 0.7337 - val_loss: 0.4706 - val_accuracy: 0.8033\n",
            "Epoch 14/150\n",
            "8/8 [==============================] - 0s 11ms/step - loss: 0.5555 - accuracy: 0.6833 - val_loss: 0.4690 - val_accuracy: 0.8033\n",
            "Epoch 15/150\n",
            "8/8 [==============================] - 0s 11ms/step - loss: 0.5513 - accuracy: 0.6906 - val_loss: 0.4671 - val_accuracy: 0.8197\n",
            "Epoch 16/150\n",
            "8/8 [==============================] - 0s 13ms/step - loss: 0.5545 - accuracy: 0.7065 - val_loss: 0.4641 - val_accuracy: 0.8197\n",
            "Epoch 17/150\n",
            "8/8 [==============================] - 0s 13ms/step - loss: 0.5363 - accuracy: 0.7089 - val_loss: 0.4621 - val_accuracy: 0.8197\n",
            "Epoch 18/150\n",
            "8/8 [==============================] - 0s 13ms/step - loss: 0.5501 - accuracy: 0.7333 - val_loss: 0.4595 - val_accuracy: 0.8197\n",
            "Epoch 19/150\n",
            "8/8 [==============================] - 0s 13ms/step - loss: 0.5109 - accuracy: 0.7103 - val_loss: 0.4561 - val_accuracy: 0.8197\n",
            "Epoch 20/150\n",
            "8/8 [==============================] - 0s 12ms/step - loss: 0.5131 - accuracy: 0.7761 - val_loss: 0.4548 - val_accuracy: 0.8197\n",
            "Epoch 21/150\n",
            "8/8 [==============================] - 0s 12ms/step - loss: 0.5288 - accuracy: 0.7583 - val_loss: 0.4521 - val_accuracy: 0.8197\n",
            "Epoch 22/150\n",
            "8/8 [==============================] - 0s 13ms/step - loss: 0.5214 - accuracy: 0.7412 - val_loss: 0.4512 - val_accuracy: 0.8197\n",
            "Epoch 23/150\n",
            "8/8 [==============================] - 0s 12ms/step - loss: 0.5165 - accuracy: 0.7647 - val_loss: 0.4483 - val_accuracy: 0.8197\n",
            "Epoch 24/150\n",
            "8/8 [==============================] - 0s 13ms/step - loss: 0.4881 - accuracy: 0.7467 - val_loss: 0.4456 - val_accuracy: 0.8197\n",
            "Epoch 25/150\n",
            "8/8 [==============================] - 0s 12ms/step - loss: 0.4828 - accuracy: 0.7491 - val_loss: 0.4430 - val_accuracy: 0.8197\n",
            "Epoch 26/150\n",
            "8/8 [==============================] - 0s 11ms/step - loss: 0.4859 - accuracy: 0.7696 - val_loss: 0.4393 - val_accuracy: 0.8197\n",
            "Epoch 27/150\n",
            "8/8 [==============================] - 0s 11ms/step - loss: 0.4629 - accuracy: 0.7972 - val_loss: 0.4364 - val_accuracy: 0.8197\n",
            "Epoch 28/150\n",
            "8/8 [==============================] - 0s 12ms/step - loss: 0.4596 - accuracy: 0.8074 - val_loss: 0.4356 - val_accuracy: 0.8197\n",
            "Epoch 29/150\n",
            "8/8 [==============================] - 0s 12ms/step - loss: 0.5415 - accuracy: 0.7213 - val_loss: 0.4344 - val_accuracy: 0.8197\n",
            "Epoch 30/150\n",
            "8/8 [==============================] - 0s 12ms/step - loss: 0.4685 - accuracy: 0.7634 - val_loss: 0.4319 - val_accuracy: 0.8361\n",
            "Epoch 31/150\n",
            "8/8 [==============================] - 0s 13ms/step - loss: 0.4730 - accuracy: 0.7572 - val_loss: 0.4289 - val_accuracy: 0.8361\n",
            "Epoch 32/150\n",
            "8/8 [==============================] - 0s 13ms/step - loss: 0.4931 - accuracy: 0.7673 - val_loss: 0.4274 - val_accuracy: 0.8361\n",
            "Epoch 33/150\n",
            "8/8 [==============================] - 0s 11ms/step - loss: 0.4636 - accuracy: 0.7725 - val_loss: 0.4253 - val_accuracy: 0.8361\n",
            "Epoch 34/150\n",
            "8/8 [==============================] - 0s 12ms/step - loss: 0.4991 - accuracy: 0.7489 - val_loss: 0.4211 - val_accuracy: 0.8361\n",
            "Epoch 35/150\n",
            "8/8 [==============================] - 0s 12ms/step - loss: 0.5016 - accuracy: 0.7550 - val_loss: 0.4196 - val_accuracy: 0.8361\n",
            "Epoch 36/150\n",
            "8/8 [==============================] - 0s 13ms/step - loss: 0.4643 - accuracy: 0.7599 - val_loss: 0.4184 - val_accuracy: 0.8361\n",
            "Epoch 37/150\n",
            "8/8 [==============================] - 0s 11ms/step - loss: 0.4124 - accuracy: 0.7999 - val_loss: 0.4165 - val_accuracy: 0.8361\n",
            "Epoch 38/150\n",
            "8/8 [==============================] - 0s 11ms/step - loss: 0.4729 - accuracy: 0.7655 - val_loss: 0.4163 - val_accuracy: 0.8361\n",
            "Epoch 39/150\n",
            "8/8 [==============================] - 0s 12ms/step - loss: 0.4528 - accuracy: 0.7499 - val_loss: 0.4156 - val_accuracy: 0.8361\n",
            "Epoch 40/150\n",
            "8/8 [==============================] - 0s 11ms/step - loss: 0.5007 - accuracy: 0.7775 - val_loss: 0.4159 - val_accuracy: 0.8361\n",
            "Epoch 41/150\n",
            "8/8 [==============================] - 0s 13ms/step - loss: 0.4331 - accuracy: 0.8272 - val_loss: 0.4127 - val_accuracy: 0.8361\n",
            "Epoch 42/150\n",
            "8/8 [==============================] - 0s 11ms/step - loss: 0.4555 - accuracy: 0.7530 - val_loss: 0.4110 - val_accuracy: 0.8361\n",
            "Epoch 43/150\n",
            "8/8 [==============================] - 0s 14ms/step - loss: 0.4317 - accuracy: 0.7933 - val_loss: 0.4095 - val_accuracy: 0.8361\n",
            "Epoch 44/150\n",
            "8/8 [==============================] - 0s 12ms/step - loss: 0.4617 - accuracy: 0.7731 - val_loss: 0.4068 - val_accuracy: 0.8361\n",
            "Epoch 45/150\n",
            "8/8 [==============================] - 0s 12ms/step - loss: 0.4523 - accuracy: 0.7866 - val_loss: 0.4064 - val_accuracy: 0.8361\n",
            "Epoch 46/150\n",
            "8/8 [==============================] - 0s 13ms/step - loss: 0.4548 - accuracy: 0.8254 - val_loss: 0.4052 - val_accuracy: 0.8361\n",
            "Epoch 47/150\n",
            "8/8 [==============================] - 0s 12ms/step - loss: 0.4125 - accuracy: 0.8051 - val_loss: 0.4052 - val_accuracy: 0.8361\n",
            "Epoch 48/150\n",
            "8/8 [==============================] - 0s 12ms/step - loss: 0.4352 - accuracy: 0.7711 - val_loss: 0.4063 - val_accuracy: 0.8361\n",
            "Epoch 49/150\n",
            "8/8 [==============================] - 0s 12ms/step - loss: 0.4289 - accuracy: 0.8051 - val_loss: 0.4046 - val_accuracy: 0.8361\n",
            "Epoch 50/150\n",
            "8/8 [==============================] - 0s 11ms/step - loss: 0.4312 - accuracy: 0.7689 - val_loss: 0.4029 - val_accuracy: 0.8361\n",
            "Epoch 51/150\n",
            "8/8 [==============================] - 0s 12ms/step - loss: 0.4734 - accuracy: 0.8150 - val_loss: 0.4015 - val_accuracy: 0.8361\n",
            "Epoch 52/150\n",
            "8/8 [==============================] - 0s 12ms/step - loss: 0.4541 - accuracy: 0.8003 - val_loss: 0.3993 - val_accuracy: 0.8361\n",
            "Epoch 53/150\n",
            "8/8 [==============================] - 0s 12ms/step - loss: 0.4567 - accuracy: 0.7584 - val_loss: 0.3977 - val_accuracy: 0.8361\n",
            "Epoch 54/150\n",
            "8/8 [==============================] - 0s 13ms/step - loss: 0.4564 - accuracy: 0.7673 - val_loss: 0.3973 - val_accuracy: 0.8361\n",
            "Epoch 55/150\n",
            "8/8 [==============================] - 0s 12ms/step - loss: 0.4687 - accuracy: 0.7563 - val_loss: 0.3963 - val_accuracy: 0.8361\n",
            "Epoch 56/150\n",
            "8/8 [==============================] - 0s 13ms/step - loss: 0.4398 - accuracy: 0.8139 - val_loss: 0.3946 - val_accuracy: 0.8361\n",
            "Epoch 57/150\n",
            "8/8 [==============================] - 0s 13ms/step - loss: 0.3698 - accuracy: 0.8534 - val_loss: 0.3925 - val_accuracy: 0.8361\n",
            "Epoch 58/150\n",
            "8/8 [==============================] - 0s 13ms/step - loss: 0.4610 - accuracy: 0.7924 - val_loss: 0.3929 - val_accuracy: 0.8361\n",
            "Epoch 59/150\n",
            "8/8 [==============================] - 0s 12ms/step - loss: 0.4254 - accuracy: 0.8297 - val_loss: 0.3920 - val_accuracy: 0.8361\n",
            "Epoch 60/150\n",
            "8/8 [==============================] - 0s 12ms/step - loss: 0.3729 - accuracy: 0.8413 - val_loss: 0.3914 - val_accuracy: 0.8361\n",
            "Epoch 61/150\n",
            "8/8 [==============================] - 0s 13ms/step - loss: 0.4298 - accuracy: 0.8266 - val_loss: 0.3924 - val_accuracy: 0.8361\n",
            "Epoch 62/150\n",
            "8/8 [==============================] - 0s 12ms/step - loss: 0.4000 - accuracy: 0.8094 - val_loss: 0.3929 - val_accuracy: 0.8361\n",
            "Epoch 63/150\n",
            "8/8 [==============================] - 0s 11ms/step - loss: 0.4178 - accuracy: 0.7989 - val_loss: 0.3943 - val_accuracy: 0.8197\n",
            "Epoch 64/150\n",
            "8/8 [==============================] - 0s 12ms/step - loss: 0.4070 - accuracy: 0.8360 - val_loss: 0.3943 - val_accuracy: 0.8197\n",
            "Epoch 65/150\n",
            "8/8 [==============================] - 0s 13ms/step - loss: 0.4046 - accuracy: 0.8252 - val_loss: 0.3937 - val_accuracy: 0.8197\n",
            "Epoch 66/150\n",
            "8/8 [==============================] - 0s 12ms/step - loss: 0.4250 - accuracy: 0.8402 - val_loss: 0.3938 - val_accuracy: 0.8197\n",
            "Epoch 67/150\n",
            "8/8 [==============================] - 0s 12ms/step - loss: 0.4084 - accuracy: 0.8115 - val_loss: 0.3920 - val_accuracy: 0.8197\n",
            "Epoch 68/150\n",
            "8/8 [==============================] - 0s 13ms/step - loss: 0.3998 - accuracy: 0.8716 - val_loss: 0.3912 - val_accuracy: 0.8197\n",
            "Epoch 69/150\n",
            "8/8 [==============================] - 0s 14ms/step - loss: 0.3621 - accuracy: 0.8409 - val_loss: 0.3915 - val_accuracy: 0.8033\n",
            "Epoch 70/150\n",
            "8/8 [==============================] - 0s 11ms/step - loss: 0.3784 - accuracy: 0.8559 - val_loss: 0.3909 - val_accuracy: 0.8033\n",
            "Epoch 71/150\n",
            "8/8 [==============================] - 0s 13ms/step - loss: 0.3629 - accuracy: 0.8540 - val_loss: 0.3882 - val_accuracy: 0.8197\n",
            "Epoch 72/150\n",
            "8/8 [==============================] - 0s 14ms/step - loss: 0.3321 - accuracy: 0.8636 - val_loss: 0.3870 - val_accuracy: 0.8197\n",
            "Epoch 73/150\n",
            "8/8 [==============================] - 0s 12ms/step - loss: 0.3325 - accuracy: 0.8947 - val_loss: 0.3871 - val_accuracy: 0.8033\n",
            "Epoch 74/150\n",
            "8/8 [==============================] - 0s 12ms/step - loss: 0.3966 - accuracy: 0.8320 - val_loss: 0.3868 - val_accuracy: 0.8033\n",
            "Epoch 75/150\n",
            "8/8 [==============================] - 0s 12ms/step - loss: 0.3689 - accuracy: 0.8297 - val_loss: 0.3874 - val_accuracy: 0.7869\n",
            "Epoch 76/150\n",
            "8/8 [==============================] - 0s 13ms/step - loss: 0.3144 - accuracy: 0.8716 - val_loss: 0.3853 - val_accuracy: 0.8033\n",
            "Epoch 77/150\n",
            "8/8 [==============================] - 0s 12ms/step - loss: 0.3454 - accuracy: 0.8685 - val_loss: 0.3836 - val_accuracy: 0.8033\n",
            "Epoch 78/150\n",
            "8/8 [==============================] - 0s 14ms/step - loss: 0.3886 - accuracy: 0.8216 - val_loss: 0.3834 - val_accuracy: 0.8033\n",
            "Epoch 79/150\n",
            "8/8 [==============================] - 0s 12ms/step - loss: 0.4061 - accuracy: 0.8058 - val_loss: 0.3834 - val_accuracy: 0.8033\n",
            "Epoch 80/150\n",
            "8/8 [==============================] - 0s 13ms/step - loss: 0.3588 - accuracy: 0.8710 - val_loss: 0.3815 - val_accuracy: 0.8033\n",
            "Epoch 81/150\n",
            "8/8 [==============================] - 0s 15ms/step - loss: 0.3262 - accuracy: 0.8360 - val_loss: 0.3812 - val_accuracy: 0.8361\n",
            "Epoch 82/150\n",
            "8/8 [==============================] - 0s 13ms/step - loss: 0.4367 - accuracy: 0.8333 - val_loss: 0.3788 - val_accuracy: 0.8361\n",
            "Epoch 83/150\n",
            "8/8 [==============================] - 0s 14ms/step - loss: 0.3784 - accuracy: 0.8493 - val_loss: 0.3785 - val_accuracy: 0.8361\n",
            "Epoch 84/150\n",
            "8/8 [==============================] - 0s 12ms/step - loss: 0.3541 - accuracy: 0.8593 - val_loss: 0.3777 - val_accuracy: 0.8361\n",
            "Epoch 85/150\n",
            "8/8 [==============================] - 0s 13ms/step - loss: 0.3701 - accuracy: 0.8489 - val_loss: 0.3765 - val_accuracy: 0.8361\n",
            "Epoch 86/150\n",
            "8/8 [==============================] - 0s 12ms/step - loss: 0.3512 - accuracy: 0.8521 - val_loss: 0.3767 - val_accuracy: 0.8361\n",
            "Epoch 87/150\n",
            "8/8 [==============================] - 0s 12ms/step - loss: 0.3405 - accuracy: 0.8969 - val_loss: 0.3753 - val_accuracy: 0.8361\n",
            "Epoch 88/150\n",
            "8/8 [==============================] - 0s 12ms/step - loss: 0.2993 - accuracy: 0.8890 - val_loss: 0.3764 - val_accuracy: 0.8361\n",
            "Epoch 89/150\n",
            "8/8 [==============================] - 0s 11ms/step - loss: 0.3770 - accuracy: 0.8406 - val_loss: 0.3767 - val_accuracy: 0.8361\n",
            "Epoch 90/150\n",
            "8/8 [==============================] - 0s 12ms/step - loss: 0.3612 - accuracy: 0.8681 - val_loss: 0.3773 - val_accuracy: 0.8361\n",
            "Epoch 91/150\n",
            "8/8 [==============================] - 0s 12ms/step - loss: 0.3569 - accuracy: 0.8587 - val_loss: 0.3772 - val_accuracy: 0.8361\n",
            "Epoch 92/150\n",
            "8/8 [==============================] - 0s 12ms/step - loss: 0.3576 - accuracy: 0.8737 - val_loss: 0.3798 - val_accuracy: 0.8361\n",
            "Epoch 93/150\n",
            "8/8 [==============================] - 0s 14ms/step - loss: 0.3688 - accuracy: 0.8838 - val_loss: 0.3811 - val_accuracy: 0.8361\n",
            "Epoch 94/150\n",
            "8/8 [==============================] - 0s 12ms/step - loss: 0.3284 - accuracy: 0.8716 - val_loss: 0.3817 - val_accuracy: 0.8361\n",
            "Epoch 95/150\n",
            "8/8 [==============================] - 0s 12ms/step - loss: 0.3426 - accuracy: 0.9033 - val_loss: 0.3814 - val_accuracy: 0.8361\n",
            "Epoch 96/150\n",
            "8/8 [==============================] - 0s 13ms/step - loss: 0.3231 - accuracy: 0.9035 - val_loss: 0.3802 - val_accuracy: 0.8361\n",
            "Epoch 97/150\n",
            "8/8 [==============================] - 0s 13ms/step - loss: 0.3385 - accuracy: 0.8744 - val_loss: 0.3793 - val_accuracy: 0.8361\n",
            "Epoch 98/150\n",
            "8/8 [==============================] - 0s 13ms/step - loss: 0.3747 - accuracy: 0.8404 - val_loss: 0.3812 - val_accuracy: 0.8361\n",
            "Epoch 99/150\n",
            "8/8 [==============================] - 0s 12ms/step - loss: 0.3574 - accuracy: 0.8461 - val_loss: 0.3802 - val_accuracy: 0.8361\n",
            "Epoch 100/150\n",
            "8/8 [==============================] - 0s 12ms/step - loss: 0.3004 - accuracy: 0.8888 - val_loss: 0.3789 - val_accuracy: 0.8361\n",
            "Epoch 101/150\n",
            "8/8 [==============================] - 0s 12ms/step - loss: 0.3108 - accuracy: 0.8757 - val_loss: 0.3793 - val_accuracy: 0.8361\n",
            "Epoch 102/150\n",
            "8/8 [==============================] - 0s 12ms/step - loss: 0.2991 - accuracy: 0.8870 - val_loss: 0.3803 - val_accuracy: 0.8361\n",
            "Epoch 103/150\n",
            "8/8 [==============================] - 0s 14ms/step - loss: 0.3147 - accuracy: 0.8642 - val_loss: 0.3809 - val_accuracy: 0.8361\n",
            "Epoch 104/150\n",
            "8/8 [==============================] - 0s 12ms/step - loss: 0.3908 - accuracy: 0.8369 - val_loss: 0.3834 - val_accuracy: 0.8361\n",
            "Epoch 105/150\n",
            "8/8 [==============================] - 0s 13ms/step - loss: 0.3005 - accuracy: 0.9147 - val_loss: 0.3851 - val_accuracy: 0.8361\n",
            "Epoch 106/150\n",
            "8/8 [==============================] - 0s 15ms/step - loss: 0.3344 - accuracy: 0.8864 - val_loss: 0.3830 - val_accuracy: 0.8361\n",
            "Epoch 107/150\n",
            "8/8 [==============================] - 0s 12ms/step - loss: 0.3462 - accuracy: 0.8707 - val_loss: 0.3839 - val_accuracy: 0.8361\n",
            "Epoch 108/150\n",
            "8/8 [==============================] - 0s 13ms/step - loss: 0.3675 - accuracy: 0.8531 - val_loss: 0.3842 - val_accuracy: 0.8361\n",
            "Epoch 109/150\n",
            "8/8 [==============================] - 0s 11ms/step - loss: 0.3419 - accuracy: 0.8851 - val_loss: 0.3846 - val_accuracy: 0.8361\n",
            "Epoch 110/150\n",
            "8/8 [==============================] - 0s 12ms/step - loss: 0.3168 - accuracy: 0.8469 - val_loss: 0.3850 - val_accuracy: 0.8361\n",
            "Epoch 111/150\n",
            "8/8 [==============================] - 0s 12ms/step - loss: 0.2907 - accuracy: 0.8500 - val_loss: 0.3860 - val_accuracy: 0.8361\n",
            "Epoch 112/150\n",
            "8/8 [==============================] - 0s 12ms/step - loss: 0.2680 - accuracy: 0.8843 - val_loss: 0.3868 - val_accuracy: 0.8361\n",
            "Epoch 113/150\n",
            "8/8 [==============================] - 0s 13ms/step - loss: 0.3307 - accuracy: 0.8732 - val_loss: 0.3875 - val_accuracy: 0.8361\n",
            "Epoch 114/150\n",
            "8/8 [==============================] - 0s 14ms/step - loss: 0.3170 - accuracy: 0.8656 - val_loss: 0.3873 - val_accuracy: 0.8361\n",
            "Epoch 115/150\n",
            "8/8 [==============================] - 0s 13ms/step - loss: 0.3852 - accuracy: 0.8490 - val_loss: 0.3883 - val_accuracy: 0.8361\n",
            "Epoch 116/150\n",
            "8/8 [==============================] - 0s 13ms/step - loss: 0.3055 - accuracy: 0.8822 - val_loss: 0.3883 - val_accuracy: 0.8361\n",
            "Epoch 117/150\n",
            "8/8 [==============================] - 0s 13ms/step - loss: 0.2997 - accuracy: 0.8988 - val_loss: 0.3879 - val_accuracy: 0.8361\n",
            "Epoch 118/150\n",
            "8/8 [==============================] - 0s 12ms/step - loss: 0.3029 - accuracy: 0.8789 - val_loss: 0.3884 - val_accuracy: 0.8361\n",
            "Epoch 119/150\n",
            "8/8 [==============================] - 0s 13ms/step - loss: 0.3118 - accuracy: 0.8879 - val_loss: 0.3883 - val_accuracy: 0.8525\n",
            "Epoch 120/150\n",
            "8/8 [==============================] - 0s 13ms/step - loss: 0.3443 - accuracy: 0.8487 - val_loss: 0.3887 - val_accuracy: 0.8525\n",
            "Epoch 121/150\n",
            "8/8 [==============================] - 0s 13ms/step - loss: 0.3600 - accuracy: 0.8664 - val_loss: 0.3897 - val_accuracy: 0.8525\n",
            "Epoch 122/150\n",
            "8/8 [==============================] - 0s 13ms/step - loss: 0.2894 - accuracy: 0.8727 - val_loss: 0.3913 - val_accuracy: 0.8525\n",
            "Epoch 123/150\n",
            "8/8 [==============================] - 0s 14ms/step - loss: 0.3242 - accuracy: 0.8745 - val_loss: 0.3943 - val_accuracy: 0.8525\n",
            "Epoch 124/150\n",
            "8/8 [==============================] - 0s 12ms/step - loss: 0.2893 - accuracy: 0.8839 - val_loss: 0.3968 - val_accuracy: 0.8197\n",
            "Epoch 125/150\n",
            "8/8 [==============================] - 0s 12ms/step - loss: 0.3073 - accuracy: 0.9177 - val_loss: 0.3974 - val_accuracy: 0.8197\n",
            "Epoch 126/150\n",
            "8/8 [==============================] - 0s 12ms/step - loss: 0.2967 - accuracy: 0.8895 - val_loss: 0.3991 - val_accuracy: 0.8197\n",
            "Epoch 127/150\n",
            "8/8 [==============================] - 0s 12ms/step - loss: 0.3187 - accuracy: 0.8799 - val_loss: 0.3998 - val_accuracy: 0.8197\n",
            "Epoch 128/150\n",
            "8/8 [==============================] - 0s 13ms/step - loss: 0.3294 - accuracy: 0.8898 - val_loss: 0.3995 - val_accuracy: 0.8197\n",
            "Epoch 129/150\n",
            "8/8 [==============================] - 0s 12ms/step - loss: 0.2897 - accuracy: 0.8924 - val_loss: 0.3993 - val_accuracy: 0.8197\n",
            "Epoch 130/150\n",
            "8/8 [==============================] - 0s 13ms/step - loss: 0.3411 - accuracy: 0.8615 - val_loss: 0.3991 - val_accuracy: 0.8197\n",
            "Epoch 131/150\n",
            "8/8 [==============================] - 0s 12ms/step - loss: 0.3235 - accuracy: 0.8722 - val_loss: 0.3972 - val_accuracy: 0.8197\n",
            "Epoch 132/150\n",
            "8/8 [==============================] - 0s 12ms/step - loss: 0.2808 - accuracy: 0.9240 - val_loss: 0.3958 - val_accuracy: 0.8197\n",
            "Epoch 133/150\n",
            "8/8 [==============================] - 0s 12ms/step - loss: 0.2910 - accuracy: 0.8364 - val_loss: 0.3969 - val_accuracy: 0.8197\n",
            "Epoch 134/150\n",
            "8/8 [==============================] - 0s 13ms/step - loss: 0.3157 - accuracy: 0.8712 - val_loss: 0.3974 - val_accuracy: 0.8197\n",
            "Epoch 135/150\n",
            "8/8 [==============================] - 0s 13ms/step - loss: 0.3678 - accuracy: 0.8871 - val_loss: 0.3987 - val_accuracy: 0.8361\n",
            "Epoch 136/150\n",
            "8/8 [==============================] - 0s 14ms/step - loss: 0.2725 - accuracy: 0.9071 - val_loss: 0.4005 - val_accuracy: 0.8361\n",
            "Epoch 137/150\n",
            "8/8 [==============================] - 0s 11ms/step - loss: 0.3070 - accuracy: 0.8861 - val_loss: 0.4020 - val_accuracy: 0.8361\n",
            "Epoch 138/150\n",
            "8/8 [==============================] - 0s 13ms/step - loss: 0.2927 - accuracy: 0.8705 - val_loss: 0.4056 - val_accuracy: 0.8361\n",
            "Epoch 139/150\n",
            "8/8 [==============================] - 0s 12ms/step - loss: 0.2706 - accuracy: 0.9149 - val_loss: 0.4070 - val_accuracy: 0.8361\n",
            "Epoch 140/150\n",
            "8/8 [==============================] - 0s 12ms/step - loss: 0.2888 - accuracy: 0.8933 - val_loss: 0.4093 - val_accuracy: 0.8361\n",
            "Epoch 141/150\n",
            "8/8 [==============================] - 0s 13ms/step - loss: 0.3063 - accuracy: 0.9064 - val_loss: 0.4105 - val_accuracy: 0.8361\n",
            "Epoch 142/150\n",
            "8/8 [==============================] - 0s 12ms/step - loss: 0.3058 - accuracy: 0.8750 - val_loss: 0.4115 - val_accuracy: 0.8361\n",
            "Epoch 143/150\n",
            "8/8 [==============================] - 0s 11ms/step - loss: 0.3393 - accuracy: 0.8595 - val_loss: 0.4123 - val_accuracy: 0.8361\n",
            "Epoch 144/150\n",
            "8/8 [==============================] - 0s 11ms/step - loss: 0.3109 - accuracy: 0.8789 - val_loss: 0.4144 - val_accuracy: 0.8361\n",
            "Epoch 145/150\n",
            "8/8 [==============================] - 0s 12ms/step - loss: 0.3382 - accuracy: 0.8733 - val_loss: 0.4190 - val_accuracy: 0.8361\n",
            "Epoch 146/150\n",
            "8/8 [==============================] - 0s 13ms/step - loss: 0.2891 - accuracy: 0.9016 - val_loss: 0.4208 - val_accuracy: 0.8361\n",
            "Epoch 147/150\n",
            "8/8 [==============================] - 0s 13ms/step - loss: 0.2643 - accuracy: 0.9170 - val_loss: 0.4190 - val_accuracy: 0.8361\n",
            "Epoch 148/150\n",
            "8/8 [==============================] - 0s 13ms/step - loss: 0.2744 - accuracy: 0.9185 - val_loss: 0.4166 - val_accuracy: 0.8361\n",
            "Epoch 149/150\n",
            "8/8 [==============================] - 0s 11ms/step - loss: 0.3007 - accuracy: 0.8862 - val_loss: 0.4132 - val_accuracy: 0.8361\n",
            "Epoch 150/150\n",
            "8/8 [==============================] - 0s 12ms/step - loss: 0.2484 - accuracy: 0.9269 - val_loss: 0.4128 - val_accuracy: 0.8361\n"
          ],
          "name": "stdout"
        },
        {
          "output_type": "display_data",
          "data": {
            "image/png": "[encoded data removed]",
            "text/plain": [
              "<Figure size 432x288 with 1 Axes>"
            ]
          },
          "metadata": {
            "tags": [],
            "needs_background": "light"
          }
        },
        {
          "output_type": "display_data",
          "data": {
            "image/png": "[encoded data removed]",
            "text/plain": [
              "<Figure size 432x288 with 1 Axes>"
            ]
          },
          "metadata": {
            "tags": [],
            "needs_background": "light"
          }
        },
        {
          "output_type": "stream",
          "text": [
            "accuracy: 83.607%\n",
            "Epoch 1/150\n",
            "8/8 [==============================] - 1s 38ms/step - loss: 0.7322 - accuracy: 0.4368 - val_loss: 0.7121 - val_accuracy: 0.4426\n",
            "Epoch 2/150\n",
            "8/8 [==============================] - 0s 12ms/step - loss: 0.7392 - accuracy: 0.5023 - val_loss: 0.6950 - val_accuracy: 0.4754\n",
            "Epoch 3/150\n",
            "8/8 [==============================] - 0s 11ms/step - loss: 0.7290 - accuracy: 0.4824 - val_loss: 0.6778 - val_accuracy: 0.5082\n",
            "Epoch 4/150\n",
            "8/8 [==============================] - 0s 12ms/step - loss: 0.7003 - accuracy: 0.5502 - val_loss: 0.6620 - val_accuracy: 0.5574\n",
            "Epoch 5/150\n",
            "8/8 [==============================] - 0s 13ms/step - loss: 0.7080 - accuracy: 0.5240 - val_loss: 0.6472 - val_accuracy: 0.6066\n",
            "Epoch 6/150\n",
            "8/8 [==============================] - 0s 13ms/step - loss: 0.6533 - accuracy: 0.5960 - val_loss: 0.6347 - val_accuracy: 0.6230\n",
            "Epoch 7/150\n",
            "8/8 [==============================] - 0s 12ms/step - loss: 0.6516 - accuracy: 0.6204 - val_loss: 0.6237 - val_accuracy: 0.6557\n",
            "Epoch 8/150\n",
            "8/8 [==============================] - 0s 11ms/step - loss: 0.6382 - accuracy: 0.6025 - val_loss: 0.6133 - val_accuracy: 0.7049\n",
            "Epoch 9/150\n",
            "8/8 [==============================] - 0s 13ms/step - loss: 0.6588 - accuracy: 0.5674 - val_loss: 0.6041 - val_accuracy: 0.7377\n",
            "Epoch 10/150\n",
            "8/8 [==============================] - 0s 13ms/step - loss: 0.5882 - accuracy: 0.6782 - val_loss: 0.5959 - val_accuracy: 0.7377\n",
            "Epoch 11/150\n",
            "8/8 [==============================] - 0s 12ms/step - loss: 0.5858 - accuracy: 0.6937 - val_loss: 0.5882 - val_accuracy: 0.7377\n",
            "Epoch 12/150\n",
            "8/8 [==============================] - 0s 12ms/step - loss: 0.6102 - accuracy: 0.6463 - val_loss: 0.5812 - val_accuracy: 0.7377\n",
            "Epoch 13/150\n",
            "8/8 [==============================] - 0s 13ms/step - loss: 0.6103 - accuracy: 0.6636 - val_loss: 0.5751 - val_accuracy: 0.7377\n",
            "Epoch 14/150\n",
            "8/8 [==============================] - 0s 13ms/step - loss: 0.5925 - accuracy: 0.6830 - val_loss: 0.5687 - val_accuracy: 0.7377\n",
            "Epoch 15/150\n",
            "8/8 [==============================] - 0s 12ms/step - loss: 0.5885 - accuracy: 0.6861 - val_loss: 0.5624 - val_accuracy: 0.7541\n",
            "Epoch 16/150\n",
            "8/8 [==============================] - 0s 14ms/step - loss: 0.5604 - accuracy: 0.7494 - val_loss: 0.5553 - val_accuracy: 0.7705\n",
            "Epoch 17/150\n",
            "8/8 [==============================] - 0s 11ms/step - loss: 0.5714 - accuracy: 0.6804 - val_loss: 0.5481 - val_accuracy: 0.7869\n",
            "Epoch 18/150\n",
            "8/8 [==============================] - 0s 12ms/step - loss: 0.5538 - accuracy: 0.7351 - val_loss: 0.5412 - val_accuracy: 0.7869\n",
            "Epoch 19/150\n",
            "8/8 [==============================] - 0s 13ms/step - loss: 0.5388 - accuracy: 0.7302 - val_loss: 0.5334 - val_accuracy: 0.8033\n",
            "Epoch 20/150\n",
            "8/8 [==============================] - 0s 12ms/step - loss: 0.5324 - accuracy: 0.7376 - val_loss: 0.5256 - val_accuracy: 0.8033\n",
            "Epoch 21/150\n",
            "8/8 [==============================] - 0s 14ms/step - loss: 0.5243 - accuracy: 0.7515 - val_loss: 0.5183 - val_accuracy: 0.8197\n",
            "Epoch 22/150\n",
            "8/8 [==============================] - 0s 14ms/step - loss: 0.5588 - accuracy: 0.6969 - val_loss: 0.5118 - val_accuracy: 0.8197\n",
            "Epoch 23/150\n",
            "8/8 [==============================] - 0s 13ms/step - loss: 0.5383 - accuracy: 0.6573 - val_loss: 0.5056 - val_accuracy: 0.8361\n",
            "Epoch 24/150\n",
            "8/8 [==============================] - 0s 12ms/step - loss: 0.5158 - accuracy: 0.7283 - val_loss: 0.4987 - val_accuracy: 0.8361\n",
            "Epoch 25/150\n",
            "8/8 [==============================] - 0s 13ms/step - loss: 0.5841 - accuracy: 0.6723 - val_loss: 0.4927 - val_accuracy: 0.8361\n",
            "Epoch 26/150\n",
            "8/8 [==============================] - 0s 14ms/step - loss: 0.5102 - accuracy: 0.7335 - val_loss: 0.4873 - val_accuracy: 0.8525\n",
            "Epoch 27/150\n",
            "8/8 [==============================] - 0s 12ms/step - loss: 0.5057 - accuracy: 0.7350 - val_loss: 0.4818 - val_accuracy: 0.8525\n",
            "Epoch 28/150\n",
            "8/8 [==============================] - 0s 11ms/step - loss: 0.4972 - accuracy: 0.7957 - val_loss: 0.4752 - val_accuracy: 0.8525\n",
            "Epoch 29/150\n",
            "8/8 [==============================] - 0s 13ms/step - loss: 0.4861 - accuracy: 0.7366 - val_loss: 0.4691 - val_accuracy: 0.8689\n",
            "Epoch 30/150\n",
            "8/8 [==============================] - 0s 11ms/step - loss: 0.4741 - accuracy: 0.7872 - val_loss: 0.4635 - val_accuracy: 0.8689\n",
            "Epoch 31/150\n",
            "8/8 [==============================] - 0s 12ms/step - loss: 0.4726 - accuracy: 0.7741 - val_loss: 0.4580 - val_accuracy: 0.8689\n",
            "Epoch 32/150\n",
            "8/8 [==============================] - 0s 12ms/step - loss: 0.5044 - accuracy: 0.7326 - val_loss: 0.4540 - val_accuracy: 0.8689\n",
            "Epoch 33/150\n",
            "8/8 [==============================] - 0s 13ms/step - loss: 0.4889 - accuracy: 0.7518 - val_loss: 0.4507 - val_accuracy: 0.8689\n",
            "Epoch 34/150\n",
            "8/8 [==============================] - 0s 12ms/step - loss: 0.4759 - accuracy: 0.7681 - val_loss: 0.4463 - val_accuracy: 0.8689\n",
            "Epoch 35/150\n",
            "8/8 [==============================] - 0s 12ms/step - loss: 0.5152 - accuracy: 0.7477 - val_loss: 0.4433 - val_accuracy: 0.8689\n",
            "Epoch 36/150\n",
            "8/8 [==============================] - 0s 14ms/step - loss: 0.4870 - accuracy: 0.7520 - val_loss: 0.4405 - val_accuracy: 0.8689\n",
            "Epoch 37/150\n",
            "8/8 [==============================] - 0s 14ms/step - loss: 0.4477 - accuracy: 0.7583 - val_loss: 0.4369 - val_accuracy: 0.8689\n",
            "Epoch 38/150\n",
            "8/8 [==============================] - 0s 12ms/step - loss: 0.4561 - accuracy: 0.8031 - val_loss: 0.4327 - val_accuracy: 0.8689\n",
            "Epoch 39/150\n",
            "8/8 [==============================] - 0s 12ms/step - loss: 0.4599 - accuracy: 0.7407 - val_loss: 0.4279 - val_accuracy: 0.8689\n",
            "Epoch 40/150\n",
            "8/8 [==============================] - 0s 11ms/step - loss: 0.4885 - accuracy: 0.7859 - val_loss: 0.4246 - val_accuracy: 0.8689\n",
            "Epoch 41/150\n",
            "8/8 [==============================] - 0s 12ms/step - loss: 0.4555 - accuracy: 0.7899 - val_loss: 0.4214 - val_accuracy: 0.8689\n",
            "Epoch 42/150\n",
            "8/8 [==============================] - 0s 11ms/step - loss: 0.4983 - accuracy: 0.7239 - val_loss: 0.4188 - val_accuracy: 0.8689\n",
            "Epoch 43/150\n",
            "8/8 [==============================] - 0s 12ms/step - loss: 0.4391 - accuracy: 0.7713 - val_loss: 0.4164 - val_accuracy: 0.8689\n",
            "Epoch 44/150\n",
            "8/8 [==============================] - 0s 12ms/step - loss: 0.4154 - accuracy: 0.7961 - val_loss: 0.4153 - val_accuracy: 0.8689\n",
            "Epoch 45/150\n",
            "8/8 [==============================] - 0s 13ms/step - loss: 0.5070 - accuracy: 0.7473 - val_loss: 0.4147 - val_accuracy: 0.8689\n",
            "Epoch 46/150\n",
            "8/8 [==============================] - 0s 12ms/step - loss: 0.4607 - accuracy: 0.7732 - val_loss: 0.4130 - val_accuracy: 0.8689\n",
            "Epoch 47/150\n",
            "8/8 [==============================] - 0s 14ms/step - loss: 0.4585 - accuracy: 0.8134 - val_loss: 0.4109 - val_accuracy: 0.8689\n",
            "Epoch 48/150\n",
            "8/8 [==============================] - 0s 13ms/step - loss: 0.4655 - accuracy: 0.7287 - val_loss: 0.4098 - val_accuracy: 0.8689\n",
            "Epoch 49/150\n",
            "8/8 [==============================] - 0s 12ms/step - loss: 0.4486 - accuracy: 0.7780 - val_loss: 0.4096 - val_accuracy: 0.8689\n",
            "Epoch 50/150\n",
            "8/8 [==============================] - 0s 13ms/step - loss: 0.5022 - accuracy: 0.7676 - val_loss: 0.4090 - val_accuracy: 0.8689\n",
            "Epoch 51/150\n",
            "8/8 [==============================] - 0s 13ms/step - loss: 0.4511 - accuracy: 0.7696 - val_loss: 0.4065 - val_accuracy: 0.8689\n",
            "Epoch 52/150\n",
            "8/8 [==============================] - 0s 13ms/step - loss: 0.4356 - accuracy: 0.7854 - val_loss: 0.4045 - val_accuracy: 0.8689\n",
            "Epoch 53/150\n",
            "8/8 [==============================] - 0s 14ms/step - loss: 0.4584 - accuracy: 0.7411 - val_loss: 0.4034 - val_accuracy: 0.8525\n",
            "Epoch 54/150\n",
            "8/8 [==============================] - 0s 13ms/step - loss: 0.4384 - accuracy: 0.7697 - val_loss: 0.4022 - val_accuracy: 0.8525\n",
            "Epoch 55/150\n",
            "8/8 [==============================] - 0s 13ms/step - loss: 0.5036 - accuracy: 0.7317 - val_loss: 0.4007 - val_accuracy: 0.8689\n",
            "Epoch 56/150\n",
            "8/8 [==============================] - 0s 13ms/step - loss: 0.4761 - accuracy: 0.7670 - val_loss: 0.3994 - val_accuracy: 0.8689\n",
            "Epoch 57/150\n",
            "8/8 [==============================] - 0s 14ms/step - loss: 0.4732 - accuracy: 0.8090 - val_loss: 0.3983 - val_accuracy: 0.8689\n",
            "Epoch 58/150\n",
            "8/8 [==============================] - 0s 12ms/step - loss: 0.4759 - accuracy: 0.7779 - val_loss: 0.3965 - val_accuracy: 0.8689\n",
            "Epoch 59/150\n",
            "8/8 [==============================] - 0s 12ms/step - loss: 0.4712 - accuracy: 0.7672 - val_loss: 0.3952 - val_accuracy: 0.8689\n",
            "Epoch 60/150\n",
            "8/8 [==============================] - 0s 12ms/step - loss: 0.4520 - accuracy: 0.7676 - val_loss: 0.3941 - val_accuracy: 0.8689\n",
            "Epoch 61/150\n",
            "8/8 [==============================] - 0s 11ms/step - loss: 0.4139 - accuracy: 0.8235 - val_loss: 0.3928 - val_accuracy: 0.8689\n",
            "Epoch 62/150\n",
            "8/8 [==============================] - 0s 11ms/step - loss: 0.4120 - accuracy: 0.7830 - val_loss: 0.3909 - val_accuracy: 0.8689\n",
            "Epoch 63/150\n",
            "8/8 [==============================] - 0s 15ms/step - loss: 0.3834 - accuracy: 0.8324 - val_loss: 0.3874 - val_accuracy: 0.8689\n",
            "Epoch 64/150\n",
            "8/8 [==============================] - 0s 13ms/step - loss: 0.4498 - accuracy: 0.7660 - val_loss: 0.3861 - val_accuracy: 0.8689\n",
            "Epoch 65/150\n",
            "8/8 [==============================] - 0s 13ms/step - loss: 0.4230 - accuracy: 0.7844 - val_loss: 0.3846 - val_accuracy: 0.8689\n",
            "Epoch 66/150\n",
            "8/8 [==============================] - 0s 14ms/step - loss: 0.4497 - accuracy: 0.7875 - val_loss: 0.3824 - val_accuracy: 0.8689\n",
            "Epoch 67/150\n",
            "8/8 [==============================] - 0s 14ms/step - loss: 0.4249 - accuracy: 0.7791 - val_loss: 0.3809 - val_accuracy: 0.8689\n",
            "Epoch 68/150\n",
            "8/8 [==============================] - 0s 13ms/step - loss: 0.4328 - accuracy: 0.7731 - val_loss: 0.3789 - val_accuracy: 0.8689\n",
            "Epoch 69/150\n",
            "8/8 [==============================] - 0s 12ms/step - loss: 0.3820 - accuracy: 0.8118 - val_loss: 0.3761 - val_accuracy: 0.8689\n",
            "Epoch 70/150\n",
            "8/8 [==============================] - 0s 13ms/step - loss: 0.4619 - accuracy: 0.7754 - val_loss: 0.3751 - val_accuracy: 0.8689\n",
            "Epoch 71/150\n",
            "8/8 [==============================] - 0s 14ms/step - loss: 0.3756 - accuracy: 0.8491 - val_loss: 0.3742 - val_accuracy: 0.8689\n",
            "Epoch 72/150\n",
            "8/8 [==============================] - 0s 14ms/step - loss: 0.4077 - accuracy: 0.7765 - val_loss: 0.3728 - val_accuracy: 0.8689\n",
            "Epoch 73/150\n",
            "8/8 [==============================] - 0s 13ms/step - loss: 0.3969 - accuracy: 0.8140 - val_loss: 0.3710 - val_accuracy: 0.8689\n",
            "Epoch 74/150\n",
            "8/8 [==============================] - 0s 12ms/step - loss: 0.3903 - accuracy: 0.7690 - val_loss: 0.3695 - val_accuracy: 0.8689\n",
            "Epoch 75/150\n",
            "8/8 [==============================] - 0s 12ms/step - loss: 0.4025 - accuracy: 0.7755 - val_loss: 0.3687 - val_accuracy: 0.8689\n",
            "Epoch 76/150\n",
            "8/8 [==============================] - 0s 11ms/step - loss: 0.3940 - accuracy: 0.7921 - val_loss: 0.3677 - val_accuracy: 0.8689\n",
            "Epoch 77/150\n",
            "8/8 [==============================] - 0s 14ms/step - loss: 0.4026 - accuracy: 0.8118 - val_loss: 0.3666 - val_accuracy: 0.8689\n",
            "Epoch 78/150\n",
            "8/8 [==============================] - 0s 13ms/step - loss: 0.3563 - accuracy: 0.8034 - val_loss: 0.3660 - val_accuracy: 0.8689\n",
            "Epoch 79/150\n",
            "8/8 [==============================] - 0s 12ms/step - loss: 0.4082 - accuracy: 0.7602 - val_loss: 0.3663 - val_accuracy: 0.8689\n",
            "Epoch 80/150\n",
            "8/8 [==============================] - 0s 12ms/step - loss: 0.3852 - accuracy: 0.8146 - val_loss: 0.3651 - val_accuracy: 0.8689\n",
            "Epoch 81/150\n",
            "8/8 [==============================] - 0s 12ms/step - loss: 0.3937 - accuracy: 0.8106 - val_loss: 0.3639 - val_accuracy: 0.8689\n",
            "Epoch 82/150\n",
            "8/8 [==============================] - 0s 12ms/step - loss: 0.3877 - accuracy: 0.7848 - val_loss: 0.3638 - val_accuracy: 0.8689\n",
            "Epoch 83/150\n",
            "8/8 [==============================] - 0s 13ms/step - loss: 0.4321 - accuracy: 0.7889 - val_loss: 0.3635 - val_accuracy: 0.8689\n",
            "Epoch 84/150\n",
            "8/8 [==============================] - 0s 12ms/step - loss: 0.3780 - accuracy: 0.8102 - val_loss: 0.3634 - val_accuracy: 0.8689\n",
            "Epoch 85/150\n",
            "8/8 [==============================] - 0s 13ms/step - loss: 0.3367 - accuracy: 0.8100 - val_loss: 0.3626 - val_accuracy: 0.8689\n",
            "Epoch 86/150\n",
            "8/8 [==============================] - 0s 14ms/step - loss: 0.3876 - accuracy: 0.7991 - val_loss: 0.3625 - val_accuracy: 0.8689\n",
            "Epoch 87/150\n",
            "8/8 [==============================] - 0s 14ms/step - loss: 0.3594 - accuracy: 0.8242 - val_loss: 0.3621 - val_accuracy: 0.8689\n",
            "Epoch 88/150\n",
            "8/8 [==============================] - 0s 12ms/step - loss: 0.4193 - accuracy: 0.8225 - val_loss: 0.3625 - val_accuracy: 0.8689\n",
            "Epoch 89/150\n",
            "8/8 [==============================] - 0s 12ms/step - loss: 0.3748 - accuracy: 0.8139 - val_loss: 0.3615 - val_accuracy: 0.8689\n",
            "Epoch 90/150\n",
            "8/8 [==============================] - 0s 12ms/step - loss: 0.3650 - accuracy: 0.8487 - val_loss: 0.3606 - val_accuracy: 0.8689\n",
            "Epoch 91/150\n",
            "8/8 [==============================] - 0s 13ms/step - loss: 0.4020 - accuracy: 0.8055 - val_loss: 0.3601 - val_accuracy: 0.8689\n",
            "Epoch 92/150\n",
            "8/8 [==============================] - 0s 13ms/step - loss: 0.4222 - accuracy: 0.7755 - val_loss: 0.3603 - val_accuracy: 0.8689\n",
            "Epoch 93/150\n",
            "8/8 [==============================] - 0s 13ms/step - loss: 0.3774 - accuracy: 0.8105 - val_loss: 0.3593 - val_accuracy: 0.8689\n",
            "Epoch 94/150\n",
            "8/8 [==============================] - 0s 14ms/step - loss: 0.3242 - accuracy: 0.8303 - val_loss: 0.3582 - val_accuracy: 0.8689\n",
            "Epoch 95/150\n",
            "8/8 [==============================] - 0s 12ms/step - loss: 0.3666 - accuracy: 0.8362 - val_loss: 0.3576 - val_accuracy: 0.8689\n",
            "Epoch 96/150\n",
            "8/8 [==============================] - 0s 13ms/step - loss: 0.4879 - accuracy: 0.7528 - val_loss: 0.3582 - val_accuracy: 0.8689\n",
            "Epoch 97/150\n",
            "8/8 [==============================] - 0s 13ms/step - loss: 0.4001 - accuracy: 0.7649 - val_loss: 0.3584 - val_accuracy: 0.8689\n",
            "Epoch 98/150\n",
            "8/8 [==============================] - 0s 12ms/step - loss: 0.3834 - accuracy: 0.7982 - val_loss: 0.3592 - val_accuracy: 0.8689\n",
            "Epoch 99/150\n",
            "8/8 [==============================] - 0s 12ms/step - loss: 0.3811 - accuracy: 0.7944 - val_loss: 0.3583 - val_accuracy: 0.8689\n",
            "Epoch 100/150\n",
            "8/8 [==============================] - 0s 11ms/step - loss: 0.3726 - accuracy: 0.7986 - val_loss: 0.3584 - val_accuracy: 0.8689\n",
            "Epoch 101/150\n",
            "8/8 [==============================] - 0s 11ms/step - loss: 0.3496 - accuracy: 0.8233 - val_loss: 0.3580 - val_accuracy: 0.8689\n",
            "Epoch 102/150\n",
            "8/8 [==============================] - 0s 12ms/step - loss: 0.3574 - accuracy: 0.7972 - val_loss: 0.3577 - val_accuracy: 0.8689\n",
            "Epoch 103/150\n",
            "8/8 [==============================] - 0s 12ms/step - loss: 0.3480 - accuracy: 0.8345 - val_loss: 0.3568 - val_accuracy: 0.8689\n",
            "Epoch 104/150\n",
            "8/8 [==============================] - 0s 12ms/step - loss: 0.3906 - accuracy: 0.7870 - val_loss: 0.3558 - val_accuracy: 0.8689\n",
            "Epoch 105/150\n",
            "8/8 [==============================] - 0s 12ms/step - loss: 0.3491 - accuracy: 0.8049 - val_loss: 0.3562 - val_accuracy: 0.8689\n",
            "Epoch 106/150\n",
            "8/8 [==============================] - 0s 14ms/step - loss: 0.3328 - accuracy: 0.8442 - val_loss: 0.3564 - val_accuracy: 0.8689\n",
            "Epoch 107/150\n",
            "8/8 [==============================] - 0s 13ms/step - loss: 0.3679 - accuracy: 0.8517 - val_loss: 0.3557 - val_accuracy: 0.8689\n",
            "Epoch 108/150\n",
            "8/8 [==============================] - 0s 12ms/step - loss: 0.3640 - accuracy: 0.8076 - val_loss: 0.3554 - val_accuracy: 0.8689\n",
            "Epoch 109/150\n",
            "8/8 [==============================] - 0s 12ms/step - loss: 0.3792 - accuracy: 0.7964 - val_loss: 0.3562 - val_accuracy: 0.8689\n",
            "Epoch 110/150\n",
            "8/8 [==============================] - 0s 13ms/step - loss: 0.3448 - accuracy: 0.8390 - val_loss: 0.3565 - val_accuracy: 0.8689\n",
            "Epoch 111/150\n",
            "8/8 [==============================] - 0s 13ms/step - loss: 0.3724 - accuracy: 0.8358 - val_loss: 0.3564 - val_accuracy: 0.8689\n",
            "Epoch 112/150\n",
            "8/8 [==============================] - 0s 12ms/step - loss: 0.3578 - accuracy: 0.8409 - val_loss: 0.3567 - val_accuracy: 0.8689\n",
            "Epoch 113/150\n",
            "8/8 [==============================] - 0s 12ms/step - loss: 0.4234 - accuracy: 0.7671 - val_loss: 0.3574 - val_accuracy: 0.8689\n",
            "Epoch 114/150\n",
            "8/8 [==============================] - 0s 12ms/step - loss: 0.3830 - accuracy: 0.8137 - val_loss: 0.3570 - val_accuracy: 0.8689\n",
            "Epoch 115/150\n",
            "8/8 [==============================] - 0s 14ms/step - loss: 0.3397 - accuracy: 0.8149 - val_loss: 0.3545 - val_accuracy: 0.8689\n",
            "Epoch 116/150\n",
            "8/8 [==============================] - 0s 12ms/step - loss: 0.3591 - accuracy: 0.8660 - val_loss: 0.3556 - val_accuracy: 0.8689\n",
            "Epoch 117/150\n",
            "8/8 [==============================] - 0s 13ms/step - loss: 0.3645 - accuracy: 0.7955 - val_loss: 0.3572 - val_accuracy: 0.8689\n",
            "Epoch 118/150\n",
            "8/8 [==============================] - 0s 14ms/step - loss: 0.3667 - accuracy: 0.8301 - val_loss: 0.3590 - val_accuracy: 0.8689\n",
            "Epoch 119/150\n",
            "8/8 [==============================] - 0s 12ms/step - loss: 0.3763 - accuracy: 0.8313 - val_loss: 0.3591 - val_accuracy: 0.8689\n",
            "Epoch 120/150\n",
            "8/8 [==============================] - 0s 12ms/step - loss: 0.3672 - accuracy: 0.7929 - val_loss: 0.3593 - val_accuracy: 0.8689\n",
            "Epoch 121/150\n",
            "8/8 [==============================] - 0s 12ms/step - loss: 0.3184 - accuracy: 0.8696 - val_loss: 0.3587 - val_accuracy: 0.8689\n",
            "Epoch 122/150\n",
            "8/8 [==============================] - 0s 13ms/step - loss: 0.3041 - accuracy: 0.8631 - val_loss: 0.3585 - val_accuracy: 0.8689\n",
            "Epoch 123/150\n",
            "8/8 [==============================] - 0s 13ms/step - loss: 0.3637 - accuracy: 0.8345 - val_loss: 0.3580 - val_accuracy: 0.8689\n",
            "Epoch 124/150\n",
            "8/8 [==============================] - 0s 13ms/step - loss: 0.3787 - accuracy: 0.8332 - val_loss: 0.3574 - val_accuracy: 0.8689\n",
            "Epoch 125/150\n",
            "8/8 [==============================] - 0s 14ms/step - loss: 0.3305 - accuracy: 0.8211 - val_loss: 0.3564 - val_accuracy: 0.8689\n",
            "Epoch 126/150\n",
            "8/8 [==============================] - 0s 13ms/step - loss: 0.3256 - accuracy: 0.8361 - val_loss: 0.3559 - val_accuracy: 0.8689\n",
            "Epoch 127/150\n",
            "8/8 [==============================] - 0s 12ms/step - loss: 0.3622 - accuracy: 0.8226 - val_loss: 0.3565 - val_accuracy: 0.8689\n",
            "Epoch 128/150\n",
            "8/8 [==============================] - 0s 14ms/step - loss: 0.3836 - accuracy: 0.8159 - val_loss: 0.3557 - val_accuracy: 0.8689\n",
            "Epoch 129/150\n",
            "8/8 [==============================] - 0s 12ms/step - loss: 0.3528 - accuracy: 0.8486 - val_loss: 0.3555 - val_accuracy: 0.8689\n",
            "Epoch 130/150\n",
            "8/8 [==============================] - 0s 13ms/step - loss: 0.3725 - accuracy: 0.7876 - val_loss: 0.3555 - val_accuracy: 0.8689\n",
            "Epoch 131/150\n",
            "8/8 [==============================] - 0s 13ms/step - loss: 0.3472 - accuracy: 0.8135 - val_loss: 0.3543 - val_accuracy: 0.8689\n",
            "Epoch 132/150\n",
            "8/8 [==============================] - 0s 14ms/step - loss: 0.3309 - accuracy: 0.7822 - val_loss: 0.3529 - val_accuracy: 0.8689\n",
            "Epoch 133/150\n",
            "8/8 [==============================] - 0s 14ms/step - loss: 0.2970 - accuracy: 0.8550 - val_loss: 0.3535 - val_accuracy: 0.8689\n",
            "Epoch 134/150\n",
            "8/8 [==============================] - 0s 13ms/step - loss: 0.3441 - accuracy: 0.8176 - val_loss: 0.3544 - val_accuracy: 0.8689\n",
            "Epoch 135/150\n",
            "8/8 [==============================] - 0s 14ms/step - loss: 0.3747 - accuracy: 0.8400 - val_loss: 0.3546 - val_accuracy: 0.8689\n",
            "Epoch 136/150\n",
            "8/8 [==============================] - 0s 13ms/step - loss: 0.3547 - accuracy: 0.8359 - val_loss: 0.3538 - val_accuracy: 0.8689\n",
            "Epoch 137/150\n",
            "8/8 [==============================] - 0s 13ms/step - loss: 0.3345 - accuracy: 0.8388 - val_loss: 0.3543 - val_accuracy: 0.8689\n",
            "Epoch 138/150\n",
            "8/8 [==============================] - 0s 12ms/step - loss: 0.3251 - accuracy: 0.8192 - val_loss: 0.3563 - val_accuracy: 0.8689\n",
            "Epoch 139/150\n",
            "8/8 [==============================] - 0s 12ms/step - loss: 0.3383 - accuracy: 0.8299 - val_loss: 0.3562 - val_accuracy: 0.8689\n",
            "Epoch 140/150\n",
            "8/8 [==============================] - 0s 12ms/step - loss: 0.3579 - accuracy: 0.8061 - val_loss: 0.3555 - val_accuracy: 0.8689\n",
            "Epoch 141/150\n",
            "8/8 [==============================] - 0s 12ms/step - loss: 0.2638 - accuracy: 0.8671 - val_loss: 0.3538 - val_accuracy: 0.8689\n",
            "Epoch 142/150\n",
            "8/8 [==============================] - 0s 12ms/step - loss: 0.3542 - accuracy: 0.8036 - val_loss: 0.3542 - val_accuracy: 0.8689\n",
            "Epoch 143/150\n",
            "8/8 [==============================] - 0s 12ms/step - loss: 0.3904 - accuracy: 0.7891 - val_loss: 0.3551 - val_accuracy: 0.8689\n",
            "Epoch 144/150\n",
            "8/8 [==============================] - 0s 13ms/step - loss: 0.3102 - accuracy: 0.8490 - val_loss: 0.3562 - val_accuracy: 0.8689\n",
            "Epoch 145/150\n",
            "8/8 [==============================] - 0s 13ms/step - loss: 0.3923 - accuracy: 0.8213 - val_loss: 0.3572 - val_accuracy: 0.8689\n",
            "Epoch 146/150\n",
            "8/8 [==============================] - 0s 12ms/step - loss: 0.3554 - accuracy: 0.7943 - val_loss: 0.3570 - val_accuracy: 0.8689\n",
            "Epoch 147/150\n",
            "8/8 [==============================] - 0s 14ms/step - loss: 0.3182 - accuracy: 0.8180 - val_loss: 0.3567 - val_accuracy: 0.8689\n",
            "Epoch 148/150\n",
            "8/8 [==============================] - 0s 13ms/step - loss: 0.3698 - accuracy: 0.8135 - val_loss: 0.3562 - val_accuracy: 0.8689\n",
            "Epoch 149/150\n",
            "8/8 [==============================] - 0s 12ms/step - loss: 0.3717 - accuracy: 0.7994 - val_loss: 0.3552 - val_accuracy: 0.8689\n",
            "Epoch 150/150\n",
            "8/8 [==============================] - 0s 11ms/step - loss: 0.4087 - accuracy: 0.7759 - val_loss: 0.3559 - val_accuracy: 0.8689\n"
          ],
          "name": "stdout"
        },
        {
          "output_type": "display_data",
          "data": {
            "image/png": "[encoded data removed]",
            "text/plain": [
              "<Figure size 432x288 with 1 Axes>"
            ]
          },
          "metadata": {
            "tags": [],
            "needs_background": "light"
          }
        },
        {
          "output_type": "display_data",
          "data": {
            "image/png": "[encoded data removed]",
            "text/plain": [
              "<Figure size 432x288 with 1 Axes>"
            ]
          },
          "metadata": {
            "tags": [],
            "needs_background": "light"
          }
        },
        {
          "output_type": "stream",
          "text": [
            "accuracy: 86.885%\n",
            "Mean Accuracy: 83.607%\n",
            "Standard Deviation: 2.677%\n",
            "Losses:\n",
            "[39.46565091609955, 41.28174185752869, 35.59193015098572]\n",
            "Scores:\n",
            "[80.32786846160889, 83.60655903816223, 86.8852436542511]\n"
          ],
          "name": "stdout"
        }
      ]
    },
    {
      "cell_type": "markdown",
      "metadata": {
        "id": "2H5joD_q1aGm"
      },
      "source": [
        "#### -- Sample Results --"
      ]
    },
    {
      "cell_type": "markdown",
      "metadata": {
        "id": "CdW2vVy2i4IR"
      },
      "source": [
        "##### Using one dropout layer (optimal results from Random Search):\n",
        "**Parameters:** {'batch_size': 32, 'epochs': 150, 'folds': 3, 'neurons': (14, 6), 'dropout_rate': 0.4}\n",
        "\n",
        "<table border = \"1\">\n",
        "  <thead>\n",
        "    <th colspan = \"5\">With one dropout layer</th>\n",
        "  </thead>\n",
        "  <tbody>\n",
        "    <tr>\n",
        "      <th>Trial</th>\n",
        "      <th>Mean (%)</th>\n",
        "      <th>Std. (+/- %)</th>\n",
        "      <th>Losses (%)</th>\n",
        "      <th>Scores (%)</th>\n",
        "    </tr>\n",
        "    <tr>\n",
        "      <td><b>1</b></td>\n",
        "      <td>85.792</td>\n",
        "      <td>1.546</td>\n",
        "      <td>[40.784, 36.420, 37.566]</td>\n",
        "      <td>[83.607, 86.885, 86.885]</td>\n",
        "    </tr>\n",
        "    <tr>\n",
        "      <td><b>2</b></td>\n",
        "      <td>86.339</td>\n",
        "      <td>2.045</td>\n",
        "      <td>[34.234, 38.973, 37.645]</td>\n",
        "      <td>[88.525, 86.885, 83.607]</td>\n",
        "    </tr>\n",
        "    <tr>\n",
        "      <td><b>3</b></td>\n",
        "      <td>84.153</td>\n",
        "      <td>2.045</td>\n",
        "      <td>[39.444, 36.632, 39.889]</td>\n",
        "      <td>[81.967, 86.885, 83.607]</td>\n",
        "    </tr>\n",
        "    <tr>\n",
        "      <td><b>4</b></td>\n",
        "      <td>88.525</td>\n",
        "      <td>1.339</td>\n",
        "      <td>[38.665, 30.301, 35.466]</td>\n",
        "      <td>[86.885, 90.164, 88.525]</td>\n",
        "    </tr>\n",
        "    <tr>\n",
        "      <td><b>5</b></td>\n",
        "      <td>86.339</td>\n",
        "      <td>2.045</td>\n",
        "      <td>[34.047, 35.591, 39.353]</td>\n",
        "      <td>[88.525, 83.607, 86.885]</td>\n",
        "    </tr>\n",
        "    <tr>\n",
        "      <th>Average:</th>\n",
        "      <td><b>86.230<b></td>\n",
        "      <td><b>1.804</b></td>\n",
        "    </tr>\n",
        "  </tbody>\n",
        "</table>"
      ]
    },
    {
      "cell_type": "markdown",
      "metadata": {
        "id": "NR-ko_NXmdCW"
      },
      "source": [
        "##### With two dropout layers (results in too much underfitting)\n",
        "**Parameters:** {'batch_size': 32, 'epochs': 150, 'folds': 3, 'neurons': (14, 8), 'dropout_rate': 0.45}\n",
        "\n",
        "<table border = \"1\">\n",
        "  <thead>\n",
        "    <th colspan = \"5\">With two dropout layers</th>\n",
        "  </thead>\n",
        "  <tbody>\n",
        "    <tr>\n",
        "      <th>Trial</th>\n",
        "      <th>Mean (%)</th>\n",
        "      <th>Std. (+/- %)</th>\n",
        "      <th>Losses (%)</th>\n",
        "      <th>Scores (%)</th>\n",
        "    </tr>\n",
        "    <tr>\n",
        "      <td><b>1</b></td>\n",
        "      <td>86.339</td>\n",
        "      <td>2.045</td>\n",
        "      <td>[36.204, 33.903, 37.372]</td>\n",
        "      <td>[86.885, 83.607, 88.525]</td>\n",
        "    </tr>\n",
        "    <tr>\n",
        "      <td><b>2</b></td>\n",
        "      <td>84.699</td>\n",
        "      <td>2.045</td>\n",
        "      <td>[37.547, 36.046, 32.915]</td>\n",
        "      <td>[81.967, 85.246, 86.885]</td>\n",
        "    </tr>\n",
        "    <tr>\n",
        "      <td><b>3</b></td>\n",
        "      <td>83.607</td>\n",
        "      <td>1.339</td>\n",
        "      <td>[40.159, 36.067, 40.181]</td>\n",
        "      <td>[83.607, 85.246, 81.967]</td>\n",
        "    </tr>\n",
        "    <tr>\n",
        "      <td><b>4</b></td>\n",
        "      <td>84.153</td>\n",
        "      <td>2.045</td>\n",
        "      <td>[36.800, 38.977, 37.290]</td>\n",
        "      <td>[83.607, 86.885, 81.967]</td>\n",
        "    </tr>\n",
        "    <tr>\n",
        "      <td><b>5</b></td>\n",
        "      <td>85.246</td>\n",
        "      <td>2.677</td>\n",
        "      <td>[35.594, 41.179, 37.873]</td>\n",
        "      <td>[85.246, 81.967, 88.525]</td>\n",
        "    </tr>\n",
        "    <tr>\n",
        "      <th>Average:</th>\n",
        "      <td><b>85.409</b></td>\n",
        "      <td><b>2.030</b></td>\n",
        "    </tr>\n",
        "  </tbody>\n",
        "</table>"
      ]
    },
    {
      "cell_type": "markdown",
      "metadata": {
        "id": "V-_jLvSYsomd"
      },
      "source": [
        "##### NOTE: These results vary between trials."
      ]
    },
    {
      "cell_type": "markdown",
      "metadata": {
        "id": "4pJmT1cVDP1A"
      },
      "source": [
        "## Evaluate model"
      ]
    },
    {
      "cell_type": "code",
      "metadata": {
        "colab": {
          "base_uri": "https://localhost:8080/"
        },
        "id": "X8C9Nd-sB-rl",
        "outputId": "47f60b7a-a8d9-47c6-91f4-7b4277d88ff1"
      },
      "source": [
        "# Predict test set results\n",
        "y_pred = model.predict(X_test)\n",
        "np.set_printoptions(precision = 2)\n",
        "print(np.concatenate((y_pred.reshape(len(y_pred), 1), y_test.reshape(len(y_test), 1)), 1 ))"
      ],
      "execution_count": 18,
      "outputs": [
        {
          "output_type": "stream",
          "text": [
            "[[2.56e-02 0.00e+00]\n",
            " [7.68e-01 1.00e+00]\n",
            " [7.58e-01 0.00e+00]\n",
            " [1.63e-02 0.00e+00]\n",
            " [2.24e-01 1.00e+00]\n",
            " [3.32e-01 0.00e+00]\n",
            " [4.59e-02 0.00e+00]\n",
            " [1.30e-01 0.00e+00]\n",
            " [5.14e-04 0.00e+00]\n",
            " [5.75e-03 0.00e+00]\n",
            " [9.80e-01 1.00e+00]\n",
            " [9.67e-01 1.00e+00]\n",
            " [3.26e-02 0.00e+00]\n",
            " [9.00e-01 1.00e+00]\n",
            " [9.90e-01 1.00e+00]\n",
            " [6.36e-01 1.00e+00]\n",
            " [1.38e-01 1.00e+00]\n",
            " [7.81e-01 1.00e+00]\n",
            " [2.00e-02 0.00e+00]\n",
            " [8.22e-01 1.00e+00]\n",
            " [9.01e-01 1.00e+00]\n",
            " [2.45e-01 0.00e+00]\n",
            " [1.94e-01 0.00e+00]\n",
            " [1.91e-01 0.00e+00]\n",
            " [8.42e-01 1.00e+00]\n",
            " [8.78e-01 0.00e+00]\n",
            " [2.29e-01 0.00e+00]\n",
            " [2.24e-01 0.00e+00]\n",
            " [9.88e-01 1.00e+00]\n",
            " [5.55e-01 1.00e+00]\n",
            " [4.57e-01 0.00e+00]\n",
            " [2.04e-02 0.00e+00]\n",
            " [9.78e-01 1.00e+00]\n",
            " [9.51e-01 1.00e+00]\n",
            " [9.47e-01 1.00e+00]\n",
            " [4.07e-01 0.00e+00]\n",
            " [4.63e-02 0.00e+00]\n",
            " [8.42e-01 1.00e+00]\n",
            " [1.06e-01 0.00e+00]\n",
            " [9.07e-02 0.00e+00]\n",
            " [7.02e-01 1.00e+00]\n",
            " [8.02e-01 1.00e+00]\n",
            " [2.96e-01 1.00e+00]\n",
            " [1.59e-01 0.00e+00]\n",
            " [4.95e-01 1.00e+00]\n",
            " [6.39e-01 1.00e+00]\n",
            " [7.72e-01 1.00e+00]\n",
            " [5.38e-01 0.00e+00]\n",
            " [2.38e-02 0.00e+00]\n",
            " [8.17e-01 1.00e+00]\n",
            " [7.15e-01 1.00e+00]\n",
            " [6.90e-01 1.00e+00]\n",
            " [9.45e-01 1.00e+00]\n",
            " [6.53e-01 1.00e+00]\n",
            " [9.93e-01 1.00e+00]\n",
            " [6.39e-02 0.00e+00]\n",
            " [9.73e-01 1.00e+00]\n",
            " [9.53e-01 0.00e+00]\n",
            " [9.39e-01 1.00e+00]\n",
            " [9.78e-01 1.00e+00]\n",
            " [9.16e-01 1.00e+00]]\n"
          ],
          "name": "stdout"
        }
      ]
    },
    {
      "cell_type": "code",
      "metadata": {
        "id": "IjKnlzbiPhL_",
        "colab": {
          "base_uri": "https://localhost:8080/"
        },
        "outputId": "42b9fbb9-2afa-47d6-c7f7-df4b0672ba02"
      },
      "source": [
        "from sklearn.metrics import confusion_matrix, accuracy_score, classification_report\n",
        "\n",
        "# If y_pred > 0.5, patient has heart disease\n",
        "y_pred = (y_pred > 0.5)\n",
        "print('y_pred: y_test:')\n",
        "print(np.concatenate((y_pred.reshape(len(y_pred), 1), y_test.reshape(len(y_test), 1)), 1 ))\n",
        "print('')\n",
        "\n",
        "# Create the confusion matrix\n",
        "# TN = cm[0][0]  # True Negative\n",
        "# FP = cm[0][1]  # False Positive\n",
        "# FN = cm[1][0]  # False Negative\n",
        "# TP = cm[1][1]  # True Positive\n",
        "print('Confusion Matrix: ')\n",
        "cm = confusion_matrix(y_test, y_pred)\n",
        "print(cm)\n",
        "print('')\n",
        "print(\"Test Accuracy: %.3f%% \" % (accuracy_score(y_test, y_pred) * 100))\n",
        "print('')\n",
        "\n",
        "# accuracy = (TP + TN)/(TN + FP + FN + TP)\n",
        "# precision = TP/(TP + FP)\n",
        "# recall = TP/(TP + FN)\n",
        "# f1_score = (2 * precision * recall)/(precision + recall)\n",
        "# support = Number of occurrences of each class in y_pred\n",
        "print('Classification Report: ')\n",
        "print(classification_report(y_test, y_pred))\n"
      ],
      "execution_count": 19,
      "outputs": [
        {
          "output_type": "stream",
          "text": [
            "y_pred: y_test:\n",
            "[[0 0]\n",
            " [1 1]\n",
            " [1 0]\n",
            " [0 0]\n",
            " [0 1]\n",
            " [0 0]\n",
            " [0 0]\n",
            " [0 0]\n",
            " [0 0]\n",
            " [0 0]\n",
            " [1 1]\n",
            " [1 1]\n",
            " [0 0]\n",
            " [1 1]\n",
            " [1 1]\n",
            " [1 1]\n",
            " [0 1]\n",
            " [1 1]\n",
            " [0 0]\n",
            " [1 1]\n",
            " [1 1]\n",
            " [0 0]\n",
            " [0 0]\n",
            " [0 0]\n",
            " [1 1]\n",
            " [1 0]\n",
            " [0 0]\n",
            " [0 0]\n",
            " [1 1]\n",
            " [1 1]\n",
            " [0 0]\n",
            " [0 0]\n",
            " [1 1]\n",
            " [1 1]\n",
            " [1 1]\n",
            " [0 0]\n",
            " [0 0]\n",
            " [1 1]\n",
            " [0 0]\n",
            " [0 0]\n",
            " [1 1]\n",
            " [1 1]\n",
            " [0 1]\n",
            " [0 0]\n",
            " [0 1]\n",
            " [1 1]\n",
            " [1 1]\n",
            " [1 0]\n",
            " [0 0]\n",
            " [1 1]\n",
            " [1 1]\n",
            " [1 1]\n",
            " [1 1]\n",
            " [1 1]\n",
            " [1 1]\n",
            " [0 0]\n",
            " [1 1]\n",
            " [1 0]\n",
            " [1 1]\n",
            " [1 1]\n",
            " [1 1]]\n",
            "\n",
            "Confusion Matrix: \n",
            "[[23  4]\n",
            " [ 4 30]]\n",
            "\n",
            "Test Accuracy: 86.885% \n",
            "\n",
            "Classification Report: \n",
            "              precision    recall  f1-score   support\n",
            "\n",
            "           0       0.85      0.85      0.85        27\n",
            "           1       0.88      0.88      0.88        34\n",
            "\n",
            "    accuracy                           0.87        61\n",
            "   macro avg       0.87      0.87      0.87        61\n",
            "weighted avg       0.87      0.87      0.87        61\n",
            "\n"
          ],
          "name": "stdout"
        }
      ]
    },
    {
      "cell_type": "code",
      "metadata": {
        "id": "0iWE9Zp3DSu6"
      },
      "source": [
        "# Apply Random Search for parameter tuning\n",
        "from keras.wrappers.scikit_learn import KerasClassifier\n",
        "from sklearn.metrics import make_scorer\n",
        "from sklearn.metrics import accuracy_score, precision_score, recall_score\n",
        "from sklearn.model_selection import RandomizedSearchCV\n",
        "\n",
        "# Initialize Keras Classifier\n",
        "model = KerasClassifier(build_fn=create_model, verbose=0)\n",
        "\n",
        "# Initialize parameters\n",
        "# Min 2 splits, max 6 splits\n",
        "# param_dict = {'batch_size': [16, 32],\n",
        "#                'epochs': [100, 150],\n",
        "#                'folds': [3, 4, 5],\n",
        "#               'neurons': [(14, 6), (14, 8), (16, 6), (16, 8)],\n",
        "#               'dropout_rate': [0.1, 0.2, 0.3, 0.4, 0.5]}\n",
        "\n",
        "param_dict = {'batch_size': [32],\n",
        "              'epochs': [150],\n",
        "              'folds': [3],\n",
        "              'neurons': [(14, 6), (14, 8)],\n",
        "              'dropout_rate': [0.4]}\n",
        "\n",
        "# Initialize scoring method\n",
        "scoring_dict = {'accuracy_score': make_scorer(accuracy_score),\n",
        "           'precision_score': make_scorer(precision_score),\n",
        "           'recall_score': make_scorer(recall_score)}\n",
        "\n",
        "# Initialize RandomizedSearchCV object\n",
        "rand = RandomizedSearchCV(estimator=model,\n",
        "                          param_distributions=param_dict,\n",
        "                          scoring=scoring_dict,\n",
        "                          refit='accuracy_score')\n",
        "rand_result = rand.fit(X_train, y_train)\n",
        "\n",
        "# Show the results\n",
        "print(\"Best Score: %.3f%%\" % (rand_result.best_score_ * 100))\n",
        "print(\"Best Parameters: %s\" % rand_result.best_params_)\n"
      ],
      "execution_count": null,
      "outputs": []
    },
    {
      "cell_type": "markdown",
      "metadata": {
        "id": "fHFJKbIA94fT"
      },
      "source": [
        "#### -- Random Search Results --"
      ]
    },
    {
      "cell_type": "markdown",
      "metadata": {
        "id": "DZZgb5E6jrMB"
      },
      "source": [
        "##### param_dict = {'batch_size': [16], 'epochs': [100], 'folds': [3, 4], 'neurons': [6, 8]}\n",
        "\n",
        "**Best Score:** 77.7541%, **Best Parameters:** {'neurons': 8, 'folds': 3, 'epochs': 100, 'batch_size': 16}\n",
        "\n",
        "**Search time:** Approx. 15 minutes"
      ]
    },
    {
      "cell_type": "markdown",
      "metadata": {
        "id": "cq2pmGQK9fUj"
      },
      "source": [
        "##### param_dict = {'batch_size': [16, 32], 'epochs': [150], 'folds': [3, 4], 'neurons': [10, 12]}\n",
        "\n",
        "**Best Score:** 80.820%, **Best Parameters:** {'neurons': 12, 'folds': 4, 'epochs': 150, 'batch_size': 32}\n",
        "\n",
        "**Search time:** Approx. 1.25 hours"
      ]
    },
    {
      "cell_type": "markdown",
      "metadata": {
        "id": "HBp3HzMWz5OH"
      },
      "source": [
        "##### param_dict = {'batch_size': [16, 32], 'epochs': [100, 150], 'folds': [3, 4, 5], 'neurons': [4, 6, 8, 10, 12]}\n",
        "\n",
        "**Best Score:** 85.4372%, **Best Parameters:** {'neurons': 12, 'folds': 3, 'epochs': 150, 'batch_size': 16}\n",
        "\n",
        "**Search time:** At least 1.5 hours"
      ]
    },
    {
      "cell_type": "markdown",
      "metadata": {
        "id": "EzFZSWwpi_DM"
      },
      "source": [
        "##### param_dict = {'batch_size': [32], 'epochs': [150], 'folds': [3, 4, 5], 'neurons': [12], 'dropout_rate': [0.05, 0.1, 0.15]}\n",
        "\n",
        "**Best Score:** 85.578%, **Best Parameters:** {'neurons': 12, 'folds': 3, 'epochs': 150, 'dropout_rate': 0.05, 'batch_size': 32}\n",
        "\n",
        "**Search time:** At least 1.5 hours"
      ]
    },
    {
      "cell_type": "markdown",
      "metadata": {
        "id": "UtPi31Og6wUO"
      },
      "source": [
        "##### param_dict = {'batch_size': [32], 'epochs': [150], 'folds': [3], 'neurons': [12], 'dropout_rate': [0.04, 0.05, 0.06]}\n",
        "\n",
        "**Best Score:** 86.378%, **Best Parameters:** {'neurons': 12, 'folds': 3, 'epochs': 150, 'dropout_rate': 0.05, 'batch_size': 32}\n",
        "\n",
        "**Search time:** Approx. 15 minutes"
      ]
    },
    {
      "cell_type": "markdown",
      "metadata": {
        "id": "H1S_7RuwPQL-"
      },
      "source": [
        "##### **With one Dropout layer:**\n",
        "\n",
        "**param_dict** = {'batch_size': [32], 'epochs': [150], 'folds': [3, 4],  'neurons': [(14, 6), (14, 8), (16, 6), (16, 8)], 'dropout_rate': [0.1, 0.2, 0.3, 0.4, 0.5]}\n",
        "\n",
        "1. **Best Score:** 86.412%, **Best Parameters:** {'neurons': (14, 8), 'folds': 3, 'epochs': 150, 'dropout_rate': 0.4, 'batch_size': 32}\n",
        "\n",
        "2. **Best Score:** 87.645%, **Best Parameters:** {'neurons': (14, 6), 'folds': 3, 'epochs': 150, 'dropout_rate': 0.4, 'batch_size': 32}\n",
        "\n",
        "**Search time:** Approx. 1.25 hours"
      ]
    },
    {
      "cell_type": "markdown",
      "metadata": {
        "id": "RDgh6RnyYkhz"
      },
      "source": [
        "##### **With two Dropout layers:**\n",
        "\n",
        "**param_dict** = param_dict = {'batch_size': [32], 'epochs': [150], 'folds': [3, 4], 'neurons': [(14, 6), (14, 8)], 'dropout_rate': [0.3, 0.4, 0.5]}\n",
        "\n",
        "- **Best Score:** 85.978%, **Best Parameters:** {'neurons': (14, 8), 'folds': 3, 'epochs': 150, 'dropout_rate': 0.5, 'batch_size': 32}\n",
        "\n",
        "**Search time:** Approx. 1.5 hours"
      ]
    }
  ]
}