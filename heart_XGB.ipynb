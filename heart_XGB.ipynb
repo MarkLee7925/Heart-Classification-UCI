{
  "nbformat": 4,
  "nbformat_minor": 0,
  "metadata": {
    "colab": {
      "name": "heart-XGB.ipynb",
      "provenance": [],
      "collapsed_sections": [],
      "authorship_tag": "ABX9TyMhZqLuheocZWS4CydTQj+8",
      "include_colab_link": true
    },
    "kernelspec": {
      "display_name": "Python 3",
      "name": "python3"
    }
  },
  "cells": [
    {
      "cell_type": "markdown",
      "metadata": {
        "id": "view-in-github",
        "colab_type": "text"
      },
      "source": [
        "<a href=\"https://colab.research.google.com/github/MarkLee7925/Heart-Classification-UCI/blob/main/heart_XGB.ipynb\" target=\"_parent\"><img src=\"https://colab.research.google.com/assets/colab-badge.svg\" alt=\"Open In Colab\"/></a>"
      ]
    },
    {
      "cell_type": "markdown",
      "metadata": {
        "id": "APZVoQmL47I1"
      },
      "source": [
        "# Predict Heart Disease In Patient"
      ]
    },
    {
      "cell_type": "markdown",
      "metadata": {
        "id": "nNx9hfINDIam"
      },
      "source": [
        "## Data pre-processing"
      ]
    },
    {
      "cell_type": "code",
      "metadata": {
        "id": "xuNOzl914e6q"
      },
      "source": [
        "import numpy as np\n",
        "import matplotlib.pyplot as plt\n",
        "import pandas as pd\n",
        "import tensorflow as tf\n",
        "import seaborn as sns"
      ],
      "execution_count": 1,
      "outputs": []
    },
    {
      "cell_type": "code",
      "metadata": {
        "colab": {
          "base_uri": "https://localhost:8080/"
        },
        "id": "Vs4q7FIt4s8o",
        "outputId": "e49a2707-8623-4b7d-e142-2df8ef577937"
      },
      "source": [
        "# Load dataframe (df)\n",
        "df = pd.read_csv('heart.csv')\n",
        "X, y = df.iloc[:, :-1].values, df.iloc[:, -1].values\n",
        "\n",
        "print(X.shape, y.shape)"
      ],
      "execution_count": 2,
      "outputs": [
        {
          "output_type": "stream",
          "text": [
            "(303, 13) (303,)\n"
          ],
          "name": "stdout"
        }
      ]
    },
    {
      "cell_type": "code",
      "metadata": {
        "colab": {
          "base_uri": "https://localhost:8080/"
        },
        "id": "Y40bdlo6LmXA",
        "outputId": "1de2dc9c-4c93-40b5-cf68-1bd3da427183"
      },
      "source": [
        "print(df.head())"
      ],
      "execution_count": 3,
      "outputs": [
        {
          "output_type": "stream",
          "text": [
            "   age  sex  cp  trestbps  chol  fbs  ...  exang  oldpeak  slope  ca  thal  target\n",
            "0   63    1   3       145   233    1  ...      0      2.3      0   0     1       1\n",
            "1   37    1   2       130   250    0  ...      0      3.5      0   0     2       1\n",
            "2   41    0   1       130   204    0  ...      0      1.4      2   0     2       1\n",
            "3   56    1   1       120   236    0  ...      0      0.8      2   0     2       1\n",
            "4   57    0   0       120   354    0  ...      1      0.6      2   0     2       1\n",
            "\n",
            "[5 rows x 14 columns]\n"
          ],
          "name": "stdout"
        }
      ]
    },
    {
      "cell_type": "code",
      "metadata": {
        "colab": {
          "base_uri": "https://localhost:8080/"
        },
        "id": "RUXT12RH4xJs",
        "outputId": "0fb14e99-548d-4f0b-bb23-746b8f8aae6e"
      },
      "source": [
        "df.dtypes"
      ],
      "execution_count": 4,
      "outputs": [
        {
          "output_type": "execute_result",
          "data": {
            "text/plain": [
              "age           int64\n",
              "sex           int64\n",
              "cp            int64\n",
              "trestbps      int64\n",
              "chol          int64\n",
              "fbs           int64\n",
              "restecg       int64\n",
              "thalach       int64\n",
              "exang         int64\n",
              "oldpeak     float64\n",
              "slope         int64\n",
              "ca            int64\n",
              "thal          int64\n",
              "target        int64\n",
              "dtype: object"
            ]
          },
          "metadata": {
            "tags": []
          },
          "execution_count": 4
        }
      ]
    },
    {
      "cell_type": "code",
      "metadata": {
        "colab": {
          "base_uri": "https://localhost:8080/",
          "height": 310
        },
        "id": "ey97ULPW4yvY",
        "outputId": "e9125df9-afd1-42c5-b051-00b788c93b1a"
      },
      "source": [
        "df.describe()"
      ],
      "execution_count": 5,
      "outputs": [
        {
          "output_type": "execute_result",
          "data": {
            "text/html": [
              "<div>\n",
              "<style scoped>\n",
              "    .dataframe tbody tr th:only-of-type {\n",
              "        vertical-align: middle;\n",
              "    }\n",
              "\n",
              "    .dataframe tbody tr th {\n",
              "        vertical-align: top;\n",
              "    }\n",
              "\n",
              "    .dataframe thead th {\n",
              "        text-align: right;\n",
              "    }\n",
              "</style>\n",
              "<table border=\"1\" class=\"dataframe\">\n",
              "  <thead>\n",
              "    <tr style=\"text-align: right;\">\n",
              "      <th></th>\n",
              "      <th>age</th>\n",
              "      <th>sex</th>\n",
              "      <th>cp</th>\n",
              "      <th>trestbps</th>\n",
              "      <th>chol</th>\n",
              "      <th>fbs</th>\n",
              "      <th>restecg</th>\n",
              "      <th>thalach</th>\n",
              "      <th>exang</th>\n",
              "      <th>oldpeak</th>\n",
              "      <th>slope</th>\n",
              "      <th>ca</th>\n",
              "      <th>thal</th>\n",
              "      <th>target</th>\n",
              "    </tr>\n",
              "  </thead>\n",
              "  <tbody>\n",
              "    <tr>\n",
              "      <th>count</th>\n",
              "      <td>303.000000</td>\n",
              "      <td>303.000000</td>\n",
              "      <td>303.000000</td>\n",
              "      <td>303.000000</td>\n",
              "      <td>303.000000</td>\n",
              "      <td>303.000000</td>\n",
              "      <td>303.000000</td>\n",
              "      <td>303.000000</td>\n",
              "      <td>303.000000</td>\n",
              "      <td>303.000000</td>\n",
              "      <td>303.000000</td>\n",
              "      <td>303.000000</td>\n",
              "      <td>303.000000</td>\n",
              "      <td>303.000000</td>\n",
              "    </tr>\n",
              "    <tr>\n",
              "      <th>mean</th>\n",
              "      <td>54.366337</td>\n",
              "      <td>0.683168</td>\n",
              "      <td>0.966997</td>\n",
              "      <td>131.623762</td>\n",
              "      <td>246.264026</td>\n",
              "      <td>0.148515</td>\n",
              "      <td>0.528053</td>\n",
              "      <td>149.646865</td>\n",
              "      <td>0.326733</td>\n",
              "      <td>1.039604</td>\n",
              "      <td>1.399340</td>\n",
              "      <td>0.729373</td>\n",
              "      <td>2.313531</td>\n",
              "      <td>0.544554</td>\n",
              "    </tr>\n",
              "    <tr>\n",
              "      <th>std</th>\n",
              "      <td>9.082101</td>\n",
              "      <td>0.466011</td>\n",
              "      <td>1.032052</td>\n",
              "      <td>17.538143</td>\n",
              "      <td>51.830751</td>\n",
              "      <td>0.356198</td>\n",
              "      <td>0.525860</td>\n",
              "      <td>22.905161</td>\n",
              "      <td>0.469794</td>\n",
              "      <td>1.161075</td>\n",
              "      <td>0.616226</td>\n",
              "      <td>1.022606</td>\n",
              "      <td>0.612277</td>\n",
              "      <td>0.498835</td>\n",
              "    </tr>\n",
              "    <tr>\n",
              "      <th>min</th>\n",
              "      <td>29.000000</td>\n",
              "      <td>0.000000</td>\n",
              "      <td>0.000000</td>\n",
              "      <td>94.000000</td>\n",
              "      <td>126.000000</td>\n",
              "      <td>0.000000</td>\n",
              "      <td>0.000000</td>\n",
              "      <td>71.000000</td>\n",
              "      <td>0.000000</td>\n",
              "      <td>0.000000</td>\n",
              "      <td>0.000000</td>\n",
              "      <td>0.000000</td>\n",
              "      <td>0.000000</td>\n",
              "      <td>0.000000</td>\n",
              "    </tr>\n",
              "    <tr>\n",
              "      <th>25%</th>\n",
              "      <td>47.500000</td>\n",
              "      <td>0.000000</td>\n",
              "      <td>0.000000</td>\n",
              "      <td>120.000000</td>\n",
              "      <td>211.000000</td>\n",
              "      <td>0.000000</td>\n",
              "      <td>0.000000</td>\n",
              "      <td>133.500000</td>\n",
              "      <td>0.000000</td>\n",
              "      <td>0.000000</td>\n",
              "      <td>1.000000</td>\n",
              "      <td>0.000000</td>\n",
              "      <td>2.000000</td>\n",
              "      <td>0.000000</td>\n",
              "    </tr>\n",
              "    <tr>\n",
              "      <th>50%</th>\n",
              "      <td>55.000000</td>\n",
              "      <td>1.000000</td>\n",
              "      <td>1.000000</td>\n",
              "      <td>130.000000</td>\n",
              "      <td>240.000000</td>\n",
              "      <td>0.000000</td>\n",
              "      <td>1.000000</td>\n",
              "      <td>153.000000</td>\n",
              "      <td>0.000000</td>\n",
              "      <td>0.800000</td>\n",
              "      <td>1.000000</td>\n",
              "      <td>0.000000</td>\n",
              "      <td>2.000000</td>\n",
              "      <td>1.000000</td>\n",
              "    </tr>\n",
              "    <tr>\n",
              "      <th>75%</th>\n",
              "      <td>61.000000</td>\n",
              "      <td>1.000000</td>\n",
              "      <td>2.000000</td>\n",
              "      <td>140.000000</td>\n",
              "      <td>274.500000</td>\n",
              "      <td>0.000000</td>\n",
              "      <td>1.000000</td>\n",
              "      <td>166.000000</td>\n",
              "      <td>1.000000</td>\n",
              "      <td>1.600000</td>\n",
              "      <td>2.000000</td>\n",
              "      <td>1.000000</td>\n",
              "      <td>3.000000</td>\n",
              "      <td>1.000000</td>\n",
              "    </tr>\n",
              "    <tr>\n",
              "      <th>max</th>\n",
              "      <td>77.000000</td>\n",
              "      <td>1.000000</td>\n",
              "      <td>3.000000</td>\n",
              "      <td>200.000000</td>\n",
              "      <td>564.000000</td>\n",
              "      <td>1.000000</td>\n",
              "      <td>2.000000</td>\n",
              "      <td>202.000000</td>\n",
              "      <td>1.000000</td>\n",
              "      <td>6.200000</td>\n",
              "      <td>2.000000</td>\n",
              "      <td>4.000000</td>\n",
              "      <td>3.000000</td>\n",
              "      <td>1.000000</td>\n",
              "    </tr>\n",
              "  </tbody>\n",
              "</table>\n",
              "</div>"
            ],
            "text/plain": [
              "              age         sex          cp  ...          ca        thal      target\n",
              "count  303.000000  303.000000  303.000000  ...  303.000000  303.000000  303.000000\n",
              "mean    54.366337    0.683168    0.966997  ...    0.729373    2.313531    0.544554\n",
              "std      9.082101    0.466011    1.032052  ...    1.022606    0.612277    0.498835\n",
              "min     29.000000    0.000000    0.000000  ...    0.000000    0.000000    0.000000\n",
              "25%     47.500000    0.000000    0.000000  ...    0.000000    2.000000    0.000000\n",
              "50%     55.000000    1.000000    1.000000  ...    0.000000    2.000000    1.000000\n",
              "75%     61.000000    1.000000    2.000000  ...    1.000000    3.000000    1.000000\n",
              "max     77.000000    1.000000    3.000000  ...    4.000000    3.000000    1.000000\n",
              "\n",
              "[8 rows x 14 columns]"
            ]
          },
          "metadata": {
            "tags": []
          },
          "execution_count": 5
        }
      ]
    },
    {
      "cell_type": "code",
      "metadata": {
        "id": "L-V00_aB427F"
      },
      "source": [
        "# Split dataframe (df) into training and test sets\n",
        "from sklearn.model_selection import train_test_split\n",
        "\n",
        "X_train, X_test, y_train, y_test = train_test_split(X, y, test_size=0.2, \n",
        "                                                    random_state=0)"
      ],
      "execution_count": 6,
      "outputs": []
    },
    {
      "cell_type": "code",
      "metadata": {
        "id": "QRtaoswM5fKg"
      },
      "source": [
        "# Feature scaling\n",
        "from sklearn.preprocessing import StandardScaler\n",
        "\n",
        "sc = StandardScaler()\n",
        "X_train = sc.fit_transform(X_train)\n",
        "X_test = sc.transform(X_test)"
      ],
      "execution_count": 7,
      "outputs": []
    },
    {
      "cell_type": "markdown",
      "metadata": {
        "id": "1bgUDgxIDL86"
      },
      "source": [
        "## Define ML model"
      ]
    },
    {
      "cell_type": "code",
      "metadata": {
        "colab": {
          "base_uri": "https://localhost:8080/"
        },
        "id": "d3h3Swfj5l3d",
        "outputId": "dde5fc26-f584-4f24-8605-e210e6a24fbd"
      },
      "source": [
        "import xgboost as xgb\n",
        "from xgboost import XGBClassifier\n",
        "\n",
        "# Accuracy scoring\n",
        "clf = XGBClassifier(max_depth=1, learning_rate=0.17, gamma=0, colsample_bytree=0.31, \n",
        "                    n_estimators=28, min_child_weight=11, subsample=1.0, random_state=0)\n",
        "\n",
        "# ROC_AUC scoring\n",
        "# clf = XGBClassifier(max_depth=1, learning_rate=0.1, gamma=0, colsample_bytree=0.16, \n",
        "#                     n_estimators=25, min_child_weight=10, subsample=1.0, random_state=0)\n",
        "\n",
        "clf.fit(X_train, y_train)\n"
      ],
      "execution_count": 8,
      "outputs": [
        {
          "output_type": "execute_result",
          "data": {
            "text/plain": [
              "XGBClassifier(base_score=0.5, booster='gbtree', colsample_bylevel=1,\n",
              "              colsample_bynode=1, colsample_bytree=0.31, gamma=0,\n",
              "              learning_rate=0.17, max_delta_step=0, max_depth=1,\n",
              "              min_child_weight=11, missing=None, n_estimators=28, n_jobs=1,\n",
              "              nthread=None, objective='binary:logistic', random_state=0,\n",
              "              reg_alpha=0, reg_lambda=1, scale_pos_weight=1, seed=None,\n",
              "              silent=None, subsample=1.0, verbosity=1)"
            ]
          },
          "metadata": {
            "tags": []
          },
          "execution_count": 8
        }
      ]
    },
    {
      "cell_type": "markdown",
      "metadata": {
        "id": "4pJmT1cVDP1A"
      },
      "source": [
        "## Evaluate model"
      ]
    },
    {
      "cell_type": "code",
      "metadata": {
        "colab": {
          "base_uri": "https://localhost:8080/"
        },
        "id": "X8C9Nd-sB-rl",
        "outputId": "60d5acd8-9c58-46f9-ebb2-04366baf59b1"
      },
      "source": [
        "from sklearn.metrics import confusion_matrix, accuracy_score, classification_report\n",
        "\n",
        "# Predict test set results\n",
        "y_pred = clf.predict(X_test)\n",
        "np.set_printoptions(precision = 2)\n",
        "print(np.concatenate((y_pred.reshape(len(y_pred), 1), y_test.reshape(len(y_test), 1)), 1 ))\n",
        "\n",
        "# Create the confusion matrix\n",
        "# TN = cm[0][0]  # True Negative\n",
        "# FP = cm[0][1]  # False Positive\n",
        "# FN = cm[1][0]  # False Negative\n",
        "# TP = cm[1][1]  # True Positive\n",
        "cm = confusion_matrix(y_test, y_pred)\n",
        "print(cm)\n",
        "print(\"Test Accuracy: %.3f%% \" % (accuracy_score(y_test, y_pred) * 100))\n",
        "\n",
        "# accuracy = (TP + TN)/(TN + FP + FN + TP)\n",
        "# precision = TP/(TP + FP)\n",
        "# recall = TP/(TP + FN)\n",
        "# f1_score = (2 * precision * recall)/(precision + recall)\n",
        "print(classification_report(y_test, y_pred))"
      ],
      "execution_count": 9,
      "outputs": [
        {
          "output_type": "stream",
          "text": [
            "[[0 0]\n",
            " [1 1]\n",
            " [1 0]\n",
            " [0 0]\n",
            " [0 1]\n",
            " [0 0]\n",
            " [0 0]\n",
            " [0 0]\n",
            " [0 0]\n",
            " [0 0]\n",
            " [0 1]\n",
            " [1 1]\n",
            " [0 0]\n",
            " [1 1]\n",
            " [1 1]\n",
            " [1 1]\n",
            " [0 1]\n",
            " [1 1]\n",
            " [0 0]\n",
            " [1 1]\n",
            " [1 1]\n",
            " [0 0]\n",
            " [0 0]\n",
            " [0 0]\n",
            " [1 1]\n",
            " [0 0]\n",
            " [0 0]\n",
            " [0 0]\n",
            " [1 1]\n",
            " [1 1]\n",
            " [1 0]\n",
            " [0 0]\n",
            " [1 1]\n",
            " [1 1]\n",
            " [1 1]\n",
            " [1 0]\n",
            " [0 0]\n",
            " [1 1]\n",
            " [0 0]\n",
            " [0 0]\n",
            " [1 1]\n",
            " [1 1]\n",
            " [1 1]\n",
            " [0 0]\n",
            " [0 1]\n",
            " [1 1]\n",
            " [1 1]\n",
            " [0 0]\n",
            " [0 0]\n",
            " [1 1]\n",
            " [1 1]\n",
            " [1 1]\n",
            " [1 1]\n",
            " [1 1]\n",
            " [1 1]\n",
            " [0 0]\n",
            " [1 1]\n",
            " [1 0]\n",
            " [1 1]\n",
            " [1 1]\n",
            " [1 1]]\n",
            "[[23  4]\n",
            " [ 4 30]]\n",
            "Test Accuracy: 86.885% \n",
            "              precision    recall  f1-score   support\n",
            "\n",
            "           0       0.85      0.85      0.85        27\n",
            "           1       0.88      0.88      0.88        34\n",
            "\n",
            "    accuracy                           0.87        61\n",
            "   macro avg       0.87      0.87      0.87        61\n",
            "weighted avg       0.87      0.87      0.87        61\n",
            "\n"
          ],
          "name": "stdout"
        }
      ]
    },
    {
      "cell_type": "code",
      "metadata": {
        "colab": {
          "base_uri": "https://localhost:8080/"
        },
        "id": "RUeWWwf_l26e",
        "outputId": "add97cda-511b-4b3c-ea7a-1e0ac6f4944e"
      },
      "source": [
        "# Apply k-Fold Cross Validation on the training set\n",
        "from sklearn.model_selection import cross_val_score, RepeatedStratifiedKFold\n",
        "\n",
        "cv = RepeatedStratifiedKFold(n_splits = 10, n_repeats = 3, random_state = 0)\n",
        "scores = cross_val_score(clf, X_train, y_train, scoring='accuracy', cv=cv, n_jobs=-1)\n",
        "# scores = cross_val_score(clf, X_train, y_train, scoring='roc_auc', cv=cv, n_jobs=-1)\n",
        "\n",
        "# Force scores to be positive\n",
        "scores = abs(scores)\n",
        "print(\"Mean Accuracy: %.3f%%\" % (np.mean(scores) * 100))\n",
        "print(\"Standard Deviation: %.3f%%\" % np.std(scores))\n",
        "print(\"Min Accuracy: %.3f%%\" % (np.min(scores) * 100))\n",
        "print(\"Max Accuracy: %.3f%%\" % (np.max(scores) * 100))"
      ],
      "execution_count": 10,
      "outputs": [
        {
          "output_type": "stream",
          "text": [
            "Mean Accuracy: 85.794%\n",
            "Standard Deviation: 0.053%\n",
            "Min Accuracy: 75.000%\n",
            "Max Accuracy: 96.000%\n"
          ],
          "name": "stdout"
        }
      ]
    },
    {
      "cell_type": "code",
      "metadata": {
        "colab": {
          "base_uri": "https://localhost:8080/"
        },
        "id": "0iWE9Zp3DSu6",
        "outputId": "dda256d2-3610-48c6-987d-3bc09308dd42"
      },
      "source": [
        "# Apply Grid Search for parameter tuning\n",
        "from sklearn.metrics import accuracy_score\n",
        "from sklearn.model_selection import GridSearchCV\n",
        "\n",
        "# param_dict = {'max_depth': [1, 2, 3, 4, 5], \n",
        "#               'learning_rate': [0.05, 0.1, 0.15],\n",
        "#               'colsample_bytree': [0.3, 0.5, 0.7],\n",
        "#               'n_estimators': [25, 50, 75, 100, 150, 200],\n",
        "#               'min_child_weight': [1, 2, 4, 5, 8, 10],\n",
        "#               'gamma': [0, 0.1, 0.2, 0.3],\n",
        "#               'subsample': [0.6, 0.8, 1.0],\n",
        "#               'random_state': [0, 1]}\n",
        "\n",
        "# {'learning_rate': 0.17}\n",
        "# Accuracy scoring\n",
        "param_dict = {'max_depth': [1], \n",
        "              'learning_rate': [0.16, 0.17, 0.18],\n",
        "              'colsample_bytree': [0.31, 0.32],\n",
        "              'min_child_weight': [11],\n",
        "              'n_estimators': [26, 27, 28],\n",
        "              'gamma': [0],\n",
        "              'subsample': [0.9, 1.0, 1.1],\n",
        "              'random_state': [0, 1]}\n",
        "\n",
        "# ROC_AUC scoring\n",
        "# param_dict = {'max_depth': [1], \n",
        "#               'learning_rate': [0.1],\n",
        "#               'colsample_bytree': [0.16],\n",
        "#               'min_child_weight': [9, 10, 11, 12],\n",
        "#               'n_estimators': [25],\n",
        "#               'gamma': [0],\n",
        "#               'subsample': [0.9, 1.0, 1.1],\n",
        "#               'random_state': [0, 1]}\n",
        "\n",
        "grid = GridSearchCV(clf, param_dict, scoring='accuracy', cv=cv, n_jobs=-1)\n",
        "# grid = GridSearchCV(clf, param_dict, scoring='roc_auc', cv=cv, n_jobs=-1)\n",
        "results = grid.fit(X_train, y_train)\n",
        "\n",
        "# Summarize results\n",
        "best_accuracy = grid.best_score_\n",
        "best_parameters = grid.best_params_\n",
        "print(\"Best Accuracy: %.3f%%\" % (best_accuracy * 100))\n",
        "print(\"Best Parameters: \", best_parameters)\n"
      ],
      "execution_count": 11,
      "outputs": [
        {
          "output_type": "stream",
          "text": [
            "Best Accuracy: 85.794%\n",
            "Best Parameters:  {'colsample_bytree': 0.31, 'gamma': 0, 'learning_rate': 0.17, 'max_depth': 1, 'min_child_weight': 11, 'n_estimators': 28, 'random_state': 0, 'subsample': 1.0}\n"
          ],
          "name": "stdout"
        }
      ]
    },
    {
      "cell_type": "markdown",
      "metadata": {
        "id": "h7nRsj4roJy3"
      },
      "source": [
        "#### -- Sample Results --"
      ]
    },
    {
      "cell_type": "markdown",
      "metadata": {
        "id": "AW90DAd2l7lg"
      },
      "source": [
        "###### **Using accuracy scoring:**\n",
        "\n",
        "- Mean Accuracy: 83.744%\\\n",
        "Standard Deviation: 0.053%\\\n",
        "Test Accuracy: 86.885%\\\n",
        "Best Accuracy: 84.561%\\\n",
        "Best Parameters: {'colsample_bytree': 0.5, 'gamma': 0, 'learning_rate': 0.15, 'max_depth': 1, 'n_estimators': 25, 'random_state': 0}\n",
        "- Mean Accuracy: 84.561%\\\n",
        "Standard Deviation: 0.062%\\\n",
        "Test Accuracy: 85.246%\\\n",
        "Best Accuracy: 85.239%\\\n",
        "Best Parameters: {'colsample_bytree': 0.4, 'gamma': 0, 'learning_rate': 0.16, 'max_depth': 1, 'n_estimators': 26, 'random_state': 0}\n",
        "- Mean Accuracy: 85.239%\\\n",
        "Standard Deviation: 0.060%\\\n",
        "Test Accuracy: 85.246%\\\n",
        "Best Accuracy: 85.517%\\\n",
        "Best Parameters: {'colsample_bytree': 0.35, 'gamma': 0, 'learning_rate': 0.16, 'max_depth': 1, 'n_estimators': 27, 'random_state': 0}\n",
        "- Mean Accuracy: 85.517%\\\n",
        "Standard Deviation: 0.052%\\\n",
        "Test Accuracy: 86.885%\\\n",
        "Best Accuracy: 85.517%\\\n",
        "Best Parameters: {'colsample_bytree': 0.33, 'gamma': 0, 'learning_rate': 0.16, 'max_depth': 1, 'n_estimators': 27, 'random_state': 0}\n",
        "- Mean Accuracy: 85.517%\\\n",
        "Standard Deviation: 0.052%\\\n",
        "Test Accuracy: 86.885%\\\n",
        "Best Accuracy: 85.517%\\\n",
        "Best Parameters: {'colsample_bytree': 0.31, 'gamma': 0, 'learning_rate': 0.16, 'max_depth': 1, 'n_estimators': 27, 'random_state': 0}\n",
        "- Mean Accuracy: 85.517%\\\n",
        "Standard Deviation: 0.052%\\\n",
        "Test Accuracy: 86.885%\\\n",
        "Best Accuracy: 85.528%\\\n",
        "Best Parameters: {'colsample_bytree': 0.31, 'gamma': 0, 'learning_rate': 0.17, 'max_depth': 1, 'min_child_weight': 10, 'n_estimators': 27, 'random_state': 0, 'subsample': 1.0}\n",
        "- Mean Accuracy: 85.528%\\\n",
        "Standard Deviation: 0.052%\\\n",
        "Test Accuracy: 86.885%\\\n",
        "Best Accuracy: 85.661%\\\n",
        "Best Parameters:  {'colsample_bytree': 0.31, 'gamma': 0, 'learning_rate': 0.17, 'max_depth': 1, 'min_child_weight': 11, 'n_estimators': 27, 'random_state': 0, 'subsample': 1.0}\n",
        "- Mean Accuracy: 85.661%\\\n",
        "Standard Deviation: 0.049%\\\n",
        "Test Accuracy: 86.885%\\\n",
        "Best Accuracy: 85.661%\\\n",
        "Best Parameters: {'colsample_bytree': 0.31, 'gamma': 0, 'learning_rate': 0.17, 'max_depth': 1, 'min_child_weight': 11, 'n_estimators': 27, 'random_state': 0, 'subsample': 1.0}\n",
        "- Mean Accuracy: 85.661%\\\n",
        "Standard Deviation: 0.049%\\\n",
        "Test Accuracy: 86.885%\\\n",
        "Best Accuracy: 85.794%\\\n",
        "Best Parameters:  {'colsample_bytree': 0.31, 'gamma': 0, 'learning_rate': 0.17, 'max_depth': 1, 'min_child_weight': 11, 'n_estimators': 28, 'random_state': 0, 'subsample': 1.0}\n",
        "- Mean Accuracy: 85.794%\\\n",
        "Standard Deviation: 0.053%\\\n",
        "Test Accuracy: 86.885%\\\n",
        "Best Accuracy: 85.794%\\\n",
        "Best Parameters:  {'colsample_bytree': 0.31, 'gamma': 0, 'learning_rate': 0.17, 'max_depth': 1, 'min_child_weight': 11, 'n_estimators': 28, 'random_state': 0, 'subsample': 1.0}"
      ]
    },
    {
      "cell_type": "markdown",
      "metadata": {
        "id": "Luw5iYAz6uD7"
      },
      "source": [
        "###### **Using roc_auc scoring:**\n",
        "\n",
        "- Mean Accuracy: 91.176%\\\n",
        "Standard Deviation: 0.049%\\\n",
        "Test Accuracy: 86.885%\\\n",
        "Best Accuracy: 91.846%\\\n",
        "Best Parameters: {'colsample_bytree': 0.3, 'gamma': 0, 'learning_rate': 0.15, 'max_depth': 1, 'n_estimators': 25, 'random_state': 0}\n",
        "- Mean Accuracy: 91.846%\\\n",
        "Standard Deviation: 0.047%\\\n",
        "Test Accuracy: 85.246%\\\n",
        "Best Accuracy: 92.126%\\\n",
        "Best Parameters:  {'colsample_bytree': 0.2, 'gamma': 0, 'learning_rate': 0.13, 'max_depth': 1, 'n_estimators': 25, 'random_state': 0}\n",
        "- Mean Accuracy: 92.126%\\\n",
        "Standard Deviation: 0.049%\\\n",
        "Test Accuracy: 86.885%\\\n",
        "Best Accuracy: 92.276%\\\n",
        "Best Parameters:  {'colsample_bytree': 0.18, 'gamma': 0, 'learning_rate': 0.1, 'max_depth': 1, 'n_estimators': 25, 'random_state': 0}\n",
        "- Mean Accuracy: 92.276%\\\n",
        "Standard Deviation: 0.048%\\\n",
        "Test Accuracy: 86.885%\\\n",
        "Best Accuracy: 92.276%\\\n",
        "Best Parameters:  {'colsample_bytree': 0.16, 'gamma': 0, 'learning_rate': 0.1, 'max_depth': 1, 'n_estimators': 25, 'random_state': 0}\n",
        "- Mean Accuracy: 92.276%\\\n",
        "Standard Deviation: 0.048%\\\n",
        "Test Accuracy: 86.885%\\\n",
        "Best Accuracy: 92.276%\\\n",
        "Best Parameters:  {'colsample_bytree': 0.16, 'gamma': 0, 'learning_rate': 0.1, 'max_depth': 1, 'n_estimators': 25, 'random_state': 0}\n",
        "- Mean Accuracy: 92.430%\\\n",
        "Standard Deviation: 0.047%\\\n",
        "Test Accuracy: 86.885%\\\n",
        "Best Accuracy: 92.496%\\\n",
        "Best Parameters: {'colsample_bytree': 0.16, 'gamma': 0, 'learning_rate': 0.1, 'max_depth': 1, 'min_child_weight': 10, 'n_estimators': 25, 'random_state': 0, 'subsample': 1.0}\n",
        "- Mean Accuracy: 92.496%\\\n",
        "Standard Deviation: 0.047%\\\n",
        "Test Accuracy: 86.885%\\\n",
        "Best Accuracy: 92.496%\\\n",
        "Best Parameters: {'colsample_bytree': 0.16, 'gamma': 0, 'learning_rate': 0.1, 'max_depth': 1, 'min_child_weight': 10, 'n_estimators': 25, 'random_state': 0, 'subsample': 1.0}\n"
      ]
    }
  ]
}