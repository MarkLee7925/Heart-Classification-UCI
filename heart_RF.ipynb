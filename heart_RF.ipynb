{
  "nbformat": 4,
  "nbformat_minor": 0,
  "metadata": {
    "colab": {
      "name": "heart-RF.ipynb",
      "provenance": [],
      "collapsed_sections": [],
      "authorship_tag": "ABX9TyNf2AgnvcpagQVlHqMKIqf5",
      "include_colab_link": true
    },
    "kernelspec": {
      "display_name": "Python 3",
      "name": "python3"
    }
  },
  "cells": [
    {
      "cell_type": "markdown",
      "metadata": {
        "id": "view-in-github",
        "colab_type": "text"
      },
      "source": [
        "<a href=\"https://colab.research.google.com/github/MarkLee7925/Heart-Classification-UCI/blob/main/heart_RF.ipynb\" target=\"_parent\"><img src=\"https://colab.research.google.com/assets/colab-badge.svg\" alt=\"Open In Colab\"/></a>"
      ]
    },
    {
      "cell_type": "markdown",
      "metadata": {
        "id": "APZVoQmL47I1"
      },
      "source": [
        "# Heart Disease Classification - Random Forest"
      ]
    },
    {
      "cell_type": "markdown",
      "metadata": {
        "id": "nNx9hfINDIam"
      },
      "source": [
        "## Data preprocessing"
      ]
    },
    {
      "cell_type": "code",
      "metadata": {
        "id": "xuNOzl914e6q"
      },
      "source": [
        "import numpy as np\n",
        "import matplotlib.pyplot as plt\n",
        "import pandas as pd\n",
        "import tensorflow as tf\n",
        "import seaborn as sns"
      ],
      "execution_count": 1,
      "outputs": []
    },
    {
      "cell_type": "code",
      "metadata": {
        "colab": {
          "base_uri": "https://localhost:8080/"
        },
        "id": "Vs4q7FIt4s8o",
        "outputId": "aec6f48e-04f5-4b7d-f413-552187cfe0ee"
      },
      "source": [
        "# Load dataframe (df)\n",
        "df = pd.read_csv('heart.csv')\n",
        "X, y = df.iloc[:, :-1].values, df.iloc[:, -1].values\n",
        "\n",
        "print(X.shape, y.shape)"
      ],
      "execution_count": 2,
      "outputs": [
        {
          "output_type": "stream",
          "text": [
            "(303, 13) (303,)\n"
          ],
          "name": "stdout"
        }
      ]
    },
    {
      "cell_type": "code",
      "metadata": {
        "colab": {
          "base_uri": "https://localhost:8080/"
        },
        "id": "Y40bdlo6LmXA",
        "outputId": "5857e116-9183-433c-e3c8-f47b416827b3"
      },
      "source": [
        "print(df.head())"
      ],
      "execution_count": 3,
      "outputs": [
        {
          "output_type": "stream",
          "text": [
            "   age  sex  cp  trestbps  chol  fbs  ...  exang  oldpeak  slope  ca  thal  target\n",
            "0   63    1   3       145   233    1  ...      0      2.3      0   0     1       1\n",
            "1   37    1   2       130   250    0  ...      0      3.5      0   0     2       1\n",
            "2   41    0   1       130   204    0  ...      0      1.4      2   0     2       1\n",
            "3   56    1   1       120   236    0  ...      0      0.8      2   0     2       1\n",
            "4   57    0   0       120   354    0  ...      1      0.6      2   0     2       1\n",
            "\n",
            "[5 rows x 14 columns]\n"
          ],
          "name": "stdout"
        }
      ]
    },
    {
      "cell_type": "code",
      "metadata": {
        "colab": {
          "base_uri": "https://localhost:8080/"
        },
        "id": "RUXT12RH4xJs",
        "outputId": "1187185f-e03e-4525-fafc-59f98a734abf"
      },
      "source": [
        "df.dtypes"
      ],
      "execution_count": 4,
      "outputs": [
        {
          "output_type": "execute_result",
          "data": {
            "text/plain": [
              "age           int64\n",
              "sex           int64\n",
              "cp            int64\n",
              "trestbps      int64\n",
              "chol          int64\n",
              "fbs           int64\n",
              "restecg       int64\n",
              "thalach       int64\n",
              "exang         int64\n",
              "oldpeak     float64\n",
              "slope         int64\n",
              "ca            int64\n",
              "thal          int64\n",
              "target        int64\n",
              "dtype: object"
            ]
          },
          "metadata": {
            "tags": []
          },
          "execution_count": 4
        }
      ]
    },
    {
      "cell_type": "code",
      "metadata": {
        "colab": {
          "base_uri": "https://localhost:8080/",
          "height": 310
        },
        "id": "ey97ULPW4yvY",
        "outputId": "8ecbb7bb-6c68-4d83-9de0-a8515d81b137"
      },
      "source": [
        "df.describe()"
      ],
      "execution_count": 5,
      "outputs": [
        {
          "output_type": "execute_result",
          "data": {
            "text/html": [
              "<div>\n",
              "<style scoped>\n",
              "    .dataframe tbody tr th:only-of-type {\n",
              "        vertical-align: middle;\n",
              "    }\n",
              "\n",
              "    .dataframe tbody tr th {\n",
              "        vertical-align: top;\n",
              "    }\n",
              "\n",
              "    .dataframe thead th {\n",
              "        text-align: right;\n",
              "    }\n",
              "</style>\n",
              "<table border=\"1\" class=\"dataframe\">\n",
              "  <thead>\n",
              "    <tr style=\"text-align: right;\">\n",
              "      <th></th>\n",
              "      <th>age</th>\n",
              "      <th>sex</th>\n",
              "      <th>cp</th>\n",
              "      <th>trestbps</th>\n",
              "      <th>chol</th>\n",
              "      <th>fbs</th>\n",
              "      <th>restecg</th>\n",
              "      <th>thalach</th>\n",
              "      <th>exang</th>\n",
              "      <th>oldpeak</th>\n",
              "      <th>slope</th>\n",
              "      <th>ca</th>\n",
              "      <th>thal</th>\n",
              "      <th>target</th>\n",
              "    </tr>\n",
              "  </thead>\n",
              "  <tbody>\n",
              "    <tr>\n",
              "      <th>count</th>\n",
              "      <td>303.000000</td>\n",
              "      <td>303.000000</td>\n",
              "      <td>303.000000</td>\n",
              "      <td>303.000000</td>\n",
              "      <td>303.000000</td>\n",
              "      <td>303.000000</td>\n",
              "      <td>303.000000</td>\n",
              "      <td>303.000000</td>\n",
              "      <td>303.000000</td>\n",
              "      <td>303.000000</td>\n",
              "      <td>303.000000</td>\n",
              "      <td>303.000000</td>\n",
              "      <td>303.000000</td>\n",
              "      <td>303.000000</td>\n",
              "    </tr>\n",
              "    <tr>\n",
              "      <th>mean</th>\n",
              "      <td>54.366337</td>\n",
              "      <td>0.683168</td>\n",
              "      <td>0.966997</td>\n",
              "      <td>131.623762</td>\n",
              "      <td>246.264026</td>\n",
              "      <td>0.148515</td>\n",
              "      <td>0.528053</td>\n",
              "      <td>149.646865</td>\n",
              "      <td>0.326733</td>\n",
              "      <td>1.039604</td>\n",
              "      <td>1.399340</td>\n",
              "      <td>0.729373</td>\n",
              "      <td>2.313531</td>\n",
              "      <td>0.544554</td>\n",
              "    </tr>\n",
              "    <tr>\n",
              "      <th>std</th>\n",
              "      <td>9.082101</td>\n",
              "      <td>0.466011</td>\n",
              "      <td>1.032052</td>\n",
              "      <td>17.538143</td>\n",
              "      <td>51.830751</td>\n",
              "      <td>0.356198</td>\n",
              "      <td>0.525860</td>\n",
              "      <td>22.905161</td>\n",
              "      <td>0.469794</td>\n",
              "      <td>1.161075</td>\n",
              "      <td>0.616226</td>\n",
              "      <td>1.022606</td>\n",
              "      <td>0.612277</td>\n",
              "      <td>0.498835</td>\n",
              "    </tr>\n",
              "    <tr>\n",
              "      <th>min</th>\n",
              "      <td>29.000000</td>\n",
              "      <td>0.000000</td>\n",
              "      <td>0.000000</td>\n",
              "      <td>94.000000</td>\n",
              "      <td>126.000000</td>\n",
              "      <td>0.000000</td>\n",
              "      <td>0.000000</td>\n",
              "      <td>71.000000</td>\n",
              "      <td>0.000000</td>\n",
              "      <td>0.000000</td>\n",
              "      <td>0.000000</td>\n",
              "      <td>0.000000</td>\n",
              "      <td>0.000000</td>\n",
              "      <td>0.000000</td>\n",
              "    </tr>\n",
              "    <tr>\n",
              "      <th>25%</th>\n",
              "      <td>47.500000</td>\n",
              "      <td>0.000000</td>\n",
              "      <td>0.000000</td>\n",
              "      <td>120.000000</td>\n",
              "      <td>211.000000</td>\n",
              "      <td>0.000000</td>\n",
              "      <td>0.000000</td>\n",
              "      <td>133.500000</td>\n",
              "      <td>0.000000</td>\n",
              "      <td>0.000000</td>\n",
              "      <td>1.000000</td>\n",
              "      <td>0.000000</td>\n",
              "      <td>2.000000</td>\n",
              "      <td>0.000000</td>\n",
              "    </tr>\n",
              "    <tr>\n",
              "      <th>50%</th>\n",
              "      <td>55.000000</td>\n",
              "      <td>1.000000</td>\n",
              "      <td>1.000000</td>\n",
              "      <td>130.000000</td>\n",
              "      <td>240.000000</td>\n",
              "      <td>0.000000</td>\n",
              "      <td>1.000000</td>\n",
              "      <td>153.000000</td>\n",
              "      <td>0.000000</td>\n",
              "      <td>0.800000</td>\n",
              "      <td>1.000000</td>\n",
              "      <td>0.000000</td>\n",
              "      <td>2.000000</td>\n",
              "      <td>1.000000</td>\n",
              "    </tr>\n",
              "    <tr>\n",
              "      <th>75%</th>\n",
              "      <td>61.000000</td>\n",
              "      <td>1.000000</td>\n",
              "      <td>2.000000</td>\n",
              "      <td>140.000000</td>\n",
              "      <td>274.500000</td>\n",
              "      <td>0.000000</td>\n",
              "      <td>1.000000</td>\n",
              "      <td>166.000000</td>\n",
              "      <td>1.000000</td>\n",
              "      <td>1.600000</td>\n",
              "      <td>2.000000</td>\n",
              "      <td>1.000000</td>\n",
              "      <td>3.000000</td>\n",
              "      <td>1.000000</td>\n",
              "    </tr>\n",
              "    <tr>\n",
              "      <th>max</th>\n",
              "      <td>77.000000</td>\n",
              "      <td>1.000000</td>\n",
              "      <td>3.000000</td>\n",
              "      <td>200.000000</td>\n",
              "      <td>564.000000</td>\n",
              "      <td>1.000000</td>\n",
              "      <td>2.000000</td>\n",
              "      <td>202.000000</td>\n",
              "      <td>1.000000</td>\n",
              "      <td>6.200000</td>\n",
              "      <td>2.000000</td>\n",
              "      <td>4.000000</td>\n",
              "      <td>3.000000</td>\n",
              "      <td>1.000000</td>\n",
              "    </tr>\n",
              "  </tbody>\n",
              "</table>\n",
              "</div>"
            ],
            "text/plain": [
              "              age         sex          cp  ...          ca        thal      target\n",
              "count  303.000000  303.000000  303.000000  ...  303.000000  303.000000  303.000000\n",
              "mean    54.366337    0.683168    0.966997  ...    0.729373    2.313531    0.544554\n",
              "std      9.082101    0.466011    1.032052  ...    1.022606    0.612277    0.498835\n",
              "min     29.000000    0.000000    0.000000  ...    0.000000    0.000000    0.000000\n",
              "25%     47.500000    0.000000    0.000000  ...    0.000000    2.000000    0.000000\n",
              "50%     55.000000    1.000000    1.000000  ...    0.000000    2.000000    1.000000\n",
              "75%     61.000000    1.000000    2.000000  ...    1.000000    3.000000    1.000000\n",
              "max     77.000000    1.000000    3.000000  ...    4.000000    3.000000    1.000000\n",
              "\n",
              "[8 rows x 14 columns]"
            ]
          },
          "metadata": {
            "tags": []
          },
          "execution_count": 5
        }
      ]
    },
    {
      "cell_type": "code",
      "metadata": {
        "id": "L-V00_aB427F"
      },
      "source": [
        "# Split dataframe (df) into training and test sets\n",
        "from sklearn.model_selection import train_test_split\n",
        "\n",
        "X_train, X_test, y_train, y_test = train_test_split(X, y, test_size=0.2, \n",
        "                                                    random_state=0)"
      ],
      "execution_count": 6,
      "outputs": []
    },
    {
      "cell_type": "code",
      "metadata": {
        "id": "QRtaoswM5fKg"
      },
      "source": [
        "# Feature scaling\n",
        "from sklearn.preprocessing import StandardScaler\n",
        "\n",
        "sc = StandardScaler()\n",
        "X_train = sc.fit_transform(X_train)\n",
        "X_test = sc.transform(X_test)"
      ],
      "execution_count": 7,
      "outputs": []
    },
    {
      "cell_type": "markdown",
      "metadata": {
        "id": "1bgUDgxIDL86"
      },
      "source": [
        "## Define Random Forest model"
      ]
    },
    {
      "cell_type": "code",
      "metadata": {
        "colab": {
          "base_uri": "https://localhost:8080/"
        },
        "id": "d3h3Swfj5l3d",
        "outputId": "7d982e9e-99c7-492e-f992-d7077f5123aa"
      },
      "source": [
        "from sklearn.ensemble import RandomForestClassifier\n",
        "\n",
        "# Accuracy scoring\n",
        "clf = RandomForestClassifier(n_estimators=207, max_depth=5, min_samples_leaf=2,\n",
        "                             criterion='entropy', random_state=0)\n",
        "\n",
        "\n",
        "# ROC_AUC scoring\n",
        "# clf = RandomForestClassifier(n_estimators=170, max_depth=6, min_samples_leaf=10,\n",
        "#                              criterion='entropy', random_state=0)\n",
        "clf.fit(X_train, y_train)\n",
        "  "
      ],
      "execution_count": 8,
      "outputs": [
        {
          "output_type": "execute_result",
          "data": {
            "text/plain": [
              "RandomForestClassifier(bootstrap=True, ccp_alpha=0.0, class_weight=None,\n",
              "                       criterion='entropy', max_depth=5, max_features='auto',\n",
              "                       max_leaf_nodes=None, max_samples=None,\n",
              "                       min_impurity_decrease=0.0, min_impurity_split=None,\n",
              "                       min_samples_leaf=2, min_samples_split=2,\n",
              "                       min_weight_fraction_leaf=0.0, n_estimators=207,\n",
              "                       n_jobs=None, oob_score=False, random_state=0, verbose=0,\n",
              "                       warm_start=False)"
            ]
          },
          "metadata": {
            "tags": []
          },
          "execution_count": 8
        }
      ]
    },
    {
      "cell_type": "markdown",
      "metadata": {
        "id": "4pJmT1cVDP1A"
      },
      "source": [
        "## Evaluate model"
      ]
    },
    {
      "cell_type": "code",
      "metadata": {
        "colab": {
          "base_uri": "https://localhost:8080/"
        },
        "id": "X8C9Nd-sB-rl",
        "outputId": "776138b2-df7f-4ec5-f36d-26d5e3917c18"
      },
      "source": [
        "from sklearn.metrics import confusion_matrix, accuracy_score, classification_report\n",
        "\n",
        "# Predict test set results\n",
        "y_pred = clf.predict(X_test)\n",
        "np.set_printoptions(precision = 2)\n",
        "print(np.concatenate((y_pred.reshape(len(y_pred), 1), y_test.reshape(len(y_test), 1)), 1 ))\n",
        "print('')\n",
        "\n",
        "# Create the confusion matrix\n",
        "# TN = cm[0][0]  # True Negative\n",
        "# FP = cm[0][1]  # False Positive\n",
        "# FN = cm[1][0]  # False Negative\n",
        "# TP = cm[1][1]  # True Positive\n",
        "print('Confusion Matrix: ')\n",
        "cm = confusion_matrix(y_test, y_pred)\n",
        "print(cm)\n",
        "print('')\n",
        "print(\"Test Accuracy: %.3f%% \" % (accuracy_score(y_test, y_pred) * 100))\n",
        "print('')\n",
        "\n",
        "# accuracy = (TP + TN)/(TN + FP + FN + TP)\n",
        "# precision = TP/(TP + FP)\n",
        "# recall = TP/(TP + FN)\n",
        "# f1_score = (2 * precision * recall)/(precision + recall)\n",
        "print('Classification Report: ')\n",
        "print(classification_report(y_test, y_pred))"
      ],
      "execution_count": 12,
      "outputs": [
        {
          "output_type": "stream",
          "text": [
            "[[0 0]\n",
            " [1 1]\n",
            " [1 0]\n",
            " [0 0]\n",
            " [0 1]\n",
            " [1 0]\n",
            " [0 0]\n",
            " [0 0]\n",
            " [0 0]\n",
            " [0 0]\n",
            " [1 1]\n",
            " [1 1]\n",
            " [0 0]\n",
            " [1 1]\n",
            " [1 1]\n",
            " [1 1]\n",
            " [0 1]\n",
            " [1 1]\n",
            " [0 0]\n",
            " [1 1]\n",
            " [1 1]\n",
            " [0 0]\n",
            " [0 0]\n",
            " [0 0]\n",
            " [1 1]\n",
            " [0 0]\n",
            " [0 0]\n",
            " [0 0]\n",
            " [1 1]\n",
            " [1 1]\n",
            " [1 0]\n",
            " [0 0]\n",
            " [1 1]\n",
            " [1 1]\n",
            " [1 1]\n",
            " [1 0]\n",
            " [0 0]\n",
            " [1 1]\n",
            " [0 0]\n",
            " [0 0]\n",
            " [1 1]\n",
            " [1 1]\n",
            " [1 1]\n",
            " [0 0]\n",
            " [0 1]\n",
            " [1 1]\n",
            " [1 1]\n",
            " [1 0]\n",
            " [0 0]\n",
            " [1 1]\n",
            " [1 1]\n",
            " [1 1]\n",
            " [1 1]\n",
            " [1 1]\n",
            " [1 1]\n",
            " [0 0]\n",
            " [1 1]\n",
            " [1 0]\n",
            " [1 1]\n",
            " [1 1]\n",
            " [1 1]]\n",
            "\n",
            "Confusion Matrix: \n",
            "[[21  6]\n",
            " [ 3 31]]\n",
            "\n",
            "Test Accuracy: 85.246% \n",
            "\n",
            "Classification Report: \n",
            "              precision    recall  f1-score   support\n",
            "\n",
            "           0       0.88      0.78      0.82        27\n",
            "           1       0.84      0.91      0.87        34\n",
            "\n",
            "    accuracy                           0.85        61\n",
            "   macro avg       0.86      0.84      0.85        61\n",
            "weighted avg       0.85      0.85      0.85        61\n",
            "\n"
          ],
          "name": "stdout"
        }
      ]
    },
    {
      "cell_type": "code",
      "metadata": {
        "colab": {
          "base_uri": "https://localhost:8080/"
        },
        "id": "RUeWWwf_l26e",
        "outputId": "d86c0811-3fe0-4c95-c216-080c983730fc"
      },
      "source": [
        "# Apply k-Fold Cross Validation on the training set\n",
        "from sklearn.model_selection import cross_val_score, RepeatedStratifiedKFold\n",
        "\n",
        "cv = RepeatedStratifiedKFold(n_splits = 10, n_repeats = 3, random_state = 0)\n",
        "scores = cross_val_score(clf, X_train, y_train, scoring='accuracy', cv=cv, n_jobs=-1)\n",
        "# scores = cross_val_score(clf, X_train, y_train, scoring='roc_auc', cv=cv, n_jobs=-1)\n",
        "\n",
        "# Force scores to be positive\n",
        "scores = abs(scores)\n",
        "print(\"Mean Accuracy: %.3f%%\" % (np.mean(scores) * 100))\n",
        "print(\"Standard Deviation: %.3f%%\" % np.std(scores))\n",
        "print(\"Min Accuracy: %.3f%%\" % (np.min(scores) * 100))\n",
        "print(\"Max Accuracy: %.3f%%\" % (np.max(scores) * 100))"
      ],
      "execution_count": 10,
      "outputs": [
        {
          "output_type": "stream",
          "text": [
            "Mean Accuracy: 83.878%\n",
            "Standard Deviation: 0.062%\n",
            "Min Accuracy: 70.833%\n",
            "Max Accuracy: 96.000%\n"
          ],
          "name": "stdout"
        }
      ]
    },
    {
      "cell_type": "code",
      "metadata": {
        "colab": {
          "base_uri": "https://localhost:8080/"
        },
        "id": "0iWE9Zp3DSu6",
        "outputId": "367e9af8-a3fc-4ff0-d143-d744bf144935"
      },
      "source": [
        "# Apply Grid Search for parameter tuning\n",
        "from sklearn.metrics import accuracy_score\n",
        "from sklearn.model_selection import GridSearchCV\n",
        "\n",
        "# param_dict = {'n_estimators': [180, 190, 195, 200, 205],\n",
        "#               'criterion': ['gini', 'entropy'],\n",
        "#               'max_depth': [2, 5, 10],\n",
        "#               'min_samples_leaf': [2, 5, 10],\n",
        "#               'random_state': [0, 1]}\n",
        "\n",
        "# Accuracy scoring\n",
        "param_dict = {'n_estimators': [207],\n",
        "              'criterion': ['entropy'],\n",
        "              'max_depth': [5],\n",
        "              'min_samples_leaf': [1, 2, 3],\n",
        "              'random_state': [0]}\n",
        "\n",
        "# ROC_AUC scoring\n",
        "# param_dict = {'n_estimators': [170],\n",
        "#               'criterion': ['entropy'],\n",
        "#               'max_depth': [5, 6, 7],\n",
        "#               'min_samples_leaf': [10],\n",
        "#               'random_state': [0, 1]}\n",
        "\n",
        "grid = GridSearchCV(clf, param_dict, scoring='accuracy', cv=cv, n_jobs=-1)\n",
        "# grid = GridSearchCV(clf, param_dict, scoring='roc_auc', cv=cv, n_jobs=-1)\n",
        "results = grid.fit(X_train, y_train)\n",
        "\n",
        "# Summarize results\n",
        "best_accuracy = grid.best_score_\n",
        "best_parameters = grid.best_params_\n",
        "print(\"Best Accuracy: %.3f%%\" % (best_accuracy * 100))\n",
        "print(\"Best Parameters: \", best_parameters)\n"
      ],
      "execution_count": 11,
      "outputs": [
        {
          "output_type": "stream",
          "text": [
            "Best Accuracy: 83.878%\n",
            "Best Parameters:  {'criterion': 'entropy', 'max_depth': 5, 'min_samples_leaf': 2, 'n_estimators': 207, 'random_state': 0}\n"
          ],
          "name": "stdout"
        }
      ]
    },
    {
      "cell_type": "markdown",
      "metadata": {
        "id": "h7nRsj4roJy3"
      },
      "source": [
        "#### -- Grid Search Results --"
      ]
    },
    {
      "cell_type": "markdown",
      "metadata": {
        "id": "AW90DAd2l7lg"
      },
      "source": [
        "###### **With accuracy scoring:**\n",
        "\n",
        "1. **Mean Accuracy:** 83.044%, **Standard Deviation:** +/- 0.063%, **Test Accuracy:** 86.885%, **Best Accuracy:** 83.739%, **Best Parameters:** {'criterion': 'entropy', 'max_depth': 5, 'min_samples_leaf': 2, 'n_estimators': 205, 'random_state': 0}\n",
        "\n",
        "2. **Mean Accuracy:** 83.739%, **Standard Deviation:** +/- 0.061%, **Test Accuracy:** 85.246%, **Best Accuracy:** 83.878%, **Best Parameters:** {'max_depth': 5, 'min_samples_leaf': 2, 'n_estimators': 207, 'random_state': 0}\n",
        "\n",
        "3. **Mean Accuracy:** 83.878%, **Standard Deviation:** +/- 0.062%, **Test Accuracy:** 85.246%, **Best Accuracy:** 83.878%, **Best Parameters:** {'max_depth': 5, 'min_samples_leaf': 2, 'n_estimators': 207, 'random_state': 0}\n",
        "\n",
        "4. **Mean Accuracy:** 83.878%, **Standard Deviation:** +/- 0.062%, **Test Accuracy:** 85.246%, **Best Accuracy:** 83.878%, **Best Parameters:** {'max_depth': 5, 'min_samples_leaf': 2, 'n_estimators': 207, 'random_state': 0}"
      ]
    },
    {
      "cell_type": "markdown",
      "metadata": {
        "id": "Luw5iYAz6uD7"
      },
      "source": [
        "###### **With ROC_AUC scoring:**\n",
        "\n",
        "1. **Mean Accuracy:** 90.680%, **Standard Deviation:** +/- 0.049%, **Test Accuracy:** 85.246%, **Best Accuracy:** 91.362%, **Best Parameters:** {'criterion': 'entropy', 'max_depth': 10, 'min_samples_leaf': 10, 'n_estimators': 180, 'random_state': 0}\n",
        "\n",
        "2. **Mean Accuracy:** 91.362%, **Standard Deviation:** +/- 0.050%, **Test Accuracy:** 85.246%, **Best Accuracy:** 91.455%, **Best Parameters:** {'criterion': 'entropy', 'max_depth': 8, 'min_samples_leaf': 10, 'n_estimators': 170, 'random_state': 0}\n",
        "\n",
        "3. **Mean Accuracy:** 91.455%, **Standard Deviation:** +/- 0.050%, **Test Accuracy:** 85.246%, **Best Accuracy:** 91.455%, **Best Parameters:** {'criterion': 'entropy', 'max_depth': 6, 'min_samples_leaf': 10, 'n_estimators': 170, 'random_state': 0}\n",
        "\n",
        "3. **Mean Accuracy:** 91.455%, **Standard Deviation:** +/- 0.050%, **Test Accuracy:** 85.246%, **Best Accuracy:** 91.455%, **Best Parameters:** {'criterion': 'entropy', 'max_depth': 6, 'min_samples_leaf': 10, 'n_estimators': 170, 'random_state': 0}"
      ]
    }
  ]
}